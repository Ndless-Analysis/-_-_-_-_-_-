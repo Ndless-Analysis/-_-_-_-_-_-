{
 "cells": [
  {
   "cell_type": "markdown",
   "metadata": {},
   "source": [
    "1) 총대출금액 : 정규화 (유의미한 차이가 있음) <br>\n",
    "2) Train - Test Split <br>\n",
    "3) TrainSet - RobustSccaling 함 , Test RobustScaling 함<br>\n",
    "4) TrainSet - OverSampling 함 <br>\n",
    "\n",
    "모든 모델은 오로지 Train Set에만 훈련시켜야하며 이로써 새로운 데이터 즉 테스트셋을 예측할 수 있다"
   ]
  },
  {
   "cell_type": "code",
   "execution_count": 1,
   "metadata": {},
   "outputs": [],
   "source": [
    "#필요 라이브러리\n",
    "import pandas as pd\n",
    "import numpy as np\n",
    "\n",
    "#################### Train_Test Split ######################\n",
    "from sklearn.model_selection import train_test_split\n",
    "\n",
    "\n",
    "#################### 성능평가 ############################\n",
    "from sklearn.metrics import confusion_matrix, accuracy_score, precision_score, recall_score, f1_score, precision_recall_curve\n",
    "from sklearn.metrics import roc_auc_score\n",
    "from sklearn.metrics import classification_report\n",
    "from sklearn import metrics\n",
    "from sklearn.metrics import plot_confusion_matrix\n",
    "import sklearn\n",
    "#################### XGBoost ###########################\n",
    "from xgboost import XGBClassifier\n",
    "from xgboost import plot_importance\n",
    "from sklearn.model_selection import GridSearchCV\n",
    "\n",
    "\n",
    "################## lgbm ###########################\n",
    "from lightgbm import LGBMClassifier\n",
    "\n",
    "##################### Decision Tree #######################\n",
    "from sklearn.tree import DecisionTreeClassifier\n",
    "\n",
    "################## RandomForest ##########################\n",
    "from sklearn.ensemble import RandomForestClassifier\n",
    "\n",
    "###################### Logistic Rregression ###############\n",
    "from sklearn.linear_model import LogisticRegression\n",
    "\n",
    "\n",
    "import warnings\n",
    "warnings.filterwarnings('ignore')"
   ]
  },
  {
   "cell_type": "code",
   "execution_count": 2,
   "metadata": {},
   "outputs": [],
   "source": [
    "#모델 성능 평가 함수화\n",
    "def model_assessment(test,pred):\n",
    "    confusion = confusion_matrix(test, pred)\n",
    "    accuracy = accuracy_score(test,pred)\n",
    "    report = metrics.classification_report(test, pred, digits=2)\n",
    "    \n",
    "    print('accuracy', accuracy, '\\n')\n",
    "    print('confusion_matrix',confusion, '\\n')\n",
    "    print(report)"
   ]
  },
  {
   "cell_type": "code",
   "execution_count": 3,
   "metadata": {},
   "outputs": [],
   "source": [
    "import pandas as pd \n",
    "pd.set_option('display.max_columns',None)\n",
    "pd.set_option('display.max_rows',None)"
   ]
  },
  {
   "cell_type": "code",
   "execution_count": 4,
   "metadata": {},
   "outputs": [],
   "source": [
    "#시각화 패키지 라이브러리\n",
    "import seaborn as sns\n",
    "import matplotlib\n",
    "import matplotlib.pyplot as plt\n",
    "matplotlib.rcParams['font.family'] = 'Malgun Gothic' #한글깨짐현상방지\n",
    "matplotlib.rcParams['axes.unicode_minus'] = False"
   ]
  },
  {
   "cell_type": "code",
   "execution_count": 5,
   "metadata": {},
   "outputs": [],
   "source": [
    "df = pd.read_csv('C:/Users/ksy/Desktop/개인/코로나19 팀프로젝트/data/Corona19_Classification_data.csv',encoding='cp949')"
   ]
  },
  {
   "cell_type": "code",
   "execution_count": 7,
   "metadata": {},
   "outputs": [
    {
     "data": {
      "text/plain": [
       "977390"
      ]
     },
     "execution_count": 7,
     "metadata": {},
     "output_type": "execute_result"
    }
   ],
   "source": [
    "len(df)"
   ]
  },
  {
   "cell_type": "code",
   "execution_count": 8,
   "metadata": {},
   "outputs": [
    {
     "data": {
      "text/plain": [
       "63"
      ]
     },
     "execution_count": 8,
     "metadata": {},
     "output_type": "execute_result"
    }
   ],
   "source": [
    "len(df.columns)"
   ]
  },
  {
   "cell_type": "code",
   "execution_count": 9,
   "metadata": {},
   "outputs": [],
   "source": [
    "df_m = df"
   ]
  },
  {
   "cell_type": "markdown",
   "metadata": {},
   "source": [
    "해당 데이터로 분류 모델링을 수행하기 위해서는 JOIN_KEY 속성이 배제돼야함"
   ]
  },
  {
   "cell_type": "code",
   "execution_count": 10,
   "metadata": {},
   "outputs": [],
   "source": [
    "df_m.drop(columns=['JOIN_KEY','생년월일'],inplace=True)\n",
    "df_m['성별']  = df_m['성별'].astype(str)\n",
    "sex_onehot = pd.get_dummies(df_m['성별'])\n",
    "sex_onehot.drop(columns=['1'], inplace=True)\n",
    "sex_onehot = sex_onehot.rename(columns={'2':'성별'})\n",
    "df_m.drop(columns=['성별'], inplace = True)\n",
    "df_m = pd.concat([df_m, sex_onehot], axis=1)"
   ]
  },
  {
   "cell_type": "code",
   "execution_count": 11,
   "metadata": {},
   "outputs": [],
   "source": [
    "df_m['성별'] = df_m['성별'].astype('int')"
   ]
  },
  {
   "cell_type": "code",
   "execution_count": 12,
   "metadata": {},
   "outputs": [],
   "source": [
    "#연체여부 종속변수는 int로 변환\n",
    "df_m['연체여부'] = df_m['연체여부'].map({'0':0,\"b'1'\":1})"
   ]
  },
  {
   "cell_type": "markdown",
   "metadata": {},
   "source": [
    "# 1. 총대출금액 정규화"
   ]
  },
  {
   "cell_type": "markdown",
   "metadata": {},
   "source": [
    "정규화 log normalization은 총대출금액에 아주 유의미한 차이를 보임"
   ]
  },
  {
   "cell_type": "code",
   "execution_count": 14,
   "metadata": {},
   "outputs": [
    {
     "data": {
      "text/plain": [
       "<matplotlib.axes._subplots.AxesSubplot at 0x2266d911808>"
      ]
     },
     "execution_count": 14,
     "metadata": {},
     "output_type": "execute_result"
    },
    {
     "data": {
      "image/png": "[encoded data removed]",
      "text/plain": [
       "<Figure size 432x288 with 1 Axes>"
      ]
     },
     "metadata": {
      "needs_background": "light"
     },
     "output_type": "display_data"
    }
   ],
   "source": [
    "sns.distplot(df_m['총대출금액'])"
   ]
  },
  {
   "cell_type": "code",
   "execution_count": 15,
   "metadata": {},
   "outputs": [],
   "source": [
    "df_m['총대출금액'] = np.log1p(df_m['총대출금액'])"
   ]
  },
  {
   "cell_type": "code",
   "execution_count": 16,
   "metadata": {},
   "outputs": [
    {
     "data": {
      "text/plain": [
       "<matplotlib.axes._subplots.AxesSubplot at 0x2262bdab6c8>"
      ]
     },
     "execution_count": 16,
     "metadata": {},
     "output_type": "execute_result"
    },
    {
     "data": {
      "image/png": "[encoded data removed]",
      "text/plain": [
       "<Figure size 432x288 with 1 Axes>"
      ]
     },
     "metadata": {
      "needs_background": "light"
     },
     "output_type": "display_data"
    }
   ],
   "source": [
    "sns.distplot(df_m['총대출금액'])"
   ]
  },
  {
   "cell_type": "code",
   "execution_count": 17,
   "metadata": {},
   "outputs": [
    {
     "data": {
      "text/plain": [
       "<matplotlib.axes._subplots.AxesSubplot at 0x2262bd9c0c8>"
      ]
     },
     "execution_count": 17,
     "metadata": {},
     "output_type": "execute_result"
    },
    {
     "data": {
      "image/png": "[encoded data removed]",
      "text/plain": [
       "<Figure size 432x288 with 1 Axes>"
      ]
     },
     "metadata": {
      "needs_background": "light"
     },
     "output_type": "display_data"
    }
   ],
   "source": [
    "sns.boxplot(df_m['총대출금액'])"
   ]
  },
  {
   "cell_type": "markdown",
   "metadata": {},
   "source": [
    "# 1. Train - Test Split"
   ]
  },
  {
   "cell_type": "markdown",
   "metadata": {},
   "source": [
    "해당 데이터에서 정상인 케이스 비율이 전체의 약 99.65%, 채무불이행(연체)가 약 0.35%임"
   ]
  },
  {
   "cell_type": "code",
   "execution_count": 18,
   "metadata": {},
   "outputs": [
    {
     "data": {
      "text/plain": [
       "0    99.647121\n",
       "1     0.352879\n",
       "Name: 연체여부, dtype: float64"
      ]
     },
     "execution_count": 18,
     "metadata": {},
     "output_type": "execute_result"
    }
   ],
   "source": [
    "df_m['연체여부'].value_counts() / df_m['연체여부'].value_counts().sum() *100"
   ]
  },
  {
   "cell_type": "code",
   "execution_count": 19,
   "metadata": {},
   "outputs": [],
   "source": [
    "#시각화 패키지 라이브러리\n",
    "import seaborn as sns\n",
    "import matplotlib\n",
    "import matplotlib.pyplot as plt\n",
    "matplotlib.rcParams['font.family'] = 'Malgun Gothic' #한글깨짐현상방지\n",
    "matplotlib.rcParams['axes.unicode_minus'] = False"
   ]
  },
  {
   "cell_type": "code",
   "execution_count": 20,
   "metadata": {},
   "outputs": [
    {
     "data": {
      "text/plain": [
       "Text(0.5, 1.0, '연체여부 \\n (0:정상 || 1:채무불이행)')"
      ]
     },
     "execution_count": 20,
     "metadata": {},
     "output_type": "execute_result"
    },
    {
     "data": {
      "image/png": "[encoded data removed]",
      "text/plain": [
       "<Figure size 432x288 with 1 Axes>"
      ]
     },
     "metadata": {
      "needs_background": "light"
     },
     "output_type": "display_data"
    }
   ],
   "source": [
    "sns.countplot('연체여부', data = df_m)\n",
    "plt.title('연체여부 \\n (0:정상 || 1:채무불이행)')"
   ]
  },
  {
   "cell_type": "code",
   "execution_count": 21,
   "metadata": {},
   "outputs": [],
   "source": [
    "#독립변수\n",
    "X = df_m.drop(columns=['연체여부'])\n",
    "y = df_m['연체여부']"
   ]
  },
  {
   "cell_type": "markdown",
   "metadata": {},
   "source": [
    "* Random State seed 주는 것 보류"
   ]
  },
  {
   "cell_type": "code",
   "execution_count": 22,
   "metadata": {},
   "outputs": [
    {
     "name": "stdout",
     "output_type": "stream",
     "text": [
      "(684173, 60) (293217, 60)\n"
     ]
    }
   ],
   "source": [
    "#stratify = y는 클래스 비율을 유지 즉 위의 0: 97.53 %  || 1: 2.47% 비율을 Train-Test에도 동일 적용\n",
    "\n",
    "X_train, X_test, y_train, y_test = train_test_split(X,y,test_size=0.3, stratify=y, random_state=156)\n",
    "print(X_train.shape, X_test.shape)"
   ]
  },
  {
   "cell_type": "code",
   "execution_count": 23,
   "metadata": {},
   "outputs": [
    {
     "data": {
      "text/plain": [
       "0    99.647165\n",
       "1     0.352835\n",
       "Name: 연체여부, dtype: float64"
      ]
     },
     "execution_count": 23,
     "metadata": {},
     "output_type": "execute_result"
    }
   ],
   "source": [
    "y_train.value_counts() / y_train.value_counts().sum() *100"
   ]
  },
  {
   "cell_type": "code",
   "execution_count": 24,
   "metadata": {},
   "outputs": [
    {
     "data": {
      "text/plain": [
       "0    99.647019\n",
       "1     0.352981\n",
       "Name: 연체여부, dtype: float64"
      ]
     },
     "execution_count": 24,
     "metadata": {},
     "output_type": "execute_result"
    }
   ],
   "source": [
    "y_test.value_counts() / y_test.value_counts().sum() *100"
   ]
  },
  {
   "cell_type": "code",
   "execution_count": 25,
   "metadata": {},
   "outputs": [],
   "source": [
    "#.to_csv('C:/Users/ksy/Desktop/개인/CreDB예시/data/SMOTEENN용/X_test.csv')"
   ]
  },
  {
   "cell_type": "code",
   "execution_count": 26,
   "metadata": {},
   "outputs": [],
   "source": [
    "#y_test.to_csv('C:/Users/ksy/Desktop/개인/CreDB예시/data/SMOTEENN용/y_test.csv')"
   ]
  },
  {
   "cell_type": "code",
   "execution_count": 27,
   "metadata": {},
   "outputs": [],
   "source": [
    "#X_train.to_csv('C:/Users/ksy/Desktop/개인/CreDB예시/data/SMOTEENN용/X_train.csv')"
   ]
  },
  {
   "cell_type": "code",
   "execution_count": 28,
   "metadata": {},
   "outputs": [],
   "source": [
    "#y_train.to_csv('C:/Users/ksy/Desktop/개인/CreDB예시/data/SMOTEENN용/y_train.csv')"
   ]
  },
  {
   "cell_type": "code",
   "execution_count": 29,
   "metadata": {},
   "outputs": [
    {
     "data": {
      "text/plain": [
       "(684173, 60)"
      ]
     },
     "execution_count": 29,
     "metadata": {},
     "output_type": "execute_result"
    }
   ],
   "source": [
    "X_train.shape"
   ]
  },
  {
   "cell_type": "code",
   "execution_count": 30,
   "metadata": {},
   "outputs": [
    {
     "data": {
      "text/plain": [
       "(293217, 60)"
      ]
     },
     "execution_count": 30,
     "metadata": {},
     "output_type": "execute_result"
    }
   ],
   "source": [
    "X_test.shape"
   ]
  },
  {
   "cell_type": "code",
   "execution_count": 31,
   "metadata": {},
   "outputs": [
    {
     "data": {
      "text/plain": [
       "(684173,)"
      ]
     },
     "execution_count": 31,
     "metadata": {},
     "output_type": "execute_result"
    }
   ],
   "source": [
    "y_train.shape"
   ]
  },
  {
   "cell_type": "code",
   "execution_count": 32,
   "metadata": {},
   "outputs": [
    {
     "data": {
      "text/plain": [
       "(293217,)"
      ]
     },
     "execution_count": 32,
     "metadata": {},
     "output_type": "execute_result"
    }
   ],
   "source": [
    "y_test.shape"
   ]
  },
  {
   "cell_type": "markdown",
   "metadata": {},
   "source": [
    "# 2. Scaling의 필요성"
   ]
  },
  {
   "cell_type": "markdown",
   "metadata": {},
   "source": [
    "스케일링은 모델에 영향을 주는 feature들의 데이터 간격차와 연산량을 줄이기 위해 실시"
   ]
  },
  {
   "cell_type": "code",
   "execution_count": 33,
   "metadata": {},
   "outputs": [],
   "source": [
    "from sklearn.preprocessing import RobustScaler, MinMaxScaler\n",
    "robust = RobustScaler()\n",
    "minmax = MinMaxScaler()"
   ]
  },
  {
   "cell_type": "markdown",
   "metadata": {},
   "source": [
    "## 1. 나이 - Min - max Scaling\n",
    "## 2. 대출금액, 대출건수 - Robust Scaling (이상치 덜 민감)\n",
    "## 3. 성별 - 스케일링 안함"
   ]
  },
  {
   "cell_type": "markdown",
   "metadata": {},
   "source": [
    "# 2-1 ) Train Set"
   ]
  },
  {
   "cell_type": "code",
   "execution_count": 35,
   "metadata": {},
   "outputs": [],
   "source": [
    "나이 = X_train[['나이']]\n",
    "성별 = X_train[['성별']]\n",
    "성별 = 성별.reset_index()\n",
    "성별.drop(columns=['index'], inplace=True)"
   ]
  },
  {
   "cell_type": "code",
   "execution_count": 36,
   "metadata": {},
   "outputs": [],
   "source": [
    "나이_scaled = minmax.fit_transform(나이.values)\n",
    "나이_scaled = pd.DataFrame(나이_scaled, columns=나이.columns)"
   ]
  },
  {
   "cell_type": "code",
   "execution_count": 37,
   "metadata": {},
   "outputs": [],
   "source": [
    "나이 = 나이_scaled"
   ]
  },
  {
   "cell_type": "code",
   "execution_count": 38,
   "metadata": {},
   "outputs": [],
   "source": [
    "import pickle as pkl\n",
    "with open(\"MinMax.pkl\",'wb') as outfile:\n",
    "    pkl.dump(minmax,outfile)"
   ]
  },
  {
   "cell_type": "code",
   "execution_count": 39,
   "metadata": {},
   "outputs": [],
   "source": [
    "X_train = X_train.drop(columns=['나이','성별'])"
   ]
  },
  {
   "cell_type": "code",
   "execution_count": 40,
   "metadata": {},
   "outputs": [
    {
     "data": {
      "text/plain": [
       "(684173, 58)"
      ]
     },
     "execution_count": 40,
     "metadata": {},
     "output_type": "execute_result"
    }
   ],
   "source": [
    "X_train.shape"
   ]
  },
  {
   "cell_type": "markdown",
   "metadata": {},
   "source": [
    "## ★★★★★★★★★ FIT_TRANSFORM ★★★★★★★★★★으로 Train_set 기준으로 Scaling함"
   ]
  },
  {
   "cell_type": "code",
   "execution_count": 1,
   "metadata": {},
   "outputs": [],
   "source": [
    "X_train.head()"
   ]
  },
  {
   "cell_type": "code",
   "execution_count": 42,
   "metadata": {},
   "outputs": [],
   "source": [
    "scaled = robust.fit_transform(X_train.values)\n",
    "X_train = pd.DataFrame(scaled, columns=X_train.columns)"
   ]
  },
  {
   "cell_type": "code",
   "execution_count": 44,
   "metadata": {},
   "outputs": [],
   "source": [
    "X_train = pd.concat([X_train,나이], axis=1)\n",
    "X_train = pd.concat([X_train,성별], axis=1)"
   ]
  },
  {
   "cell_type": "markdown",
   "metadata": {},
   "source": [
    "# 스케일러 저장"
   ]
  },
  {
   "cell_type": "code",
   "execution_count": 46,
   "metadata": {},
   "outputs": [],
   "source": [
    "import pickle as pkl\n",
    "with open(\"robust.pkl\",'wb') as outfile:\n",
    "    pkl.dump(robust,outfile)"
   ]
  },
  {
   "cell_type": "markdown",
   "metadata": {},
   "source": [
    "# 2-2) Test Set"
   ]
  },
  {
   "cell_type": "code",
   "execution_count": 48,
   "metadata": {},
   "outputs": [],
   "source": [
    "나이 = X_test[['나이']]\n",
    "성별 = X_test[['성별']]\n",
    "나이 = 나이.reset_index()\n",
    "나이.drop(columns=['index'], inplace=True)\n",
    "성별 = 성별.reset_index()\n",
    "성별.drop(columns=['index'], inplace=True)\n",
    "X_test = X_test.drop(columns=['나이','성별'])"
   ]
  },
  {
   "cell_type": "code",
   "execution_count": 49,
   "metadata": {},
   "outputs": [
    {
     "data": {
      "text/plain": [
       "293217"
      ]
     },
     "execution_count": 49,
     "metadata": {},
     "output_type": "execute_result"
    }
   ],
   "source": [
    "len(X_test)"
   ]
  },
  {
   "cell_type": "markdown",
   "metadata": {},
   "source": [
    "저장된 스케일러 불러오기"
   ]
  },
  {
   "cell_type": "markdown",
   "metadata": {},
   "source": [
    "### 나이 minmax"
   ]
  },
  {
   "cell_type": "code",
   "execution_count": 50,
   "metadata": {},
   "outputs": [],
   "source": [
    "with open('MinMax.pkl','rb') as infile:\n",
    "    minmax = pkl.load(infile)\n",
    "    나이_scaled = minmax.transform(나이.values)\n",
    "    나이_scaled = pd.DataFrame(나이_scaled, columns=나이.columns)\n",
    "    나이 = 나이_scaled"
   ]
  },
  {
   "cell_type": "markdown",
   "metadata": {},
   "source": [
    "### 그 외 변수 robust"
   ]
  },
  {
   "cell_type": "code",
   "execution_count": 51,
   "metadata": {},
   "outputs": [],
   "source": [
    "with open('robust.pkl','rb') as infile:\n",
    "    robust = pkl.load(infile)\n",
    "    scaled = robust.transform(X_test.values)\n",
    "    X_test = pd.DataFrame(scaled, columns=X_test.columns)"
   ]
  },
  {
   "cell_type": "code",
   "execution_count": 53,
   "metadata": {},
   "outputs": [],
   "source": [
    "X_test = pd.concat([X_test,나이], axis=1)\n",
    "X_test = pd.concat([X_test,성별], axis=1)"
   ]
  },
  {
   "cell_type": "code",
   "execution_count": 54,
   "metadata": {},
   "outputs": [
    {
     "data": {
      "text/plain": [
       "(684173, 60)"
      ]
     },
     "execution_count": 54,
     "metadata": {},
     "output_type": "execute_result"
    }
   ],
   "source": [
    "X_train.shape"
   ]
  },
  {
   "cell_type": "code",
   "execution_count": 55,
   "metadata": {},
   "outputs": [
    {
     "data": {
      "text/plain": [
       "(293217, 60)"
      ]
     },
     "execution_count": 55,
     "metadata": {},
     "output_type": "execute_result"
    }
   ],
   "source": [
    "X_test.shape"
   ]
  },
  {
   "cell_type": "code",
   "execution_count": 56,
   "metadata": {},
   "outputs": [
    {
     "data": {
      "text/plain": [
       "Index(['대출건수_5개월_1', '대출건수_5개월_3', '대출건수_5개월_5', '대출건수_5개월_6', '대출건수_5개월_8',\n",
       "       '대출건수_5개월_17', '대출건수_5개월_21', '대출건수_5개월_98', '대출금액_5개월_1', '대출금액_5개월_3',\n",
       "       '대출금액_5개월_5', '대출금액_5개월_6', '대출금액_5개월_8', '대출금액_5개월_17', '대출금액_5개월_21',\n",
       "       '대출금액_5개월_98', '대출건수_5개월_0', '대출건수_5개월_100', '대출건수_5개월_150',\n",
       "       '대출건수_5개월_170', '대출건수_5개월_200', '대출건수_5개월_210', '대출건수_5개월_220',\n",
       "       '대출건수_5개월_230', '대출건수_5개월_240', '대출건수_5개월_245', '대출건수_5개월_250',\n",
       "       '대출건수_5개월_270', '대출건수_5개월_271', '대출건수_5개월_290', '대출건수_5개월_500',\n",
       "       '대출건수_5개월_510', '대출건수_5개월_590', '대출건수_5개월_700', '대출건수_5개월_710',\n",
       "       '대출금액_5개월_0', '대출금액_5개월_100', '대출금액_5개월_150', '대출금액_5개월_170',\n",
       "       '대출금액_5개월_200', '대출금액_5개월_210', '대출금액_5개월_220', '대출금액_5개월_230',\n",
       "       '대출금액_5개월_240', '대출금액_5개월_245', '대출금액_5개월_250', '대출금액_5개월_270',\n",
       "       '대출금액_5개월_271', '대출금액_5개월_290', '대출금액_5개월_500', '대출금액_5개월_510',\n",
       "       '대출금액_5개월_590', '대출금액_5개월_700', '대출금액_5개월_710', '개설카드수5', '총대출금액',\n",
       "       '총대출건수', '총대출상품수', '나이', '성별'],\n",
       "      dtype='object')"
      ]
     },
     "execution_count": 56,
     "metadata": {},
     "output_type": "execute_result"
    }
   ],
   "source": [
    "X_train.columns"
   ]
  },
  {
   "cell_type": "code",
   "execution_count": 57,
   "metadata": {},
   "outputs": [
    {
     "data": {
      "text/plain": [
       "Index(['대출건수_5개월_1', '대출건수_5개월_3', '대출건수_5개월_5', '대출건수_5개월_6', '대출건수_5개월_8',\n",
       "       '대출건수_5개월_17', '대출건수_5개월_21', '대출건수_5개월_98', '대출금액_5개월_1', '대출금액_5개월_3',\n",
       "       '대출금액_5개월_5', '대출금액_5개월_6', '대출금액_5개월_8', '대출금액_5개월_17', '대출금액_5개월_21',\n",
       "       '대출금액_5개월_98', '대출건수_5개월_0', '대출건수_5개월_100', '대출건수_5개월_150',\n",
       "       '대출건수_5개월_170', '대출건수_5개월_200', '대출건수_5개월_210', '대출건수_5개월_220',\n",
       "       '대출건수_5개월_230', '대출건수_5개월_240', '대출건수_5개월_245', '대출건수_5개월_250',\n",
       "       '대출건수_5개월_270', '대출건수_5개월_271', '대출건수_5개월_290', '대출건수_5개월_500',\n",
       "       '대출건수_5개월_510', '대출건수_5개월_590', '대출건수_5개월_700', '대출건수_5개월_710',\n",
       "       '대출금액_5개월_0', '대출금액_5개월_100', '대출금액_5개월_150', '대출금액_5개월_170',\n",
       "       '대출금액_5개월_200', '대출금액_5개월_210', '대출금액_5개월_220', '대출금액_5개월_230',\n",
       "       '대출금액_5개월_240', '대출금액_5개월_245', '대출금액_5개월_250', '대출금액_5개월_270',\n",
       "       '대출금액_5개월_271', '대출금액_5개월_290', '대출금액_5개월_500', '대출금액_5개월_510',\n",
       "       '대출금액_5개월_590', '대출금액_5개월_700', '대출금액_5개월_710', '개설카드수5', '총대출금액',\n",
       "       '총대출건수', '총대출상품수', '나이', '성별'],\n",
       "      dtype='object')"
      ]
     },
     "execution_count": 57,
     "metadata": {},
     "output_type": "execute_result"
    }
   ],
   "source": [
    "X_test.columns"
   ]
  },
  {
   "cell_type": "code",
   "execution_count": 58,
   "metadata": {},
   "outputs": [
    {
     "data": {
      "text/plain": [
       "대출건수_5개월_1      0\n",
       "대출건수_5개월_3      0\n",
       "대출건수_5개월_5      0\n",
       "대출건수_5개월_6      0\n",
       "대출건수_5개월_8      0\n",
       "대출건수_5개월_17     0\n",
       "대출건수_5개월_21     0\n",
       "대출건수_5개월_98     0\n",
       "대출금액_5개월_1      0\n",
       "대출금액_5개월_3      0\n",
       "대출금액_5개월_5      0\n",
       "대출금액_5개월_6      0\n",
       "대출금액_5개월_8      0\n",
       "대출금액_5개월_17     0\n",
       "대출금액_5개월_21     0\n",
       "대출금액_5개월_98     0\n",
       "대출건수_5개월_0      0\n",
       "대출건수_5개월_100    0\n",
       "대출건수_5개월_150    0\n",
       "대출건수_5개월_170    0\n",
       "대출건수_5개월_200    0\n",
       "대출건수_5개월_210    0\n",
       "대출건수_5개월_220    0\n",
       "대출건수_5개월_230    0\n",
       "대출건수_5개월_240    0\n",
       "대출건수_5개월_245    0\n",
       "대출건수_5개월_250    0\n",
       "대출건수_5개월_270    0\n",
       "대출건수_5개월_271    0\n",
       "대출건수_5개월_290    0\n",
       "대출건수_5개월_500    0\n",
       "대출건수_5개월_510    0\n",
       "대출건수_5개월_590    0\n",
       "대출건수_5개월_700    0\n",
       "대출건수_5개월_710    0\n",
       "대출금액_5개월_0      0\n",
       "대출금액_5개월_100    0\n",
       "대출금액_5개월_150    0\n",
       "대출금액_5개월_170    0\n",
       "대출금액_5개월_200    0\n",
       "대출금액_5개월_210    0\n",
       "대출금액_5개월_220    0\n",
       "대출금액_5개월_230    0\n",
       "대출금액_5개월_240    0\n",
       "대출금액_5개월_245    0\n",
       "대출금액_5개월_250    0\n",
       "대출금액_5개월_270    0\n",
       "대출금액_5개월_271    0\n",
       "대출금액_5개월_290    0\n",
       "대출금액_5개월_500    0\n",
       "대출금액_5개월_510    0\n",
       "대출금액_5개월_590    0\n",
       "대출금액_5개월_700    0\n",
       "대출금액_5개월_710    0\n",
       "개설카드수5          0\n",
       "총대출금액           0\n",
       "총대출건수           0\n",
       "총대출상품수          0\n",
       "나이              0\n",
       "성별              0\n",
       "dtype: int64"
      ]
     },
     "execution_count": 58,
     "metadata": {},
     "output_type": "execute_result"
    }
   ],
   "source": [
    "X_train.isnull().sum()"
   ]
  },
  {
   "cell_type": "code",
   "execution_count": 59,
   "metadata": {},
   "outputs": [
    {
     "data": {
      "text/plain": [
       "대출건수_5개월_1      0\n",
       "대출건수_5개월_3      0\n",
       "대출건수_5개월_5      0\n",
       "대출건수_5개월_6      0\n",
       "대출건수_5개월_8      0\n",
       "대출건수_5개월_17     0\n",
       "대출건수_5개월_21     0\n",
       "대출건수_5개월_98     0\n",
       "대출금액_5개월_1      0\n",
       "대출금액_5개월_3      0\n",
       "대출금액_5개월_5      0\n",
       "대출금액_5개월_6      0\n",
       "대출금액_5개월_8      0\n",
       "대출금액_5개월_17     0\n",
       "대출금액_5개월_21     0\n",
       "대출금액_5개월_98     0\n",
       "대출건수_5개월_0      0\n",
       "대출건수_5개월_100    0\n",
       "대출건수_5개월_150    0\n",
       "대출건수_5개월_170    0\n",
       "대출건수_5개월_200    0\n",
       "대출건수_5개월_210    0\n",
       "대출건수_5개월_220    0\n",
       "대출건수_5개월_230    0\n",
       "대출건수_5개월_240    0\n",
       "대출건수_5개월_245    0\n",
       "대출건수_5개월_250    0\n",
       "대출건수_5개월_270    0\n",
       "대출건수_5개월_271    0\n",
       "대출건수_5개월_290    0\n",
       "대출건수_5개월_500    0\n",
       "대출건수_5개월_510    0\n",
       "대출건수_5개월_590    0\n",
       "대출건수_5개월_700    0\n",
       "대출건수_5개월_710    0\n",
       "대출금액_5개월_0      0\n",
       "대출금액_5개월_100    0\n",
       "대출금액_5개월_150    0\n",
       "대출금액_5개월_170    0\n",
       "대출금액_5개월_200    0\n",
       "대출금액_5개월_210    0\n",
       "대출금액_5개월_220    0\n",
       "대출금액_5개월_230    0\n",
       "대출금액_5개월_240    0\n",
       "대출금액_5개월_245    0\n",
       "대출금액_5개월_250    0\n",
       "대출금액_5개월_270    0\n",
       "대출금액_5개월_271    0\n",
       "대출금액_5개월_290    0\n",
       "대출금액_5개월_500    0\n",
       "대출금액_5개월_510    0\n",
       "대출금액_5개월_590    0\n",
       "대출금액_5개월_700    0\n",
       "대출금액_5개월_710    0\n",
       "개설카드수5          0\n",
       "총대출금액           0\n",
       "총대출건수           0\n",
       "총대출상품수          0\n",
       "나이              0\n",
       "성별              0\n",
       "dtype: int64"
      ]
     },
     "execution_count": 59,
     "metadata": {},
     "output_type": "execute_result"
    }
   ],
   "source": [
    "X_test.isnull().sum()"
   ]
  },
  {
   "cell_type": "markdown",
   "metadata": {},
   "source": [
    "## 3. SMOTE OverSampling"
   ]
  },
  {
   "cell_type": "markdown",
   "metadata": {},
   "source": [
    "Train Data Set에 대하여 Smote OverSampling 실행"
   ]
  },
  {
   "cell_type": "markdown",
   "metadata": {},
   "source": [
    "원래 아이디어는 smote -> undersampling 해서 모델링 시간을 줄이려했지만..."
   ]
  },
  {
   "cell_type": "code",
   "execution_count": 60,
   "metadata": {},
   "outputs": [],
   "source": [
    "from imblearn.over_sampling import SMOTE\n",
    "\n",
    "smote = SMOTE(random_state=7) # RandomState 변경\n",
    "X_train_over, y_train_over = smote.fit_sample(X_train, y_train)"
   ]
  },
  {
   "cell_type": "code",
   "execution_count": 61,
   "metadata": {},
   "outputs": [
    {
     "name": "stdout",
     "output_type": "stream",
     "text": [
      "SMOTE 적용 후 Data Set Size (1363518, 60) (1363518,)\n"
     ]
    }
   ],
   "source": [
    "print('SMOTE 적용 후 Data Set Size', X_train_over.shape, y_train_over.shape)"
   ]
  },
  {
   "cell_type": "code",
   "execution_count": 62,
   "metadata": {},
   "outputs": [
    {
     "name": "stdout",
     "output_type": "stream",
     "text": [
      "SMOTE 적용 후 Class 분포:\n",
      " 1    681759\n",
      "0    681759\n",
      "Name: 연체여부, dtype: int64\n"
     ]
    }
   ],
   "source": [
    "print('SMOTE 적용 후 Class 분포:\\n', pd.Series(y_train_over).value_counts())"
   ]
  },
  {
   "cell_type": "code",
   "execution_count": 62,
   "metadata": {},
   "outputs": [
    {
     "data": {
      "text/plain": [
       "Text(0.5, 1.0, '연체여부 \\n (0:정상 || 1:채무불이행)')"
      ]
     },
     "execution_count": 62,
     "metadata": {},
     "output_type": "execute_result"
    },
    {
     "data": {
      "image/png": "[encoded data removed]",
      "text/plain": [
       "<Figure size 432x288 with 1 Axes>"
      ]
     },
     "metadata": {
      "needs_background": "light"
     },
     "output_type": "display_data"
    }
   ],
   "source": [
    "sns.countplot('연체여부', data = y_train_over.to_frame())\n",
    "plt.title('연체여부 \\n (0:정상 || 1:채무불이행)')"
   ]
  },
  {
   "cell_type": "markdown",
   "metadata": {},
   "source": [
    "# Modelling"
   ]
  },
  {
   "cell_type": "code",
   "execution_count": 63,
   "metadata": {},
   "outputs": [],
   "source": [
    "def auc_return(y_test, pred):\n",
    "    fpr, tpr, threshold = sklearn.metrics.roc_curve(y_test,pred)\n",
    "    auc = metrics.auc(fpr,tpr)\n",
    "    return auc"
   ]
  },
  {
   "cell_type": "markdown",
   "metadata": {},
   "source": [
    "# 1. Regression"
   ]
  },
  {
   "cell_type": "markdown",
   "metadata": {},
   "source": [
    "전통적으로 채무불이행 예측 모델은 다음과 같은 기본 알고리즘을 많이 사용함. 그 이유는 채무불이행 이유에 대한 '설명가능성'이 있기 때문 <br>\n",
    "보수적인 금융권 특성, 고객과의 신뢰 등을 이유로 알고리즘의 설명 가능성에 대해 매우 민감함 <br>"
   ]
  },
  {
   "cell_type": "markdown",
   "metadata": {},
   "source": [
    "## 1-1) Logistic"
   ]
  },
  {
   "cell_type": "code",
   "execution_count": 66,
   "metadata": {},
   "outputs": [],
   "source": [
    "from sklearn.linear_model import LogisticRegression"
   ]
  },
  {
   "cell_type": "code",
   "execution_count": 66,
   "metadata": {},
   "outputs": [],
   "source": [
    "lr = LogisticRegression()"
   ]
  },
  {
   "cell_type": "code",
   "execution_count": 68,
   "metadata": {},
   "outputs": [
    {
     "data": {
      "text/plain": [
       "LogisticRegression()"
      ]
     },
     "execution_count": 68,
     "metadata": {},
     "output_type": "execute_result"
    }
   ],
   "source": [
    "lr.fit(X_train_over,y_train_over)"
   ]
  },
  {
   "cell_type": "code",
   "execution_count": 64,
   "metadata": {},
   "outputs": [],
   "source": [
    "with open('Logistc_Regression_predict.pkl','rb') as infile:\n",
    "    lr_pred = pkl.load(infile)"
   ]
  },
  {
   "cell_type": "code",
   "execution_count": 69,
   "metadata": {},
   "outputs": [],
   "source": [
    "lr_pred = lr.predict(X_test)"
   ]
  },
  {
   "cell_type": "code",
   "execution_count": 68,
   "metadata": {},
   "outputs": [
    {
     "name": "stdout",
     "output_type": "stream",
     "text": [
      "accuracy 0.6582701548682375 \n",
      "\n",
      "confusion_matrix [[192200  99982]\n",
      " [   219    816]] \n",
      "\n",
      "              precision    recall  f1-score   support\n",
      "\n",
      "           0       1.00      0.66      0.79    292182\n",
      "           1       0.01      0.79      0.02      1035\n",
      "\n",
      "    accuracy                           0.66    293217\n",
      "   macro avg       0.50      0.72      0.40    293217\n",
      "weighted avg       1.00      0.66      0.79    293217\n",
      "\n"
     ]
    }
   ],
   "source": [
    "model_assessment(y_test, lr_pred)"
   ]
  },
  {
   "cell_type": "code",
   "execution_count": 70,
   "metadata": {},
   "outputs": [
    {
     "name": "stdout",
     "output_type": "stream",
     "text": [
      "accuracy 0.6582701548682375 \n",
      "\n",
      "confusion_matrix [[192200  99982]\n",
      " [   219    816]] \n",
      "\n",
      "              precision    recall  f1-score   support\n",
      "\n",
      "           0       1.00      0.66      0.79    292182\n",
      "           1       0.01      0.79      0.02      1035\n",
      "\n",
      "    accuracy                           0.66    293217\n",
      "   macro avg       0.50      0.72      0.40    293217\n",
      "weighted avg       1.00      0.66      0.79    293217\n",
      "\n"
     ]
    }
   ],
   "source": [
    "model_assessment(y_test, lr_pred)"
   ]
  },
  {
   "cell_type": "code",
   "execution_count": 85,
   "metadata": {},
   "outputs": [
    {
     "name": "stdout",
     "output_type": "stream",
     "text": [
      "0.72\n"
     ]
    }
   ],
   "source": [
    "auc = auc_return(y_test,lr_pred)# 변경\n",
    "auc = auc.round(2)\n",
    "print(auc)"
   ]
  },
  {
   "cell_type": "code",
   "execution_count": 82,
   "metadata": {},
   "outputs": [
    {
     "data": {
      "text/plain": [
       "0.7231074854178143"
      ]
     },
     "execution_count": 82,
     "metadata": {},
     "output_type": "execute_result"
    }
   ],
   "source": [
    "auc"
   ]
  },
  {
   "cell_type": "code",
   "execution_count": 86,
   "metadata": {},
   "outputs": [
    {
     "data": {
      "image/png": "[encoded data removed]",
      "text/plain": [
       "<Figure size 432x288 with 1 Axes>"
      ]
     },
     "metadata": {
      "needs_background": "light"
     },
     "output_type": "display_data"
    }
   ],
   "source": [
    "fpr, tpr, threshold = sklearn.metrics.roc_curve(y_test, lr_pred)\n",
    "plt.title('Logistic Recression ROC Curve')\n",
    "plt.plot(fpr, tpr, 'k-', linewidth=2, label = 'AUC : ' + str(auc))\n",
    "plt.legend(loc=4)\n",
    "plt.plot([0,1], [0,1], 'r--')\n",
    "plt.xlabel('False Positive Rate')\n",
    "plt.ylabel('True Positive Rate')\n",
    "plt.axis([-0.01, 1,0,1])\n",
    "plt.savefig('C:/Users/ksy/Desktop/개인/코로나19 팀프로젝트/시나리오1/png/Logistic Regression ROC.png')\n",
    "plt.show()"
   ]
  },
  {
   "cell_type": "code",
   "execution_count": 81,
   "metadata": {},
   "outputs": [
    {
     "data": {
      "image/png": "[encoded data removed]",
      "text/plain": [
       "<Figure size 432x288 with 1 Axes>"
      ]
     },
     "metadata": {
      "needs_background": "light"
     },
     "output_type": "display_data"
    }
   ],
   "source": [
    "fpr, tpr, threshold = sklearn.metrics.roc_curve(y_test, lr_pred)\n",
    "plt.title('Logistic Recression ROC Curve')\n",
    "plt.plot(fpr, tpr, 'k-', linewidth=2, label = 'AUC : ' + str(auc))\n",
    "plt.legend(loc=4)\n",
    "plt.plot([0,1], [0,1], 'r--')\n",
    "plt.xlabel('False Positive Rate')\n",
    "plt.ylabel('True Positive Rate')\n",
    "plt.axis([-0.01, 1,0,1])\n",
    "plt.savefig('C:/Users/ksy/Desktop/개인/코로나19 팀프로젝트/시나리오1/png/Logistic Regression ROC.png')\n",
    "plt.show()"
   ]
  },
  {
   "cell_type": "code",
   "execution_count": 73,
   "metadata": {},
   "outputs": [
    {
     "data": {
      "image/png": "[encoded data removed]",
      "text/plain": [
       "<Figure size 432x288 with 2 Axes>"
      ]
     },
     "metadata": {
      "needs_background": "light"
     },
     "output_type": "display_data"
    }
   ],
   "source": [
    "plot_confusion_matrix(lr,X_test,y_test,cmap='Blues')\n",
    "\n",
    "plt.title('Logistic Regression')\n",
    "\n",
    "plt.savefig('C:/Users/ksy/Desktop/개인/코로나19 팀프로젝트/시나리오1/png/1.Logistic Regression Confusion Matrix.png')\n",
    "plt.show()"
   ]
  },
  {
   "cell_type": "code",
   "execution_count": 74,
   "metadata": {},
   "outputs": [],
   "source": [
    "#모델저장\n",
    "import pickle as pkl\n",
    "with open(\"Logistc_Regression.pkl\",'wb') as outfile:\n",
    "    pkl.dump(lr,outfile)"
   ]
  },
  {
   "cell_type": "code",
   "execution_count": 75,
   "metadata": {},
   "outputs": [],
   "source": [
    "#모델저장\n",
    "import pickle as pkl\n",
    "with open(\"Logistc_Regression_predict.pkl\",'wb') as outfile:\n",
    "    pkl.dump(lr_pred,outfile)"
   ]
  },
  {
   "cell_type": "markdown",
   "metadata": {},
   "source": [
    "# 2. Classification"
   ]
  },
  {
   "cell_type": "markdown",
   "metadata": {},
   "source": [
    "### 2-1) XGBOOST"
   ]
  },
  {
   "cell_type": "code",
   "execution_count": 76,
   "metadata": {},
   "outputs": [],
   "source": [
    "#X_test.head()"
   ]
  },
  {
   "cell_type": "code",
   "execution_count": 77,
   "metadata": {},
   "outputs": [
    {
     "name": "stdout",
     "output_type": "stream",
     "text": [
      "[0]\tvalidation_0-logloss:0.68868\tvalidation_1-logloss:0.68741\n",
      "[1]\tvalidation_0-logloss:0.68121\tvalidation_1-logloss:0.68229\n",
      "[2]\tvalidation_0-logloss:0.67753\tvalidation_1-logloss:0.67666\n",
      "[3]\tvalidation_0-logloss:0.67065\tvalidation_1-logloss:0.67157\n",
      "[4]\tvalidation_0-logloss:0.66711\tvalidation_1-logloss:0.66616\n",
      "[5]\tvalidation_0-logloss:0.66045\tvalidation_1-logloss:0.66119\n",
      "[6]\tvalidation_0-logloss:0.65633\tvalidation_1-logloss:0.65629\n",
      "[7]\tvalidation_0-logloss:0.65103\tvalidation_1-logloss:0.65149\n",
      "[8]\tvalidation_0-logloss:0.64634\tvalidation_1-logloss:0.64663\n",
      "[9]\tvalidation_0-logloss:0.64153\tvalidation_1-logloss:0.64187\n",
      "[10]\tvalidation_0-logloss:0.63702\tvalidation_1-logloss:0.63746\n",
      "[11]\tvalidation_0-logloss:0.63203\tvalidation_1-logloss:0.63291\n",
      "[12]\tvalidation_0-logloss:0.62765\tvalidation_1-logloss:0.62855\n",
      "[13]\tvalidation_0-logloss:0.62328\tvalidation_1-logloss:0.62409\n",
      "[14]\tvalidation_0-logloss:0.61954\tvalidation_1-logloss:0.61968\n",
      "[15]\tvalidation_0-logloss:0.61497\tvalidation_1-logloss:0.61567\n",
      "[16]\tvalidation_0-logloss:0.61085\tvalidation_1-logloss:0.61155\n",
      "[17]\tvalidation_0-logloss:0.60662\tvalidation_1-logloss:0.60735\n",
      "[18]\tvalidation_0-logloss:0.60214\tvalidation_1-logloss:0.60338\n",
      "[19]\tvalidation_0-logloss:0.59864\tvalidation_1-logloss:0.59952\n",
      "[20]\tvalidation_0-logloss:0.59462\tvalidation_1-logloss:0.59559\n",
      "[21]\tvalidation_0-logloss:0.59044\tvalidation_1-logloss:0.59185\n",
      "[22]\tvalidation_0-logloss:0.58683\tvalidation_1-logloss:0.58811\n",
      "[23]\tvalidation_0-logloss:0.58291\tvalidation_1-logloss:0.58462\n",
      "[24]\tvalidation_0-logloss:0.57978\tvalidation_1-logloss:0.58092\n",
      "[25]\tvalidation_0-logloss:0.57577\tvalidation_1-logloss:0.57760\n",
      "[26]\tvalidation_0-logloss:0.57177\tvalidation_1-logloss:0.57394\n",
      "[27]\tvalidation_0-logloss:0.56888\tvalidation_1-logloss:0.57066\n",
      "[28]\tvalidation_0-logloss:0.56542\tvalidation_1-logloss:0.56723\n",
      "[29]\tvalidation_0-logloss:0.56205\tvalidation_1-logloss:0.56403\n",
      "[30]\tvalidation_0-logloss:0.55914\tvalidation_1-logloss:0.56075\n",
      "[31]\tvalidation_0-logloss:0.55493\tvalidation_1-logloss:0.55769\n",
      "[32]\tvalidation_0-logloss:0.55208\tvalidation_1-logloss:0.55463\n",
      "[33]\tvalidation_0-logloss:0.54954\tvalidation_1-logloss:0.55161\n",
      "[34]\tvalidation_0-logloss:0.54594\tvalidation_1-logloss:0.54860\n",
      "[35]\tvalidation_0-logloss:0.54244\tvalidation_1-logloss:0.54549\n",
      "[36]\tvalidation_0-logloss:0.54006\tvalidation_1-logloss:0.54265\n",
      "[37]\tvalidation_0-logloss:0.53716\tvalidation_1-logloss:0.53979\n",
      "[38]\tvalidation_0-logloss:0.53372\tvalidation_1-logloss:0.53697\n",
      "[39]\tvalidation_0-logloss:0.53093\tvalidation_1-logloss:0.53425\n",
      "[40]\tvalidation_0-logloss:0.52826\tvalidation_1-logloss:0.53147\n",
      "[41]\tvalidation_0-logloss:0.52518\tvalidation_1-logloss:0.52875\n",
      "[42]\tvalidation_0-logloss:0.52227\tvalidation_1-logloss:0.52616\n",
      "[43]\tvalidation_0-logloss:0.51978\tvalidation_1-logloss:0.52356\n",
      "[44]\tvalidation_0-logloss:0.51728\tvalidation_1-logloss:0.52096\n",
      "[45]\tvalidation_0-logloss:0.51453\tvalidation_1-logloss:0.51840\n",
      "[46]\tvalidation_0-logloss:0.51191\tvalidation_1-logloss:0.51599\n",
      "[47]\tvalidation_0-logloss:0.50948\tvalidation_1-logloss:0.51348\n",
      "[48]\tvalidation_0-logloss:0.50704\tvalidation_1-logloss:0.51106\n",
      "[49]\tvalidation_0-logloss:0.50415\tvalidation_1-logloss:0.50863\n",
      "[50]\tvalidation_0-logloss:0.50199\tvalidation_1-logloss:0.50638\n",
      "[51]\tvalidation_0-logloss:0.49910\tvalidation_1-logloss:0.50410\n",
      "[52]\tvalidation_0-logloss:0.49673\tvalidation_1-logloss:0.50176\n",
      "[53]\tvalidation_0-logloss:0.49448\tvalidation_1-logloss:0.49950\n",
      "[54]\tvalidation_0-logloss:0.49217\tvalidation_1-logloss:0.49733\n",
      "[55]\tvalidation_0-logloss:0.48973\tvalidation_1-logloss:0.49513\n",
      "[56]\tvalidation_0-logloss:0.48743\tvalidation_1-logloss:0.49293\n",
      "[57]\tvalidation_0-logloss:0.48508\tvalidation_1-logloss:0.49077\n",
      "[58]\tvalidation_0-logloss:0.48330\tvalidation_1-logloss:0.48862\n",
      "[59]\tvalidation_0-logloss:0.48124\tvalidation_1-logloss:0.48654\n",
      "[60]\tvalidation_0-logloss:0.47876\tvalidation_1-logloss:0.48455\n",
      "[61]\tvalidation_0-logloss:0.47669\tvalidation_1-logloss:0.48259\n",
      "[62]\tvalidation_0-logloss:0.47445\tvalidation_1-logloss:0.48065\n",
      "[63]\tvalidation_0-logloss:0.47282\tvalidation_1-logloss:0.47860\n",
      "[64]\tvalidation_0-logloss:0.47069\tvalidation_1-logloss:0.47660\n",
      "[65]\tvalidation_0-logloss:0.46839\tvalidation_1-logloss:0.47469\n",
      "[66]\tvalidation_0-logloss:0.46642\tvalidation_1-logloss:0.47298\n",
      "[67]\tvalidation_0-logloss:0.46454\tvalidation_1-logloss:0.47103\n",
      "[68]\tvalidation_0-logloss:0.46271\tvalidation_1-logloss:0.46909\n",
      "[69]\tvalidation_0-logloss:0.46043\tvalidation_1-logloss:0.46732\n",
      "[70]\tvalidation_0-logloss:0.45875\tvalidation_1-logloss:0.46553\n",
      "[71]\tvalidation_0-logloss:0.45657\tvalidation_1-logloss:0.46372\n",
      "[72]\tvalidation_0-logloss:0.45478\tvalidation_1-logloss:0.46201\n",
      "[73]\tvalidation_0-logloss:0.45330\tvalidation_1-logloss:0.46024\n",
      "[74]\tvalidation_0-logloss:0.45127\tvalidation_1-logloss:0.45865\n",
      "[75]\tvalidation_0-logloss:0.44959\tvalidation_1-logloss:0.45696\n",
      "[76]\tvalidation_0-logloss:0.44791\tvalidation_1-logloss:0.45531\n",
      "[77]\tvalidation_0-logloss:0.44596\tvalidation_1-logloss:0.45363\n",
      "[78]\tvalidation_0-logloss:0.44444\tvalidation_1-logloss:0.45216\n",
      "[79]\tvalidation_0-logloss:0.44275\tvalidation_1-logloss:0.45060\n",
      "[80]\tvalidation_0-logloss:0.44116\tvalidation_1-logloss:0.44900\n",
      "[81]\tvalidation_0-logloss:0.43941\tvalidation_1-logloss:0.44748\n",
      "[82]\tvalidation_0-logloss:0.43767\tvalidation_1-logloss:0.44592\n",
      "[83]\tvalidation_0-logloss:0.43605\tvalidation_1-logloss:0.44436\n",
      "[84]\tvalidation_0-logloss:0.43451\tvalidation_1-logloss:0.44285\n",
      "[85]\tvalidation_0-logloss:0.43260\tvalidation_1-logloss:0.44130\n",
      "[86]\tvalidation_0-logloss:0.43125\tvalidation_1-logloss:0.43984\n",
      "[87]\tvalidation_0-logloss:0.42985\tvalidation_1-logloss:0.43832\n",
      "[88]\tvalidation_0-logloss:0.42811\tvalidation_1-logloss:0.43690\n",
      "[89]\tvalidation_0-logloss:0.42658\tvalidation_1-logloss:0.43549\n",
      "[90]\tvalidation_0-logloss:0.42516\tvalidation_1-logloss:0.43403\n",
      "[91]\tvalidation_0-logloss:0.42344\tvalidation_1-logloss:0.43264\n",
      "[92]\tvalidation_0-logloss:0.42207\tvalidation_1-logloss:0.43122\n",
      "[93]\tvalidation_0-logloss:0.42067\tvalidation_1-logloss:0.42990\n",
      "[94]\tvalidation_0-logloss:0.41901\tvalidation_1-logloss:0.42840\n",
      "[95]\tvalidation_0-logloss:0.41759\tvalidation_1-logloss:0.42701\n",
      "[96]\tvalidation_0-logloss:0.41625\tvalidation_1-logloss:0.42572\n",
      "[97]\tvalidation_0-logloss:0.41472\tvalidation_1-logloss:0.42441\n",
      "[98]\tvalidation_0-logloss:0.41328\tvalidation_1-logloss:0.42309\n",
      "[99]\tvalidation_0-logloss:0.41195\tvalidation_1-logloss:0.42166\n"
     ]
    },
    {
     "data": {
      "text/plain": [
       "XGBClassifier(base_score=0.5, booster='gbtree', colsample_bylevel=1,\n",
       "              colsample_bynode=1, colsample_bytree=1, gamma=0, gpu_id=-1,\n",
       "              importance_type='gain', interaction_constraints='',\n",
       "              learning_rate=0.01, max_delta_step=0, max_depth=6,\n",
       "              min_child_weight=1, missing=nan, monotone_constraints='()',\n",
       "              n_estimators=100, n_jobs=4, num_parallel_tree=1, random_state=156,\n",
       "              reg_alpha=0, reg_lambda=1, scale_pos_weight=1, seed=156,\n",
       "              subsample=1, tree_method='exact', validate_parameters=1,\n",
       "              verbosity=None)"
      ]
     },
     "execution_count": 77,
     "metadata": {},
     "output_type": "execute_result"
    }
   ],
   "source": [
    "######기본모델\n",
    "xgb_over_model = XGBClassifier(n_estimators=100,\n",
    "                              objective='binary:logistic',\n",
    "                              seed=156,\n",
    "                              learning_rate=0.01)\n",
    "xgb_over_model.fit(X_train_over, y_train_over, early_stopping_rounds=10, eval_set = [(X_train_over, y_train_over), (X_test, y_test)], eval_metric='logloss')"
   ]
  },
  {
   "cell_type": "code",
   "execution_count": 79,
   "metadata": {},
   "outputs": [],
   "source": [
    "xgb_over_pred = xgb_over_model.predict(X_test)"
   ]
  },
  {
   "cell_type": "code",
   "execution_count": 80,
   "metadata": {},
   "outputs": [
    {
     "name": "stdout",
     "output_type": "stream",
     "text": [
      "<OverSampling 후 XGBoost 기본 모델 성능>\n",
      "accuracy 0.8322709801955548 \n",
      "\n",
      "confusion_matrix [[243434  48748]\n",
      " [   433    602]] \n",
      "\n",
      "              precision    recall  f1-score   support\n",
      "\n",
      "           0       1.00      0.83      0.91    292182\n",
      "           1       0.01      0.58      0.02      1035\n",
      "\n",
      "    accuracy                           0.83    293217\n",
      "   macro avg       0.51      0.71      0.47    293217\n",
      "weighted avg       0.99      0.83      0.91    293217\n",
      "\n"
     ]
    }
   ],
   "source": [
    "print('<OverSampling 후 XGBoost 기본 모델 성능>')\n",
    "model_assessment(y_test, xgb_over_pred)"
   ]
  },
  {
   "cell_type": "code",
   "execution_count": 81,
   "metadata": {},
   "outputs": [
    {
     "name": "stdout",
     "output_type": "stream",
     "text": [
      "0.7074006483352295\n"
     ]
    }
   ],
   "source": [
    "auc = auc_return(y_test,xgb_over_pred) # 변경\n",
    "print(auc)"
   ]
  },
  {
   "cell_type": "code",
   "execution_count": 82,
   "metadata": {},
   "outputs": [
    {
     "data": {
      "image/png": "[encoded data removed]",
      "text/plain": [
       "<Figure size 432x288 with 1 Axes>"
      ]
     },
     "metadata": {
      "needs_background": "light"
     },
     "output_type": "display_data"
    }
   ],
   "source": [
    "fpr, tpr, threshold = sklearn.metrics.roc_curve(y_test, \n",
    "                                                xgb_over_pred) ##############\n",
    "plt.title('XGBoost ROC Curve') ################\n",
    "plt.plot(fpr, tpr, 'k-', linewidth=2,label = 'AUC : ' + str(auc))\n",
    "plt.legend(loc=4)\n",
    "plt.plot([0,1], [0,1], 'r--')\n",
    "plt.xlabel('False Positive Rate')\n",
    "plt.ylabel('True Positive Rate')\n",
    "plt.axis([-0.01, 1,0,1])\n",
    "plt.savefig('C:/Users/ksy/Desktop/개인/코로나19 팀프로젝트/시나리오1/png/XGBoostC.png') ##############\n",
    "plt.show()"
   ]
  },
  {
   "cell_type": "code",
   "execution_count": 84,
   "metadata": {},
   "outputs": [
    {
     "data": {
      "image/png": "[encoded data removed]",
      "text/plain": [
       "<Figure size 432x288 with 2 Axes>"
      ]
     },
     "metadata": {
      "needs_background": "light"
     },
     "output_type": "display_data"
    }
   ],
   "source": [
    "plot_confusion_matrix(xgb_over_model#######\n",
    "                      ,X_test,y_test,cmap='Blues')\n",
    "\n",
    "plt.title('XGBoost') ##############\n",
    "plt.savefig('C:/Users/ksy/Desktop/개인/코로나19 팀프로젝트/시나리오1/png/XGBoost.png') ##############\n",
    "plt.show()"
   ]
  },
  {
   "cell_type": "code",
   "execution_count": 87,
   "metadata": {},
   "outputs": [],
   "source": [
    "#모델저장\n",
    "import pickle as pkl\n",
    "with open(\"xgb_model.pkl\",'wb') as outfile:\n",
    "    pkl.dump(xgb_over_model,outfile)"
   ]
  },
  {
   "cell_type": "code",
   "execution_count": 88,
   "metadata": {},
   "outputs": [],
   "source": [
    "#모델저장\n",
    "import pickle as pkl\n",
    "with open(\"xgb_pred.pkl\",'wb') as outfile:\n",
    "    pkl.dump(xgb_over_pred,outfile)"
   ]
  },
  {
   "cell_type": "code",
   "execution_count": 257,
   "metadata": {},
   "outputs": [
    {
     "data": {
      "text/plain": [
       "array([4.2751371e-03, 3.8005528e-03, 7.1354387e-03, 0.0000000e+00,\n",
       "       1.2235556e-04, 1.0285889e-02, 8.3443873e-02, 3.3407782e-03,\n",
       "       1.3066170e-02, 8.2471911e-03, 4.1291751e-02, 7.2349707e-04,\n",
       "       4.2543192e-03, 2.4597144e-03, 4.2940988e-03, 0.0000000e+00,\n",
       "       4.2475727e-01, 3.2855291e-02, 4.0648477e-03, 7.8935531e-04,\n",
       "       1.5363278e-03, 0.0000000e+00, 1.6743250e-02, 4.4766904e-04,\n",
       "       2.1936342e-03, 7.7150986e-03, 0.0000000e+00, 3.0995684e-03,\n",
       "       0.0000000e+00, 7.4479645e-03, 1.1942039e-02, 5.3886008e-03,\n",
       "       1.1555291e-03, 0.0000000e+00, 0.0000000e+00, 1.3883708e-01,\n",
       "       1.3186245e-02, 3.1372264e-04, 0.0000000e+00, 3.9815367e-03,\n",
       "       0.0000000e+00, 2.1182508e-03, 2.4731213e-03, 3.1486352e-03,\n",
       "       0.0000000e+00, 0.0000000e+00, 3.2928856e-03, 9.8350144e-04,\n",
       "       1.8469762e-03, 9.5055103e-03, 1.5740907e-03, 4.4102934e-03,\n",
       "       0.0000000e+00, 0.0000000e+00, 1.8814707e-02, 7.0213065e-03,\n",
       "       3.9489740e-03, 0.0000000e+00, 1.5478710e-02, 6.2187236e-02],\n",
       "      dtype=float32)"
      ]
     },
     "execution_count": 257,
     "metadata": {},
     "output_type": "execute_result"
    }
   ],
   "source": [
    "xgb_over_model.feature_importances_"
   ]
  },
  {
   "cell_type": "code",
   "execution_count": 258,
   "metadata": {},
   "outputs": [
    {
     "data": {
      "text/plain": [
       "<matplotlib.axes._subplots.AxesSubplot at 0x274612c2388>"
      ]
     },
     "execution_count": 258,
     "metadata": {},
     "output_type": "execute_result"
    },
    {
     "data": {
      "image/png": "[encoded data removed]",
      "text/plain": [
       "<Figure size 1080x1080 with 1 Axes>"
      ]
     },
     "metadata": {
      "needs_background": "light"
     },
     "output_type": "display_data"
    }
   ],
   "source": [
    "from xgboost import plot_importance\n",
    "\n",
    "fig,ax = plt.subplots(figsize=(15,15))\n",
    "plot_importance(xgb_over_model.get_booster(), ax=ax)"
   ]
  },
  {
   "cell_type": "markdown",
   "metadata": {},
   "source": [
    "## 2) LightGBM"
   ]
  },
  {
   "cell_type": "code",
   "execution_count": 64,
   "metadata": {},
   "outputs": [],
   "source": [
    "from lightgbm import LGBMClassifier\n",
    "lgbm = LGBMClassifier(n_estimators=100)"
   ]
  },
  {
   "cell_type": "code",
   "execution_count": 65,
   "metadata": {},
   "outputs": [
    {
     "name": "stdout",
     "output_type": "stream",
     "text": [
      "[1]\ttraining's binary_logloss: 0.641031\tvalid_1's binary_logloss: 0.641305\n",
      "Training until validation scores don't improve for 10 rounds\n",
      "[2]\ttraining's binary_logloss: 0.597606\tvalid_1's binary_logloss: 0.598427\n",
      "[3]\ttraining's binary_logloss: 0.560484\tvalid_1's binary_logloss: 0.562162\n",
      "[4]\ttraining's binary_logloss: 0.52876\tvalid_1's binary_logloss: 0.531353\n",
      "[5]\ttraining's binary_logloss: 0.501849\tvalid_1's binary_logloss: 0.504923\n",
      "[6]\ttraining's binary_logloss: 0.478843\tvalid_1's binary_logloss: 0.482385\n",
      "[7]\ttraining's binary_logloss: 0.458842\tvalid_1's binary_logloss: 0.462691\n",
      "[8]\ttraining's binary_logloss: 0.441647\tvalid_1's binary_logloss: 0.446481\n",
      "[9]\ttraining's binary_logloss: 0.425649\tvalid_1's binary_logloss: 0.431191\n",
      "[10]\ttraining's binary_logloss: 0.412314\tvalid_1's binary_logloss: 0.41875\n",
      "[11]\ttraining's binary_logloss: 0.399307\tvalid_1's binary_logloss: 0.406185\n",
      "[12]\ttraining's binary_logloss: 0.384468\tvalid_1's binary_logloss: 0.391341\n",
      "[13]\ttraining's binary_logloss: 0.371709\tvalid_1's binary_logloss: 0.379028\n",
      "[14]\ttraining's binary_logloss: 0.360758\tvalid_1's binary_logloss: 0.368349\n",
      "[15]\ttraining's binary_logloss: 0.347289\tvalid_1's binary_logloss: 0.354486\n",
      "[16]\ttraining's binary_logloss: 0.338939\tvalid_1's binary_logloss: 0.347239\n",
      "[17]\ttraining's binary_logloss: 0.328414\tvalid_1's binary_logloss: 0.336284\n",
      "[18]\ttraining's binary_logloss: 0.318269\tvalid_1's binary_logloss: 0.325474\n",
      "[19]\ttraining's binary_logloss: 0.308284\tvalid_1's binary_logloss: 0.314684\n",
      "[20]\ttraining's binary_logloss: 0.29811\tvalid_1's binary_logloss: 0.30401\n",
      "[21]\ttraining's binary_logloss: 0.286773\tvalid_1's binary_logloss: 0.29256\n",
      "[22]\ttraining's binary_logloss: 0.276756\tvalid_1's binary_logloss: 0.282385\n",
      "[23]\ttraining's binary_logloss: 0.268892\tvalid_1's binary_logloss: 0.274152\n",
      "[24]\ttraining's binary_logloss: 0.263906\tvalid_1's binary_logloss: 0.269289\n",
      "[25]\ttraining's binary_logloss: 0.258202\tvalid_1's binary_logloss: 0.26344\n",
      "[26]\ttraining's binary_logloss: 0.248455\tvalid_1's binary_logloss: 0.253129\n",
      "[27]\ttraining's binary_logloss: 0.242662\tvalid_1's binary_logloss: 0.247526\n",
      "[28]\ttraining's binary_logloss: 0.234758\tvalid_1's binary_logloss: 0.239284\n",
      "[29]\ttraining's binary_logloss: 0.230737\tvalid_1's binary_logloss: 0.235249\n",
      "[30]\ttraining's binary_logloss: 0.227715\tvalid_1's binary_logloss: 0.232419\n",
      "[31]\ttraining's binary_logloss: 0.220616\tvalid_1's binary_logloss: 0.224966\n",
      "[32]\ttraining's binary_logloss: 0.214564\tvalid_1's binary_logloss: 0.218509\n",
      "[33]\ttraining's binary_logloss: 0.2064\tvalid_1's binary_logloss: 0.209826\n",
      "[34]\ttraining's binary_logloss: 0.200047\tvalid_1's binary_logloss: 0.203211\n",
      "[35]\ttraining's binary_logloss: 0.193371\tvalid_1's binary_logloss: 0.196502\n",
      "[36]\ttraining's binary_logloss: 0.190413\tvalid_1's binary_logloss: 0.193664\n",
      "[37]\ttraining's binary_logloss: 0.184178\tvalid_1's binary_logloss: 0.186943\n",
      "[38]\ttraining's binary_logloss: 0.179752\tvalid_1's binary_logloss: 0.182328\n",
      "[39]\ttraining's binary_logloss: 0.174082\tvalid_1's binary_logloss: 0.176704\n",
      "[40]\ttraining's binary_logloss: 0.171108\tvalid_1's binary_logloss: 0.173864\n",
      "[41]\ttraining's binary_logloss: 0.16903\tvalid_1's binary_logloss: 0.171936\n",
      "[42]\ttraining's binary_logloss: 0.166758\tvalid_1's binary_logloss: 0.169813\n",
      "[43]\ttraining's binary_logloss: 0.161979\tvalid_1's binary_logloss: 0.164555\n",
      "[44]\ttraining's binary_logloss: 0.156771\tvalid_1's binary_logloss: 0.159289\n",
      "[45]\ttraining's binary_logloss: 0.151539\tvalid_1's binary_logloss: 0.153908\n",
      "[46]\ttraining's binary_logloss: 0.14914\tvalid_1's binary_logloss: 0.151438\n",
      "[47]\ttraining's binary_logloss: 0.145993\tvalid_1's binary_logloss: 0.148146\n",
      "[48]\ttraining's binary_logloss: 0.141539\tvalid_1's binary_logloss: 0.143574\n",
      "[49]\ttraining's binary_logloss: 0.139548\tvalid_1's binary_logloss: 0.141705\n",
      "[50]\ttraining's binary_logloss: 0.136538\tvalid_1's binary_logloss: 0.13863\n",
      "[51]\ttraining's binary_logloss: 0.133518\tvalid_1's binary_logloss: 0.135552\n",
      "[52]\ttraining's binary_logloss: 0.130984\tvalid_1's binary_logloss: 0.132935\n",
      "[53]\ttraining's binary_logloss: 0.127323\tvalid_1's binary_logloss: 0.129354\n",
      "[54]\ttraining's binary_logloss: 0.125536\tvalid_1's binary_logloss: 0.127513\n",
      "[55]\ttraining's binary_logloss: 0.123913\tvalid_1's binary_logloss: 0.125819\n",
      "[56]\ttraining's binary_logloss: 0.122492\tvalid_1's binary_logloss: 0.124387\n",
      "[57]\ttraining's binary_logloss: 0.120208\tvalid_1's binary_logloss: 0.122046\n",
      "[58]\ttraining's binary_logloss: 0.117949\tvalid_1's binary_logloss: 0.119865\n",
      "[59]\ttraining's binary_logloss: 0.116838\tvalid_1's binary_logloss: 0.118835\n",
      "[60]\ttraining's binary_logloss: 0.115085\tvalid_1's binary_logloss: 0.117179\n",
      "[61]\ttraining's binary_logloss: 0.113494\tvalid_1's binary_logloss: 0.115608\n",
      "[62]\ttraining's binary_logloss: 0.110889\tvalid_1's binary_logloss: 0.112968\n",
      "[63]\ttraining's binary_logloss: 0.108521\tvalid_1's binary_logloss: 0.110715\n",
      "[64]\ttraining's binary_logloss: 0.107025\tvalid_1's binary_logloss: 0.109234\n",
      "[65]\ttraining's binary_logloss: 0.105814\tvalid_1's binary_logloss: 0.108025\n",
      "[66]\ttraining's binary_logloss: 0.103797\tvalid_1's binary_logloss: 0.106109\n",
      "[67]\ttraining's binary_logloss: 0.101744\tvalid_1's binary_logloss: 0.104125\n",
      "[68]\ttraining's binary_logloss: 0.0976979\tvalid_1's binary_logloss: 0.100017\n",
      "[69]\ttraining's binary_logloss: 0.0962938\tvalid_1's binary_logloss: 0.0985489\n",
      "[70]\ttraining's binary_logloss: 0.0952287\tvalid_1's binary_logloss: 0.0974631\n",
      "[71]\ttraining's binary_logloss: 0.0934945\tvalid_1's binary_logloss: 0.0957743\n",
      "[72]\ttraining's binary_logloss: 0.0900709\tvalid_1's binary_logloss: 0.0923202\n",
      "[73]\ttraining's binary_logloss: 0.089175\tvalid_1's binary_logloss: 0.0914891\n",
      "[74]\ttraining's binary_logloss: 0.0875856\tvalid_1's binary_logloss: 0.0900609\n",
      "[75]\ttraining's binary_logloss: 0.0866062\tvalid_1's binary_logloss: 0.0891714\n",
      "[76]\ttraining's binary_logloss: 0.0836358\tvalid_1's binary_logloss: 0.0861764\n",
      "[77]\ttraining's binary_logloss: 0.0826381\tvalid_1's binary_logloss: 0.0852267\n",
      "[78]\ttraining's binary_logloss: 0.08093\tvalid_1's binary_logloss: 0.0833612\n",
      "[79]\ttraining's binary_logloss: 0.080132\tvalid_1's binary_logloss: 0.0826168\n",
      "[80]\ttraining's binary_logloss: 0.0792817\tvalid_1's binary_logloss: 0.0818867\n",
      "[81]\ttraining's binary_logloss: 0.078564\tvalid_1's binary_logloss: 0.0812081\n",
      "[82]\ttraining's binary_logloss: 0.0776597\tvalid_1's binary_logloss: 0.0803622\n",
      "[83]\ttraining's binary_logloss: 0.0768908\tvalid_1's binary_logloss: 0.0796345\n",
      "[84]\ttraining's binary_logloss: 0.0759388\tvalid_1's binary_logloss: 0.078681\n",
      "[85]\ttraining's binary_logloss: 0.0754055\tvalid_1's binary_logloss: 0.0782673\n",
      "[86]\ttraining's binary_logloss: 0.0748364\tvalid_1's binary_logloss: 0.077741\n",
      "[87]\ttraining's binary_logloss: 0.073338\tvalid_1's binary_logloss: 0.0760805\n",
      "[88]\ttraining's binary_logloss: 0.0723499\tvalid_1's binary_logloss: 0.0751487\n",
      "[89]\ttraining's binary_logloss: 0.0715316\tvalid_1's binary_logloss: 0.074375\n",
      "[90]\ttraining's binary_logloss: 0.0703558\tvalid_1's binary_logloss: 0.0732269\n",
      "[91]\ttraining's binary_logloss: 0.0697553\tvalid_1's binary_logloss: 0.0726919\n",
      "[92]\ttraining's binary_logloss: 0.0688822\tvalid_1's binary_logloss: 0.0718239\n",
      "[93]\ttraining's binary_logloss: 0.0682557\tvalid_1's binary_logloss: 0.0712392\n",
      "[94]\ttraining's binary_logloss: 0.0678047\tvalid_1's binary_logloss: 0.0708157\n",
      "[95]\ttraining's binary_logloss: 0.0666455\tvalid_1's binary_logloss: 0.069568\n",
      "[96]\ttraining's binary_logloss: 0.0656929\tvalid_1's binary_logloss: 0.0686396\n",
      "[97]\ttraining's binary_logloss: 0.0651967\tvalid_1's binary_logloss: 0.0681938\n",
      "[98]\ttraining's binary_logloss: 0.0646676\tvalid_1's binary_logloss: 0.067703\n",
      "[99]\ttraining's binary_logloss: 0.0637575\tvalid_1's binary_logloss: 0.0669157\n",
      "[100]\ttraining's binary_logloss: 0.0634062\tvalid_1's binary_logloss: 0.0666107\n",
      "Did not meet early stopping. Best iteration is:\n",
      "[100]\ttraining's binary_logloss: 0.0634062\tvalid_1's binary_logloss: 0.0666107\n"
     ]
    },
    {
     "data": {
      "text/plain": [
       "LGBMClassifier()"
      ]
     },
     "execution_count": 65,
     "metadata": {},
     "output_type": "execute_result"
    }
   ],
   "source": [
    "lgbm.fit(X_train_over, y_train_over, early_stopping_rounds=10, eval_set = [(X_train_over, y_train_over), (X_test, y_test)], eval_metric='logloss')"
   ]
  },
  {
   "cell_type": "code",
   "execution_count": 68,
   "metadata": {},
   "outputs": [],
   "source": [
    "lgbm_pred = lgbm.predict(X_test)"
   ]
  },
  {
   "cell_type": "code",
   "execution_count": 67,
   "metadata": {},
   "outputs": [
    {
     "name": "stdout",
     "output_type": "stream",
     "text": [
      "<OverSampling 후 LightGBM 기본 모델 성능>\n",
      "accuracy 0.9881214254289485 \n",
      "\n",
      "confusion_matrix [[289650   2532]\n",
      " [   951     84]] \n",
      "\n",
      "              precision    recall  f1-score   support\n",
      "\n",
      "           0       1.00      0.99      0.99    292182\n",
      "           1       0.03      0.08      0.05      1035\n",
      "\n",
      "    accuracy                           0.99    293217\n",
      "   macro avg       0.51      0.54      0.52    293217\n",
      "weighted avg       0.99      0.99      0.99    293217\n",
      "\n"
     ]
    }
   ],
   "source": [
    "print('<OverSampling 후 LightGBM 기본 모델 성능>')\n",
    "model_assessment(y_test, lgbm_pred)"
   ]
  },
  {
   "cell_type": "code",
   "execution_count": 69,
   "metadata": {},
   "outputs": [
    {
     "name": "stdout",
     "output_type": "stream",
     "text": [
      "0.5362467943595609\n"
     ]
    }
   ],
   "source": [
    "auc = auc_return(y_test,lgbm_pred) # 변경\n",
    "print(auc)"
   ]
  },
  {
   "cell_type": "code",
   "execution_count": null,
   "metadata": {},
   "outputs": [],
   "source": []
  },
  {
   "cell_type": "code",
   "execution_count": null,
   "metadata": {},
   "outputs": [],
   "source": []
  },
  {
   "cell_type": "code",
   "execution_count": null,
   "metadata": {},
   "outputs": [],
   "source": []
  },
  {
   "cell_type": "markdown",
   "metadata": {},
   "source": [
    "## 3) RandomForest"
   ]
  },
  {
   "cell_type": "code",
   "execution_count": 70,
   "metadata": {},
   "outputs": [
    {
     "data": {
      "text/plain": [
       "RandomForestClassifier(random_state=146)"
      ]
     },
     "execution_count": 70,
     "metadata": {},
     "output_type": "execute_result"
    }
   ],
   "source": [
    "rfc = RandomForestClassifier(n_estimators=100, random_state=146)\n",
    "rfc.fit(X_train_over, y_train_over)"
   ]
  },
  {
   "cell_type": "code",
   "execution_count": 71,
   "metadata": {},
   "outputs": [],
   "source": [
    "rfc_prd = rfc.predict(X_test)"
   ]
  },
  {
   "cell_type": "code",
   "execution_count": 72,
   "metadata": {},
   "outputs": [
    {
     "name": "stdout",
     "output_type": "stream",
     "text": [
      "<OverSampling 후 RandomForest 기본 모델 성능>\n",
      "accuracy 0.9925618228138204 \n",
      "\n",
      "confusion_matrix [[291005   1177]\n",
      " [  1004     31]] \n",
      "\n",
      "              precision    recall  f1-score   support\n",
      "\n",
      "           0       1.00      1.00      1.00    292182\n",
      "           1       0.03      0.03      0.03      1035\n",
      "\n",
      "    accuracy                           0.99    293217\n",
      "   macro avg       0.51      0.51      0.51    293217\n",
      "weighted avg       0.99      0.99      0.99    293217\n",
      "\n"
     ]
    }
   ],
   "source": [
    "print('<OverSampling 후 RandomForest 기본 모델 성능>')\n",
    "\n",
    "model_assessment(y_test,rfc_prd)"
   ]
  },
  {
   "cell_type": "code",
   "execution_count": 78,
   "metadata": {},
   "outputs": [
    {
     "name": "stdout",
     "output_type": "stream",
     "text": [
      "0.5129616898500527\n"
     ]
    }
   ],
   "source": [
    "auc = auc_return(y_test,rfc_prd) # 변경\n",
    "print(auc)"
   ]
  },
  {
   "cell_type": "markdown",
   "metadata": {},
   "source": [
    "## 4) Decision Tree"
   ]
  },
  {
   "cell_type": "code",
   "execution_count": 74,
   "metadata": {},
   "outputs": [],
   "source": [
    "dt = DecisionTreeClassifier()\n",
    "dt = dt.fit(X_train_over, y_train_over)"
   ]
  },
  {
   "cell_type": "code",
   "execution_count": 75,
   "metadata": {},
   "outputs": [],
   "source": [
    "dt_pred = dt.predict(X_test)"
   ]
  },
  {
   "cell_type": "code",
   "execution_count": 76,
   "metadata": {},
   "outputs": [
    {
     "name": "stdout",
     "output_type": "stream",
     "text": [
      "<OverSampling 후 Decision Tree 기본 모델 성능>\n",
      "accuracy 0.9834866327668587 \n",
      "\n",
      "confusion_matrix [[288301   3881]\n",
      " [   961     74]] \n",
      "\n",
      "              precision    recall  f1-score   support\n",
      "\n",
      "           0       1.00      0.99      0.99    292182\n",
      "           1       0.02      0.07      0.03      1035\n",
      "\n",
      "    accuracy                           0.98    293217\n",
      "   macro avg       0.51      0.53      0.51    293217\n",
      "weighted avg       0.99      0.98      0.99    293217\n",
      "\n"
     ]
    }
   ],
   "source": [
    "print('<OverSampling 후 Decision Tree 기본 모델 성능>')\n",
    "\n",
    "model_assessment(y_test,dt_pred)"
   ]
  },
  {
   "cell_type": "code",
   "execution_count": 77,
   "metadata": {},
   "outputs": [
    {
     "name": "stdout",
     "output_type": "stream",
     "text": [
      "0.5291073838333245\n"
     ]
    }
   ],
   "source": [
    "auc = auc_return(y_test,dt_pred) # 변경\n",
    "print(auc)"
   ]
  },
  {
   "cell_type": "markdown",
   "metadata": {},
   "source": [
    "## 5) Gradient Boosting"
   ]
  },
  {
   "cell_type": "code",
   "execution_count": 79,
   "metadata": {},
   "outputs": [
    {
     "data": {
      "text/plain": [
       "GradientBoostingClassifier(max_depth=5, random_state=21)"
      ]
     },
     "execution_count": 79,
     "metadata": {},
     "output_type": "execute_result"
    }
   ],
   "source": [
    "from sklearn.ensemble import GradientBoostingClassifier\n",
    "gbc = GradientBoostingClassifier(random_state=21,max_depth = 5)\n",
    "gbc.fit(X_train_over, y_train_over)"
   ]
  },
  {
   "cell_type": "code",
   "execution_count": 80,
   "metadata": {},
   "outputs": [],
   "source": [
    "gbc_pred = gbc.predict(X_test)"
   ]
  },
  {
   "cell_type": "code",
   "execution_count": 81,
   "metadata": {},
   "outputs": [
    {
     "name": "stdout",
     "output_type": "stream",
     "text": [
      "Gradient Boosting 기본 모델 성능\n",
      "accuracy 0.9499278691208218 \n",
      "\n",
      "confusion_matrix [[278259  13923]\n",
      " [   759    276]] \n",
      "\n",
      "              precision    recall  f1-score   support\n",
      "\n",
      "           0       1.00      0.95      0.97    292182\n",
      "           1       0.02      0.27      0.04      1035\n",
      "\n",
      "    accuracy                           0.95    293217\n",
      "   macro avg       0.51      0.61      0.51    293217\n",
      "weighted avg       0.99      0.95      0.97    293217\n",
      "\n"
     ]
    }
   ],
   "source": [
    "print('Gradient Boosting 기본 모델 성능')\n",
    "\n",
    "model_assessment(y_test,gbc_pred)"
   ]
  },
  {
   "cell_type": "code",
   "execution_count": 82,
   "metadata": {},
   "outputs": [
    {
     "name": "stdout",
     "output_type": "stream",
     "text": [
      "0.5129616898500527\n"
     ]
    }
   ],
   "source": [
    "auc = auc_return(y_test,rfc_prd) # 변경\n",
    "print(auc)"
   ]
  },
  {
   "cell_type": "code",
   "execution_count": 92,
   "metadata": {},
   "outputs": [],
   "source": [
    "#모델저장\n",
    "import pickle as pkl\n",
    "with open(\"gbc_model.pkl\",'wb') as outfile:\n",
    "    pkl.dump(gbc,outfile)"
   ]
  },
  {
   "cell_type": "code",
   "execution_count": 93,
   "metadata": {},
   "outputs": [],
   "source": [
    "#모델저장\n",
    "import pickle as pkl\n",
    "with open(\"gbc_predict.pkl\",'wb') as outfile:\n",
    "    pkl.dump(gbc_pred,outfile)"
   ]
  },
  {
   "cell_type": "markdown",
   "metadata": {},
   "source": [
    "## 5) CatBoost"
   ]
  }
 ],
 "metadata": {
  "kernelspec": {
   "display_name": "Python 3",
   "language": "python",
   "name": "python3"
  },
  "language_info": {
   "codemirror_mode": {
    "name": "ipython",
    "version": 3
   },
   "file_extension": ".py",
   "mimetype": "text/x-python",
   "name": "python",
   "nbconvert_exporter": "python",
   "pygments_lexer": "ipython3",
   "version": "3.7.4"
  }
 },
 "nbformat": 4,
 "nbformat_minor": 4
}
