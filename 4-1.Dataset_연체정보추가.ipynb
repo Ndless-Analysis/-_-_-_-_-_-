{
 "cells": [
  {
   "cell_type": "markdown",
   "metadata": {},
   "source": [
    "해당 과제는 SAMSUMG SDS 금융사업부 금융 빅데이터분석 과제를 참고"
   ]
  },
  {
   "cell_type": "code",
   "execution_count": 174,
   "metadata": {},
   "outputs": [],
   "source": [
    "import pandas as pd \n",
    "pd.set_option('display.max_columns',None)\n",
    "pd.set_option('display.max_rows',None)"
   ]
  },
  {
   "cell_type": "markdown",
   "metadata": {},
   "source": [
    "# DATABASE"
   ]
  },
  {
   "cell_type": "code",
   "execution_count": 2,
   "metadata": {},
   "outputs": [],
   "source": [
    "import odbc\n",
    "from pprint import pprint"
   ]
  },
  {
   "cell_type": "code",
   "execution_count": 3,
   "metadata": {},
   "outputs": [],
   "source": [
    "db = odbc.odbc('CRAS')"
   ]
  },
  {
   "cell_type": "code",
   "execution_count": 4,
   "metadata": {},
   "outputs": [],
   "source": [
    "cur = db.cursor()"
   ]
  },
  {
   "cell_type": "code",
   "execution_count": 5,
   "metadata": {},
   "outputs": [],
   "source": [
    "def sql_to_df(sql):\n",
    "    #DB CONNECT\n",
    "    db = odbc.odbc('CRAS')\n",
    "    cur = db.cursor()\n",
    "    \n",
    "    #dataframe내보내기 위해서\n",
    "    #global df\n",
    "    #global을 선언해줌으로써 데이터 끄집어내기\n",
    "    global data\n",
    "    \n",
    "    #SQL문 > DB에 전달\n",
    "    cur.execute(sql)\n",
    "\n",
    "    #SELECT문을 통해 DB에서 가져온 데이터 저장\n",
    "    data = cur.fetchall()\n",
    "    \n",
    "    #DB CLOSE\n",
    "    cur.close()\n",
    "    db.close()"
   ]
  },
  {
   "cell_type": "markdown",
   "metadata": {},
   "source": [
    "# SQL"
   ]
  },
  {
   "cell_type": "markdown",
   "metadata": {},
   "source": [
    "# 1. 대출현황 파생변수 생성"
   ]
  },
  {
   "cell_type": "markdown",
   "metadata": {},
   "source": [
    "# 1-1 업권별 대출금액, 대출건수"
   ]
  },
  {
   "cell_type": "markdown",
   "metadata": {},
   "source": [
    "## 기준년월 202005"
   ]
  },
  {
   "cell_type": "code",
   "execution_count": 6,
   "metadata": {},
   "outputs": [],
   "source": [
    "sql = \"\"\"\n",
    "\n",
    "SELECT JOIN_KEY, SCTR_CD, SUM(LN_AMT), COUNT(JOIN_KEY)\n",
    "FROM CRASDB.CREDB_P1_LN\n",
    "WHERE YM = '202005'\n",
    "GROUP BY JOIN_KEY, SCTR_CD\n",
    "\n",
    "\"\"\""
   ]
  },
  {
   "cell_type": "code",
   "execution_count": 7,
   "metadata": {},
   "outputs": [],
   "source": [
    "cur.execute(sql)\n",
    "sql_to_df(sql)"
   ]
  },
  {
   "cell_type": "code",
   "execution_count": 8,
   "metadata": {},
   "outputs": [],
   "source": [
    "업권2002005 =  pd.DataFrame(data,columns=['JOIN_KEY','업권','대출금액','대출건수'])"
   ]
  },
  {
   "cell_type": "markdown",
   "metadata": {},
   "source": [
    "## 1-1. (업권별) 202005기준 동일 차주의 5개월 대출현황(202001 ~ 202005)"
   ]
  },
  {
   "cell_type": "code",
   "execution_count": 9,
   "metadata": {},
   "outputs": [],
   "source": [
    "# 201712 기준 3개월 전 대출금액, 대출건수\n",
    "sql = \"\"\"\n",
    "SELECT A.JOIN_KEY, B.SCTR_CD AS 업권, SUM(B.LN_AMT) AS 대출금액_5개월, COUNT(B.JOIN_KEY) AS 대출건수_5개월\n",
    "\n",
    "FROM\n",
    "\n",
    "(SELECT JOIN_KEY, SCTR_CD, SUM(LN_AMT), COUNT(JOIN_KEY)\n",
    "FROM CRASDB.CREDB_P1_LN\n",
    "WHERE YM = '202005'\n",
    "GROUP BY JOIN_KEY, SCTR_CD) A\n",
    "\n",
    "JOIN\n",
    "\n",
    "(SELECT YM, JOIN_KEY, SCTR_CD, LN_AMT\n",
    "FROM CRASDB.CREDB_P1_LN) B\n",
    "\n",
    "ON A.JOIN_KEY = B.JOIN_KEY\n",
    "\n",
    "WHERE B.YM BETWEEN '202001' AND '202005'\n",
    "\n",
    "GROUP BY (A.JOIN_KEY, B.SCTR_CD)\n",
    "\"\"\""
   ]
  },
  {
   "cell_type": "code",
   "execution_count": 10,
   "metadata": {},
   "outputs": [],
   "source": [
    "cur.execute(sql)\n",
    "sql_to_df(sql)"
   ]
  },
  {
   "cell_type": "code",
   "execution_count": 11,
   "metadata": {},
   "outputs": [],
   "source": [
    "대출현황_5개월 = pd.DataFrame(data,columns=['JOIN_KEY','업권','대출금액_5개월','대출건수_5개월'])"
   ]
  },
  {
   "cell_type": "code",
   "execution_count": 12,
   "metadata": {},
   "outputs": [
    {
     "data": {
      "text/plain": [
       "1544991"
      ]
     },
     "execution_count": 12,
     "metadata": {},
     "output_type": "execute_result"
    }
   ],
   "source": [
    "len(대출현황_5개월)"
   ]
  },
  {
   "cell_type": "markdown",
   "metadata": {},
   "source": [
    "## 1-4. (업권별) 기준,대출현황 merge"
   ]
  },
  {
   "cell_type": "code",
   "execution_count": 14,
   "metadata": {},
   "outputs": [],
   "source": [
    "#기준년도 ~ 5개월 전\n",
    "df3 = pd.merge(업권2002005, 대출현황_5개월, on=['JOIN_KEY','업권'], how ='outer' )\n",
    "\n",
    "#3개월 전 ~ 6개월 전\n",
    "#df2 = pd.merge(df1, 대출현황_6개월, on=['JOIN_KEY','업권'], how ='outer')\n",
    "\n",
    "#6개월 전 ~ 12개월 전\n",
    "#df3 = pd.merge(df2, 대출현황_12개월, on=['JOIN_KEY','업권'], how ='outer')"
   ]
  },
  {
   "cell_type": "code",
   "execution_count": 16,
   "metadata": {},
   "outputs": [
    {
     "data": {
      "text/plain": [
       "JOIN_KEY        0\n",
       "업권              0\n",
       "대출금액        89811\n",
       "대출건수        89811\n",
       "대출금액_5개월        0\n",
       "대출건수_5개월        0\n",
       "dtype: int64"
      ]
     },
     "execution_count": 16,
     "metadata": {},
     "output_type": "execute_result"
    }
   ],
   "source": [
    "df3.isnull().sum()"
   ]
  },
  {
   "cell_type": "markdown",
   "metadata": {},
   "source": [
    "#결측값 0으로 대체\n",
    "result = df3.fillna(0)"
   ]
  },
  {
   "cell_type": "code",
   "execution_count": 17,
   "metadata": {},
   "outputs": [],
   "source": [
    "#결측값 0으로 대체\n",
    "result = df3.fillna(0)"
   ]
  },
  {
   "cell_type": "markdown",
   "metadata": {},
   "source": [
    "## 1-5. (업권별) 피벗테이블 형성"
   ]
  },
  {
   "cell_type": "code",
   "execution_count": 19,
   "metadata": {},
   "outputs": [
    {
     "data": {
      "text/plain": [
       "Index(['JOIN_KEY', '업권', '대출금액', '대출건수', '대출금액_5개월', '대출건수_5개월'], dtype='object')"
      ]
     },
     "execution_count": 19,
     "metadata": {},
     "output_type": "execute_result"
    }
   ],
   "source": [
    "\n",
    "df3.columns"
   ]
  },
  {
   "cell_type": "markdown",
   "metadata": {},
   "source": [
    "기준년월, 3개월간, 6개월간, 12개월간의 대출건수와 금액을 업권별로 총합계를 산출"
   ]
  },
  {
   "cell_type": "code",
   "execution_count": 20,
   "metadata": {},
   "outputs": [],
   "source": [
    "#df3을 피벗테이블로 만들고 결측값 0으로 채우기\n",
    "#업권_피벗 = pd.pivot_table(df3, index = ['JOIN_KEY'],values =['대출금액', '대출건수', '대출금액_5개월', '대출건수_5개월'], columns='업권', aggfunc = ['sum'], fill_value = 0)\n",
    "업권_피벗 = pd.pivot_table(df3, index = ['JOIN_KEY'],values =['대출금액_5개월', '대출건수_5개월'], columns='업권', aggfunc = ['sum'], fill_value = 0)"
   ]
  },
  {
   "cell_type": "markdown",
   "metadata": {},
   "source": [
    "즉 '1'번 사람은 대출업권 01에서 2002005기준 대출 건수의 총합계가 2건임"
   ]
  },
  {
   "cell_type": "code",
   "execution_count": 22,
   "metadata": {},
   "outputs": [],
   "source": [
    "업권_피벗.to_csv('C:/Users/ksy/Desktop/개인/코로나19 팀프로젝트/data/202005_업권피벗.csv', encoding = 'cp949')"
   ]
  },
  {
   "cell_type": "code",
   "execution_count": null,
   "metadata": {},
   "outputs": [],
   "source": []
  },
  {
   "cell_type": "markdown",
   "metadata": {},
   "source": [
    "# 1-2. 대출상품 종류별 대출건수, 대출금액"
   ]
  },
  {
   "cell_type": "markdown",
   "metadata": {},
   "source": [
    "## 기준년월 202005"
   ]
  },
  {
   "cell_type": "code",
   "execution_count": 23,
   "metadata": {},
   "outputs": [],
   "source": [
    "sql = \"\"\"\n",
    "\n",
    "SELECT JOIN_KEY, LN_CD_2, SUM(LN_AMT), COUNT(JOIN_KEY)\n",
    "FROM CRASDB.CREDB_P1_LN\n",
    "WHERE YM = '202005'\n",
    "GROUP BY JOIN_KEY, LN_CD_2\n",
    "\n",
    "\"\"\""
   ]
  },
  {
   "cell_type": "code",
   "execution_count": 24,
   "metadata": {},
   "outputs": [],
   "source": [
    "cur.execute(sql)\n",
    "sql_to_df(sql)"
   ]
  },
  {
   "cell_type": "code",
   "execution_count": 25,
   "metadata": {},
   "outputs": [],
   "source": [
    "상품2002005 =  pd.DataFrame(data,columns=['JOIN_KEY','대출상품','대출금액','대출건수'])"
   ]
  },
  {
   "cell_type": "markdown",
   "metadata": {},
   "source": [
    "## 2-1. (대출상품별) 202005기준 동일 차주의 5개월 대출현황(2020.01~2020.05)"
   ]
  },
  {
   "cell_type": "code",
   "execution_count": 27,
   "metadata": {},
   "outputs": [],
   "source": [
    "# 201712 기준 3개월 전 대출금액, 대출건수\n",
    "sql = \"\"\"\n",
    "SELECT A.JOIN_KEY, B.LN_CD_2 AS 대출상품, SUM(B.LN_AMT) AS 대출금액_5개월, COUNT(B.JOIN_KEY) AS 대출건수_5개월\n",
    "\n",
    "FROM\n",
    "\n",
    "(SELECT JOIN_KEY, LN_CD_2, SUM(LN_AMT), COUNT(JOIN_KEY)\n",
    "FROM CRASDB.CREDB_P1_LN\n",
    "WHERE YM = '202005'\n",
    "GROUP BY JOIN_KEY, LN_CD_2) A\n",
    "\n",
    "JOIN\n",
    "\n",
    "(SELECT YM, JOIN_KEY, LN_CD_2, LN_AMT\n",
    "FROM CRASDB.CREDB_P1_LN) B\n",
    "\n",
    "ON A.JOIN_KEY = B.JOIN_KEY\n",
    "\n",
    "WHERE B.YM BETWEEN '202001' AND '202005'\n",
    "\n",
    "GROUP BY (A.JOIN_KEY, B.LN_CD_2)\n",
    "\n",
    "\"\"\""
   ]
  },
  {
   "cell_type": "code",
   "execution_count": 28,
   "metadata": {},
   "outputs": [],
   "source": [
    "cur.execute(sql)\n",
    "sql_to_df(sql)"
   ]
  },
  {
   "cell_type": "code",
   "execution_count": 29,
   "metadata": {},
   "outputs": [],
   "source": [
    "대출현황_5개월 = pd.DataFrame(data,columns=['JOIN_KEY','대출상품','대출금액_5개월','대출건수_5개월'])"
   ]
  },
  {
   "cell_type": "markdown",
   "metadata": {},
   "source": [
    "## 1-4. (대출상품별) 기준, 5개월대출현황 merge"
   ]
  },
  {
   "cell_type": "code",
   "execution_count": 31,
   "metadata": {},
   "outputs": [],
   "source": [
    "#기준년도 ~ 3개월 전\n",
    "df3 = pd.merge(상품2002005, 대출현황_5개월, on=['JOIN_KEY','대출상품'], how ='outer' )\n",
    "\n",
    "#3개월 전 ~ 6개월 전\n",
    "#df2 = pd.merge(df1, 대출현황_6개월, on=['JOIN_KEY', '대출상품'], how ='outer')\n",
    "\n",
    "#6개월 전 ~ 12개월 전\n",
    "#df3 = pd.merge(df2, 대출현황_12개월, on=['JOIN_KEY','대출상품'], how ='outer')"
   ]
  },
  {
   "cell_type": "markdown",
   "metadata": {},
   "source": [
    "## 1-5. (대출상품별) 피벗테이블 형성"
   ]
  },
  {
   "cell_type": "markdown",
   "metadata": {},
   "source": [
    "\n",
    "기준년월, 3개월간, 6개월간, 12개월간의 대출건수와 금액을 대출상품별로 총합계를 산출"
   ]
  },
  {
   "cell_type": "code",
   "execution_count": null,
   "metadata": {},
   "outputs": [],
   "source": [
    "#결측값 0으로 대체\n",
    "result = df3.fillna(0)"
   ]
  },
  {
   "cell_type": "code",
   "execution_count": 33,
   "metadata": {},
   "outputs": [
    {
     "data": {
      "text/plain": [
       "Index(['JOIN_KEY', '대출상품', '대출금액', '대출건수', '대출금액_5개월', '대출건수_5개월'], dtype='object')"
      ]
     },
     "execution_count": 33,
     "metadata": {},
     "output_type": "execute_result"
    }
   ],
   "source": [
    "df3.columns"
   ]
  },
  {
   "cell_type": "code",
   "execution_count": 34,
   "metadata": {},
   "outputs": [],
   "source": [
    "#df3을 피벗테이블로 만들고 결측값 0으로 채우기\n",
    "대출상품_피벗 = pd.pivot_table(df3, index = ['JOIN_KEY'],values =['대출금액_5개월', '대출건수_5개월'], columns='대출상품', aggfunc = ['sum'], fill_value = 0)"
   ]
  },
  {
   "cell_type": "markdown",
   "metadata": {},
   "source": [
    "1번 사람은 202005기준 000상품 대출건수 합계가 총 1건임"
   ]
  },
  {
   "cell_type": "code",
   "execution_count": 36,
   "metadata": {},
   "outputs": [],
   "source": [
    "대출상품_피벗.to_csv('C:/Users/ksy/Desktop/개인/코로나19 팀프로젝트/data/202005_상품피벗.csv', encoding='cp949')"
   ]
  },
  {
   "cell_type": "code",
   "execution_count": 37,
   "metadata": {},
   "outputs": [],
   "source": [
    "대출상품_피벗 = 대출상품_피벗.reset_index()\n",
    "업권_피벗 = 업권_피벗.reset_index()"
   ]
  },
  {
   "cell_type": "markdown",
   "metadata": {},
   "source": [
    "# 2. 차주정보, 카드발급정보 추출"
   ]
  },
  {
   "cell_type": "markdown",
   "metadata": {},
   "source": [
    "## 2-1. 차주정보ID"
   ]
  },
  {
   "cell_type": "code",
   "execution_count": 38,
   "metadata": {},
   "outputs": [],
   "source": [
    "# 2020년도 기준 차주정보\n",
    "sql = \"\"\"\n",
    "SELECT JOIN_KEY, BTH_YR AS 생년월일, GENDER AS 성별, 2020-CAST(BTH_YR AS INT) AS 나이\n",
    "FROM CRASDB.CREDB_P1_ID\n",
    "\"\"\""
   ]
  },
  {
   "cell_type": "code",
   "execution_count": 39,
   "metadata": {},
   "outputs": [],
   "source": [
    "cur.execute(sql)\n",
    "sql_to_df(sql)\n",
    "차주정보ID = pd.DataFrame(data,columns=['JOIN_KEY','생년월일','성별','나이'])"
   ]
  },
  {
   "cell_type": "code",
   "execution_count": 40,
   "metadata": {},
   "outputs": [
    {
     "data": {
      "text/plain": [
       "2064910"
      ]
     },
     "execution_count": 40,
     "metadata": {},
     "output_type": "execute_result"
    }
   ],
   "source": [
    "len(차주정보ID)"
   ]
  },
  {
   "cell_type": "code",
   "execution_count": 42,
   "metadata": {},
   "outputs": [],
   "source": [
    "#대출상품_피벗 = pd.read_csv('C:/Users/ksy/Desktop/개인/코로나19 팀프로젝트/data/202005_상품피벗.csv',encoding='cp949')\n",
    "#업권_피벗 = pd.read_csv('C:/Users/ksy/Desktop/개인/코로나19 팀프로젝트/data/202005_업권피벗.csv',encoding='cp949')"
   ]
  },
  {
   "cell_type": "markdown",
   "metadata": {},
   "source": [
    "피벗테이블과 차주정보를 결합"
   ]
  },
  {
   "cell_type": "code",
   "execution_count": 43,
   "metadata": {},
   "outputs": [
    {
     "name": "stderr",
     "output_type": "stream",
     "text": [
      "C:\\ProgramData\\Anaconda3\\lib\\site-packages\\pandas\\core\\reshape\\merge.py:617: UserWarning: merging between different levels can give an unintended result (1 levels on the left, 3 on the right)\n",
      "  warnings.warn(msg, UserWarning)\n",
      "C:\\ProgramData\\Anaconda3\\lib\\site-packages\\pandas\\core\\generic.py:3946: PerformanceWarning: dropping on a non-lexsorted multi-index without a level parameter may impact performance.\n",
      "  new_axis = axis.drop(labels, errors=errors)\n"
     ]
    }
   ],
   "source": [
    "조인데이터 = pd.merge(차주정보ID, 업권_피벗, on='JOIN_KEY', how ='inner')\n",
    "조인데이터 = pd.merge(조인데이터, 대출상품_피벗, on='JOIN_KEY', how = 'inner')"
   ]
  },
  {
   "cell_type": "markdown",
   "metadata": {},
   "source": [
    "1. 대출정보와 차주정보를 JOIN"
   ]
  },
  {
   "cell_type": "markdown",
   "metadata": {},
   "source": [
    "# 2. 카드개설 정보"
   ]
  },
  {
   "cell_type": "markdown",
   "metadata": {},
   "source": [
    "## 2-1.202005 기준 차주가 개설한 카드의 수"
   ]
  },
  {
   "cell_type": "code",
   "execution_count": 47,
   "metadata": {},
   "outputs": [],
   "source": [
    "sql = \"\"\"\n",
    "SELECT JOIN_KEY,COUNT(JOIN_KEY) AS 개설카드수\n",
    "FROM CRASDB.CREDB_P1_CD_OPN\n",
    "\n",
    "WHERE YM='202005'\n",
    "\n",
    "GROUP BY JOIN_KEY\n",
    "\"\"\""
   ]
  },
  {
   "cell_type": "code",
   "execution_count": 48,
   "metadata": {},
   "outputs": [],
   "source": [
    "cur.execute(sql)\n",
    "sql_to_df(sql)\n",
    "개설카드수 = pd.DataFrame(data,columns=['JOIN_KEY','개설카드수'])"
   ]
  },
  {
   "cell_type": "markdown",
   "metadata": {},
   "source": [
    "(차주정보-대출정보) 와 카드개설정보 결합"
   ]
  },
  {
   "cell_type": "markdown",
   "metadata": {},
   "source": [
    "## 2-2. 202005 기준 5개월 누적 개설카드 수 (202001 ~ 202005)"
   ]
  },
  {
   "cell_type": "code",
   "execution_count": 50,
   "metadata": {},
   "outputs": [],
   "source": [
    "sql = \"\"\"\n",
    "SELECT JOIN_KEY,COUNT(JOIN_KEY) AS 개설카드수\n",
    "FROM CRASDB.CREDB_P1_CD_OPN\n",
    "\n",
    "WHERE YM BETWEEN '202001' AND '202005'\n",
    "\n",
    "GROUP BY JOIN_KEY\n",
    "\"\"\""
   ]
  },
  {
   "cell_type": "code",
   "execution_count": 51,
   "metadata": {},
   "outputs": [],
   "source": [
    "cur.execute(sql)\n",
    "sql_to_df(sql)\n",
    "개설카드수5 = pd.DataFrame(data,columns=['JOIN_KEY','개설카드수5'])"
   ]
  },
  {
   "cell_type": "markdown",
   "metadata": {},
   "source": [
    "## 2-5. 5개월 누적 카드 개설 수 merge"
   ]
  },
  {
   "cell_type": "code",
   "execution_count": 53,
   "metadata": {},
   "outputs": [],
   "source": [
    "#조인데이터 = pd.merge(조인데이터, 개설카드수, on = 'JOIN_KEY', how= 'left')\n",
    "조인데이터 = pd.merge(조인데이터, 개설카드수5, on = 'JOIN_KEY', how= 'left')\n",
    "#조인데이터 = pd.merge(조인데이터, 개설카드수6, on = 'JOIN_KEY', how= 'left')\n",
    "#조인데이터 = pd.merge(조인데이터, 개설카드수12, on = 'JOIN_KEY', how= 'left')"
   ]
  },
  {
   "cell_type": "code",
   "execution_count": 55,
   "metadata": {},
   "outputs": [],
   "source": [
    "#결측값 대체\n",
    "조인데이터 = 조인데이터.fillna(0)"
   ]
  },
  {
   "cell_type": "code",
   "execution_count": 56,
   "metadata": {},
   "outputs": [
    {
     "data": {
      "text/plain": [
       "977390"
      ]
     },
     "execution_count": 56,
     "metadata": {},
     "output_type": "execute_result"
    }
   ],
   "source": [
    "len(조인데이터)"
   ]
  },
  {
   "cell_type": "code",
   "execution_count": 57,
   "metadata": {},
   "outputs": [
    {
     "data": {
      "text/plain": [
       "59"
      ]
     },
     "execution_count": 57,
     "metadata": {},
     "output_type": "execute_result"
    }
   ],
   "source": [
    "len(조인데이터.columns)"
   ]
  },
  {
   "cell_type": "code",
   "execution_count": null,
   "metadata": {},
   "outputs": [],
   "source": []
  },
  {
   "cell_type": "markdown",
   "metadata": {},
   "source": [
    "# 3. 5개월간 총 대출건수, 대출금액, 대출상품 수"
   ]
  },
  {
   "cell_type": "code",
   "execution_count": 58,
   "metadata": {},
   "outputs": [],
   "source": [
    "#기준년월 = 연체등록년월\n",
    "sql =\"\"\"\n",
    "SELECT JOIN_KEY,  SUM(LN_AMT) AS 총대출금액, COUNT(JOIN_KEY) AS 총대출건수, COUNT(LN_CD_2) AS 총대출상품수\n",
    "FROM CRASDB.CREDB_P1_LN\n",
    "WHERE YM BETWEEN '202001' AND '202005'\n",
    "GROUP BY JOIN_KEY\n",
    "\"\"\""
   ]
  },
  {
   "cell_type": "code",
   "execution_count": 59,
   "metadata": {},
   "outputs": [],
   "source": [
    "cur.execute(sql)\n",
    "sql_to_df(sql)"
   ]
  },
  {
   "cell_type": "code",
   "execution_count": 60,
   "metadata": {},
   "outputs": [],
   "source": [
    "총계정보 = pd.DataFrame(data,columns=['JOIN_KEY','총대출금액','총대출건수','총대출상품수'])"
   ]
  },
  {
   "cell_type": "code",
   "execution_count": 62,
   "metadata": {},
   "outputs": [],
   "source": [
    "조인데이터 = pd.merge(조인데이터, 총계정보, on = 'JOIN_KEY', how= 'left')"
   ]
  },
  {
   "cell_type": "markdown",
   "metadata": {},
   "source": [
    "# 4.종속변수(1개월 이내 연체여부) 생성"
   ]
  },
  {
   "cell_type": "markdown",
   "metadata": {},
   "source": [
    "## 4-1 연체발생정보"
   ]
  },
  {
   "cell_type": "markdown",
   "metadata": {},
   "source": [
    "202006년도 1개월 동안 연체가 발생한 차주 정보"
   ]
  },
  {
   "cell_type": "code",
   "execution_count": 63,
   "metadata": {},
   "outputs": [],
   "source": [
    "#기준년월 = 연체등록년월\n",
    "sql =\"\"\"\n",
    "SELECT DISTINCT JOIN_KEY, '1' AS 연체여부\n",
    "FROM CRASDB.CREDB_P1_DLQ\n",
    "\n",
    "WHERE YM=DLQ_YM\n",
    "\n",
    "AND DLQ_YM = '202006'\n",
    "\"\"\""
   ]
  },
  {
   "cell_type": "code",
   "execution_count": 64,
   "metadata": {},
   "outputs": [],
   "source": [
    "cur.execute(sql)\n",
    "sql_to_df(sql)\n",
    "연체정보 = pd.DataFrame(data,columns=['JOIN_KEY','연체여부'])"
   ]
  },
  {
   "cell_type": "code",
   "execution_count": 65,
   "metadata": {},
   "outputs": [],
   "source": [
    "조인데이터 = pd.merge(조인데이터, 연체정보, on = 'JOIN_KEY', how= 'left')"
   ]
  },
  {
   "cell_type": "code",
   "execution_count": 66,
   "metadata": {},
   "outputs": [],
   "source": [
    "조인데이터 = 조인데이터.fillna(0)"
   ]
  },
  {
   "cell_type": "code",
   "execution_count": 67,
   "metadata": {},
   "outputs": [
    {
     "data": {
      "text/plain": [
       "977390"
      ]
     },
     "execution_count": 67,
     "metadata": {},
     "output_type": "execute_result"
    }
   ],
   "source": [
    "len(조인데이터)"
   ]
  },
  {
   "cell_type": "code",
   "execution_count": 68,
   "metadata": {},
   "outputs": [
    {
     "data": {
      "text/plain": [
       "\"\\nfrom pyexcelerate import Workbook\\n\\nvalues = [res_df.columns] + list(res_df.values)\\nwb = Workbook()\\nwb.new_sheet('sheet name', data=values)\\nwb.save('outputfile.xlsx')\\n\\n\""
      ]
     },
     "execution_count": 68,
     "metadata": {},
     "output_type": "execute_result"
    }
   ],
   "source": [
    "\"\"\"\n",
    "from pyexcelerate import Workbook\n",
    "\n",
    "values = [res_df.columns] + list(res_df.values)\n",
    "wb = Workbook()\n",
    "wb.new_sheet('sheet name', data=values)\n",
    "wb.save('outputfile.xlsx')\n",
    "\n",
    "\"\"\""
   ]
  },
  {
   "cell_type": "code",
   "execution_count": 70,
   "metadata": {},
   "outputs": [],
   "source": [
    "#조인데이터.to_csv('C:/Users/ksy/Desktop/개인/코로나19 팀프로젝트/data/Corona19_Classification_data.csv', encoding='cp949')"
   ]
  },
  {
   "cell_type": "markdown",
   "metadata": {},
   "source": [
    "#연체현황 추가"
   ]
  },
  {
   "cell_type": "markdown",
   "metadata": {},
   "source": [
    "# 연체업권"
   ]
  },
  {
   "cell_type": "code",
   "execution_count": 217,
   "metadata": {},
   "outputs": [],
   "source": [
    "sql = \"\"\"\n",
    "\n",
    "SELECT JOIN_KEY, SCTR_CD, SUM(DLQ_AMT), COUNT(JOIN_KEY)\n",
    "FROM CRASDB.CREDB_P1_DLQ\n",
    "WHERE YM = '202006'\n",
    "GROUP BY JOIN_KEY, SCTR_CD\n",
    "\n",
    "\"\"\""
   ]
  },
  {
   "cell_type": "code",
   "execution_count": 218,
   "metadata": {},
   "outputs": [],
   "source": [
    "cur.execute(sql)\n",
    "sql_to_df(sql)"
   ]
  },
  {
   "cell_type": "code",
   "execution_count": 219,
   "metadata": {},
   "outputs": [],
   "source": [
    "업권2002006 =  pd.DataFrame(data,columns=['JOIN_KEY','업권','연체금액','연체건수'])"
   ]
  },
  {
   "cell_type": "code",
   "execution_count": 220,
   "metadata": {},
   "outputs": [],
   "source": [
    "# 201712 기준 3개월 전 대출금액, 대출건수\n",
    "sql = \"\"\"\n",
    "SELECT A.JOIN_KEY, B.SCTR_CD AS 연체업권, SUM(B.DLQ_AMT) AS 연체액_5개월, COUNT(B.JOIN_KEY) AS 연체건수_5개월\n",
    "\n",
    "FROM\n",
    "\n",
    "(SELECT JOIN_KEY, SCTR_CD, SUM(DLQ_AMT), COUNT(JOIN_KEY)\n",
    "FROM CRASDB.CREDB_P1_DLQ\n",
    "WHERE YM = '202006'\n",
    "GROUP BY JOIN_KEY, SCTR_CD) A\n",
    "\n",
    "JOIN\n",
    "\n",
    "(SELECT YM, JOIN_KEY, SCTR_CD, DLQ_AMT\n",
    "FROM CRASDB.CREDB_P1_DLQ) B\n",
    "\n",
    "ON A.JOIN_KEY = B.JOIN_KEY\n",
    "\n",
    "WHERE B.YM BETWEEN '202001' AND '202005'\n",
    "\n",
    "GROUP BY (A.JOIN_KEY, B.SCTR_CD)\n",
    "\"\"\""
   ]
  },
  {
   "cell_type": "code",
   "execution_count": 221,
   "metadata": {},
   "outputs": [],
   "source": [
    "cur.execute(sql)\n",
    "sql_to_df(sql)"
   ]
  },
  {
   "cell_type": "code",
   "execution_count": 222,
   "metadata": {},
   "outputs": [],
   "source": [
    "연체업권_5개월 = pd.DataFrame(data,columns=['JOIN_KEY','업권','연체금액_5개월','연체건수_5개월'])"
   ]
  },
  {
   "cell_type": "code",
   "execution_count": 224,
   "metadata": {},
   "outputs": [],
   "source": [
    "df3 = pd.merge(업권2002005, 연체업권_5개월, on=['JOIN_KEY','업권'], how ='outer' )"
   ]
  },
  {
   "cell_type": "code",
   "execution_count": 225,
   "metadata": {},
   "outputs": [],
   "source": [
    "#df3을 피벗테이블로 만들고 결측값 0으로 채우기\n",
    "#업권_피벗 = pd.pivot_table(df3, index = ['JOIN_KEY'],values =['대출금액', '대출건수', '대출금액_5개월', '대출건수_5개월'], columns='업권', aggfunc = ['sum'], fill_value = 0)\n",
    "업권_피벗 = pd.pivot_table(df3, index = ['JOIN_KEY'],values =['연체금액_5개월', '연체건수_5개월'], columns='업권', aggfunc = ['sum'], fill_value = 0)"
   ]
  },
  {
   "cell_type": "code",
   "execution_count": 226,
   "metadata": {},
   "outputs": [],
   "source": [
    "업권_피벗 = 업권_피벗.reset_index()"
   ]
  },
  {
   "cell_type": "code",
   "execution_count": 228,
   "metadata": {},
   "outputs": [
    {
     "data": {
      "text/plain": [
       "1025601"
      ]
     },
     "execution_count": 228,
     "metadata": {},
     "output_type": "execute_result"
    }
   ],
   "source": [
    "len(업권_피벗)"
   ]
  },
  {
   "cell_type": "code",
   "execution_count": 229,
   "metadata": {},
   "outputs": [
    {
     "data": {
      "text/plain": [
       "977390"
      ]
     },
     "execution_count": 229,
     "metadata": {},
     "output_type": "execute_result"
    }
   ],
   "source": [
    "len(조인데이터)"
   ]
  },
  {
   "cell_type": "markdown",
   "metadata": {},
   "source": [
    "# 연체사유"
   ]
  },
  {
   "cell_type": "code",
   "execution_count": 230,
   "metadata": {},
   "outputs": [],
   "source": [
    "sql = \"\"\"\n",
    "\n",
    "SELECT JOIN_KEY, DLQ_CD_1, SUM(DLQ_AMT), COUNT(JOIN_KEY)\n",
    "FROM CRASDB.CREDB_P1_DLQ\n",
    "WHERE YM = '202006'\n",
    "GROUP BY JOIN_KEY, DLQ_CD_1\n",
    "\n",
    "\"\"\""
   ]
  },
  {
   "cell_type": "code",
   "execution_count": 231,
   "metadata": {},
   "outputs": [],
   "source": [
    "cur.execute(sql)\n",
    "sql_to_df(sql)"
   ]
  },
  {
   "cell_type": "code",
   "execution_count": 232,
   "metadata": {},
   "outputs": [],
   "source": [
    "연체2020006 =  pd.DataFrame(data,columns=['JOIN_KEY','연체사유','연체금액','연체건수'])"
   ]
  },
  {
   "cell_type": "markdown",
   "metadata": {},
   "source": [
    "연체사유"
   ]
  },
  {
   "cell_type": "code",
   "execution_count": 234,
   "metadata": {},
   "outputs": [],
   "source": [
    "# 201712 기준 3개월 전 대출금액, 대출건수\n",
    "sql = \"\"\"\n",
    "SELECT A.JOIN_KEY, B.DLQ_CD_1 AS 연체사유, SUM(B.DLQ_AMT) AS 연체액_5개월, COUNT(B.JOIN_KEY) AS 연체건수_5개월\n",
    "\n",
    "FROM\n",
    "\n",
    "(SELECT JOIN_KEY, DLQ_CD_1, SUM(DLQ_AMT), COUNT(JOIN_KEY)\n",
    "FROM CRASDB.CREDB_P1_DLQ\n",
    "WHERE YM = '202006'\n",
    "GROUP BY JOIN_KEY, DLQ_CD_1) A\n",
    "\n",
    "JOIN\n",
    "\n",
    "(SELECT YM, JOIN_KEY, DLQ_CD_1, DLQ_AMT\n",
    "FROM CRASDB.CREDB_P1_DLQ) B\n",
    "\n",
    "ON A.JOIN_KEY = B.JOIN_KEY\n",
    "\n",
    "WHERE B.YM BETWEEN '202001' AND '202005'\n",
    "\n",
    "GROUP BY (A.JOIN_KEY, B.DLQ_CD_1)\n",
    "\"\"\""
   ]
  },
  {
   "cell_type": "code",
   "execution_count": 235,
   "metadata": {},
   "outputs": [],
   "source": [
    "cur.execute(sql)\n",
    "sql_to_df(sql)"
   ]
  },
  {
   "cell_type": "code",
   "execution_count": 236,
   "metadata": {},
   "outputs": [],
   "source": [
    "연체사유_5개월 = pd.DataFrame(data,columns=['JOIN_KEY','연체사유','연체금액_5개월','연체건수_5개월'])"
   ]
  },
  {
   "cell_type": "code",
   "execution_count": 237,
   "metadata": {},
   "outputs": [],
   "source": [
    "df3 = pd.merge(연체2020006, 연체사유_5개월, on=['JOIN_KEY','연체사유'], how ='outer' )"
   ]
  },
  {
   "cell_type": "code",
   "execution_count": 238,
   "metadata": {},
   "outputs": [],
   "source": [
    "#df3을 피벗테이블로 만들고 결측값 0으로 채우기\n",
    "#업권_피벗 = pd.pivot_table(df3, index = ['JOIN_KEY'],values =['대출금액', '대출건수', '대출금액_5개월', '대출건수_5개월'], columns='업권', aggfunc = ['sum'], fill_value = 0)\n",
    "연체사유_피벗 = pd.pivot_table(df3, index = ['JOIN_KEY'],values =['연체금액_5개월', '연체건수_5개월'], columns='연체사유', aggfunc = ['sum'], fill_value = 0)"
   ]
  },
  {
   "cell_type": "code",
   "execution_count": 239,
   "metadata": {},
   "outputs": [],
   "source": [
    "연체사유_피벗 = 연체사유_피벗.reset_index()"
   ]
  },
  {
   "cell_type": "code",
   "execution_count": 241,
   "metadata": {},
   "outputs": [
    {
     "data": {
      "text/plain": [
       "105054"
      ]
     },
     "execution_count": 241,
     "metadata": {},
     "output_type": "execute_result"
    }
   ],
   "source": [
    "len(연체사유_피벗)"
   ]
  },
  {
   "cell_type": "markdown",
   "metadata": {},
   "source": [
    "# 연체정보총계"
   ]
  },
  {
   "cell_type": "code",
   "execution_count": 242,
   "metadata": {},
   "outputs": [],
   "source": [
    "#기준년월 = 연체등록년월\n",
    "sql =\"\"\"\n",
    "SELECT JOIN_KEY,  SUM(DLQ_AMT) AS 총연체금액, COUNT(JOIN_KEY) AS 총연체건수\n",
    "FROM CRASDB.CREDB_P1_DLQ\n",
    "WHERE YM BETWEEN '202001' AND '202005'\n",
    "GROUP BY JOIN_KEY\n",
    "\"\"\""
   ]
  },
  {
   "cell_type": "code",
   "execution_count": 243,
   "metadata": {},
   "outputs": [],
   "source": [
    "cur.execute(sql)\n",
    "sql_to_df(sql)"
   ]
  },
  {
   "cell_type": "code",
   "execution_count": 244,
   "metadata": {},
   "outputs": [],
   "source": [
    "총계정보 = pd.DataFrame(data,columns=['JOIN_KEY','총연체금액','총연체건수'])"
   ]
  },
  {
   "cell_type": "code",
   "execution_count": null,
   "metadata": {},
   "outputs": [],
   "source": []
  },
  {
   "cell_type": "code",
   "execution_count": 245,
   "metadata": {},
   "outputs": [],
   "source": [
    "연체자정보 = pd.merge(조인데이터,업권_피벗 , on='JOIN_KEY', how ='left')"
   ]
  },
  {
   "cell_type": "code",
   "execution_count": 246,
   "metadata": {},
   "outputs": [],
   "source": [
    "연체자정보 = pd.merge(연체자정보,연체사유_피벗 , on='JOIN_KEY', how ='left')"
   ]
  },
  {
   "cell_type": "code",
   "execution_count": 247,
   "metadata": {},
   "outputs": [],
   "source": [
    "연체자정보 = pd.merge(연체자정보,총계정보 , on='JOIN_KEY', how ='left')"
   ]
  },
  {
   "cell_type": "code",
   "execution_count": 249,
   "metadata": {},
   "outputs": [],
   "source": [
    "#df = pd.read_csv('C:/Users/ksy/Desktop/개인/CreDB예시/data/Corona19_Classification_data.csv',encoding='cp949')"
   ]
  },
  {
   "cell_type": "code",
   "execution_count": 250,
   "metadata": {},
   "outputs": [],
   "source": [
    "#df.head()"
   ]
  },
  {
   "cell_type": "code",
   "execution_count": 251,
   "metadata": {},
   "outputs": [
    {
     "data": {
      "text/plain": [
       "977390"
      ]
     },
     "execution_count": 251,
     "metadata": {},
     "output_type": "execute_result"
    }
   ],
   "source": [
    "len(df)"
   ]
  },
  {
   "cell_type": "code",
   "execution_count": 252,
   "metadata": {},
   "outputs": [],
   "source": [
    "#불필요 컬럼 제거"
   ]
  },
  {
   "cell_type": "code",
   "execution_count": 253,
   "metadata": {},
   "outputs": [
    {
     "ename": "KeyError",
     "evalue": "\"['Unnamed: 0'] not found in axis\"",
     "output_type": "error",
     "traceback": [
      "\u001b[1;31m---------------------------------------------------------------------------\u001b[0m",
      "\u001b[1;31mKeyError\u001b[0m                                  Traceback (most recent call last)",
      "\u001b[1;32m<ipython-input-253-8826e98dd7d6>\u001b[0m in \u001b[0;36m<module>\u001b[1;34m\u001b[0m\n\u001b[1;32m----> 1\u001b[1;33m \u001b[0mdf\u001b[0m\u001b[1;33m.\u001b[0m\u001b[0mdrop\u001b[0m\u001b[1;33m(\u001b[0m\u001b[0mcolumns\u001b[0m\u001b[1;33m=\u001b[0m\u001b[1;33m[\u001b[0m\u001b[1;34m'Unnamed: 0'\u001b[0m\u001b[1;33m,\u001b[0m \u001b[1;34m'생년월일'\u001b[0m\u001b[1;33m]\u001b[0m\u001b[1;33m,\u001b[0m \u001b[0minplace\u001b[0m\u001b[1;33m=\u001b[0m\u001b[1;32mTrue\u001b[0m\u001b[1;33m)\u001b[0m\u001b[1;33m\u001b[0m\u001b[1;33m\u001b[0m\u001b[0m\n\u001b[0m",
      "\u001b[1;32mC:\\ProgramData\\Anaconda3\\lib\\site-packages\\pandas\\core\\frame.py\u001b[0m in \u001b[0;36mdrop\u001b[1;34m(self, labels, axis, index, columns, level, inplace, errors)\u001b[0m\n\u001b[0;32m   4100\u001b[0m             \u001b[0mlevel\u001b[0m\u001b[1;33m=\u001b[0m\u001b[0mlevel\u001b[0m\u001b[1;33m,\u001b[0m\u001b[1;33m\u001b[0m\u001b[1;33m\u001b[0m\u001b[0m\n\u001b[0;32m   4101\u001b[0m             \u001b[0minplace\u001b[0m\u001b[1;33m=\u001b[0m\u001b[0minplace\u001b[0m\u001b[1;33m,\u001b[0m\u001b[1;33m\u001b[0m\u001b[1;33m\u001b[0m\u001b[0m\n\u001b[1;32m-> 4102\u001b[1;33m             \u001b[0merrors\u001b[0m\u001b[1;33m=\u001b[0m\u001b[0merrors\u001b[0m\u001b[1;33m,\u001b[0m\u001b[1;33m\u001b[0m\u001b[1;33m\u001b[0m\u001b[0m\n\u001b[0m\u001b[0;32m   4103\u001b[0m         )\n\u001b[0;32m   4104\u001b[0m \u001b[1;33m\u001b[0m\u001b[0m\n",
      "\u001b[1;32mC:\\ProgramData\\Anaconda3\\lib\\site-packages\\pandas\\core\\generic.py\u001b[0m in \u001b[0;36mdrop\u001b[1;34m(self, labels, axis, index, columns, level, inplace, errors)\u001b[0m\n\u001b[0;32m   3912\u001b[0m         \u001b[1;32mfor\u001b[0m \u001b[0maxis\u001b[0m\u001b[1;33m,\u001b[0m \u001b[0mlabels\u001b[0m \u001b[1;32min\u001b[0m \u001b[0maxes\u001b[0m\u001b[1;33m.\u001b[0m\u001b[0mitems\u001b[0m\u001b[1;33m(\u001b[0m\u001b[1;33m)\u001b[0m\u001b[1;33m:\u001b[0m\u001b[1;33m\u001b[0m\u001b[1;33m\u001b[0m\u001b[0m\n\u001b[0;32m   3913\u001b[0m             \u001b[1;32mif\u001b[0m \u001b[0mlabels\u001b[0m \u001b[1;32mis\u001b[0m \u001b[1;32mnot\u001b[0m \u001b[1;32mNone\u001b[0m\u001b[1;33m:\u001b[0m\u001b[1;33m\u001b[0m\u001b[1;33m\u001b[0m\u001b[0m\n\u001b[1;32m-> 3914\u001b[1;33m                 \u001b[0mobj\u001b[0m \u001b[1;33m=\u001b[0m \u001b[0mobj\u001b[0m\u001b[1;33m.\u001b[0m\u001b[0m_drop_axis\u001b[0m\u001b[1;33m(\u001b[0m\u001b[0mlabels\u001b[0m\u001b[1;33m,\u001b[0m \u001b[0maxis\u001b[0m\u001b[1;33m,\u001b[0m \u001b[0mlevel\u001b[0m\u001b[1;33m=\u001b[0m\u001b[0mlevel\u001b[0m\u001b[1;33m,\u001b[0m \u001b[0merrors\u001b[0m\u001b[1;33m=\u001b[0m\u001b[0merrors\u001b[0m\u001b[1;33m)\u001b[0m\u001b[1;33m\u001b[0m\u001b[1;33m\u001b[0m\u001b[0m\n\u001b[0m\u001b[0;32m   3915\u001b[0m \u001b[1;33m\u001b[0m\u001b[0m\n\u001b[0;32m   3916\u001b[0m         \u001b[1;32mif\u001b[0m \u001b[0minplace\u001b[0m\u001b[1;33m:\u001b[0m\u001b[1;33m\u001b[0m\u001b[1;33m\u001b[0m\u001b[0m\n",
      "\u001b[1;32mC:\\ProgramData\\Anaconda3\\lib\\site-packages\\pandas\\core\\generic.py\u001b[0m in \u001b[0;36m_drop_axis\u001b[1;34m(self, labels, axis, level, errors)\u001b[0m\n\u001b[0;32m   3944\u001b[0m                 \u001b[0mnew_axis\u001b[0m \u001b[1;33m=\u001b[0m \u001b[0maxis\u001b[0m\u001b[1;33m.\u001b[0m\u001b[0mdrop\u001b[0m\u001b[1;33m(\u001b[0m\u001b[0mlabels\u001b[0m\u001b[1;33m,\u001b[0m \u001b[0mlevel\u001b[0m\u001b[1;33m=\u001b[0m\u001b[0mlevel\u001b[0m\u001b[1;33m,\u001b[0m \u001b[0merrors\u001b[0m\u001b[1;33m=\u001b[0m\u001b[0merrors\u001b[0m\u001b[1;33m)\u001b[0m\u001b[1;33m\u001b[0m\u001b[1;33m\u001b[0m\u001b[0m\n\u001b[0;32m   3945\u001b[0m             \u001b[1;32melse\u001b[0m\u001b[1;33m:\u001b[0m\u001b[1;33m\u001b[0m\u001b[1;33m\u001b[0m\u001b[0m\n\u001b[1;32m-> 3946\u001b[1;33m                 \u001b[0mnew_axis\u001b[0m \u001b[1;33m=\u001b[0m \u001b[0maxis\u001b[0m\u001b[1;33m.\u001b[0m\u001b[0mdrop\u001b[0m\u001b[1;33m(\u001b[0m\u001b[0mlabels\u001b[0m\u001b[1;33m,\u001b[0m \u001b[0merrors\u001b[0m\u001b[1;33m=\u001b[0m\u001b[0merrors\u001b[0m\u001b[1;33m)\u001b[0m\u001b[1;33m\u001b[0m\u001b[1;33m\u001b[0m\u001b[0m\n\u001b[0m\u001b[0;32m   3947\u001b[0m             \u001b[0mresult\u001b[0m \u001b[1;33m=\u001b[0m \u001b[0mself\u001b[0m\u001b[1;33m.\u001b[0m\u001b[0mreindex\u001b[0m\u001b[1;33m(\u001b[0m\u001b[1;33m**\u001b[0m\u001b[1;33m{\u001b[0m\u001b[0maxis_name\u001b[0m\u001b[1;33m:\u001b[0m \u001b[0mnew_axis\u001b[0m\u001b[1;33m}\u001b[0m\u001b[1;33m)\u001b[0m\u001b[1;33m\u001b[0m\u001b[1;33m\u001b[0m\u001b[0m\n\u001b[0;32m   3948\u001b[0m \u001b[1;33m\u001b[0m\u001b[0m\n",
      "\u001b[1;32mC:\\ProgramData\\Anaconda3\\lib\\site-packages\\pandas\\core\\indexes\\base.py\u001b[0m in \u001b[0;36mdrop\u001b[1;34m(self, labels, errors)\u001b[0m\n\u001b[0;32m   5338\u001b[0m         \u001b[1;32mif\u001b[0m \u001b[0mmask\u001b[0m\u001b[1;33m.\u001b[0m\u001b[0many\u001b[0m\u001b[1;33m(\u001b[0m\u001b[1;33m)\u001b[0m\u001b[1;33m:\u001b[0m\u001b[1;33m\u001b[0m\u001b[1;33m\u001b[0m\u001b[0m\n\u001b[0;32m   5339\u001b[0m             \u001b[1;32mif\u001b[0m \u001b[0merrors\u001b[0m \u001b[1;33m!=\u001b[0m \u001b[1;34m\"ignore\"\u001b[0m\u001b[1;33m:\u001b[0m\u001b[1;33m\u001b[0m\u001b[1;33m\u001b[0m\u001b[0m\n\u001b[1;32m-> 5340\u001b[1;33m                 \u001b[1;32mraise\u001b[0m \u001b[0mKeyError\u001b[0m\u001b[1;33m(\u001b[0m\u001b[1;34m\"{} not found in axis\"\u001b[0m\u001b[1;33m.\u001b[0m\u001b[0mformat\u001b[0m\u001b[1;33m(\u001b[0m\u001b[0mlabels\u001b[0m\u001b[1;33m[\u001b[0m\u001b[0mmask\u001b[0m\u001b[1;33m]\u001b[0m\u001b[1;33m)\u001b[0m\u001b[1;33m)\u001b[0m\u001b[1;33m\u001b[0m\u001b[1;33m\u001b[0m\u001b[0m\n\u001b[0m\u001b[0;32m   5341\u001b[0m             \u001b[0mindexer\u001b[0m \u001b[1;33m=\u001b[0m \u001b[0mindexer\u001b[0m\u001b[1;33m[\u001b[0m\u001b[1;33m~\u001b[0m\u001b[0mmask\u001b[0m\u001b[1;33m]\u001b[0m\u001b[1;33m\u001b[0m\u001b[1;33m\u001b[0m\u001b[0m\n\u001b[0;32m   5342\u001b[0m         \u001b[1;32mreturn\u001b[0m \u001b[0mself\u001b[0m\u001b[1;33m.\u001b[0m\u001b[0mdelete\u001b[0m\u001b[1;33m(\u001b[0m\u001b[0mindexer\u001b[0m\u001b[1;33m)\u001b[0m\u001b[1;33m\u001b[0m\u001b[1;33m\u001b[0m\u001b[0m\n",
      "\u001b[1;31mKeyError\u001b[0m: \"['Unnamed: 0'] not found in axis\""
     ]
    }
   ],
   "source": [
    "df.drop(columns=['Unnamed: 0', '생년월일'], inplace=True)"
   ]
  },
  {
   "cell_type": "code",
   "execution_count": 254,
   "metadata": {},
   "outputs": [],
   "source": [
    "#df.info() #성별, 연체여부는 object로"
   ]
  },
  {
   "cell_type": "markdown",
   "metadata": {},
   "source": [
    "성별, '범주형' 변수로 데이터타입을 int > object로 변환 <br>"
   ]
  },
  {
   "cell_type": "code",
   "execution_count": 255,
   "metadata": {},
   "outputs": [],
   "source": [
    "df = 연체자정보"
   ]
  },
  {
   "cell_type": "code",
   "execution_count": 256,
   "metadata": {},
   "outputs": [],
   "source": [
    "df = df.fillna(0)"
   ]
  },
  {
   "cell_type": "code",
   "execution_count": 257,
   "metadata": {},
   "outputs": [],
   "source": [
    "df['성별']  = df['성별'].astype(str)"
   ]
  },
  {
   "cell_type": "markdown",
   "metadata": {},
   "source": [
    "해당 데이터로 분류 모델링을 수행하기 위해서는 JOIN_KEY 속성이 배제돼야함"
   ]
  },
  {
   "cell_type": "code",
   "execution_count": 258,
   "metadata": {},
   "outputs": [],
   "source": [
    "df_m = df.drop(columns=['JOIN_KEY'])"
   ]
  },
  {
   "cell_type": "markdown",
   "metadata": {},
   "source": [
    "성별 변수 1: 남성<br>\n",
    "성별 변수 2: 여성"
   ]
  },
  {
   "cell_type": "code",
   "execution_count": 259,
   "metadata": {},
   "outputs": [
    {
     "data": {
      "text/plain": [
       "0    2\n",
       "1    1\n",
       "2    1\n",
       "3    1\n",
       "4    2\n",
       "Name: 성별, dtype: object"
      ]
     },
     "execution_count": 259,
     "metadata": {},
     "output_type": "execute_result"
    }
   ],
   "source": [
    "df_m['성별'].head()"
   ]
  },
  {
   "cell_type": "code",
   "execution_count": null,
   "metadata": {},
   "outputs": [],
   "source": []
  },
  {
   "cell_type": "code",
   "execution_count": 260,
   "metadata": {},
   "outputs": [
    {
     "data": {
      "text/plain": [
       "array(['2', '1'], dtype=object)"
      ]
     },
     "execution_count": 260,
     "metadata": {},
     "output_type": "execute_result"
    }
   ],
   "source": [
    "df_m['성별'].unique()"
   ]
  },
  {
   "cell_type": "code",
   "execution_count": 261,
   "metadata": {},
   "outputs": [
    {
     "data": {
      "text/plain": [
       "array(['2', '1'], dtype=object)"
      ]
     },
     "execution_count": 261,
     "metadata": {},
     "output_type": "execute_result"
    }
   ],
   "source": [
    "df_m['성별'].unique()"
   ]
  },
  {
   "cell_type": "code",
   "execution_count": 262,
   "metadata": {},
   "outputs": [
    {
     "data": {
      "text/plain": [
       "0    2\n",
       "1    1\n",
       "2    1\n",
       "3    1\n",
       "4    2\n",
       "Name: 성별, dtype: object"
      ]
     },
     "execution_count": 262,
     "metadata": {},
     "output_type": "execute_result"
    }
   ],
   "source": [
    "df_m['성별'].head()"
   ]
  },
  {
   "cell_type": "markdown",
   "metadata": {},
   "source": [
    "해당 성별 변수를 one-hot 인코딩을 함 <br>\n",
    "따라서 남성인 경우 1컬럼에 1, 여성인 경우 1컬럼에 0"
   ]
  },
  {
   "cell_type": "code",
   "execution_count": 263,
   "metadata": {},
   "outputs": [],
   "source": [
    "sex_onehot = pd.get_dummies(df_m['성별'])"
   ]
  },
  {
   "cell_type": "markdown",
   "metadata": {},
   "source": [
    "성별 카테고리는 남성 or 여성 딱 2가지이므로 한열에 모든 정보가 담겨있음 <br>\n",
    "해당 내용과 동일하게 남성은 0, 여성은 1로 표현하기 위해 마지막 항목만 남겨둠"
   ]
  },
  {
   "cell_type": "code",
   "execution_count": 264,
   "metadata": {},
   "outputs": [
    {
     "data": {
      "text/plain": [
       "0    2\n",
       "1    1\n",
       "2    1\n",
       "3    1\n",
       "4    2\n",
       "Name: 성별, dtype: object"
      ]
     },
     "execution_count": 264,
     "metadata": {},
     "output_type": "execute_result"
    }
   ],
   "source": [
    "df_m['성별'].head()"
   ]
  },
  {
   "cell_type": "code",
   "execution_count": null,
   "metadata": {},
   "outputs": [],
   "source": []
  },
  {
   "cell_type": "code",
   "execution_count": 265,
   "metadata": {},
   "outputs": [
    {
     "data": {
      "text/html": [
       "<div>\n",
       "<style scoped>\n",
       "    .dataframe tbody tr th:only-of-type {\n",
       "        vertical-align: middle;\n",
       "    }\n",
       "\n",
       "    .dataframe tbody tr th {\n",
       "        vertical-align: top;\n",
       "    }\n",
       "\n",
       "    .dataframe thead th {\n",
       "        text-align: right;\n",
       "    }\n",
       "</style>\n",
       "<table border=\"1\" class=\"dataframe\">\n",
       "  <thead>\n",
       "    <tr style=\"text-align: right;\">\n",
       "      <th></th>\n",
       "      <th>1</th>\n",
       "      <th>2</th>\n",
       "    </tr>\n",
       "  </thead>\n",
       "  <tbody>\n",
       "    <tr>\n",
       "      <td>0</td>\n",
       "      <td>0</td>\n",
       "      <td>1</td>\n",
       "    </tr>\n",
       "    <tr>\n",
       "      <td>1</td>\n",
       "      <td>1</td>\n",
       "      <td>0</td>\n",
       "    </tr>\n",
       "    <tr>\n",
       "      <td>2</td>\n",
       "      <td>1</td>\n",
       "      <td>0</td>\n",
       "    </tr>\n",
       "    <tr>\n",
       "      <td>3</td>\n",
       "      <td>1</td>\n",
       "      <td>0</td>\n",
       "    </tr>\n",
       "    <tr>\n",
       "      <td>4</td>\n",
       "      <td>0</td>\n",
       "      <td>1</td>\n",
       "    </tr>\n",
       "  </tbody>\n",
       "</table>\n",
       "</div>"
      ],
      "text/plain": [
       "   1  2\n",
       "0  0  1\n",
       "1  1  0\n",
       "2  1  0\n",
       "3  1  0\n",
       "4  0  1"
      ]
     },
     "execution_count": 265,
     "metadata": {},
     "output_type": "execute_result"
    }
   ],
   "source": [
    "sex_onehot.head()"
   ]
  },
  {
   "cell_type": "markdown",
   "metadata": {},
   "source": [
    " * 즉 남성인 경우 0, 여성인 경우 1"
   ]
  },
  {
   "cell_type": "code",
   "execution_count": 266,
   "metadata": {},
   "outputs": [],
   "source": [
    "sex_onehot.drop(columns=['1'], inplace=True)"
   ]
  },
  {
   "cell_type": "code",
   "execution_count": 267,
   "metadata": {},
   "outputs": [],
   "source": [
    "sex_onehot = sex_onehot.rename(columns={'2':'성별'})"
   ]
  },
  {
   "cell_type": "code",
   "execution_count": 268,
   "metadata": {},
   "outputs": [],
   "source": [
    "df_m.drop(columns=['성별'], inplace = True)"
   ]
  },
  {
   "cell_type": "code",
   "execution_count": 269,
   "metadata": {},
   "outputs": [],
   "source": [
    "df_m = pd.concat([df_m, sex_onehot], axis=1)"
   ]
  },
  {
   "cell_type": "code",
   "execution_count": 270,
   "metadata": {},
   "outputs": [
    {
     "data": {
      "text/plain": [
       "0    563188\n",
       "1    414202\n",
       "Name: 성별, dtype: int64"
      ]
     },
     "execution_count": 270,
     "metadata": {},
     "output_type": "execute_result"
    }
   ],
   "source": [
    "df_m['성별'].value_counts()"
   ]
  },
  {
   "cell_type": "code",
   "execution_count": 272,
   "metadata": {},
   "outputs": [
    {
     "data": {
      "text/plain": [
       "977390"
      ]
     },
     "execution_count": 272,
     "metadata": {},
     "output_type": "execute_result"
    }
   ],
   "source": [
    "len(df_m)"
   ]
  },
  {
   "cell_type": "code",
   "execution_count": 273,
   "metadata": {},
   "outputs": [
    {
     "data": {
      "text/plain": [
       "106"
      ]
     },
     "execution_count": 273,
     "metadata": {},
     "output_type": "execute_result"
    }
   ],
   "source": [
    "len(df_m.columns)"
   ]
  },
  {
   "cell_type": "code",
   "execution_count": 274,
   "metadata": {},
   "outputs": [
    {
     "data": {
      "text/plain": [
       "977390"
      ]
     },
     "execution_count": 274,
     "metadata": {},
     "output_type": "execute_result"
    }
   ],
   "source": [
    "len(df_m)"
   ]
  },
  {
   "cell_type": "code",
   "execution_count": 276,
   "metadata": {},
   "outputs": [
    {
     "data": {
      "text/plain": [
       "array([0, b'1'], dtype=object)"
      ]
     },
     "execution_count": 276,
     "metadata": {},
     "output_type": "execute_result"
    }
   ],
   "source": [
    "df_m['연체여부'].unique()"
   ]
  },
  {
   "cell_type": "code",
   "execution_count": 277,
   "metadata": {},
   "outputs": [
    {
     "data": {
      "text/plain": [
       "dtype('O')"
      ]
     },
     "execution_count": 277,
     "metadata": {},
     "output_type": "execute_result"
    }
   ],
   "source": [
    "df_m['연체여부'].dtype"
   ]
  },
  {
   "cell_type": "code",
   "execution_count": 278,
   "metadata": {},
   "outputs": [],
   "source": [
    "df_m['연체여부'] = df_m['연체여부'].astype(str)"
   ]
  },
  {
   "cell_type": "code",
   "execution_count": 279,
   "metadata": {},
   "outputs": [],
   "source": [
    "#연체여부 종속변수는 int로 변환\n",
    "df_m['연체여부'] = df_m['연체여부'].map({'0':0,\"b'1'\":1})"
   ]
  },
  {
   "cell_type": "code",
   "execution_count": 280,
   "metadata": {},
   "outputs": [
    {
     "data": {
      "text/plain": [
       "array([0, 1], dtype=int64)"
      ]
     },
     "execution_count": 280,
     "metadata": {},
     "output_type": "execute_result"
    }
   ],
   "source": [
    "df_m['연체여부'].unique()"
   ]
  },
  {
   "cell_type": "code",
   "execution_count": 281,
   "metadata": {},
   "outputs": [
    {
     "data": {
      "text/plain": [
       "977390"
      ]
     },
     "execution_count": 281,
     "metadata": {},
     "output_type": "execute_result"
    }
   ],
   "source": [
    "len(df)"
   ]
  },
  {
   "cell_type": "code",
   "execution_count": 282,
   "metadata": {},
   "outputs": [],
   "source": [
    "df_m.drop(columns=['생년월일'], inplace=True)"
   ]
  },
  {
   "cell_type": "code",
   "execution_count": 283,
   "metadata": {},
   "outputs": [],
   "source": [
    "df_m.to_csv('C:/Users/ksy/Desktop/개인/코로나19 팀프로젝트/data/연체정보추가.csv', encoding='cp949')"
   ]
  },
  {
   "cell_type": "code",
   "execution_count": 279,
   "metadata": {},
   "outputs": [
    {
     "data": {
      "text/plain": [
       "64265508"
      ]
     },
     "execution_count": 279,
     "metadata": {},
     "output_type": "execute_result"
    }
   ],
   "source": [
    "945081*68"
   ]
  },
  {
   "cell_type": "markdown",
   "metadata": {},
   "source": [
    "1. Train - Test Split\n",
    "2. 채무불이행여부 (종속변수) OverSampling\n",
    "3. GridSearchCV \n",
    "4. 여러가지 모델 생성 <br>\n",
    "1) Decision Tree(공통), Logistic Regression(공통), RandomForest (책) \n",
    "  <br> 2) RNN, SVM (논문) \n",
    "  <br> 3) XGBoost, LigthGBM, 딥러닝, 등 (과거 플젝)"
   ]
  }
 ],
 "metadata": {
  "kernelspec": {
   "display_name": "Python 3",
   "language": "python",
   "name": "python3"
  },
  "language_info": {
   "codemirror_mode": {
    "name": "ipython",
    "version": 3
   },
   "file_extension": ".py",
   "mimetype": "text/x-python",
   "name": "python",
   "nbconvert_exporter": "python",
   "pygments_lexer": "ipython3",
   "version": "3.7.4"
  }
 },
 "nbformat": 4,
 "nbformat_minor": 4
}
