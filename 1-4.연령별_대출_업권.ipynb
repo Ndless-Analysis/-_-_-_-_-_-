{
 "cells": [
  {
   "cell_type": "markdown",
   "metadata": {},
   "source": [
    "해당 과제는 'Brightics Studio'로 시작하는 금융 빅데이터 분석 교재를 참고함"
   ]
  },
  {
   "cell_type": "code",
   "execution_count": 1,
   "metadata": {},
   "outputs": [],
   "source": [
    "import pandas as pd \n",
    "pd.set_option('display.max_columns',None)\n",
    "pd.set_option('display.max_rows',None)"
   ]
  },
  {
   "cell_type": "code",
   "execution_count": 2,
   "metadata": {},
   "outputs": [],
   "source": [
    "#시각화 패키지 라이브러리\n",
    "import seaborn as sns\n",
    "import matplotlib\n",
    "import matplotlib.pyplot as plt\n",
    "matplotlib.rcParams['font.family'] = 'Malgun Gothic' #한글깨짐현상방지\n",
    "matplotlib.rcParams['axes.unicode_minus'] = False"
   ]
  },
  {
   "cell_type": "code",
   "execution_count": 3,
   "metadata": {},
   "outputs": [],
   "source": [
    "df = pd.read_csv('C:/Users/ksy/Desktop/개인/코로나19 팀프로젝트/1.현황분석/read_excel/대출건수현황.csv',encoding='cp949')"
   ]
  },
  {
   "cell_type": "code",
   "execution_count": 5,
   "metadata": {},
   "outputs": [],
   "source": [
    "#불필요 컬럼 제거"
   ]
  },
  {
   "cell_type": "code",
   "execution_count": 6,
   "metadata": {},
   "outputs": [
    {
     "data": {
      "text/plain": [
       "977390"
      ]
     },
     "execution_count": 6,
     "metadata": {},
     "output_type": "execute_result"
    }
   ],
   "source": [
    "len(df)"
   ]
  },
  {
   "cell_type": "code",
   "execution_count": 7,
   "metadata": {},
   "outputs": [
    {
     "data": {
      "text/plain": [
       "31"
      ]
     },
     "execution_count": 7,
     "metadata": {},
     "output_type": "execute_result"
    }
   ],
   "source": [
    "len(df.columns)"
   ]
  },
  {
   "cell_type": "code",
   "execution_count": 8,
   "metadata": {},
   "outputs": [
    {
     "data": {
      "text/plain": [
       "array([46, 66, 27, 54, 45, 39, 37, 50, 72, 26, 42, 28, 65, 51, 61, 33, 57,\n",
       "       48, 56, 55, 34, 59, 32, 53, 44, 84, 38, 40, 35, 25, 60, 76, 41, 43,\n",
       "       30, 52, 49, 77, 58, 36, 62, 47, 21, 31, 71, 63, 81, 74, 85, 73, 80,\n",
       "       69, 82, 64, 23, 70, 22, 83, 67, 29, 68, 24, 79, 75, 78],\n",
       "      dtype=int64)"
      ]
     },
     "execution_count": 8,
     "metadata": {},
     "output_type": "execute_result"
    }
   ],
   "source": [
    "df['나이'].unique()"
   ]
  },
  {
   "cell_type": "code",
   "execution_count": 9,
   "metadata": {},
   "outputs": [],
   "source": [
    "#df['나이'] = df['나이'].astype(int)"
   ]
  },
  {
   "cell_type": "code",
   "execution_count": 10,
   "metadata": {},
   "outputs": [],
   "source": [
    "import numpy as np\n",
    "df['나이'] = np.where((df.나이 >= 10)&(df.나이 < 20),\"10대\",\n",
    "                   np.where((df['나이'] >= 30)&(df['나이'] < 40),\"30대\",\n",
    "                           np.where((df['나이'] >= 40)&(df['나이'] < 50),\"40대\",\n",
    "                                   np.where((df['나이'] >= 50)&(df['나이'] < 60),\"50대\",\n",
    "                                           np.where((df['나이'] >= 60)&(df['나이'] < 70),\"60대\",\n",
    "                                                   np.where((df['나이'] >= 20)&(df['나이'] < 30),\"20대\",\n",
    "                                                            np.where((df['나이'] >= 70)&(df['나이'] < 80),\"70대\",\n",
    "                                                                     np.where((df['나이'] >= 80)&(df['나이'] < 100),\"80대 이상\",0))))))))\n"
   ]
  },
  {
   "cell_type": "code",
   "execution_count": 11,
   "metadata": {},
   "outputs": [
    {
     "data": {
      "text/plain": [
       "array(['40대', '60대', '20대', '50대', '30대', '70대', '80대 이상'], dtype=object)"
      ]
     },
     "execution_count": 11,
     "metadata": {},
     "output_type": "execute_result"
    }
   ],
   "source": [
    "df['나이'].unique()"
   ]
  },
  {
   "cell_type": "code",
   "execution_count": 12,
   "metadata": {},
   "outputs": [],
   "source": [
    "카운팅 = df.groupby(['성별','나이']).count()"
   ]
  },
  {
   "cell_type": "code",
   "execution_count": 13,
   "metadata": {},
   "outputs": [],
   "source": [
    "카운팅.reset_index(inplace=True)"
   ]
  },
  {
   "cell_type": "code",
   "execution_count": 14,
   "metadata": {},
   "outputs": [],
   "source": [
    "카운팅 = pd.pivot_table(카운팅, index = ['나이'],values =['JOIN_KEY'], columns='성별', aggfunc = ['sum'])"
   ]
  },
  {
   "cell_type": "code",
   "execution_count": 15,
   "metadata": {},
   "outputs": [
    {
     "data": {
      "text/plain": [
       "MultiIndex([('sum', 'JOIN_KEY', 1),\n",
       "            ('sum', 'JOIN_KEY', 2)],\n",
       "           names=[None, None, '성별'])"
      ]
     },
     "execution_count": 15,
     "metadata": {},
     "output_type": "execute_result"
    }
   ],
   "source": [
    "카운팅.columns"
   ]
  },
  {
   "cell_type": "code",
   "execution_count": 16,
   "metadata": {},
   "outputs": [
    {
     "name": "stdout",
     "output_type": "stream",
     "text": [
      "{'JOIN_KEY': '1'}\n"
     ]
    }
   ],
   "source": [
    "d = dict(zip(카운팅.columns.levels[1], ['1','2']))\n",
    "print(d)"
   ]
  },
  {
   "cell_type": "code",
   "execution_count": 17,
   "metadata": {},
   "outputs": [
    {
     "data": {
      "text/plain": [
       "MultiIndex([('sum', 'JOIN_KEY', 1),\n",
       "            ('sum', 'JOIN_KEY', 2)],\n",
       "           names=[None, None, '성별'])"
      ]
     },
     "execution_count": 17,
     "metadata": {},
     "output_type": "execute_result"
    }
   ],
   "source": [
    "카운팅.columns"
   ]
  },
  {
   "cell_type": "code",
   "execution_count": 18,
   "metadata": {},
   "outputs": [
    {
     "data": {
      "text/html": [
       "<div>\n",
       "<style scoped>\n",
       "    .dataframe tbody tr th:only-of-type {\n",
       "        vertical-align: middle;\n",
       "    }\n",
       "\n",
       "    .dataframe tbody tr th {\n",
       "        vertical-align: top;\n",
       "    }\n",
       "\n",
       "    .dataframe thead tr th {\n",
       "        text-align: left;\n",
       "    }\n",
       "\n",
       "    .dataframe thead tr:last-of-type th {\n",
       "        text-align: right;\n",
       "    }\n",
       "</style>\n",
       "<table border=\"1\" class=\"dataframe\">\n",
       "  <thead>\n",
       "    <tr>\n",
       "      <th></th>\n",
       "      <th colspan=\"2\" halign=\"left\">sum</th>\n",
       "    </tr>\n",
       "    <tr>\n",
       "      <th></th>\n",
       "      <th colspan=\"2\" halign=\"left\">1</th>\n",
       "    </tr>\n",
       "    <tr>\n",
       "      <th>성별</th>\n",
       "      <th>1</th>\n",
       "      <th>2</th>\n",
       "    </tr>\n",
       "    <tr>\n",
       "      <th>나이</th>\n",
       "      <th></th>\n",
       "      <th></th>\n",
       "    </tr>\n",
       "  </thead>\n",
       "  <tbody>\n",
       "    <tr>\n",
       "      <td>20대</td>\n",
       "      <td>57710</td>\n",
       "      <td>50624</td>\n",
       "    </tr>\n",
       "    <tr>\n",
       "      <td>30대</td>\n",
       "      <td>115398</td>\n",
       "      <td>75570</td>\n",
       "    </tr>\n",
       "    <tr>\n",
       "      <td>40대</td>\n",
       "      <td>142418</td>\n",
       "      <td>101936</td>\n",
       "    </tr>\n",
       "    <tr>\n",
       "      <td>50대</td>\n",
       "      <td>133236</td>\n",
       "      <td>102153</td>\n",
       "    </tr>\n",
       "    <tr>\n",
       "      <td>60대</td>\n",
       "      <td>80422</td>\n",
       "      <td>59925</td>\n",
       "    </tr>\n",
       "    <tr>\n",
       "      <td>70대</td>\n",
       "      <td>27560</td>\n",
       "      <td>18883</td>\n",
       "    </tr>\n",
       "    <tr>\n",
       "      <td>80대 이상</td>\n",
       "      <td>6444</td>\n",
       "      <td>5111</td>\n",
       "    </tr>\n",
       "  </tbody>\n",
       "</table>\n",
       "</div>"
      ],
      "text/plain": [
       "           sum        \n",
       "             1        \n",
       "성별           1       2\n",
       "나이                    \n",
       "20대      57710   50624\n",
       "30대     115398   75570\n",
       "40대     142418  101936\n",
       "50대     133236  102153\n",
       "60대      80422   59925\n",
       "70대      27560   18883\n",
       "80대 이상    6444    5111"
      ]
     },
     "execution_count": 18,
     "metadata": {},
     "output_type": "execute_result"
    }
   ],
   "source": [
    "카운팅.rename(columns=d, level=1)"
   ]
  },
  {
   "cell_type": "code",
   "execution_count": 19,
   "metadata": {},
   "outputs": [
    {
     "data": {
      "text/plain": [
       "977390"
      ]
     },
     "execution_count": 19,
     "metadata": {},
     "output_type": "execute_result"
    }
   ],
   "source": [
    "카운팅.sum().sum()"
   ]
  },
  {
   "cell_type": "code",
   "execution_count": 20,
   "metadata": {},
   "outputs": [
    {
     "data": {
      "text/plain": [
       "(array([0, 1, 2, 3, 4, 5, 6]), <a list of 7 Text xticklabel objects>)"
      ]
     },
     "execution_count": 20,
     "metadata": {},
     "output_type": "execute_result"
    },
    {
     "data": {
      "image/png": "[encoded data removed]",
      "text/plain": [
       "<Figure size 432x288 with 1 Axes>"
      ]
     },
     "metadata": {
      "needs_background": "light"
     },
     "output_type": "display_data"
    }
   ],
   "source": [
    "카운팅.plot(kind='bar', cmap='coolwarm')\n",
    "plt.legend(labels=['남자','여자'])\n",
    "plt.title('대출 차주 수')\n",
    "plt.xticks(rotation=360)"
   ]
  },
  {
   "cell_type": "code",
   "execution_count": 21,
   "metadata": {},
   "outputs": [
    {
     "data": {
      "image/png": "[encoded data removed]",
      "text/plain": [
       "<Figure size 432x288 with 1 Axes>"
      ]
     },
     "metadata": {
      "needs_background": "light"
     },
     "output_type": "display_data"
    }
   ],
   "source": [
    "ax = 카운팅.plot(kind='bar', cmap='coolwarm')\n",
    "for i in range(len(카운팅)):\n",
    "    ax.text(x=i, y=카운팅.iloc[:,0].values[i], s=카운팅.iloc[:,0].values[i],\n",
    "            horizontalalignment='right', verticalalignment ='bottom')\n",
    "    ax.text(x=i, y=카운팅.iloc[:,1].values[i], s=카운팅.iloc[:,1].values[i],\n",
    "            horizontalalignment='left', verticalalignment ='bottom')\n",
    "    \n",
    "plt.legend(labels=['남자','여자'],bbox_to_anchor = (1.05,1), loc='upper left')\n",
    "plt.title('대출 차주 수')\n",
    "plt.xticks(rotation=360)\n",
    "\n",
    "plt.savefig('C:/Users/ksy/Desktop/개인/코로나19 팀프로젝트/1.현황분석/png/대출현황/png/'+   '연령별 대출 차주수.png',bbox_inches='tight')\n",
    "plt.show()"
   ]
  },
  {
   "cell_type": "code",
   "execution_count": 210,
   "metadata": {},
   "outputs": [
    {
     "data": {
      "text/plain": [
       "563188"
      ]
     },
     "execution_count": 210,
     "metadata": {},
     "output_type": "execute_result"
    }
   ],
   "source": [
    "카운팅.iloc[:,0].sum()"
   ]
  },
  {
   "cell_type": "code",
   "execution_count": 211,
   "metadata": {},
   "outputs": [
    {
     "data": {
      "text/plain": [
       "977390"
      ]
     },
     "execution_count": 211,
     "metadata": {},
     "output_type": "execute_result"
    }
   ],
   "source": [
    "카운팅.sum(axis=0).sum()"
   ]
  },
  {
   "cell_type": "code",
   "execution_count": 212,
   "metadata": {},
   "outputs": [
    {
     "data": {
      "text/html": [
       "<div>\n",
       "<style scoped>\n",
       "    .dataframe tbody tr th:only-of-type {\n",
       "        vertical-align: middle;\n",
       "    }\n",
       "\n",
       "    .dataframe tbody tr th {\n",
       "        vertical-align: top;\n",
       "    }\n",
       "\n",
       "    .dataframe thead tr th {\n",
       "        text-align: left;\n",
       "    }\n",
       "\n",
       "    .dataframe thead tr:last-of-type th {\n",
       "        text-align: right;\n",
       "    }\n",
       "</style>\n",
       "<table border=\"1\" class=\"dataframe\">\n",
       "  <thead>\n",
       "    <tr>\n",
       "      <th></th>\n",
       "      <th colspan=\"2\" halign=\"left\">sum</th>\n",
       "    </tr>\n",
       "    <tr>\n",
       "      <th></th>\n",
       "      <th colspan=\"2\" halign=\"left\">JOIN_KEY</th>\n",
       "    </tr>\n",
       "    <tr>\n",
       "      <th>성별</th>\n",
       "      <th>1</th>\n",
       "      <th>2</th>\n",
       "    </tr>\n",
       "    <tr>\n",
       "      <th>나이</th>\n",
       "      <th></th>\n",
       "      <th></th>\n",
       "    </tr>\n",
       "  </thead>\n",
       "  <tbody>\n",
       "    <tr>\n",
       "      <td>20대</td>\n",
       "      <td>57710</td>\n",
       "      <td>50624</td>\n",
       "    </tr>\n",
       "    <tr>\n",
       "      <td>30대</td>\n",
       "      <td>115398</td>\n",
       "      <td>75570</td>\n",
       "    </tr>\n",
       "    <tr>\n",
       "      <td>40대</td>\n",
       "      <td>142418</td>\n",
       "      <td>101936</td>\n",
       "    </tr>\n",
       "    <tr>\n",
       "      <td>50대</td>\n",
       "      <td>133236</td>\n",
       "      <td>102153</td>\n",
       "    </tr>\n",
       "    <tr>\n",
       "      <td>60대</td>\n",
       "      <td>80422</td>\n",
       "      <td>59925</td>\n",
       "    </tr>\n",
       "    <tr>\n",
       "      <td>70대</td>\n",
       "      <td>27560</td>\n",
       "      <td>18883</td>\n",
       "    </tr>\n",
       "    <tr>\n",
       "      <td>80대 이상</td>\n",
       "      <td>6444</td>\n",
       "      <td>5111</td>\n",
       "    </tr>\n",
       "  </tbody>\n",
       "</table>\n",
       "</div>"
      ],
      "text/plain": [
       "            sum        \n",
       "       JOIN_KEY        \n",
       "성별            1       2\n",
       "나이                     \n",
       "20대       57710   50624\n",
       "30대      115398   75570\n",
       "40대      142418  101936\n",
       "50대      133236  102153\n",
       "60대       80422   59925\n",
       "70대       27560   18883\n",
       "80대 이상     6444    5111"
      ]
     },
     "execution_count": 212,
     "metadata": {},
     "output_type": "execute_result"
    }
   ],
   "source": [
    "카운팅"
   ]
  },
  {
   "cell_type": "code",
   "execution_count": 213,
   "metadata": {},
   "outputs": [],
   "source": [
    "카운팅['남자비율'] = 카운팅.iloc[:,0]/카운팅.sum().sum()*100\n",
    "카운팅['여자비율'] = 카운팅.iloc[:,1]/카운팅.sum().sum()*100"
   ]
  },
  {
   "cell_type": "code",
   "execution_count": 217,
   "metadata": {},
   "outputs": [
    {
     "data": {
      "text/html": [
       "<div>\n",
       "<style scoped>\n",
       "    .dataframe tbody tr th:only-of-type {\n",
       "        vertical-align: middle;\n",
       "    }\n",
       "\n",
       "    .dataframe tbody tr th {\n",
       "        vertical-align: top;\n",
       "    }\n",
       "\n",
       "    .dataframe thead tr th {\n",
       "        text-align: left;\n",
       "    }\n",
       "\n",
       "    .dataframe thead tr:last-of-type th {\n",
       "        text-align: right;\n",
       "    }\n",
       "</style>\n",
       "<table border=\"1\" class=\"dataframe\">\n",
       "  <thead>\n",
       "    <tr>\n",
       "      <th></th>\n",
       "      <th colspan=\"2\" halign=\"left\">sum</th>\n",
       "      <th>남자비율</th>\n",
       "      <th>여자비율</th>\n",
       "    </tr>\n",
       "    <tr>\n",
       "      <th></th>\n",
       "      <th colspan=\"2\" halign=\"left\">JOIN_KEY</th>\n",
       "      <th></th>\n",
       "      <th></th>\n",
       "    </tr>\n",
       "    <tr>\n",
       "      <th>성별</th>\n",
       "      <th>1</th>\n",
       "      <th>2</th>\n",
       "      <th></th>\n",
       "      <th></th>\n",
       "    </tr>\n",
       "    <tr>\n",
       "      <th>나이</th>\n",
       "      <th></th>\n",
       "      <th></th>\n",
       "      <th></th>\n",
       "      <th></th>\n",
       "    </tr>\n",
       "  </thead>\n",
       "  <tbody>\n",
       "    <tr>\n",
       "      <td>20대</td>\n",
       "      <td>57710</td>\n",
       "      <td>50624</td>\n",
       "      <td>5.90</td>\n",
       "      <td>5.18</td>\n",
       "    </tr>\n",
       "    <tr>\n",
       "      <td>30대</td>\n",
       "      <td>115398</td>\n",
       "      <td>75570</td>\n",
       "      <td>11.81</td>\n",
       "      <td>7.73</td>\n",
       "    </tr>\n",
       "    <tr>\n",
       "      <td>40대</td>\n",
       "      <td>142418</td>\n",
       "      <td>101936</td>\n",
       "      <td>14.57</td>\n",
       "      <td>10.43</td>\n",
       "    </tr>\n",
       "    <tr>\n",
       "      <td>50대</td>\n",
       "      <td>133236</td>\n",
       "      <td>102153</td>\n",
       "      <td>13.63</td>\n",
       "      <td>10.45</td>\n",
       "    </tr>\n",
       "    <tr>\n",
       "      <td>60대</td>\n",
       "      <td>80422</td>\n",
       "      <td>59925</td>\n",
       "      <td>8.23</td>\n",
       "      <td>6.13</td>\n",
       "    </tr>\n",
       "    <tr>\n",
       "      <td>70대</td>\n",
       "      <td>27560</td>\n",
       "      <td>18883</td>\n",
       "      <td>2.82</td>\n",
       "      <td>1.93</td>\n",
       "    </tr>\n",
       "    <tr>\n",
       "      <td>80대 이상</td>\n",
       "      <td>6444</td>\n",
       "      <td>5111</td>\n",
       "      <td>0.66</td>\n",
       "      <td>0.52</td>\n",
       "    </tr>\n",
       "  </tbody>\n",
       "</table>\n",
       "</div>"
      ],
      "text/plain": [
       "            sum           남자비율   여자비율\n",
       "       JOIN_KEY                      \n",
       "성별            1       2              \n",
       "나이                                   \n",
       "20대       57710   50624   5.90   5.18\n",
       "30대      115398   75570  11.81   7.73\n",
       "40대      142418  101936  14.57  10.43\n",
       "50대      133236  102153  13.63  10.45\n",
       "60대       80422   59925   8.23   6.13\n",
       "70대       27560   18883   2.82   1.93\n",
       "80대 이상     6444    5111   0.66   0.52"
      ]
     },
     "execution_count": 217,
     "metadata": {},
     "output_type": "execute_result"
    }
   ],
   "source": [
    "카운팅"
   ]
  },
  {
   "cell_type": "code",
   "execution_count": 218,
   "metadata": {},
   "outputs": [],
   "source": [
    "카운팅 = 카운팅.round(2)"
   ]
  },
  {
   "cell_type": "code",
   "execution_count": 219,
   "metadata": {},
   "outputs": [],
   "source": [
    "비율 = 카운팅.iloc[:,2:]"
   ]
  },
  {
   "cell_type": "code",
   "execution_count": 372,
   "metadata": {},
   "outputs": [],
   "source": [
    "비율['전체'] = 비율.sum(axis=1)"
   ]
  },
  {
   "cell_type": "code",
   "execution_count": 375,
   "metadata": {},
   "outputs": [
    {
     "data": {
      "text/html": [
       "<div>\n",
       "<style scoped>\n",
       "    .dataframe tbody tr th:only-of-type {\n",
       "        vertical-align: middle;\n",
       "    }\n",
       "\n",
       "    .dataframe tbody tr th {\n",
       "        vertical-align: top;\n",
       "    }\n",
       "\n",
       "    .dataframe thead tr th {\n",
       "        text-align: left;\n",
       "    }\n",
       "\n",
       "    .dataframe thead tr:last-of-type th {\n",
       "        text-align: right;\n",
       "    }\n",
       "</style>\n",
       "<table border=\"1\" class=\"dataframe\">\n",
       "  <thead>\n",
       "    <tr>\n",
       "      <th></th>\n",
       "      <th>남자비율</th>\n",
       "      <th>여자비율</th>\n",
       "      <th>전체</th>\n",
       "    </tr>\n",
       "    <tr>\n",
       "      <th></th>\n",
       "      <th></th>\n",
       "      <th></th>\n",
       "      <th></th>\n",
       "    </tr>\n",
       "    <tr>\n",
       "      <th>성별</th>\n",
       "      <th></th>\n",
       "      <th></th>\n",
       "      <th></th>\n",
       "    </tr>\n",
       "    <tr>\n",
       "      <th>나이</th>\n",
       "      <th></th>\n",
       "      <th></th>\n",
       "      <th></th>\n",
       "    </tr>\n",
       "  </thead>\n",
       "  <tbody>\n",
       "    <tr>\n",
       "      <td>20대</td>\n",
       "      <td>5.90</td>\n",
       "      <td>5.18</td>\n",
       "      <td>11.08</td>\n",
       "    </tr>\n",
       "    <tr>\n",
       "      <td>30대</td>\n",
       "      <td>11.81</td>\n",
       "      <td>7.73</td>\n",
       "      <td>19.54</td>\n",
       "    </tr>\n",
       "    <tr>\n",
       "      <td>40대</td>\n",
       "      <td>14.57</td>\n",
       "      <td>10.43</td>\n",
       "      <td>25.00</td>\n",
       "    </tr>\n",
       "    <tr>\n",
       "      <td>50대</td>\n",
       "      <td>13.63</td>\n",
       "      <td>10.45</td>\n",
       "      <td>24.08</td>\n",
       "    </tr>\n",
       "    <tr>\n",
       "      <td>60대</td>\n",
       "      <td>8.23</td>\n",
       "      <td>6.13</td>\n",
       "      <td>14.36</td>\n",
       "    </tr>\n",
       "    <tr>\n",
       "      <td>70대</td>\n",
       "      <td>2.82</td>\n",
       "      <td>1.93</td>\n",
       "      <td>4.75</td>\n",
       "    </tr>\n",
       "    <tr>\n",
       "      <td>80대 이상</td>\n",
       "      <td>0.66</td>\n",
       "      <td>0.52</td>\n",
       "      <td>1.18</td>\n",
       "    </tr>\n",
       "  </tbody>\n",
       "</table>\n",
       "</div>"
      ],
      "text/plain": [
       "         남자비율   여자비율     전체\n",
       "                           \n",
       "성별                         \n",
       "나이                         \n",
       "20대      5.90   5.18  11.08\n",
       "30대     11.81   7.73  19.54\n",
       "40대     14.57  10.43  25.00\n",
       "50대     13.63  10.45  24.08\n",
       "60대      8.23   6.13  14.36\n",
       "70대      2.82   1.93   4.75\n",
       "80대 이상   0.66   0.52   1.18"
      ]
     },
     "execution_count": 375,
     "metadata": {},
     "output_type": "execute_result"
    }
   ],
   "source": [
    "비율"
   ]
  },
  {
   "cell_type": "code",
   "execution_count": 222,
   "metadata": {},
   "outputs": [
    {
     "data": {
      "image/png": "[encoded data removed]",
      "text/plain": [
       "<Figure size 432x288 with 1 Axes>"
      ]
     },
     "metadata": {
      "needs_background": "light"
     },
     "output_type": "display_data"
    }
   ],
   "source": [
    "ax = 비율.plot(kind='bar', cmap='coolwarm')\n",
    "for i in range(len(비율)):\n",
    "    ax.text(x=i, y=비율.iloc[:,0].values[i], s=비율.iloc[:,0].values[i],\n",
    "            horizontalalignment='right', verticalalignment ='bottom')\n",
    "    ax.text(x=i, y=비율.iloc[:,1].values[i], s=비율.iloc[:,1].values[i],\n",
    "            horizontalalignment='left', verticalalignment ='bottom')\n",
    "plt.legend(labels=['남자','여자'],bbox_to_anchor = (1.05,1), loc='upper left')\n",
    "plt.title('대출 차주 수 비중(%)')\n",
    "plt.xticks(rotation=360)\n",
    "\n",
    "plt.savefig('C:/Users/ksy/Desktop/개인/코로나19 팀프로젝트/1.현황분석/png/대출현황/png/'+   '연령별 대출 차주수 비중.png',bbox_inches='tight')\n",
    "plt.show()"
   ]
  },
  {
   "cell_type": "markdown",
   "metadata": {},
   "source": [
    "# 업권"
   ]
  },
  {
   "cell_type": "code",
   "execution_count": 407,
   "metadata": {},
   "outputs": [
    {
     "data": {
      "text/plain": [
       "Index(['JOIN_KEY', '생년월일', '성별', '나이', '은행', '상호금융', '신용카드사', '생명보험사', '손해보험사',\n",
       "       '캐피탈·할부·리스·신기술사', '상호저축은행', '기타', '카드대출', '신용대출', '학자금대출', '전세자금대출',\n",
       "       '예·적금담보대출', '유가증권(주식,채권,펀드 등)담보대출', '주택담보대출', '주택외부동산(토지,상가 등)담보대출',\n",
       "       '지급보증(보증서)담조대출', '보금자리론', '학자금지급보증대출', '전제자금(보증서, 질권 등) 대출',\n",
       "       '전세보증금 담보대출', '기타담보대출', '신차할부', '중고차할부', '기타할부', '금융리스', '운용리스'],\n",
       "      dtype='object')"
      ]
     },
     "execution_count": 407,
     "metadata": {},
     "output_type": "execute_result"
    }
   ],
   "source": [
    "df.columns"
   ]
  },
  {
   "cell_type": "code",
   "execution_count": 22,
   "metadata": {},
   "outputs": [],
   "source": [
    "업권 = df.iloc[:,:12]"
   ]
  },
  {
   "cell_type": "code",
   "execution_count": 24,
   "metadata": {},
   "outputs": [
    {
     "data": {
      "text/plain": [
       "Index(['JOIN_KEY', '생년월일', '성별', '나이', '은행', '상호금융', '신용카드사', '생명보험사', '손해보험사',\n",
       "       '캐피탈·할부·리스·신기술사', '상호저축은행', '기타'],\n",
       "      dtype='object')"
      ]
     },
     "execution_count": 24,
     "metadata": {},
     "output_type": "execute_result"
    }
   ],
   "source": [
    "업권.columns"
   ]
  },
  {
   "cell_type": "code",
   "execution_count": 25,
   "metadata": {},
   "outputs": [
    {
     "ename": "NameError",
     "evalue": "name '연령별성별_업권' is not defined",
     "output_type": "error",
     "traceback": [
      "\u001b[1;31m---------------------------------------------------------------------------\u001b[0m",
      "\u001b[1;31mNameError\u001b[0m                                 Traceback (most recent call last)",
      "\u001b[1;32m<ipython-input-25-1515162c096e>\u001b[0m in \u001b[0;36m<module>\u001b[1;34m\u001b[0m\n\u001b[1;32m----> 1\u001b[1;33m \u001b[0m연령별성별_업권\u001b[0m\u001b[1;33m.\u001b[0m\u001b[0mhead\u001b[0m\u001b[1;33m(\u001b[0m\u001b[1;33m)\u001b[0m\u001b[1;33m\u001b[0m\u001b[1;33m\u001b[0m\u001b[0m\n\u001b[0m",
      "\u001b[1;31mNameError\u001b[0m: name '연령별성별_업권' is not defined"
     ]
    }
   ],
   "source": [
    "연령별성별_업권.head()"
   ]
  },
  {
   "cell_type": "code",
   "execution_count": 226,
   "metadata": {},
   "outputs": [],
   "source": [
    "연령별성별_업권 = 업권.groupby(['나이','성별']).sum().drop(columns=['JOIN_KEY', '생년월일'])"
   ]
  },
  {
   "cell_type": "code",
   "execution_count": 227,
   "metadata": {},
   "outputs": [],
   "source": [
    "연령별성별_업권.reset_index(inplace=True)"
   ]
  },
  {
   "cell_type": "code",
   "execution_count": 228,
   "metadata": {},
   "outputs": [],
   "source": [
    "연령별성별_업권.set_index('나이',inplace=True)"
   ]
  },
  {
   "cell_type": "code",
   "execution_count": 229,
   "metadata": {},
   "outputs": [
    {
     "data": {
      "text/plain": [
       "Index(['성별', '은행', '상호금융', '신용카드사', '생명보험사', '손해보험사', '캐피탈·할부·리스·신기술사',\n",
       "       '상호저축은행', '기타'],\n",
       "      dtype='object')"
      ]
     },
     "execution_count": 229,
     "metadata": {},
     "output_type": "execute_result"
    }
   ],
   "source": [
    "연령별성별_업권.columns"
   ]
  },
  {
   "cell_type": "code",
   "execution_count": 230,
   "metadata": {},
   "outputs": [],
   "source": [
    "나이20 = 연령별성별_업권.loc['20대',:]\n",
    "나이30 = 연령별성별_업권.loc['30대',:]\n",
    "나이40 = 연령별성별_업권.loc['40대',:]\n",
    "나이50 = 연령별성별_업권.loc['50대',:]\n",
    "나이60 = 연령별성별_업권.loc['60대',:]\n",
    "나이70 = 연령별성별_업권.loc['70대',:]\n",
    "나이80 = 연령별성별_업권.loc['80대 이상',:]"
   ]
  },
  {
   "cell_type": "code",
   "execution_count": 231,
   "metadata": {},
   "outputs": [],
   "source": [
    "나이20.set_index('성별',inplace=True)\n",
    "나이20 = 나이20.T\n",
    "\n",
    "나이30.set_index('성별',inplace=True)\n",
    "나이30 = 나이30.T\n",
    "\n",
    "\n",
    "나이40.set_index('성별',inplace=True)\n",
    "나이40 = 나이40.T\n",
    "\n",
    "\n",
    "나이50.set_index('성별',inplace=True)\n",
    "나이50 = 나이50.T\n",
    "\n",
    "나이60.set_index('성별',inplace=True)\n",
    "나이60 = 나이60.T\n",
    "\n",
    "\n",
    "나이70.set_index('성별',inplace=True)\n",
    "나이70 = 나이70.T\n",
    "\n",
    "\n",
    "나이80.set_index('성별',inplace=True)\n",
    "나이80 = 나이80.T"
   ]
  },
  {
   "cell_type": "code",
   "execution_count": 232,
   "metadata": {},
   "outputs": [],
   "source": [
    "나이20['남자비중']= 나이20.iloc[:,0] / 나이20.sum().sum() *100\n",
    "나이20['여자비중']= 나이20.iloc[:,1] / 나이20.sum().sum() *100\n",
    "\n",
    "\n",
    "나이30['남자비중']= 나이30.iloc[:,0] / 나이30.sum().sum() *100\n",
    "나이30['여자비중']= 나이30.iloc[:,1] / 나이30.sum().sum() *100\n",
    "\n",
    "\n",
    "\n",
    "나이40['남자비중']= 나이40.iloc[:,0] / 나이40.sum().sum() *100\n",
    "나이40['여자비중']= 나이40.iloc[:,1] / 나이40.sum().sum() *100\n",
    "\n",
    "\n",
    "나이50['남자비중']= 나이50.iloc[:,0] / 나이50.sum().sum() *100\n",
    "나이50['여자비중']= 나이50.iloc[:,1] / 나이50.sum().sum() *100\n",
    "\n",
    "\n",
    "\n",
    "나이60['남자비중']= 나이60.iloc[:,0] / 나이60.sum().sum() *100\n",
    "나이60['여자비중']= 나이60.iloc[:,1] / 나이60.sum().sum() *100\n",
    "\n",
    "\n",
    "\n",
    "나이70['남자비중']= 나이70.iloc[:,0] / 나이70.sum().sum() *100\n",
    "나이70['여자비중']= 나이70.iloc[:,1] / 나이70.sum().sum() *100\n",
    "\n",
    "\n",
    "나이80['남자비중']= 나이80.iloc[:,0] / 나이80.sum().sum() *100\n",
    "나이80['여자비중']= 나이80.iloc[:,1] / 나이80.sum().sum() *100"
   ]
  },
  {
   "cell_type": "code",
   "execution_count": 233,
   "metadata": {},
   "outputs": [],
   "source": [
    "차주수 = 나이20.iloc[:,:2]"
   ]
  },
  {
   "cell_type": "code",
   "execution_count": 234,
   "metadata": {},
   "outputs": [
    {
     "name": "stderr",
     "output_type": "stream",
     "text": [
      "C:\\ProgramData\\Anaconda3\\lib\\site-packages\\ipykernel_launcher.py:1: SettingWithCopyWarning: \n",
      "A value is trying to be set on a copy of a slice from a DataFrame.\n",
      "Try using .loc[row_indexer,col_indexer] = value instead\n",
      "\n",
      "See the caveats in the documentation: http://pandas.pydata.org/pandas-docs/stable/user_guide/indexing.html#returning-a-view-versus-a-copy\n",
      "  \"\"\"Entry point for launching an IPython kernel.\n"
     ]
    }
   ],
   "source": [
    "차주수['전체']=차주수.sum(axis=1)"
   ]
  },
  {
   "cell_type": "code",
   "execution_count": 235,
   "metadata": {},
   "outputs": [
    {
     "data": {
      "text/html": [
       "<div>\n",
       "<style scoped>\n",
       "    .dataframe tbody tr th:only-of-type {\n",
       "        vertical-align: middle;\n",
       "    }\n",
       "\n",
       "    .dataframe tbody tr th {\n",
       "        vertical-align: top;\n",
       "    }\n",
       "\n",
       "    .dataframe thead th {\n",
       "        text-align: right;\n",
       "    }\n",
       "</style>\n",
       "<table border=\"1\" class=\"dataframe\">\n",
       "  <thead>\n",
       "    <tr style=\"text-align: right;\">\n",
       "      <th>성별</th>\n",
       "      <th>1</th>\n",
       "      <th>2</th>\n",
       "      <th>전체</th>\n",
       "    </tr>\n",
       "  </thead>\n",
       "  <tbody>\n",
       "    <tr>\n",
       "      <td>은행</td>\n",
       "      <td>243279</td>\n",
       "      <td>195657</td>\n",
       "      <td>438936</td>\n",
       "    </tr>\n",
       "    <tr>\n",
       "      <td>상호금융</td>\n",
       "      <td>28228</td>\n",
       "      <td>24984</td>\n",
       "      <td>53212</td>\n",
       "    </tr>\n",
       "    <tr>\n",
       "      <td>신용카드사</td>\n",
       "      <td>124312</td>\n",
       "      <td>117982</td>\n",
       "      <td>242294</td>\n",
       "    </tr>\n",
       "    <tr>\n",
       "      <td>생명보험사</td>\n",
       "      <td>1235</td>\n",
       "      <td>1338</td>\n",
       "      <td>2573</td>\n",
       "    </tr>\n",
       "    <tr>\n",
       "      <td>손해보험사</td>\n",
       "      <td>4574</td>\n",
       "      <td>3461</td>\n",
       "      <td>8035</td>\n",
       "    </tr>\n",
       "    <tr>\n",
       "      <td>캐피탈·할부·리스·신기술사</td>\n",
       "      <td>88541</td>\n",
       "      <td>51291</td>\n",
       "      <td>139832</td>\n",
       "    </tr>\n",
       "    <tr>\n",
       "      <td>상호저축은행</td>\n",
       "      <td>95451</td>\n",
       "      <td>80219</td>\n",
       "      <td>175670</td>\n",
       "    </tr>\n",
       "    <tr>\n",
       "      <td>기타</td>\n",
       "      <td>189432</td>\n",
       "      <td>185981</td>\n",
       "      <td>375413</td>\n",
       "    </tr>\n",
       "  </tbody>\n",
       "</table>\n",
       "</div>"
      ],
      "text/plain": [
       "성별                   1       2      전체\n",
       "은행              243279  195657  438936\n",
       "상호금융             28228   24984   53212\n",
       "신용카드사           124312  117982  242294\n",
       "생명보험사             1235    1338    2573\n",
       "손해보험사             4574    3461    8035\n",
       "캐피탈·할부·리스·신기술사   88541   51291  139832\n",
       "상호저축은행           95451   80219  175670\n",
       "기타              189432  185981  375413"
      ]
     },
     "execution_count": 235,
     "metadata": {},
     "output_type": "execute_result"
    }
   ],
   "source": [
    "차주수"
   ]
  },
  {
   "cell_type": "code",
   "execution_count": 236,
   "metadata": {},
   "outputs": [
    {
     "data": {
      "image/png": "[encoded data removed]",
      "text/plain": [
       "<Figure size 1080x360 with 1 Axes>"
      ]
     },
     "metadata": {
      "needs_background": "light"
     },
     "output_type": "display_data"
    }
   ],
   "source": [
    "ax = 차주수.plot(kind='bar', cmap='autumn', figsize=(15,5), fontsize=11)\n",
    "\n",
    "#값 표시\n",
    "for i in range(len(차주수)):\n",
    "    #ax.text(x=i, y=차주수.iloc[:,0].values[i], s=차주수.iloc[:,0].values[i],\n",
    "    #        horizontalalignment='right', verticalalignment ='bottom',fontsize=8)\n",
    "    \n",
    "    #ax.text(x=i, y=차주수.iloc[:,1].values[i], s=차주수.iloc[:,1].values[i],\n",
    "    #        horizontalalignment='left', verticalalignment ='bottom', fontsize=8)\n",
    "    \n",
    "    ax.text(x=i, y=차주수.iloc[:,2].values[i], s=차주수.iloc[:,2].values[i],\n",
    "            horizontalalignment='left', verticalalignment ='bottom', fontsize=12)\n",
    "    \n",
    "#레전드 추가    \n",
    "plt.legend(labels=['남자','여자','전체'],bbox_to_anchor = (1.05,1), loc='upper left')\n",
    "plt.title('20대 업권별 누적 대출건수',fontsize=15)\n",
    "plt.xticks(rotation=360)\n",
    "\n",
    "\n",
    "fig = ax.get_figure()\n",
    "ax.figure.savefig('C:/Users/ksy/Desktop/개인/코로나19 팀프로젝트/1.현황분석/png/대출현황/png/'+   ' 1-1.20대 차주수.png',bbox_inches='tight')\n",
    "plt.show()"
   ]
  },
  {
   "cell_type": "code",
   "execution_count": 237,
   "metadata": {},
   "outputs": [],
   "source": [
    "나이20.iloc[:,2:]\n",
    "비중['전체']=비중.sum(axis=1)\n",
    "비중=비중.round(2)"
   ]
  },
  {
   "cell_type": "code",
   "execution_count": 238,
   "metadata": {},
   "outputs": [
    {
     "data": {
      "text/plain": [
       "성별\n",
       "남자비중     53.99\n",
       "여자비중     46.02\n",
       "전체      200.01\n",
       "dtype: float64"
      ]
     },
     "execution_count": 238,
     "metadata": {},
     "output_type": "execute_result"
    }
   ],
   "source": [
    "비중.sum()"
   ]
  },
  {
   "cell_type": "code",
   "execution_count": 239,
   "metadata": {},
   "outputs": [
    {
     "data": {
      "image/png": "[encoded data removed]",
      "text/plain": [
       "<Figure size 1080x360 with 1 Axes>"
      ]
     },
     "metadata": {
      "needs_background": "light"
     },
     "output_type": "display_data"
    }
   ],
   "source": [
    "ax = 비중.plot(kind='bar', cmap='autumn', figsize=(15,5), fontsize=11)   \n",
    " \n",
    "#값 표시\n",
    "for i in range(len(비중)):\n",
    "   \n",
    "    ax.text(x=i, y=비중.iloc[:,2].values[i], s=비중.iloc[:,2].values[i],\n",
    "            horizontalalignment='left', verticalalignment ='bottom', fontsize=12)\n",
    "    \n",
    "#레전드 추가    \n",
    "plt.legend(labels=['남자','여자','전체'],bbox_to_anchor = (1.05,1), loc='upper left')\n",
    "plt.title('20대 업권별 누적 대출건수 비중(%)',fontsize=15)\n",
    "plt.xticks(rotation=360)\n",
    "\n",
    "\n",
    "fig = ax.get_figure()\n",
    "ax.figure.savefig('C:/Users/ksy/Desktop/개인/코로나19 팀프로젝트/1.현황분석/png/대출현황/png/'+   ' 1-2.20대 차주수 비중.png',bbox_inches='tight')\n",
    "plt.show()"
   ]
  },
  {
   "cell_type": "markdown",
   "metadata": {},
   "source": [
    "# 30대"
   ]
  },
  {
   "cell_type": "code",
   "execution_count": 243,
   "metadata": {},
   "outputs": [
    {
     "name": "stderr",
     "output_type": "stream",
     "text": [
      "C:\\ProgramData\\Anaconda3\\lib\\site-packages\\ipykernel_launcher.py:3: SettingWithCopyWarning: \n",
      "A value is trying to be set on a copy of a slice from a DataFrame.\n",
      "Try using .loc[row_indexer,col_indexer] = value instead\n",
      "\n",
      "See the caveats in the documentation: http://pandas.pydata.org/pandas-docs/stable/user_guide/indexing.html#returning-a-view-versus-a-copy\n",
      "  This is separate from the ipykernel package so we can avoid doing imports until\n"
     ]
    }
   ],
   "source": [
    "차주수 = 나이30.iloc[:,:2]\n",
    "비중 = 나이30.iloc[:,2:]\n",
    "차주수['전체']=차주수.sum(axis=1)\n",
    "비중['전체']=비중.sum(axis=1)\n",
    "비중=비중.round(2)"
   ]
  },
  {
   "cell_type": "code",
   "execution_count": 244,
   "metadata": {},
   "outputs": [
    {
     "data": {
      "image/png": "[encoded data removed]",
      "text/plain": [
       "<Figure size 1080x360 with 1 Axes>"
      ]
     },
     "metadata": {
      "needs_background": "light"
     },
     "output_type": "display_data"
    }
   ],
   "source": [
    "ax = 차주수.plot(kind='bar', cmap='winter', figsize=(15,5), fontsize=11) ####color 변경\n",
    "\n",
    "#값 표시\n",
    "for i in range(len(차주수)):\n",
    "    ax.text(x=i, y=차주수.iloc[:,2].values[i], s=차주수.iloc[:,2].values[i],\n",
    "            horizontalalignment='left', verticalalignment ='bottom', fontsize=12)\n",
    "    \n",
    "    \n",
    "#레전드 추가    \n",
    "plt.legend(labels=['남자','여자','전체'],bbox_to_anchor = (1.05,1), loc='upper left')\n",
    "plt.title('30대 업권별 누적 대출건수',fontsize=15) ##############변경\n",
    "plt.xticks(rotation=360)\n",
    "\n",
    "\n",
    "fig = ax.get_figure()\n",
    "ax.figure.savefig('C:/Users/ksy/Desktop/개인/코로나19 팀프로젝트/1.현황분석/png/대출현황/png/'+   ' 2-1.30대 차주수.png',bbox_inches='tight') ############### 변경\n",
    "plt.show()"
   ]
  },
  {
   "cell_type": "code",
   "execution_count": 245,
   "metadata": {},
   "outputs": [
    {
     "data": {
      "image/png": "[encoded data removed]",
      "text/plain": [
       "<Figure size 1080x360 with 1 Axes>"
      ]
     },
     "metadata": {
      "needs_background": "light"
     },
     "output_type": "display_data"
    }
   ],
   "source": [
    "ax = 비중.plot(kind='bar', cmap='winter', figsize=(15,5), fontsize=11) ####color 변경\n",
    "\n",
    "#값 표시\n",
    "for i in range(len(비중)):\n",
    "    ax.text(x=i, y=비중.iloc[:,2].values[i], s=비중.iloc[:,2].values[i],\n",
    "            horizontalalignment='left', verticalalignment ='bottom', fontsize=12)\n",
    "    \n",
    "#레전드 추가    \n",
    "plt.legend(labels=['남자','여자','전체'],bbox_to_anchor = (1.05,1), loc='upper left')\n",
    "plt.title('30대 업권별 누적 대출건수 비중(%)',fontsize=15) ##############변경\n",
    "plt.xticks(rotation=360)\n",
    "\n",
    "\n",
    "fig = ax.get_figure()\n",
    "ax.figure.savefig('C:/Users/ksy/Desktop/개인/코로나19 팀프로젝트/1.현황분석/png/대출현황/png/'+   ' 2-2.30대 차주수 비중.png',bbox_inches='tight') ############### 변경\n",
    "plt.show()"
   ]
  },
  {
   "cell_type": "markdown",
   "metadata": {},
   "source": [
    "# 40대"
   ]
  },
  {
   "cell_type": "code",
   "execution_count": 246,
   "metadata": {},
   "outputs": [
    {
     "name": "stderr",
     "output_type": "stream",
     "text": [
      "C:\\ProgramData\\Anaconda3\\lib\\site-packages\\ipykernel_launcher.py:3: SettingWithCopyWarning: \n",
      "A value is trying to be set on a copy of a slice from a DataFrame.\n",
      "Try using .loc[row_indexer,col_indexer] = value instead\n",
      "\n",
      "See the caveats in the documentation: http://pandas.pydata.org/pandas-docs/stable/user_guide/indexing.html#returning-a-view-versus-a-copy\n",
      "  This is separate from the ipykernel package so we can avoid doing imports until\n"
     ]
    }
   ],
   "source": [
    "차주수 = 나이40.iloc[:,:2]\n",
    "비중 = 나이40.iloc[:,2:]\n",
    "차주수['전체']=차주수.sum(axis=1)\n",
    "비중['전체']=비중.sum(axis=1)\n",
    "비중=비중.round(2)"
   ]
  },
  {
   "cell_type": "code",
   "execution_count": 247,
   "metadata": {},
   "outputs": [
    {
     "data": {
      "image/png": "[encoded data removed]",
      "text/plain": [
       "<Figure size 1080x360 with 1 Axes>"
      ]
     },
     "metadata": {
      "needs_background": "light"
     },
     "output_type": "display_data"
    }
   ],
   "source": [
    "ax = 차주수.plot(kind='bar', cmap='plasma', figsize=(15,5), fontsize=11) ####color 변경\n",
    "\n",
    "#값 표시\n",
    "for i in range(len(차주수)):\n",
    "    ax.text(x=i, y=차주수.iloc[:,2].values[i], s=차주수.iloc[:,2].values[i],\n",
    "            horizontalalignment='left', verticalalignment ='bottom', fontsize=12)\n",
    "    \n",
    "    \n",
    "#레전드 추가    \n",
    "plt.legend(labels=['남자','여자','전체'],bbox_to_anchor = (1.05,1), loc='upper left')\n",
    "plt.title('40대 업권별 누적 대출건수',fontsize=15) ##############변경\n",
    "plt.xticks(rotation=360)\n",
    "\n",
    "\n",
    "fig = ax.get_figure()\n",
    "ax.figure.savefig('C:/Users/ksy/Desktop/개인/코로나19 팀프로젝트/1.현황분석/png/대출현황/png/'+   ' 3-1.40대 차주수.png',bbox_inches='tight') ############### 변경\n",
    "plt.show()"
   ]
  },
  {
   "cell_type": "code",
   "execution_count": 248,
   "metadata": {},
   "outputs": [
    {
     "data": {
      "image/png": "[encoded data removed]",
      "text/plain": [
       "<Figure size 1080x360 with 1 Axes>"
      ]
     },
     "metadata": {
      "needs_background": "light"
     },
     "output_type": "display_data"
    }
   ],
   "source": [
    "ax = 비중.plot(kind='bar', cmap='plasma', figsize=(15,5), fontsize=11) ####color 변경\n",
    "\n",
    "#값 표시\n",
    "for i in range(len(비중)):\n",
    "    ax.text(x=i, y=비중.iloc[:,2].values[i], s=비중.iloc[:,2].values[i],\n",
    "            horizontalalignment='left', verticalalignment ='bottom', fontsize=12)\n",
    "    \n",
    "#레전드 추가    \n",
    "plt.legend(labels=['남자','여자','전체'],bbox_to_anchor = (1.05,1), loc='upper left')\n",
    "plt.title('40대 업권별 누적 대출건수 비중(%)',fontsize=15) ##############변경\n",
    "plt.xticks(rotation=360)\n",
    "\n",
    "\n",
    "fig = ax.get_figure()\n",
    "ax.figure.savefig('C:/Users/ksy/Desktop/개인/코로나19 팀프로젝트/1.현황분석/png/대출현황/png/'+   ' 3-2.40대 차주수 비중.png',bbox_inches='tight') ############### 변경\n",
    "plt.show()"
   ]
  },
  {
   "cell_type": "code",
   "execution_count": null,
   "metadata": {},
   "outputs": [],
   "source": []
  },
  {
   "cell_type": "code",
   "execution_count": null,
   "metadata": {},
   "outputs": [],
   "source": []
  },
  {
   "cell_type": "markdown",
   "metadata": {},
   "source": [
    "# 50대"
   ]
  },
  {
   "cell_type": "code",
   "execution_count": 249,
   "metadata": {},
   "outputs": [
    {
     "name": "stderr",
     "output_type": "stream",
     "text": [
      "C:\\ProgramData\\Anaconda3\\lib\\site-packages\\ipykernel_launcher.py:3: SettingWithCopyWarning: \n",
      "A value is trying to be set on a copy of a slice from a DataFrame.\n",
      "Try using .loc[row_indexer,col_indexer] = value instead\n",
      "\n",
      "See the caveats in the documentation: http://pandas.pydata.org/pandas-docs/stable/user_guide/indexing.html#returning-a-view-versus-a-copy\n",
      "  This is separate from the ipykernel package so we can avoid doing imports until\n"
     ]
    }
   ],
   "source": [
    "차주수 = 나이50.iloc[:,:2]\n",
    "비중 = 나이50.iloc[:,2:]\n",
    "차주수['전체']=차주수.sum(axis=1)\n",
    "비중['전체']=비중.sum(axis=1)\n",
    "비중=비중.round(2)"
   ]
  },
  {
   "cell_type": "code",
   "execution_count": 250,
   "metadata": {},
   "outputs": [
    {
     "data": {
      "image/png": "[encoded data removed]",
      "text/plain": [
       "<Figure size 1080x360 with 1 Axes>"
      ]
     },
     "metadata": {
      "needs_background": "light"
     },
     "output_type": "display_data"
    }
   ],
   "source": [
    "ax = 차주수.plot(kind='bar', cmap='viridis', figsize=(15,5), fontsize=11) ####color 변경\n",
    "\n",
    "#값 표시\n",
    "for i in range(len(차주수)):\n",
    "    ax.text(x=i, y=차주수.iloc[:,2].values[i], s=차주수.iloc[:,2].values[i],\n",
    "            horizontalalignment='left', verticalalignment ='bottom', fontsize=12)\n",
    "    \n",
    "    \n",
    "#레전드 추가    \n",
    "plt.legend(labels=['남자','여자','전체'],bbox_to_anchor = (1.05,1), loc='upper left')\n",
    "plt.title('50대 업권별 누적 대출건수',fontsize=15) ##############변경\n",
    "plt.xticks(rotation=360)\n",
    "\n",
    "\n",
    "fig = ax.get_figure()\n",
    "ax.figure.savefig('C:/Users/ksy/Desktop/개인/코로나19 팀프로젝트/1.현황분석/png/대출현황/png/'+   ' 4-1.50대 차주수.png',bbox_inches='tight') ############### 변경\n",
    "plt.show()"
   ]
  },
  {
   "cell_type": "code",
   "execution_count": 251,
   "metadata": {},
   "outputs": [
    {
     "data": {
      "image/png": "[encoded data removed]",
      "text/plain": [
       "<Figure size 1080x360 with 1 Axes>"
      ]
     },
     "metadata": {
      "needs_background": "light"
     },
     "output_type": "display_data"
    }
   ],
   "source": [
    "ax = 비중.plot(kind='bar', cmap='viridis', figsize=(15,5), fontsize=11) ####color 변경\n",
    "\n",
    "#값 표시\n",
    "for i in range(len(비중)):\n",
    "    ax.text(x=i, y=비중.iloc[:,2].values[i], s=비중.iloc[:,2].values[i],\n",
    "            horizontalalignment='left', verticalalignment ='bottom', fontsize=12)\n",
    "    \n",
    "#레전드 추가    \n",
    "plt.legend(labels=['남자','여자','전체'],bbox_to_anchor = (1.05,1), loc='upper left')\n",
    "plt.title('50대 업권별 누적 대출건수 비중(%)',fontsize=15) ##############변경\n",
    "plt.xticks(rotation=360)\n",
    "\n",
    "\n",
    "fig = ax.get_figure()\n",
    "ax.figure.savefig('C:/Users/ksy/Desktop/개인/코로나19 팀프로젝트/1.현황분석/png/대출현황/png/'+   ' 4-2.50대 차주수 비중.png',bbox_inches='tight') ############### 변경\n",
    "plt.show()"
   ]
  },
  {
   "cell_type": "markdown",
   "metadata": {},
   "source": [
    "# 60대"
   ]
  },
  {
   "cell_type": "code",
   "execution_count": 252,
   "metadata": {},
   "outputs": [
    {
     "name": "stderr",
     "output_type": "stream",
     "text": [
      "C:\\ProgramData\\Anaconda3\\lib\\site-packages\\ipykernel_launcher.py:3: SettingWithCopyWarning: \n",
      "A value is trying to be set on a copy of a slice from a DataFrame.\n",
      "Try using .loc[row_indexer,col_indexer] = value instead\n",
      "\n",
      "See the caveats in the documentation: http://pandas.pydata.org/pandas-docs/stable/user_guide/indexing.html#returning-a-view-versus-a-copy\n",
      "  This is separate from the ipykernel package so we can avoid doing imports until\n"
     ]
    }
   ],
   "source": [
    "차주수 = 나이60.iloc[:,:2]\n",
    "비중 = 나이60.iloc[:,2:]\n",
    "차주수['전체']=차주수.sum(axis=1)\n",
    "비중['전체']=비중.sum(axis=1)\n",
    "비중=비중.round(2)"
   ]
  },
  {
   "cell_type": "code",
   "execution_count": 253,
   "metadata": {},
   "outputs": [
    {
     "data": {
      "image/png": "[encoded data removed]",
      "text/plain": [
       "<Figure size 1080x360 with 1 Axes>"
      ]
     },
     "metadata": {
      "needs_background": "light"
     },
     "output_type": "display_data"
    }
   ],
   "source": [
    "ax = 차주수.plot(kind='bar', cmap='summer', figsize=(15,5), fontsize=11) ####color 변경\n",
    "\n",
    "#값 표시\n",
    "for i in range(len(차주수)):\n",
    "    ax.text(x=i, y=차주수.iloc[:,2].values[i], s=차주수.iloc[:,2].values[i],\n",
    "            horizontalalignment='left', verticalalignment ='bottom', fontsize=12)\n",
    "    \n",
    "#레전드 추가    \n",
    "plt.legend(labels=['남자','여자'],bbox_to_anchor = (1.05,1), loc='upper left')\n",
    "plt.title('60대 업권별누적 대출건수',fontsize=15) ##############변경\n",
    "plt.xticks(rotation=360)\n",
    "\n",
    "\n",
    "fig = ax.get_figure()\n",
    "ax.figure.savefig('C:/Users/ksy/Desktop/개인/코로나19 팀프로젝트/1.현황분석/png/대출현황/png/'+   ' 5-1.60대 차주수.png',bbox_inches='tight') ############### 변경\n",
    "plt.show()"
   ]
  },
  {
   "cell_type": "code",
   "execution_count": 254,
   "metadata": {},
   "outputs": [
    {
     "data": {
      "image/png": "[encoded data removed]",
      "text/plain": [
       "<Figure size 1080x360 with 1 Axes>"
      ]
     },
     "metadata": {
      "needs_background": "light"
     },
     "output_type": "display_data"
    }
   ],
   "source": [
    "ax = 비중.plot(kind='bar', cmap='summer', figsize=(15,5), fontsize=11) ####color 변경\n",
    "\n",
    "#값 표시\n",
    "for i in range(len(비중)):\n",
    "    ax.text(x=i, y=비중.iloc[:,2].values[i], s=비중.iloc[:,2].values[i],\n",
    "            horizontalalignment='left', verticalalignment ='bottom', fontsize=12)\n",
    "#레전드 추가    \n",
    "plt.legend(labels=['남자','여자','전체'],bbox_to_anchor = (1.05,1), loc='upper left')\n",
    "plt.title('60대 업권별 누적 대출건수 비중(%)',fontsize=15) ##############변경\n",
    "plt.xticks(rotation=360)\n",
    "\n",
    "\n",
    "fig = ax.get_figure()\n",
    "ax.figure.savefig('C:/Users/ksy/Desktop/개인/코로나19 팀프로젝트/1.현황분석/png/대출현황/png/'+   ' 5-2.60대 차주수 비중.png',bbox_inches='tight') ############### 변경\n",
    "plt.show()"
   ]
  },
  {
   "cell_type": "code",
   "execution_count": null,
   "metadata": {},
   "outputs": [],
   "source": []
  },
  {
   "cell_type": "markdown",
   "metadata": {},
   "source": [
    "# 70대"
   ]
  },
  {
   "cell_type": "code",
   "execution_count": 255,
   "metadata": {},
   "outputs": [
    {
     "name": "stderr",
     "output_type": "stream",
     "text": [
      "C:\\ProgramData\\Anaconda3\\lib\\site-packages\\ipykernel_launcher.py:3: SettingWithCopyWarning: \n",
      "A value is trying to be set on a copy of a slice from a DataFrame.\n",
      "Try using .loc[row_indexer,col_indexer] = value instead\n",
      "\n",
      "See the caveats in the documentation: http://pandas.pydata.org/pandas-docs/stable/user_guide/indexing.html#returning-a-view-versus-a-copy\n",
      "  This is separate from the ipykernel package so we can avoid doing imports until\n"
     ]
    }
   ],
   "source": [
    "차주수 = 나이70.iloc[:,:2]\n",
    "비중 = 나이70.iloc[:,2:]\n",
    "차주수['전체']=차주수.sum(axis=1)\n",
    "비중['전체']=비중.sum(axis=1)\n",
    "비중=비중.round(2)"
   ]
  },
  {
   "cell_type": "code",
   "execution_count": 256,
   "metadata": {},
   "outputs": [
    {
     "data": {
      "image/png": "[encoded data removed]",
      "text/plain": [
       "<Figure size 1080x360 with 1 Axes>"
      ]
     },
     "metadata": {
      "needs_background": "light"
     },
     "output_type": "display_data"
    }
   ],
   "source": [
    "ax = 차주수.plot(kind='bar', cmap='copper', figsize=(15,5), fontsize=11) ####color 변경\n",
    "\n",
    "#값 표시\n",
    "for i in range(len(차주수)):\n",
    "    ax.text(x=i, y=차주수.iloc[:,2].values[i], s=차주수.iloc[:,2].values[i],\n",
    "            horizontalalignment='left', verticalalignment ='bottom', fontsize=12)\n",
    "    \n",
    "    \n",
    "#레전드 추가    \n",
    "plt.legend(labels=['남자','여자','전체'],bbox_to_anchor = (1.05,1), loc='upper left')\n",
    "plt.title('70대 업권별 누적 대출건수',fontsize=15) ##############변경\n",
    "plt.xticks(rotation=360)\n",
    "\n",
    "\n",
    "fig = ax.get_figure()\n",
    "ax.figure.savefig('C:/Users/ksy/Desktop/개인/코로나19 팀프로젝트/1.현황분석/png/대출현황/png/'+   ' 6-1.70대 차주수.png',bbox_inches='tight') ############### 변경\n",
    "plt.show()"
   ]
  },
  {
   "cell_type": "code",
   "execution_count": 257,
   "metadata": {},
   "outputs": [
    {
     "data": {
      "image/png": "[encoded data removed]",
      "text/plain": [
       "<Figure size 1080x360 with 1 Axes>"
      ]
     },
     "metadata": {
      "needs_background": "light"
     },
     "output_type": "display_data"
    }
   ],
   "source": [
    "ax = 비중.plot(kind='bar', cmap='copper', figsize=(15,5), fontsize=11) ####color 변경\n",
    "\n",
    "#값 표시\n",
    "for i in range(len(비중)):\n",
    "    ax.text(x=i, y=비중.iloc[:,2].values[i], s=비중.iloc[:,2].values[i],\n",
    "            horizontalalignment='left', verticalalignment ='bottom', fontsize=12)\n",
    "    \n",
    "#레전드 추가    \n",
    "plt.legend(labels=['남자','여자','전체'],bbox_to_anchor = (1.05,1), loc='upper left')\n",
    "plt.title('70대 업권별 누적 대출건수 비중(%)',fontsize=15) ##############변경\n",
    "plt.xticks(rotation=360)\n",
    "\n",
    "\n",
    "fig = ax.get_figure()\n",
    "ax.figure.savefig('C:/Users/ksy/Desktop/개인/코로나19 팀프로젝트/1.현황분석/png/대출현황/png/'+   ' 6-2.70대 차주수 비중.png',bbox_inches='tight') ############### 변경\n",
    "plt.show()"
   ]
  },
  {
   "cell_type": "markdown",
   "metadata": {},
   "source": [
    "# 80대"
   ]
  },
  {
   "cell_type": "code",
   "execution_count": 258,
   "metadata": {},
   "outputs": [
    {
     "name": "stderr",
     "output_type": "stream",
     "text": [
      "C:\\ProgramData\\Anaconda3\\lib\\site-packages\\ipykernel_launcher.py:3: SettingWithCopyWarning: \n",
      "A value is trying to be set on a copy of a slice from a DataFrame.\n",
      "Try using .loc[row_indexer,col_indexer] = value instead\n",
      "\n",
      "See the caveats in the documentation: http://pandas.pydata.org/pandas-docs/stable/user_guide/indexing.html#returning-a-view-versus-a-copy\n",
      "  This is separate from the ipykernel package so we can avoid doing imports until\n"
     ]
    }
   ],
   "source": [
    "차주수 = 나이80.iloc[:,:2]\n",
    "비중 = 나이80.iloc[:,2:]\n",
    "차주수['전체']=차주수.sum(axis=1)\n",
    "비중['전체']=비중.sum(axis=1)\n",
    "비중=비중.round(2)"
   ]
  },
  {
   "cell_type": "code",
   "execution_count": 259,
   "metadata": {},
   "outputs": [
    {
     "data": {
      "image/png": "[encoded data removed]",
      "text/plain": [
       "<Figure size 1080x360 with 1 Axes>"
      ]
     },
     "metadata": {
      "needs_background": "light"
     },
     "output_type": "display_data"
    }
   ],
   "source": [
    "ax = 차주수.plot(kind='bar', cmap='cividis', figsize=(15,5), fontsize=11) ####color 변경\n",
    "\n",
    "#값 표시\n",
    "for i in range(len(차주수)):\n",
    "    ax.text(x=i, y=차주수.iloc[:,2].values[i], s=차주수.iloc[:,2].values[i],\n",
    "            horizontalalignment='left', verticalalignment ='bottom', fontsize=12)\n",
    "    \n",
    "#레전드 추가    \n",
    "plt.legend(labels=['남자','여자','전체'],bbox_to_anchor = (1.05,1), loc='upper left')\n",
    "plt.title('80대 이상 업권별 누적 대출건수',fontsize=15) ##############변경\n",
    "plt.xticks(rotation=360)\n",
    "\n",
    "\n",
    "fig = ax.get_figure()\n",
    "ax.figure.savefig('C:/Users/ksy/Desktop/개인/코로나19 팀프로젝트/1.현황분석/png/대출현황/png/'+   ' 7-1.80대 차주수.png',bbox_inches='tight') ############### 변경\n",
    "plt.show()"
   ]
  },
  {
   "cell_type": "code",
   "execution_count": 260,
   "metadata": {},
   "outputs": [
    {
     "data": {
      "image/png": "[encoded data removed]",
      "text/plain": [
       "<Figure size 1080x360 with 1 Axes>"
      ]
     },
     "metadata": {
      "needs_background": "light"
     },
     "output_type": "display_data"
    }
   ],
   "source": [
    "ax = 비중.plot(kind='bar', cmap='cividis', figsize=(15,5), fontsize=11) ####color 변경\n",
    "\n",
    "#값 표시\n",
    "for i in range(len(비중)):\n",
    "    ax.text(x=i, y=비중.iloc[:,2].values[i], s=비중.iloc[:,2].values[i],\n",
    "            horizontalalignment='left', verticalalignment ='bottom', fontsize=12)\n",
    "#레전드 추가    \n",
    "plt.legend(labels=['남자','여자','전체'],bbox_to_anchor = (1.05,1), loc='upper left')\n",
    "plt.title('80대 이상 업권별 누적 대출건수 비중(%)',fontsize=15) ##############변경\n",
    "plt.xticks(rotation=360)\n",
    "\n",
    "\n",
    "fig = ax.get_figure()\n",
    "ax.figure.savefig('C:/Users/ksy/Desktop/개인/코로나19 팀프로젝트/1.현황분석/png/대출현황/png/'+   ' 7-2.80대 차주수 비중.png',bbox_inches='tight') ############### 변경\n",
    "plt.show()"
   ]
  },
  {
   "cell_type": "code",
   "execution_count": 364,
   "metadata": {},
   "outputs": [
    {
     "data": {
      "text/html": [
       "<div>\n",
       "<style scoped>\n",
       "    .dataframe tbody tr th:only-of-type {\n",
       "        vertical-align: middle;\n",
       "    }\n",
       "\n",
       "    .dataframe tbody tr th {\n",
       "        vertical-align: top;\n",
       "    }\n",
       "\n",
       "    .dataframe thead th {\n",
       "        text-align: right;\n",
       "    }\n",
       "</style>\n",
       "<table border=\"1\" class=\"dataframe\">\n",
       "  <thead>\n",
       "    <tr style=\"text-align: right;\">\n",
       "      <th>성별</th>\n",
       "      <th>1</th>\n",
       "      <th>2</th>\n",
       "      <th>남자비중</th>\n",
       "      <th>여자비중</th>\n",
       "      <th>전체</th>\n",
       "    </tr>\n",
       "  </thead>\n",
       "  <tbody>\n",
       "    <tr>\n",
       "      <td>은행</td>\n",
       "      <td>243279</td>\n",
       "      <td>195657</td>\n",
       "      <td>16.94</td>\n",
       "      <td>13.62</td>\n",
       "      <td>30.57</td>\n",
       "    </tr>\n",
       "    <tr>\n",
       "      <td>상호금융</td>\n",
       "      <td>28228</td>\n",
       "      <td>24984</td>\n",
       "      <td>1.97</td>\n",
       "      <td>1.74</td>\n",
       "      <td>3.71</td>\n",
       "    </tr>\n",
       "    <tr>\n",
       "      <td>신용카드사</td>\n",
       "      <td>124312</td>\n",
       "      <td>117982</td>\n",
       "      <td>8.66</td>\n",
       "      <td>8.22</td>\n",
       "      <td>16.87</td>\n",
       "    </tr>\n",
       "    <tr>\n",
       "      <td>생명보험사</td>\n",
       "      <td>1235</td>\n",
       "      <td>1338</td>\n",
       "      <td>0.09</td>\n",
       "      <td>0.09</td>\n",
       "      <td>0.18</td>\n",
       "    </tr>\n",
       "    <tr>\n",
       "      <td>손해보험사</td>\n",
       "      <td>4574</td>\n",
       "      <td>3461</td>\n",
       "      <td>0.32</td>\n",
       "      <td>0.24</td>\n",
       "      <td>0.56</td>\n",
       "    </tr>\n",
       "    <tr>\n",
       "      <td>캐피탈·할부·리스·신기술사</td>\n",
       "      <td>88541</td>\n",
       "      <td>51291</td>\n",
       "      <td>6.17</td>\n",
       "      <td>3.57</td>\n",
       "      <td>9.74</td>\n",
       "    </tr>\n",
       "    <tr>\n",
       "      <td>상호저축은행</td>\n",
       "      <td>95451</td>\n",
       "      <td>80219</td>\n",
       "      <td>6.65</td>\n",
       "      <td>5.59</td>\n",
       "      <td>12.23</td>\n",
       "    </tr>\n",
       "    <tr>\n",
       "      <td>기타</td>\n",
       "      <td>189432</td>\n",
       "      <td>185981</td>\n",
       "      <td>13.19</td>\n",
       "      <td>12.95</td>\n",
       "      <td>26.14</td>\n",
       "    </tr>\n",
       "  </tbody>\n",
       "</table>\n",
       "</div>"
      ],
      "text/plain": [
       "성별                   1       2   남자비중   여자비중     전체\n",
       "은행              243279  195657  16.94  13.62  30.57\n",
       "상호금융             28228   24984   1.97   1.74   3.71\n",
       "신용카드사           124312  117982   8.66   8.22  16.87\n",
       "생명보험사             1235    1338   0.09   0.09   0.18\n",
       "손해보험사             4574    3461   0.32   0.24   0.56\n",
       "캐피탈·할부·리스·신기술사   88541   51291   6.17   3.57   9.74\n",
       "상호저축은행           95451   80219   6.65   5.59  12.23\n",
       "기타              189432  185981  13.19  12.95  26.14"
      ]
     },
     "execution_count": 364,
     "metadata": {},
     "output_type": "execute_result"
    }
   ],
   "source": [
    "나이20"
   ]
  },
  {
   "cell_type": "code",
   "execution_count": 365,
   "metadata": {},
   "outputs": [
    {
     "data": {
      "text/html": [
       "<div>\n",
       "<style scoped>\n",
       "    .dataframe tbody tr th:only-of-type {\n",
       "        vertical-align: middle;\n",
       "    }\n",
       "\n",
       "    .dataframe tbody tr th {\n",
       "        vertical-align: top;\n",
       "    }\n",
       "\n",
       "    .dataframe thead th {\n",
       "        text-align: right;\n",
       "    }\n",
       "</style>\n",
       "<table border=\"1\" class=\"dataframe\">\n",
       "  <thead>\n",
       "    <tr style=\"text-align: right;\">\n",
       "      <th>성별</th>\n",
       "      <th>1</th>\n",
       "      <th>2</th>\n",
       "      <th>남자비중</th>\n",
       "      <th>여자비중</th>\n",
       "      <th>전체</th>\n",
       "    </tr>\n",
       "  </thead>\n",
       "  <tbody>\n",
       "    <tr>\n",
       "      <td>은행</td>\n",
       "      <td>1041329</td>\n",
       "      <td>527094</td>\n",
       "      <td>26.91</td>\n",
       "      <td>13.62</td>\n",
       "      <td>40.53</td>\n",
       "    </tr>\n",
       "    <tr>\n",
       "      <td>상호금융</td>\n",
       "      <td>170143</td>\n",
       "      <td>96061</td>\n",
       "      <td>4.40</td>\n",
       "      <td>2.48</td>\n",
       "      <td>6.88</td>\n",
       "    </tr>\n",
       "    <tr>\n",
       "      <td>신용카드사</td>\n",
       "      <td>411387</td>\n",
       "      <td>377806</td>\n",
       "      <td>10.63</td>\n",
       "      <td>9.76</td>\n",
       "      <td>20.40</td>\n",
       "    </tr>\n",
       "    <tr>\n",
       "      <td>생명보험사</td>\n",
       "      <td>13132</td>\n",
       "      <td>12484</td>\n",
       "      <td>0.34</td>\n",
       "      <td>0.32</td>\n",
       "      <td>0.66</td>\n",
       "    </tr>\n",
       "    <tr>\n",
       "      <td>손해보험사</td>\n",
       "      <td>26047</td>\n",
       "      <td>32193</td>\n",
       "      <td>0.67</td>\n",
       "      <td>0.83</td>\n",
       "      <td>1.51</td>\n",
       "    </tr>\n",
       "    <tr>\n",
       "      <td>캐피탈·할부·리스·신기술사</td>\n",
       "      <td>294400</td>\n",
       "      <td>158381</td>\n",
       "      <td>7.61</td>\n",
       "      <td>4.09</td>\n",
       "      <td>11.70</td>\n",
       "    </tr>\n",
       "    <tr>\n",
       "      <td>상호저축은행</td>\n",
       "      <td>228403</td>\n",
       "      <td>160979</td>\n",
       "      <td>5.90</td>\n",
       "      <td>4.16</td>\n",
       "      <td>10.06</td>\n",
       "    </tr>\n",
       "    <tr>\n",
       "      <td>기타</td>\n",
       "      <td>209737</td>\n",
       "      <td>109785</td>\n",
       "      <td>5.42</td>\n",
       "      <td>2.84</td>\n",
       "      <td>8.26</td>\n",
       "    </tr>\n",
       "  </tbody>\n",
       "</table>\n",
       "</div>"
      ],
      "text/plain": [
       "성별                    1       2   남자비중   여자비중     전체\n",
       "은행              1041329  527094  26.91  13.62  40.53\n",
       "상호금융             170143   96061   4.40   2.48   6.88\n",
       "신용카드사            411387  377806  10.63   9.76  20.40\n",
       "생명보험사             13132   12484   0.34   0.32   0.66\n",
       "손해보험사             26047   32193   0.67   0.83   1.51\n",
       "캐피탈·할부·리스·신기술사   294400  158381   7.61   4.09  11.70\n",
       "상호저축은행           228403  160979   5.90   4.16  10.06\n",
       "기타               209737  109785   5.42   2.84   8.26"
      ]
     },
     "execution_count": 365,
     "metadata": {},
     "output_type": "execute_result"
    }
   ],
   "source": [
    "나이30"
   ]
  },
  {
   "cell_type": "code",
   "execution_count": 366,
   "metadata": {},
   "outputs": [
    {
     "data": {
      "text/html": [
       "<div>\n",
       "<style scoped>\n",
       "    .dataframe tbody tr th:only-of-type {\n",
       "        vertical-align: middle;\n",
       "    }\n",
       "\n",
       "    .dataframe tbody tr th {\n",
       "        vertical-align: top;\n",
       "    }\n",
       "\n",
       "    .dataframe thead th {\n",
       "        text-align: right;\n",
       "    }\n",
       "</style>\n",
       "<table border=\"1\" class=\"dataframe\">\n",
       "  <thead>\n",
       "    <tr style=\"text-align: right;\">\n",
       "      <th>성별</th>\n",
       "      <th>1</th>\n",
       "      <th>2</th>\n",
       "      <th>남자비중</th>\n",
       "      <th>여자비중</th>\n",
       "      <th>전체</th>\n",
       "    </tr>\n",
       "  </thead>\n",
       "  <tbody>\n",
       "    <tr>\n",
       "      <td>은행</td>\n",
       "      <td>1353611</td>\n",
       "      <td>734015</td>\n",
       "      <td>23.23</td>\n",
       "      <td>12.60</td>\n",
       "      <td>35.83</td>\n",
       "    </tr>\n",
       "    <tr>\n",
       "      <td>상호금융</td>\n",
       "      <td>364825</td>\n",
       "      <td>225196</td>\n",
       "      <td>6.26</td>\n",
       "      <td>3.86</td>\n",
       "      <td>10.13</td>\n",
       "    </tr>\n",
       "    <tr>\n",
       "      <td>신용카드사</td>\n",
       "      <td>780398</td>\n",
       "      <td>771710</td>\n",
       "      <td>13.39</td>\n",
       "      <td>13.24</td>\n",
       "      <td>26.64</td>\n",
       "    </tr>\n",
       "    <tr>\n",
       "      <td>생명보험사</td>\n",
       "      <td>31405</td>\n",
       "      <td>32392</td>\n",
       "      <td>0.54</td>\n",
       "      <td>0.56</td>\n",
       "      <td>1.09</td>\n",
       "    </tr>\n",
       "    <tr>\n",
       "      <td>손해보험사</td>\n",
       "      <td>73556</td>\n",
       "      <td>114915</td>\n",
       "      <td>1.26</td>\n",
       "      <td>1.97</td>\n",
       "      <td>3.23</td>\n",
       "    </tr>\n",
       "    <tr>\n",
       "      <td>캐피탈·할부·리스·신기술사</td>\n",
       "      <td>425436</td>\n",
       "      <td>259124</td>\n",
       "      <td>7.30</td>\n",
       "      <td>4.45</td>\n",
       "      <td>11.75</td>\n",
       "    </tr>\n",
       "    <tr>\n",
       "      <td>상호저축은행</td>\n",
       "      <td>249378</td>\n",
       "      <td>208063</td>\n",
       "      <td>4.28</td>\n",
       "      <td>3.57</td>\n",
       "      <td>7.85</td>\n",
       "    </tr>\n",
       "    <tr>\n",
       "      <td>기타</td>\n",
       "      <td>137737</td>\n",
       "      <td>65427</td>\n",
       "      <td>2.36</td>\n",
       "      <td>1.12</td>\n",
       "      <td>3.49</td>\n",
       "    </tr>\n",
       "  </tbody>\n",
       "</table>\n",
       "</div>"
      ],
      "text/plain": [
       "성별                    1       2   남자비중   여자비중     전체\n",
       "은행              1353611  734015  23.23  12.60  35.83\n",
       "상호금융             364825  225196   6.26   3.86  10.13\n",
       "신용카드사            780398  771710  13.39  13.24  26.64\n",
       "생명보험사             31405   32392   0.54   0.56   1.09\n",
       "손해보험사             73556  114915   1.26   1.97   3.23\n",
       "캐피탈·할부·리스·신기술사   425436  259124   7.30   4.45  11.75\n",
       "상호저축은행           249378  208063   4.28   3.57   7.85\n",
       "기타               137737   65427   2.36   1.12   3.49"
      ]
     },
     "execution_count": 366,
     "metadata": {},
     "output_type": "execute_result"
    }
   ],
   "source": [
    "나이40"
   ]
  },
  {
   "cell_type": "code",
   "execution_count": 367,
   "metadata": {},
   "outputs": [
    {
     "data": {
      "text/html": [
       "<div>\n",
       "<style scoped>\n",
       "    .dataframe tbody tr th:only-of-type {\n",
       "        vertical-align: middle;\n",
       "    }\n",
       "\n",
       "    .dataframe tbody tr th {\n",
       "        vertical-align: top;\n",
       "    }\n",
       "\n",
       "    .dataframe thead th {\n",
       "        text-align: right;\n",
       "    }\n",
       "</style>\n",
       "<table border=\"1\" class=\"dataframe\">\n",
       "  <thead>\n",
       "    <tr style=\"text-align: right;\">\n",
       "      <th>성별</th>\n",
       "      <th>1</th>\n",
       "      <th>2</th>\n",
       "      <th>남자비중</th>\n",
       "      <th>여자비중</th>\n",
       "      <th>전체</th>\n",
       "    </tr>\n",
       "  </thead>\n",
       "  <tbody>\n",
       "    <tr>\n",
       "      <td>은행</td>\n",
       "      <td>1116130</td>\n",
       "      <td>682636</td>\n",
       "      <td>20.75</td>\n",
       "      <td>12.69</td>\n",
       "      <td>33.44</td>\n",
       "    </tr>\n",
       "    <tr>\n",
       "      <td>상호금융</td>\n",
       "      <td>490439</td>\n",
       "      <td>317813</td>\n",
       "      <td>9.12</td>\n",
       "      <td>5.91</td>\n",
       "      <td>15.03</td>\n",
       "    </tr>\n",
       "    <tr>\n",
       "      <td>신용카드사</td>\n",
       "      <td>754057</td>\n",
       "      <td>714080</td>\n",
       "      <td>14.02</td>\n",
       "      <td>13.28</td>\n",
       "      <td>27.30</td>\n",
       "    </tr>\n",
       "    <tr>\n",
       "      <td>생명보험사</td>\n",
       "      <td>26618</td>\n",
       "      <td>31130</td>\n",
       "      <td>0.49</td>\n",
       "      <td>0.58</td>\n",
       "      <td>1.07</td>\n",
       "    </tr>\n",
       "    <tr>\n",
       "      <td>손해보험사</td>\n",
       "      <td>77136</td>\n",
       "      <td>131520</td>\n",
       "      <td>1.43</td>\n",
       "      <td>2.45</td>\n",
       "      <td>3.88</td>\n",
       "    </tr>\n",
       "    <tr>\n",
       "      <td>캐피탈·할부·리스·신기술사</td>\n",
       "      <td>388052</td>\n",
       "      <td>230567</td>\n",
       "      <td>7.21</td>\n",
       "      <td>4.29</td>\n",
       "      <td>11.50</td>\n",
       "    </tr>\n",
       "    <tr>\n",
       "      <td>상호저축은행</td>\n",
       "      <td>179857</td>\n",
       "      <td>131490</td>\n",
       "      <td>3.34</td>\n",
       "      <td>2.44</td>\n",
       "      <td>5.79</td>\n",
       "    </tr>\n",
       "    <tr>\n",
       "      <td>기타</td>\n",
       "      <td>65580</td>\n",
       "      <td>41390</td>\n",
       "      <td>1.22</td>\n",
       "      <td>0.77</td>\n",
       "      <td>1.99</td>\n",
       "    </tr>\n",
       "  </tbody>\n",
       "</table>\n",
       "</div>"
      ],
      "text/plain": [
       "성별                    1       2   남자비중   여자비중     전체\n",
       "은행              1116130  682636  20.75  12.69  33.44\n",
       "상호금융             490439  317813   9.12   5.91  15.03\n",
       "신용카드사            754057  714080  14.02  13.28  27.30\n",
       "생명보험사             26618   31130   0.49   0.58   1.07\n",
       "손해보험사             77136  131520   1.43   2.45   3.88\n",
       "캐피탈·할부·리스·신기술사   388052  230567   7.21   4.29  11.50\n",
       "상호저축은행           179857  131490   3.34   2.44   5.79\n",
       "기타                65580   41390   1.22   0.77   1.99"
      ]
     },
     "execution_count": 367,
     "metadata": {},
     "output_type": "execute_result"
    }
   ],
   "source": [
    "나이50"
   ]
  },
  {
   "cell_type": "code",
   "execution_count": 368,
   "metadata": {},
   "outputs": [
    {
     "data": {
      "text/html": [
       "<div>\n",
       "<style scoped>\n",
       "    .dataframe tbody tr th:only-of-type {\n",
       "        vertical-align: middle;\n",
       "    }\n",
       "\n",
       "    .dataframe tbody tr th {\n",
       "        vertical-align: top;\n",
       "    }\n",
       "\n",
       "    .dataframe thead th {\n",
       "        text-align: right;\n",
       "    }\n",
       "</style>\n",
       "<table border=\"1\" class=\"dataframe\">\n",
       "  <thead>\n",
       "    <tr style=\"text-align: right;\">\n",
       "      <th>성별</th>\n",
       "      <th>1</th>\n",
       "      <th>2</th>\n",
       "      <th>남자비중</th>\n",
       "      <th>여자비중</th>\n",
       "      <th>전체</th>\n",
       "    </tr>\n",
       "  </thead>\n",
       "  <tbody>\n",
       "    <tr>\n",
       "      <td>은행</td>\n",
       "      <td>491158</td>\n",
       "      <td>336464</td>\n",
       "      <td>18.87</td>\n",
       "      <td>12.93</td>\n",
       "      <td>31.80</td>\n",
       "    </tr>\n",
       "    <tr>\n",
       "      <td>상호금융</td>\n",
       "      <td>356890</td>\n",
       "      <td>199562</td>\n",
       "      <td>13.71</td>\n",
       "      <td>7.67</td>\n",
       "      <td>21.38</td>\n",
       "    </tr>\n",
       "    <tr>\n",
       "      <td>신용카드사</td>\n",
       "      <td>371927</td>\n",
       "      <td>349690</td>\n",
       "      <td>14.29</td>\n",
       "      <td>13.44</td>\n",
       "      <td>27.73</td>\n",
       "    </tr>\n",
       "    <tr>\n",
       "      <td>생명보험사</td>\n",
       "      <td>10735</td>\n",
       "      <td>11979</td>\n",
       "      <td>0.41</td>\n",
       "      <td>0.46</td>\n",
       "      <td>0.87</td>\n",
       "    </tr>\n",
       "    <tr>\n",
       "      <td>손해보험사</td>\n",
       "      <td>30560</td>\n",
       "      <td>58228</td>\n",
       "      <td>1.17</td>\n",
       "      <td>2.24</td>\n",
       "      <td>3.41</td>\n",
       "    </tr>\n",
       "    <tr>\n",
       "      <td>캐피탈·할부·리스·신기술사</td>\n",
       "      <td>163264</td>\n",
       "      <td>91828</td>\n",
       "      <td>6.27</td>\n",
       "      <td>3.53</td>\n",
       "      <td>9.80</td>\n",
       "    </tr>\n",
       "    <tr>\n",
       "      <td>상호저축은행</td>\n",
       "      <td>57478</td>\n",
       "      <td>44551</td>\n",
       "      <td>2.21</td>\n",
       "      <td>1.71</td>\n",
       "      <td>3.92</td>\n",
       "    </tr>\n",
       "    <tr>\n",
       "      <td>기타</td>\n",
       "      <td>17092</td>\n",
       "      <td>11242</td>\n",
       "      <td>0.66</td>\n",
       "      <td>0.43</td>\n",
       "      <td>1.09</td>\n",
       "    </tr>\n",
       "  </tbody>\n",
       "</table>\n",
       "</div>"
      ],
      "text/plain": [
       "성별                   1       2   남자비중   여자비중     전체\n",
       "은행              491158  336464  18.87  12.93  31.80\n",
       "상호금융            356890  199562  13.71   7.67  21.38\n",
       "신용카드사           371927  349690  14.29  13.44  27.73\n",
       "생명보험사            10735   11979   0.41   0.46   0.87\n",
       "손해보험사            30560   58228   1.17   2.24   3.41\n",
       "캐피탈·할부·리스·신기술사  163264   91828   6.27   3.53   9.80\n",
       "상호저축은행           57478   44551   2.21   1.71   3.92\n",
       "기타               17092   11242   0.66   0.43   1.09"
      ]
     },
     "execution_count": 368,
     "metadata": {},
     "output_type": "execute_result"
    }
   ],
   "source": [
    "나이60"
   ]
  },
  {
   "cell_type": "code",
   "execution_count": 369,
   "metadata": {},
   "outputs": [
    {
     "data": {
      "text/html": [
       "<div>\n",
       "<style scoped>\n",
       "    .dataframe tbody tr th:only-of-type {\n",
       "        vertical-align: middle;\n",
       "    }\n",
       "\n",
       "    .dataframe tbody tr th {\n",
       "        vertical-align: top;\n",
       "    }\n",
       "\n",
       "    .dataframe thead th {\n",
       "        text-align: right;\n",
       "    }\n",
       "</style>\n",
       "<table border=\"1\" class=\"dataframe\">\n",
       "  <thead>\n",
       "    <tr style=\"text-align: right;\">\n",
       "      <th>성별</th>\n",
       "      <th>1</th>\n",
       "      <th>2</th>\n",
       "      <th>남자비중</th>\n",
       "      <th>여자비중</th>\n",
       "      <th>전체</th>\n",
       "    </tr>\n",
       "  </thead>\n",
       "  <tbody>\n",
       "    <tr>\n",
       "      <td>은행</td>\n",
       "      <td>117253</td>\n",
       "      <td>79576</td>\n",
       "      <td>20.13</td>\n",
       "      <td>13.66</td>\n",
       "      <td>33.78</td>\n",
       "    </tr>\n",
       "    <tr>\n",
       "      <td>상호금융</td>\n",
       "      <td>126658</td>\n",
       "      <td>56736</td>\n",
       "      <td>21.74</td>\n",
       "      <td>9.74</td>\n",
       "      <td>31.48</td>\n",
       "    </tr>\n",
       "    <tr>\n",
       "      <td>신용카드사</td>\n",
       "      <td>70421</td>\n",
       "      <td>70955</td>\n",
       "      <td>12.09</td>\n",
       "      <td>12.18</td>\n",
       "      <td>24.27</td>\n",
       "    </tr>\n",
       "    <tr>\n",
       "      <td>생명보험사</td>\n",
       "      <td>1658</td>\n",
       "      <td>1925</td>\n",
       "      <td>0.28</td>\n",
       "      <td>0.33</td>\n",
       "      <td>0.61</td>\n",
       "    </tr>\n",
       "    <tr>\n",
       "      <td>손해보험사</td>\n",
       "      <td>2868</td>\n",
       "      <td>4620</td>\n",
       "      <td>0.49</td>\n",
       "      <td>0.79</td>\n",
       "      <td>1.29</td>\n",
       "    </tr>\n",
       "    <tr>\n",
       "      <td>캐피탈·할부·리스·신기술사</td>\n",
       "      <td>24893</td>\n",
       "      <td>10717</td>\n",
       "      <td>4.27</td>\n",
       "      <td>1.84</td>\n",
       "      <td>6.11</td>\n",
       "    </tr>\n",
       "    <tr>\n",
       "      <td>상호저축은행</td>\n",
       "      <td>5412</td>\n",
       "      <td>3673</td>\n",
       "      <td>0.93</td>\n",
       "      <td>0.63</td>\n",
       "      <td>1.56</td>\n",
       "    </tr>\n",
       "    <tr>\n",
       "      <td>기타</td>\n",
       "      <td>3239</td>\n",
       "      <td>1972</td>\n",
       "      <td>0.56</td>\n",
       "      <td>0.34</td>\n",
       "      <td>0.89</td>\n",
       "    </tr>\n",
       "  </tbody>\n",
       "</table>\n",
       "</div>"
      ],
      "text/plain": [
       "성별                   1      2   남자비중   여자비중     전체\n",
       "은행              117253  79576  20.13  13.66  33.78\n",
       "상호금융            126658  56736  21.74   9.74  31.48\n",
       "신용카드사            70421  70955  12.09  12.18  24.27\n",
       "생명보험사             1658   1925   0.28   0.33   0.61\n",
       "손해보험사             2868   4620   0.49   0.79   1.29\n",
       "캐피탈·할부·리스·신기술사   24893  10717   4.27   1.84   6.11\n",
       "상호저축은행            5412   3673   0.93   0.63   1.56\n",
       "기타                3239   1972   0.56   0.34   0.89"
      ]
     },
     "execution_count": 369,
     "metadata": {},
     "output_type": "execute_result"
    }
   ],
   "source": [
    "나이70"
   ]
  },
  {
   "cell_type": "code",
   "execution_count": 370,
   "metadata": {},
   "outputs": [
    {
     "data": {
      "text/html": [
       "<div>\n",
       "<style scoped>\n",
       "    .dataframe tbody tr th:only-of-type {\n",
       "        vertical-align: middle;\n",
       "    }\n",
       "\n",
       "    .dataframe tbody tr th {\n",
       "        vertical-align: top;\n",
       "    }\n",
       "\n",
       "    .dataframe thead th {\n",
       "        text-align: right;\n",
       "    }\n",
       "</style>\n",
       "<table border=\"1\" class=\"dataframe\">\n",
       "  <thead>\n",
       "    <tr style=\"text-align: right;\">\n",
       "      <th>성별</th>\n",
       "      <th>1</th>\n",
       "      <th>2</th>\n",
       "      <th>남자비중</th>\n",
       "      <th>여자비중</th>\n",
       "      <th>전체</th>\n",
       "    </tr>\n",
       "  </thead>\n",
       "  <tbody>\n",
       "    <tr>\n",
       "      <td>은행</td>\n",
       "      <td>20057</td>\n",
       "      <td>15594</td>\n",
       "      <td>20.55</td>\n",
       "      <td>15.97</td>\n",
       "      <td>36.52</td>\n",
       "    </tr>\n",
       "    <tr>\n",
       "      <td>상호금융</td>\n",
       "      <td>25876</td>\n",
       "      <td>14374</td>\n",
       "      <td>26.52</td>\n",
       "      <td>14.72</td>\n",
       "      <td>41.24</td>\n",
       "    </tr>\n",
       "    <tr>\n",
       "      <td>신용카드사</td>\n",
       "      <td>8295</td>\n",
       "      <td>8558</td>\n",
       "      <td>8.50</td>\n",
       "      <td>8.76</td>\n",
       "      <td>17.26</td>\n",
       "    </tr>\n",
       "    <tr>\n",
       "      <td>생명보험사</td>\n",
       "      <td>275</td>\n",
       "      <td>415</td>\n",
       "      <td>0.28</td>\n",
       "      <td>0.43</td>\n",
       "      <td>0.71</td>\n",
       "    </tr>\n",
       "    <tr>\n",
       "      <td>손해보험사</td>\n",
       "      <td>370</td>\n",
       "      <td>441</td>\n",
       "      <td>0.38</td>\n",
       "      <td>0.45</td>\n",
       "      <td>0.83</td>\n",
       "    </tr>\n",
       "    <tr>\n",
       "      <td>캐피탈·할부·리스·신기술사</td>\n",
       "      <td>1454</td>\n",
       "      <td>401</td>\n",
       "      <td>1.49</td>\n",
       "      <td>0.41</td>\n",
       "      <td>1.90</td>\n",
       "    </tr>\n",
       "    <tr>\n",
       "      <td>상호저축은행</td>\n",
       "      <td>442</td>\n",
       "      <td>349</td>\n",
       "      <td>0.45</td>\n",
       "      <td>0.36</td>\n",
       "      <td>0.81</td>\n",
       "    </tr>\n",
       "    <tr>\n",
       "      <td>기타</td>\n",
       "      <td>419</td>\n",
       "      <td>264</td>\n",
       "      <td>0.43</td>\n",
       "      <td>0.27</td>\n",
       "      <td>0.70</td>\n",
       "    </tr>\n",
       "  </tbody>\n",
       "</table>\n",
       "</div>"
      ],
      "text/plain": [
       "성별                  1      2   남자비중   여자비중     전체\n",
       "은행              20057  15594  20.55  15.97  36.52\n",
       "상호금융            25876  14374  26.52  14.72  41.24\n",
       "신용카드사            8295   8558   8.50   8.76  17.26\n",
       "생명보험사             275    415   0.28   0.43   0.71\n",
       "손해보험사             370    441   0.38   0.45   0.83\n",
       "캐피탈·할부·리스·신기술사   1454    401   1.49   0.41   1.90\n",
       "상호저축은행            442    349   0.45   0.36   0.81\n",
       "기타                419    264   0.43   0.27   0.70"
      ]
     },
     "execution_count": 370,
     "metadata": {},
     "output_type": "execute_result"
    }
   ],
   "source": [
    "나이80"
   ]
  }
 ],
 "metadata": {
  "kernelspec": {
   "display_name": "Python 3",
   "language": "python",
   "name": "python3"
  },
  "language_info": {
   "codemirror_mode": {
    "name": "ipython",
    "version": 3
   },
   "file_extension": ".py",
   "mimetype": "text/x-python",
   "name": "python",
   "nbconvert_exporter": "python",
   "pygments_lexer": "ipython3",
   "version": "3.7.4"
  }
 },
 "nbformat": 4,
 "nbformat_minor": 4
}
