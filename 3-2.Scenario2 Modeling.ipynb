{
 "cells": [
  {
   "cell_type": "markdown",
   "metadata": {},
   "source": [
    "해당 과제는 'Brightics Studio'로 시작하는 금융 빅데이터 분석 교재를 참고함"
   ]
  },
  {
   "cell_type": "markdown",
   "metadata": {},
   "source": [
    "전통적으로 채무불이행 예측 모델은 다음과 같은 기본 알고리즘을 많이 사용함. 그 이유는 채무불이행 이유에 대한 '설명가능성'이 있기 때문 <br>\n",
    "보수적인 금융권 특성, 고객과의 신뢰 등을 이유로 알고리즘의 설명 가능성에 대해 매우 민감함 <br>"
   ]
  },
  {
   "cell_type": "code",
   "execution_count": 4,
   "metadata": {},
   "outputs": [],
   "source": [
    "import pandas as pd \n",
    "pd.set_option('display.max_columns',None)\n",
    "pd.set_option('display.max_rows',None)"
   ]
  },
  {
   "cell_type": "code",
   "execution_count": 5,
   "metadata": {},
   "outputs": [],
   "source": [
    "#시각화 패키지 라이브러리\n",
    "import seaborn as sns\n",
    "import matplotlib\n",
    "import matplotlib.pyplot as plt\n",
    "matplotlib.rcParams['font.family'] = 'Malgun Gothic' #한글깨짐현상방지\n",
    "matplotlib.rcParams['axes.unicode_minus'] = False"
   ]
  },
  {
   "cell_type": "code",
   "execution_count": 6,
   "metadata": {},
   "outputs": [],
   "source": [
    "df = pd.read_csv('C:/Users/ksy/Desktop/개인/코로나19 팀프로젝트/data/Corona19_Classification_data.csv',encoding='cp949')"
   ]
  },
  {
   "cell_type": "code",
   "execution_count": 8,
   "metadata": {},
   "outputs": [],
   "source": [
    "#불필요 컬럼 제거"
   ]
  },
  {
   "cell_type": "code",
   "execution_count": 9,
   "metadata": {},
   "outputs": [
    {
     "data": {
      "text/plain": [
       "977390"
      ]
     },
     "execution_count": 9,
     "metadata": {},
     "output_type": "execute_result"
    }
   ],
   "source": [
    "len(df)"
   ]
  },
  {
   "cell_type": "code",
   "execution_count": 10,
   "metadata": {},
   "outputs": [
    {
     "data": {
      "text/plain": [
       "63"
      ]
     },
     "execution_count": 10,
     "metadata": {},
     "output_type": "execute_result"
    }
   ],
   "source": [
    "len(df.columns)"
   ]
  },
  {
   "cell_type": "code",
   "execution_count": 11,
   "metadata": {},
   "outputs": [],
   "source": [
    "#df.drocolumnsolumns=['Unnamed: 0', 'Unnamed: 0.1','생년월일'], inplace=True)"
   ]
  },
  {
   "cell_type": "code",
   "execution_count": 12,
   "metadata": {},
   "outputs": [],
   "source": [
    "#df.info() #성별, 연체여부는 object로"
   ]
  },
  {
   "cell_type": "markdown",
   "metadata": {},
   "source": [
    "성별, '범주형' 변수로 데이터타입을 int > object로 변환 <br>"
   ]
  },
  {
   "cell_type": "code",
   "execution_count": 13,
   "metadata": {},
   "outputs": [],
   "source": [
    "df['성별']  = df['성별'].astype(str)"
   ]
  },
  {
   "cell_type": "markdown",
   "metadata": {},
   "source": [
    "해당 데이터로 분류 모델링을 수행하기 위해서는 JOIN_KEY 속성이 배제돼야함"
   ]
  },
  {
   "cell_type": "code",
   "execution_count": 14,
   "metadata": {},
   "outputs": [],
   "source": [
    "df_m = df.drop(columns=['JOIN_KEY'])"
   ]
  },
  {
   "cell_type": "markdown",
   "metadata": {},
   "source": [
    "\n",
    "성별 변수 1: 남성<br>\n",
    "성별 변수 2: 여성"
   ]
  },
  {
   "cell_type": "code",
   "execution_count": 15,
   "metadata": {},
   "outputs": [
    {
     "data": {
      "text/plain": [
       "array(['1', '2'], dtype=object)"
      ]
     },
     "execution_count": 15,
     "metadata": {},
     "output_type": "execute_result"
    }
   ],
   "source": [
    "df_m['성별'].unique()"
   ]
  },
  {
   "cell_type": "code",
   "execution_count": 16,
   "metadata": {},
   "outputs": [
    {
     "data": {
      "text/plain": [
       "0    1\n",
       "1    1\n",
       "2    1\n",
       "3    1\n",
       "4    2\n",
       "Name: 성별, dtype: object"
      ]
     },
     "execution_count": 16,
     "metadata": {},
     "output_type": "execute_result"
    }
   ],
   "source": [
    "df_m['성별'].head()"
   ]
  },
  {
   "cell_type": "markdown",
   "metadata": {},
   "source": [
    "해당 성별 변수를 one-hot 인코딩을 함 <br>\n",
    "따라서 남성인 경우 1컬럼에 1, 여성인 경우 1컬럼에 0"
   ]
  },
  {
   "cell_type": "code",
   "execution_count": 17,
   "metadata": {},
   "outputs": [],
   "source": [
    "sex_onehot = pd.get_dummies(df_m['성별'])"
   ]
  },
  {
   "cell_type": "markdown",
   "metadata": {},
   "source": [
    "성별 카테고리는 남성 or 여성 딱 2가지이므로 한열에 모든 정보가 담겨있음 <br>\n",
    "해당 내용과 동일하게 남성은 0, 여성은 1로 표현하기 위해 마지막 항목만 남겨둠"
   ]
  },
  {
   "cell_type": "code",
   "execution_count": 18,
   "metadata": {},
   "outputs": [
    {
     "data": {
      "text/plain": [
       "0    1\n",
       "1    1\n",
       "2    1\n",
       "3    1\n",
       "4    2\n",
       "Name: 성별, dtype: object"
      ]
     },
     "execution_count": 18,
     "metadata": {},
     "output_type": "execute_result"
    }
   ],
   "source": [
    "df_m['성별'].head()"
   ]
  },
  {
   "cell_type": "code",
   "execution_count": 19,
   "metadata": {},
   "outputs": [
    {
     "data": {
      "text/html": [
       "<div>\n",
       "<style scoped>\n",
       "    .dataframe tbody tr th:only-of-type {\n",
       "        vertical-align: middle;\n",
       "    }\n",
       "\n",
       "    .dataframe tbody tr th {\n",
       "        vertical-align: top;\n",
       "    }\n",
       "\n",
       "    .dataframe thead th {\n",
       "        text-align: right;\n",
       "    }\n",
       "</style>\n",
       "<table border=\"1\" class=\"dataframe\">\n",
       "  <thead>\n",
       "    <tr style=\"text-align: right;\">\n",
       "      <th></th>\n",
       "      <th>1</th>\n",
       "      <th>2</th>\n",
       "    </tr>\n",
       "  </thead>\n",
       "  <tbody>\n",
       "    <tr>\n",
       "      <td>0</td>\n",
       "      <td>1</td>\n",
       "      <td>0</td>\n",
       "    </tr>\n",
       "    <tr>\n",
       "      <td>1</td>\n",
       "      <td>1</td>\n",
       "      <td>0</td>\n",
       "    </tr>\n",
       "    <tr>\n",
       "      <td>2</td>\n",
       "      <td>1</td>\n",
       "      <td>0</td>\n",
       "    </tr>\n",
       "    <tr>\n",
       "      <td>3</td>\n",
       "      <td>1</td>\n",
       "      <td>0</td>\n",
       "    </tr>\n",
       "    <tr>\n",
       "      <td>4</td>\n",
       "      <td>0</td>\n",
       "      <td>1</td>\n",
       "    </tr>\n",
       "  </tbody>\n",
       "</table>\n",
       "</div>"
      ],
      "text/plain": [
       "   1  2\n",
       "0  1  0\n",
       "1  1  0\n",
       "2  1  0\n",
       "3  1  0\n",
       "4  0  1"
      ]
     },
     "execution_count": 19,
     "metadata": {},
     "output_type": "execute_result"
    }
   ],
   "source": [
    "sex_onehot.head()"
   ]
  },
  {
   "cell_type": "markdown",
   "metadata": {},
   "source": [
    " * 즉 남성인 경우 0, 여성인 경우 1"
   ]
  },
  {
   "cell_type": "code",
   "execution_count": 20,
   "metadata": {},
   "outputs": [],
   "source": [
    "sex_onehot.drop(columns=['1'], inplace=True)"
   ]
  },
  {
   "cell_type": "code",
   "execution_count": 21,
   "metadata": {},
   "outputs": [],
   "source": [
    "sex_onehot = sex_onehot.rename(columns={'2':'성별'})"
   ]
  },
  {
   "cell_type": "code",
   "execution_count": 22,
   "metadata": {},
   "outputs": [],
   "source": [
    "df_m.drop(columns=['성별'], inplace = True)"
   ]
  },
  {
   "cell_type": "code",
   "execution_count": 23,
   "metadata": {},
   "outputs": [],
   "source": [
    "df_m = pd.concat([df_m, sex_onehot], axis=1)"
   ]
  },
  {
   "cell_type": "code",
   "execution_count": 25,
   "metadata": {},
   "outputs": [],
   "source": [
    "df_m['성별'] = df_m['성별'].astype(int)\n",
    "df_m.drop(columns=['생년월일'], inplace=True)"
   ]
  },
  {
   "cell_type": "code",
   "execution_count": 26,
   "metadata": {},
   "outputs": [
    {
     "data": {
      "text/plain": [
       "977390"
      ]
     },
     "execution_count": 26,
     "metadata": {},
     "output_type": "execute_result"
    }
   ],
   "source": [
    "len(df_m)"
   ]
  },
  {
   "cell_type": "code",
   "execution_count": 27,
   "metadata": {},
   "outputs": [
    {
     "data": {
      "text/plain": [
       "61"
      ]
     },
     "execution_count": 27,
     "metadata": {},
     "output_type": "execute_result"
    }
   ],
   "source": [
    "len(df_m.columns)"
   ]
  },
  {
   "cell_type": "code",
   "execution_count": 28,
   "metadata": {},
   "outputs": [
    {
     "data": {
      "text/plain": [
       "64265508"
      ]
     },
     "execution_count": 28,
     "metadata": {},
     "output_type": "execute_result"
    }
   ],
   "source": [
    "945081*68"
   ]
  },
  {
   "cell_type": "markdown",
   "metadata": {},
   "source": [
    "1. Train - Test Split\n",
    "2. 채무불이행여부 (종속변수) OverSampling\n",
    "3. GridSearchCV \n",
    "4. 여러가지 모델 생성 <br>\n",
    "1) Decision Tree(공통), Logistic Regression(공통), RandomForest (책) \n",
    "  <br> 2) RNN, SVM (논문) \n",
    "  <br> 3) XGBoost, LigthGBM, 딥러닝, 등 (과거 플젝)"
   ]
  },
  {
   "cell_type": "code",
   "execution_count": 29,
   "metadata": {},
   "outputs": [],
   "source": [
    "#연체여부 종속변수는 int로 변환\n",
    "df_m['연체여부'] = df_m['연체여부'].map({'0':0,\"b'1'\":1})"
   ]
  },
  {
   "cell_type": "code",
   "execution_count": 30,
   "metadata": {},
   "outputs": [],
   "source": [
    "#필요 라이브러리\n",
    "import pandas as pd\n",
    "import numpy as np\n",
    "\n",
    "#################### Train_Test Split ######################\n",
    "from sklearn.model_selection import train_test_split\n",
    "\n",
    "\n",
    "#################### 성능평가 ############################\n",
    "from sklearn.metrics import confusion_matrix, accuracy_score, precision_score, recall_score, f1_score, precision_recall_curve\n",
    "from sklearn.metrics import roc_auc_score\n",
    "from sklearn.metrics import classification_report\n",
    "from sklearn import metrics\n",
    "from sklearn.metrics import plot_confusion_matrix\n",
    "import sklearn\n",
    "#################### XGBoost ###########################\n",
    "from xgboost import XGBClassifier\n",
    "from xgboost import plot_importance\n",
    "from sklearn.model_selection import GridSearchCV\n",
    "\n",
    "\n",
    "################## lgbm ###########################\n",
    "from lightgbm import LGBMClassifier\n",
    "\n",
    "##################### Decision Tree #######################\n",
    "from sklearn.tree import DecisionTreeClassifier\n",
    "\n",
    "################## RandomForest ##########################\n",
    "from sklearn.ensemble import RandomForestClassifier\n",
    "\n",
    "###################### Logistic Rregression ###############\n",
    "from sklearn.linear_model import LogisticRegression\n",
    "\n",
    "\n",
    "import warnings\n",
    "warnings.filterwarnings('ignore')"
   ]
  },
  {
   "cell_type": "code",
   "execution_count": 31,
   "metadata": {},
   "outputs": [],
   "source": [
    "#모델 성능 평가 함수화\n",
    "def model_assessment(test,pred):\n",
    "    confusion = confusion_matrix(test, pred)\n",
    "    accuracy = accuracy_score(test,pred)\n",
    "    report = metrics.classification_report(test, pred, digits=2)\n",
    "    \n",
    "    print('accuracy', accuracy, '\\n')\n",
    "    print('confusion_matrix',confusion, '\\n')\n",
    "    print(report)"
   ]
  },
  {
   "cell_type": "code",
   "execution_count": 32,
   "metadata": {},
   "outputs": [
    {
     "data": {
      "text/plain": [
       "61"
      ]
     },
     "execution_count": 32,
     "metadata": {},
     "output_type": "execute_result"
    }
   ],
   "source": [
    "len(df_m.columns)"
   ]
  },
  {
   "cell_type": "markdown",
   "metadata": {},
   "source": [
    "# 1. Train - Test Split"
   ]
  },
  {
   "cell_type": "markdown",
   "metadata": {},
   "source": [
    "해당 데이터에서 정상인 케이스 비율이 전체의 약 99.65%, 채무불이행(연체)가 약 0.35%임"
   ]
  },
  {
   "cell_type": "code",
   "execution_count": 33,
   "metadata": {},
   "outputs": [
    {
     "data": {
      "text/plain": [
       "0    99.647121\n",
       "1     0.352879\n",
       "Name: 연체여부, dtype: float64"
      ]
     },
     "execution_count": 33,
     "metadata": {},
     "output_type": "execute_result"
    }
   ],
   "source": [
    "df_m['연체여부'].value_counts() / df_m['연체여부'].value_counts().sum() *100"
   ]
  },
  {
   "cell_type": "code",
   "execution_count": 34,
   "metadata": {},
   "outputs": [
    {
     "data": {
      "text/plain": [
       "Text(0.5, 1.0, '연체여부 \\n (0:정상 || 1:채무불이행)')"
      ]
     },
     "execution_count": 34,
     "metadata": {},
     "output_type": "execute_result"
    },
    {
     "data": {
      "image/png": "[encoded data removed]",
      "text/plain": [
       "<Figure size 432x288 with 1 Axes>"
      ]
     },
     "metadata": {
      "needs_background": "light"
     },
     "output_type": "display_data"
    }
   ],
   "source": [
    "sns.countplot('연체여부', data = df_m)\n",
    "plt.title('연체여부 \\n (0:정상 || 1:채무불이행)')"
   ]
  },
  {
   "cell_type": "code",
   "execution_count": 32,
   "metadata": {},
   "outputs": [
    {
     "data": {
      "image/png": "[encoded data removed]",
      "text/plain": [
       "<Figure size 432x288 with 1 Axes>"
      ]
     },
     "metadata": {
      "needs_background": "light"
     },
     "output_type": "display_data"
    }
   ],
   "source": [
    "ax = sns.countplot('연체여부', data = df_m)\n",
    "plt.title('연체여부 \\n (0:정상 || 1:채무불이행)')\n",
    "fig = ax.get_figure()\n",
    "plt.show()\n",
    "ax.figure.savefig('C:/Users/ksy/Desktop/개인/코로나19 팀프로젝트/2.EDA/png//Class Distribution')"
   ]
  },
  {
   "cell_type": "code",
   "execution_count": 35,
   "metadata": {},
   "outputs": [],
   "source": [
    "#독립변수\n",
    "X = df_m.drop(columns=['연체여부'])\n",
    "y = df_m['연체여부']"
   ]
  },
  {
   "cell_type": "markdown",
   "metadata": {},
   "source": [
    "* Random State seed 주는 것 보류"
   ]
  },
  {
   "cell_type": "code",
   "execution_count": 36,
   "metadata": {},
   "outputs": [
    {
     "name": "stdout",
     "output_type": "stream",
     "text": [
      "(684173, 60) (293217, 60)\n"
     ]
    }
   ],
   "source": [
    "#stratify = y는 클래스 비율을 유지 즉 위의 0: 97.53 %  || 1: 2.47% 비율을 Train-Test에도 동일 적용\n",
    "\n",
    "X_train, X_test, y_train, y_test = train_test_split(X,y,test_size=0.3, stratify=y, random_state=156)\n",
    "print(X_train.shape, X_test.shape)"
   ]
  },
  {
   "cell_type": "code",
   "execution_count": 37,
   "metadata": {},
   "outputs": [
    {
     "data": {
      "text/plain": [
       "0    99.647165\n",
       "1     0.352835\n",
       "Name: 연체여부, dtype: float64"
      ]
     },
     "execution_count": 37,
     "metadata": {},
     "output_type": "execute_result"
    }
   ],
   "source": [
    "y_train.value_counts() / y_train.value_counts().sum() *100"
   ]
  },
  {
   "cell_type": "code",
   "execution_count": 38,
   "metadata": {},
   "outputs": [
    {
     "data": {
      "text/plain": [
       "0    99.647019\n",
       "1     0.352981\n",
       "Name: 연체여부, dtype: float64"
      ]
     },
     "execution_count": 38,
     "metadata": {},
     "output_type": "execute_result"
    }
   ],
   "source": [
    "y_test.value_counts() / y_test.value_counts().sum() *100"
   ]
  },
  {
   "cell_type": "code",
   "execution_count": 39,
   "metadata": {},
   "outputs": [],
   "source": [
    "#.to_csv('C:/Users/ksy/Desktop/개인/CreDB예시/data/SMOTEENN용/X_test.csv')"
   ]
  },
  {
   "cell_type": "code",
   "execution_count": 40,
   "metadata": {},
   "outputs": [],
   "source": [
    "#y_test.to_csv('C:/Users/ksy/Desktop/개인/CreDB예시/data/SMOTEENN용/y_test.csv')"
   ]
  },
  {
   "cell_type": "code",
   "execution_count": 41,
   "metadata": {},
   "outputs": [],
   "source": [
    "#X_train.to_csv('C:/Users/ksy/Desktop/개인/CreDB예시/data/SMOTEENN용/X_train.csv')"
   ]
  },
  {
   "cell_type": "code",
   "execution_count": 42,
   "metadata": {},
   "outputs": [],
   "source": [
    "#y_train.to_csv('C:/Users/ksy/Desktop/개인/CreDB예시/data/SMOTEENN용/y_train.csv')"
   ]
  },
  {
   "cell_type": "markdown",
   "metadata": {},
   "source": [
    "## 3. SMOTE OverSampling"
   ]
  },
  {
   "cell_type": "markdown",
   "metadata": {},
   "source": [
    "Train Data Set에 대하여 Smote OverSampling 실행"
   ]
  },
  {
   "cell_type": "markdown",
   "metadata": {},
   "source": [
    "원래 아이디어는 smote -> undersampling 해서 모델링 시간을 줄이려했지만..."
   ]
  },
  {
   "cell_type": "code",
   "execution_count": 43,
   "metadata": {},
   "outputs": [],
   "source": [
    "from imblearn.over_sampling import SMOTE\n",
    "\n",
    "smote = SMOTE(random_state=7) # RandomState 변경\n",
    "X_train_over, y_train_over = smote.fit_sample(X_train, y_train)"
   ]
  },
  {
   "cell_type": "code",
   "execution_count": 44,
   "metadata": {},
   "outputs": [
    {
     "name": "stdout",
     "output_type": "stream",
     "text": [
      "SMOTE 적용 후 Data Set Size (1363518, 60) (1363518,)\n"
     ]
    }
   ],
   "source": [
    "print('SMOTE 적용 후 Data Set Size', X_train_over.shape, y_train_over.shape)"
   ]
  },
  {
   "cell_type": "code",
   "execution_count": 45,
   "metadata": {},
   "outputs": [
    {
     "name": "stdout",
     "output_type": "stream",
     "text": [
      "SMOTE 적용 후 Class 분포:\n",
      " 1    681759\n",
      "0    681759\n",
      "Name: 연체여부, dtype: int64\n"
     ]
    }
   ],
   "source": [
    "print('SMOTE 적용 후 Class 분포:\\n', pd.Series(y_train_over).value_counts())"
   ]
  },
  {
   "cell_type": "code",
   "execution_count": 46,
   "metadata": {},
   "outputs": [
    {
     "data": {
      "text/plain": [
       "Text(0.5, 1.0, '연체여부 \\n (0:정상 || 1:채무불이행)')"
      ]
     },
     "execution_count": 46,
     "metadata": {},
     "output_type": "execute_result"
    },
    {
     "data": {
      "image/png": "[encoded data removed]",
      "text/plain": [
       "<Figure size 432x288 with 1 Axes>"
      ]
     },
     "metadata": {
      "needs_background": "light"
     },
     "output_type": "display_data"
    }
   ],
   "source": [
    "sns.countplot('연체여부', data = y_train_over.to_frame())\n",
    "plt.title('연체여부 \\n (0:정상 || 1:채무불이행)')"
   ]
  },
  {
   "cell_type": "markdown",
   "metadata": {},
   "source": [
    "# Modelling"
   ]
  },
  {
   "cell_type": "markdown",
   "metadata": {},
   "source": [
    "# 1. Regression"
   ]
  },
  {
   "cell_type": "markdown",
   "metadata": {},
   "source": [
    "전통적으로 채무불이행 예측 모델은 다음과 같은 기본 알고리즘을 많이 사용함. 그 이유는 채무불이행 이유에 대한 '설명가능성'이 있기 때문 <br>\n",
    "보수적인 금융권 특성, 고객과의 신뢰 등을 이유로 알고리즘의 설명 가능성에 대해 매우 민감함 <br>"
   ]
  },
  {
   "cell_type": "markdown",
   "metadata": {},
   "source": [
    "## 1-1) Logistic"
   ]
  },
  {
   "cell_type": "code",
   "execution_count": 46,
   "metadata": {},
   "outputs": [],
   "source": [
    "from sklearn.linear_model import LogisticRegression"
   ]
  },
  {
   "cell_type": "code",
   "execution_count": 47,
   "metadata": {},
   "outputs": [],
   "source": [
    "lr = LogisticRegression()"
   ]
  },
  {
   "cell_type": "code",
   "execution_count": 48,
   "metadata": {},
   "outputs": [
    {
     "data": {
      "text/plain": [
       "LogisticRegression()"
      ]
     },
     "execution_count": 48,
     "metadata": {},
     "output_type": "execute_result"
    }
   ],
   "source": [
    "lr.fit(X_train_over,y_train_over)"
   ]
  },
  {
   "cell_type": "code",
   "execution_count": 73,
   "metadata": {},
   "outputs": [],
   "source": [
    "lr_pred = lr.predict(X_test)"
   ]
  },
  {
   "cell_type": "code",
   "execution_count": 47,
   "metadata": {},
   "outputs": [
    {
     "name": "stdout",
     "output_type": "stream",
     "text": [
      "accuracy 0.7335079480384834 \n",
      "\n",
      "confusion_matrix [[214282  77900]\n",
      " [   240    795]] \n",
      "\n",
      "              precision    recall  f1-score   support\n",
      "\n",
      "           0       1.00      0.73      0.85    292182\n",
      "           1       0.01      0.77      0.02      1035\n",
      "\n",
      "    accuracy                           0.73    293217\n",
      "   macro avg       0.50      0.75      0.43    293217\n",
      "weighted avg       1.00      0.73      0.84    293217\n",
      "\n"
     ]
    }
   ],
   "source": [
    "model_assessment(y_test,lr_pred)"
   ]
  },
  {
   "cell_type": "code",
   "execution_count": 7,
   "metadata": {},
   "outputs": [],
   "source": [
    "def auc_return(y_test, pred):\n",
    "    fpr, tpr, threshold = sklearn.metrics.roc_curve(y_test,pred)\n",
    "    auc = metrics.auc(fpr,tpr)\n",
    "    return auc.round(2)"
   ]
  },
  {
   "cell_type": "code",
   "execution_count": 8,
   "metadata": {},
   "outputs": [
    {
     "ename": "FileNotFoundError",
     "evalue": "[Errno 2] No such file or directory: 'Logistc_Regression_predict.pkl'",
     "output_type": "error",
     "traceback": [
      "\u001b[1;31m---------------------------------------------------------------------------\u001b[0m",
      "\u001b[1;31mFileNotFoundError\u001b[0m                         Traceback (most recent call last)",
      "\u001b[1;32m<ipython-input-8-672994b9cffa>\u001b[0m in \u001b[0;36m<module>\u001b[1;34m\u001b[0m\n\u001b[0;32m      1\u001b[0m \u001b[1;32mimport\u001b[0m \u001b[0mpickle\u001b[0m \u001b[1;32mas\u001b[0m \u001b[0mpkl\u001b[0m\u001b[1;33m\u001b[0m\u001b[1;33m\u001b[0m\u001b[0m\n\u001b[1;32m----> 2\u001b[1;33m \u001b[1;32mwith\u001b[0m \u001b[0mopen\u001b[0m\u001b[1;33m(\u001b[0m\u001b[1;34m'Logistc_Regression_predict.pkl'\u001b[0m\u001b[1;33m,\u001b[0m\u001b[1;34m'rb'\u001b[0m\u001b[1;33m)\u001b[0m \u001b[1;32mas\u001b[0m \u001b[0minfile\u001b[0m\u001b[1;33m:\u001b[0m\u001b[1;33m\u001b[0m\u001b[1;33m\u001b[0m\u001b[0m\n\u001b[0m\u001b[0;32m      3\u001b[0m     \u001b[0mlr_pred\u001b[0m \u001b[1;33m=\u001b[0m \u001b[0mpkl\u001b[0m\u001b[1;33m.\u001b[0m\u001b[0mload\u001b[0m\u001b[1;33m(\u001b[0m\u001b[0minfile\u001b[0m\u001b[1;33m)\u001b[0m\u001b[1;33m\u001b[0m\u001b[1;33m\u001b[0m\u001b[0m\n",
      "\u001b[1;31mFileNotFoundError\u001b[0m: [Errno 2] No such file or directory: 'Logistc_Regression_predict.pkl'"
     ]
    }
   ],
   "source": [
    "import pickle as pkl\n",
    "with open('Logistc_Regression_predict.pkl','rb') as infile:\n",
    "    lr_pred = pkl.load(infile)"
   ]
  },
  {
   "cell_type": "code",
   "execution_count": 55,
   "metadata": {},
   "outputs": [
    {
     "name": "stdout",
     "output_type": "stream",
     "text": [
      "0.75\n"
     ]
    }
   ],
   "source": [
    "auc = auc_return(y_test,lr_pred) # 변경\n",
    "print(auc)"
   ]
  },
  {
   "cell_type": "code",
   "execution_count": 56,
   "metadata": {},
   "outputs": [
    {
     "data": {
      "image/png": "[encoded data removed]",
      "text/plain": [
       "<Figure size 432x288 with 1 Axes>"
      ]
     },
     "metadata": {
      "needs_background": "light"
     },
     "output_type": "display_data"
    }
   ],
   "source": [
    "fpr, tpr, threshold = sklearn.metrics.roc_curve(y_test, lr_pred)\n",
    "plt.title('Logistic Regression ROC Curve')\n",
    "plt.plot(fpr, tpr, 'k-', linewidth=2,label = 'AUC : ' + str(auc))\n",
    "plt.legend(loc=4)\n",
    "plt.plot([0,1], [0,1], 'r--')\n",
    "plt.xlabel('False Positive Rate')\n",
    "plt.ylabel('True Positive Rate')\n",
    "plt.axis([-0.01, 1,0,1])\n",
    "plt.savefig('C:/Users/ksy/Desktop/개인/코로나19 팀프로젝트/시나리오0/png/Logistic Regression ROC.png')\n",
    "plt.show()"
   ]
  },
  {
   "cell_type": "code",
   "execution_count": 78,
   "metadata": {},
   "outputs": [
    {
     "data": {
      "image/png": "[encoded data removed]",
      "text/plain": [
       "<Figure size 432x288 with 2 Axes>"
      ]
     },
     "metadata": {
      "needs_background": "light"
     },
     "output_type": "display_data"
    }
   ],
   "source": [
    "plot_confusion_matrix(lr,X_test,y_test,cmap='Blues')\n",
    "\n",
    "plt.title('Logistic Regression')\n",
    "plt.savefig('C:/Users/ksy/Desktop/개인/코로나19 팀프로젝트/시나리오0/png/1.Logistic Regression Confusion Matrix.png')\n",
    "plt.show()"
   ]
  },
  {
   "cell_type": "code",
   "execution_count": null,
   "metadata": {},
   "outputs": [],
   "source": [
    "#모델저장\n",
    "import pickle as pkl\n",
    "with open(\"Logistc_Regression.pkl\",'wb') as outfile:\n",
    "    pkl.dump(lr,outfile)"
   ]
  },
  {
   "cell_type": "code",
   "execution_count": 82,
   "metadata": {},
   "outputs": [],
   "source": [
    "#모델저장\n",
    "import pickle as pkl\n",
    "with open(\"Logistc_Regression_predict.pkl\",'wb') as outfile:\n",
    "    pkl.dump(lr_pred,outfile)"
   ]
  },
  {
   "cell_type": "markdown",
   "metadata": {},
   "source": [
    "# 2. Classification"
   ]
  },
  {
   "cell_type": "markdown",
   "metadata": {},
   "source": [
    "### 2-1) XGBOOST"
   ]
  },
  {
   "cell_type": "code",
   "execution_count": 51,
   "metadata": {},
   "outputs": [],
   "source": [
    "#X_test.head()"
   ]
  },
  {
   "cell_type": "code",
   "execution_count": 58,
   "metadata": {},
   "outputs": [
    {
     "name": "stdout",
     "output_type": "stream",
     "text": [
      "[0]\tvalidation_0-logloss:0.68893\tvalidation_1-logloss:0.68793\n",
      "[1]\tvalidation_0-logloss:0.68220\tvalidation_1-logloss:0.68280\n",
      "[2]\tvalidation_0-logloss:0.67844\tvalidation_1-logloss:0.67756\n",
      "[3]\tvalidation_0-logloss:0.67257\tvalidation_1-logloss:0.67267\n",
      "[4]\tvalidation_0-logloss:0.66692\tvalidation_1-logloss:0.66807\n",
      "[5]\tvalidation_0-logloss:0.66308\tvalidation_1-logloss:0.66316\n",
      "[6]\tvalidation_0-logloss:0.65775\tvalidation_1-logloss:0.65815\n",
      "[7]\tvalidation_0-logloss:0.65416\tvalidation_1-logloss:0.65371\n",
      "[8]\tvalidation_0-logloss:0.64892\tvalidation_1-logloss:0.64915\n",
      "[9]\tvalidation_0-logloss:0.64508\tvalidation_1-logloss:0.64474\n",
      "[10]\tvalidation_0-logloss:0.63964\tvalidation_1-logloss:0.64054\n",
      "[11]\tvalidation_0-logloss:0.63647\tvalidation_1-logloss:0.63614\n",
      "[12]\tvalidation_0-logloss:0.63130\tvalidation_1-logloss:0.63210\n",
      "[13]\tvalidation_0-logloss:0.62796\tvalidation_1-logloss:0.62818\n",
      "[14]\tvalidation_0-logloss:0.62293\tvalidation_1-logloss:0.62404\n",
      "[15]\tvalidation_0-logloss:0.61959\tvalidation_1-logloss:0.62029\n",
      "[16]\tvalidation_0-logloss:0.61552\tvalidation_1-logloss:0.61634\n",
      "[17]\tvalidation_0-logloss:0.61160\tvalidation_1-logloss:0.61272\n",
      "[18]\tvalidation_0-logloss:0.60853\tvalidation_1-logloss:0.60883\n",
      "[19]\tvalidation_0-logloss:0.60419\tvalidation_1-logloss:0.60511\n",
      "[20]\tvalidation_0-logloss:0.60086\tvalidation_1-logloss:0.60175\n",
      "[21]\tvalidation_0-logloss:0.59708\tvalidation_1-logloss:0.59823\n",
      "[22]\tvalidation_0-logloss:0.59361\tvalidation_1-logloss:0.59477\n",
      "[23]\tvalidation_0-logloss:0.58915\tvalidation_1-logloss:0.59159\n",
      "[24]\tvalidation_0-logloss:0.58659\tvalidation_1-logloss:0.58796\n",
      "[25]\tvalidation_0-logloss:0.58374\tvalidation_1-logloss:0.58489\n",
      "[26]\tvalidation_0-logloss:0.57960\tvalidation_1-logloss:0.58156\n",
      "[27]\tvalidation_0-logloss:0.57691\tvalidation_1-logloss:0.57859\n",
      "[28]\tvalidation_0-logloss:0.57330\tvalidation_1-logloss:0.57529\n",
      "[29]\tvalidation_0-logloss:0.56995\tvalidation_1-logloss:0.57240\n",
      "[30]\tvalidation_0-logloss:0.56779\tvalidation_1-logloss:0.56930\n",
      "[31]\tvalidation_0-logloss:0.56408\tvalidation_1-logloss:0.56641\n",
      "[32]\tvalidation_0-logloss:0.56094\tvalidation_1-logloss:0.56336\n",
      "[33]\tvalidation_0-logloss:0.55834\tvalidation_1-logloss:0.56073\n",
      "[34]\tvalidation_0-logloss:0.55525\tvalidation_1-logloss:0.55777\n",
      "[35]\tvalidation_0-logloss:0.55222\tvalidation_1-logloss:0.55500\n",
      "[36]\tvalidation_0-logloss:0.54935\tvalidation_1-logloss:0.55249\n",
      "[37]\tvalidation_0-logloss:0.54652\tvalidation_1-logloss:0.54970\n",
      "[38]\tvalidation_0-logloss:0.54416\tvalidation_1-logloss:0.54701\n",
      "[39]\tvalidation_0-logloss:0.54163\tvalidation_1-logloss:0.54422\n",
      "[40]\tvalidation_0-logloss:0.53838\tvalidation_1-logloss:0.54185\n",
      "[41]\tvalidation_0-logloss:0.53576\tvalidation_1-logloss:0.53935\n",
      "[42]\tvalidation_0-logloss:0.53328\tvalidation_1-logloss:0.53663\n",
      "[43]\tvalidation_0-logloss:0.53066\tvalidation_1-logloss:0.53422\n",
      "[44]\tvalidation_0-logloss:0.52783\tvalidation_1-logloss:0.53193\n",
      "[45]\tvalidation_0-logloss:0.52583\tvalidation_1-logloss:0.52953\n",
      "[46]\tvalidation_0-logloss:0.52318\tvalidation_1-logloss:0.52716\n",
      "[47]\tvalidation_0-logloss:0.52070\tvalidation_1-logloss:0.52489\n",
      "[48]\tvalidation_0-logloss:0.51835\tvalidation_1-logloss:0.52263\n",
      "[49]\tvalidation_0-logloss:0.51646\tvalidation_1-logloss:0.52037\n",
      "[50]\tvalidation_0-logloss:0.51392\tvalidation_1-logloss:0.51824\n",
      "[51]\tvalidation_0-logloss:0.51142\tvalidation_1-logloss:0.51605\n",
      "[52]\tvalidation_0-logloss:0.50914\tvalidation_1-logloss:0.51378\n",
      "[53]\tvalidation_0-logloss:0.50763\tvalidation_1-logloss:0.51173\n",
      "[54]\tvalidation_0-logloss:0.50521\tvalidation_1-logloss:0.50971\n",
      "[55]\tvalidation_0-logloss:0.50247\tvalidation_1-logloss:0.50755\n",
      "[56]\tvalidation_0-logloss:0.50049\tvalidation_1-logloss:0.50565\n",
      "[57]\tvalidation_0-logloss:0.49871\tvalidation_1-logloss:0.50355\n",
      "[58]\tvalidation_0-logloss:0.49649\tvalidation_1-logloss:0.50186\n",
      "[59]\tvalidation_0-logloss:0.49436\tvalidation_1-logloss:0.49993\n",
      "[60]\tvalidation_0-logloss:0.49210\tvalidation_1-logloss:0.49792\n",
      "[61]\tvalidation_0-logloss:0.49052\tvalidation_1-logloss:0.49607\n",
      "[62]\tvalidation_0-logloss:0.48858\tvalidation_1-logloss:0.49423\n",
      "[63]\tvalidation_0-logloss:0.48651\tvalidation_1-logloss:0.49234\n",
      "[64]\tvalidation_0-logloss:0.48434\tvalidation_1-logloss:0.49050\n",
      "[65]\tvalidation_0-logloss:0.48253\tvalidation_1-logloss:0.48885\n",
      "[66]\tvalidation_0-logloss:0.48109\tvalidation_1-logloss:0.48704\n",
      "[67]\tvalidation_0-logloss:0.47903\tvalidation_1-logloss:0.48521\n",
      "[68]\tvalidation_0-logloss:0.47692\tvalidation_1-logloss:0.48368\n",
      "[69]\tvalidation_0-logloss:0.47505\tvalidation_1-logloss:0.48187\n",
      "[70]\tvalidation_0-logloss:0.47364\tvalidation_1-logloss:0.48025\n",
      "[71]\tvalidation_0-logloss:0.47174\tvalidation_1-logloss:0.47865\n",
      "[72]\tvalidation_0-logloss:0.47019\tvalidation_1-logloss:0.47691\n",
      "[73]\tvalidation_0-logloss:0.46825\tvalidation_1-logloss:0.47518\n",
      "[74]\tvalidation_0-logloss:0.46629\tvalidation_1-logloss:0.47373\n",
      "[75]\tvalidation_0-logloss:0.46489\tvalidation_1-logloss:0.47208\n",
      "[76]\tvalidation_0-logloss:0.46315\tvalidation_1-logloss:0.47060\n",
      "[77]\tvalidation_0-logloss:0.46167\tvalidation_1-logloss:0.46895\n",
      "[78]\tvalidation_0-logloss:0.45992\tvalidation_1-logloss:0.46758\n",
      "[79]\tvalidation_0-logloss:0.45811\tvalidation_1-logloss:0.46599\n",
      "[80]\tvalidation_0-logloss:0.45672\tvalidation_1-logloss:0.46463\n",
      "[81]\tvalidation_0-logloss:0.45531\tvalidation_1-logloss:0.46294\n",
      "[82]\tvalidation_0-logloss:0.45361\tvalidation_1-logloss:0.46164\n",
      "[83]\tvalidation_0-logloss:0.45192\tvalidation_1-logloss:0.46030\n",
      "[84]\tvalidation_0-logloss:0.45064\tvalidation_1-logloss:0.45881\n",
      "[85]\tvalidation_0-logloss:0.44881\tvalidation_1-logloss:0.45745\n",
      "[86]\tvalidation_0-logloss:0.44761\tvalidation_1-logloss:0.45598\n",
      "[87]\tvalidation_0-logloss:0.44640\tvalidation_1-logloss:0.45470\n",
      "[88]\tvalidation_0-logloss:0.44467\tvalidation_1-logloss:0.45336\n",
      "[89]\tvalidation_0-logloss:0.44312\tvalidation_1-logloss:0.45193\n",
      "[90]\tvalidation_0-logloss:0.44187\tvalidation_1-logloss:0.45064\n",
      "[91]\tvalidation_0-logloss:0.44040\tvalidation_1-logloss:0.44952\n",
      "[92]\tvalidation_0-logloss:0.43921\tvalidation_1-logloss:0.44829\n",
      "[93]\tvalidation_0-logloss:0.43794\tvalidation_1-logloss:0.44693\n",
      "[94]\tvalidation_0-logloss:0.43650\tvalidation_1-logloss:0.44570\n",
      "[95]\tvalidation_0-logloss:0.43498\tvalidation_1-logloss:0.44455\n",
      "[96]\tvalidation_0-logloss:0.43381\tvalidation_1-logloss:0.44335\n",
      "[97]\tvalidation_0-logloss:0.43237\tvalidation_1-logloss:0.44222\n",
      "[98]\tvalidation_0-logloss:0.43106\tvalidation_1-logloss:0.44089\n",
      "[99]\tvalidation_0-logloss:0.43004\tvalidation_1-logloss:0.43975\n"
     ]
    },
    {
     "data": {
      "text/plain": [
       "XGBClassifier(base_score=0.5, booster='gbtree', colsample_bylevel=1,\n",
       "              colsample_bynode=1, colsample_bytree=1, gamma=0, gpu_id=-1,\n",
       "              importance_type='gain', interaction_constraints='',\n",
       "              learning_rate=0.01, max_delta_step=0, max_depth=6,\n",
       "              min_child_weight=1, missing=nan, monotone_constraints='()',\n",
       "              n_estimators=100, n_jobs=4, num_parallel_tree=1, random_state=156,\n",
       "              reg_alpha=0, reg_lambda=1, scale_pos_weight=1, seed=156,\n",
       "              subsample=1, tree_method='exact', validate_parameters=1,\n",
       "              verbosity=None)"
      ]
     },
     "execution_count": 58,
     "metadata": {},
     "output_type": "execute_result"
    }
   ],
   "source": [
    "#파라미터 조절,,,\n",
    "xgb_over_model = XGBClassifier(n_estimators=100,\n",
    "                              objective='binary:logistic',\n",
    "                              seed=156,\n",
    "                              learning_rate=0.01)\n",
    "xgb_over_model.fit(X_train_over, y_train_over, early_stopping_rounds=10, eval_set = [(X_train_over, y_train_over), (X_test, y_test)], eval_metric='logloss')"
   ]
  },
  {
   "cell_type": "code",
   "execution_count": 57,
   "metadata": {},
   "outputs": [
    {
     "ename": "NameError",
     "evalue": "name 'xgb_over_model' is not defined",
     "output_type": "error",
     "traceback": [
      "\u001b[1;31m---------------------------------------------------------------------------\u001b[0m",
      "\u001b[1;31mNameError\u001b[0m                                 Traceback (most recent call last)",
      "\u001b[1;32m<ipython-input-57-654877d357ef>\u001b[0m in \u001b[0;36m<module>\u001b[1;34m\u001b[0m\n\u001b[1;32m----> 1\u001b[1;33m \u001b[0mxgb_over_pred\u001b[0m \u001b[1;33m=\u001b[0m \u001b[0mxgb_over_model\u001b[0m\u001b[1;33m.\u001b[0m\u001b[0mpredict\u001b[0m\u001b[1;33m(\u001b[0m\u001b[0mX_test\u001b[0m\u001b[1;33m)\u001b[0m\u001b[1;33m\u001b[0m\u001b[1;33m\u001b[0m\u001b[0m\n\u001b[0m",
      "\u001b[1;31mNameError\u001b[0m: name 'xgb_over_model' is not defined"
     ]
    }
   ],
   "source": [
    "xgb_over_pred = xgb_over_model.predict(X_test)"
   ]
  },
  {
   "cell_type": "code",
   "execution_count": 79,
   "metadata": {},
   "outputs": [
    {
     "name": "stdout",
     "output_type": "stream",
     "text": [
      "<OverSampling 후 XGBoost 기본 모델 성능>\n",
      "accuracy 0.8063959456648148 \n",
      "\n",
      "confusion_matrix [[235743  56439]\n",
      " [   329    706]] \n",
      "\n",
      "              precision    recall  f1-score   support\n",
      "\n",
      "           0       1.00      0.81      0.89    292182\n",
      "           1       0.01      0.68      0.02      1035\n",
      "\n",
      "    accuracy                           0.81    293217\n",
      "   macro avg       0.51      0.74      0.46    293217\n",
      "weighted avg       1.00      0.81      0.89    293217\n",
      "\n"
     ]
    }
   ],
   "source": [
    "print('<OverSampling 후 XGBoost 기본 모델 성능>')\n",
    "model_assessment(y_test, xgb_over_pred)"
   ]
  },
  {
   "cell_type": "code",
   "execution_count": 64,
   "metadata": {},
   "outputs": [],
   "source": [
    "#모델저장\n",
    "import pickle as pkl\n",
    "with open(\"xgboost_model.pkl\",'wb') as outfile:\n",
    "    pkl.dump(xgb_over_model,outfile)"
   ]
  },
  {
   "cell_type": "code",
   "execution_count": 66,
   "metadata": {},
   "outputs": [],
   "source": [
    "\n",
    "import pickle as pkl\n",
    "with open(\"xgboost_predict.pkl\",'wb') as outfile:\n",
    "    pkl.dump(xgb_over_pred,outfile)"
   ]
  },
  {
   "cell_type": "code",
   "execution_count": 80,
   "metadata": {},
   "outputs": [
    {
     "data": {
      "text/plain": [
       "0.7444808769677904"
      ]
     },
     "execution_count": 80,
     "metadata": {},
     "output_type": "execute_result"
    }
   ],
   "source": [
    "fpr, tpr, threshold = sklearn.metrics.roc_curve(y_test, xgb_over_pred)\n",
    "auc = metrics.auc(fpr,tpr)\n",
    "auc"
   ]
  },
  {
   "cell_type": "code",
   "execution_count": null,
   "metadata": {},
   "outputs": [],
   "source": []
  },
  {
   "cell_type": "code",
   "execution_count": 81,
   "metadata": {},
   "outputs": [
    {
     "data": {
      "image/png": "[encoded data removed]",
      "text/plain": [
       "<Figure size 432x288 with 1 Axes>"
      ]
     },
     "metadata": {
      "needs_background": "light"
     },
     "output_type": "display_data"
    }
   ],
   "source": [
    "fpr, tpr, threshold = sklearn.metrics.roc_curve(y_test, xgb_over_pred)\n",
    "plt.title('XGBoost ROC Curve')\n",
    "plt.plot(fpr, tpr, 'k-', linewidth=2,label = 'AUC : ' + str(auc))\n",
    "plt.legend(loc=4)\n",
    "plt.plot([0,1], [0,1], 'r--')\n",
    "plt.xlabel('False Positive Rate')\n",
    "plt.ylabel('True Positive Rate')\n",
    "plt.axis([-0.01, 1,0,1])\n",
    "plt.savefig('C:/Users/ksy/Desktop/개인/코로나19 팀프로젝트/시나리오0/png/XGBoost ROC.png')\n",
    "plt.show()"
   ]
  },
  {
   "cell_type": "code",
   "execution_count": 67,
   "metadata": {},
   "outputs": [
    {
     "data": {
      "text/plain": [
       "array([1.5097462e-02, 4.8509305e-03, 4.4001299e-03, 1.1485882e-02,\n",
       "       7.8531576e-04, 0.0000000e+00, 4.9765059e-03, 2.2204882e-03,\n",
       "       2.8399585e-03, 7.8412211e-03, 4.1152490e-03, 2.0507129e-03,\n",
       "       0.0000000e+00, 3.8256627e-03, 1.2603953e-02, 8.6514458e-02,\n",
       "       0.0000000e+00, 4.9545192e-03, 1.0290329e-02, 0.0000000e+00,\n",
       "       0.0000000e+00, 3.6119365e-03, 1.7776345e-03, 1.8483710e-02,\n",
       "       1.1028977e-03, 4.7336319e-03, 9.1411872e-03, 0.0000000e+00,\n",
       "       1.3974537e-03, 0.0000000e+00, 6.8540107e-03, 1.3439210e-02,\n",
       "       3.5712731e-03, 0.0000000e+00, 0.0000000e+00, 0.0000000e+00,\n",
       "       6.0238373e-01, 2.2804955e-02, 2.4761921e-03, 0.0000000e+00,\n",
       "       1.7784208e-03, 3.7857663e-04, 4.8619066e-03, 4.9419026e-03,\n",
       "       3.4802915e-03, 0.0000000e+00, 7.8412530e-04, 3.0765457e-03,\n",
       "       1.7710654e-03, 3.6839759e-03, 3.6894912e-03, 1.1250141e-02,\n",
       "       1.8777272e-03, 1.3507985e-03, 0.0000000e+00, 1.9480353e-02,\n",
       "       9.0062376e-03, 3.5061319e-03, 0.0000000e+00, 5.4451630e-02],\n",
       "      dtype=float32)"
      ]
     },
     "execution_count": 67,
     "metadata": {},
     "output_type": "execute_result"
    }
   ],
   "source": [
    "xgb_over_model.feature_importances_"
   ]
  },
  {
   "cell_type": "code",
   "execution_count": null,
   "metadata": {},
   "outputs": [],
   "source": [
    "plot_confusion_matrix(xgb ######\n",
    "                      X_test,y_test,cmap='Blues') \n",
    "\n",
    "plt.title('Logistic Regression')\n",
    "plt.savefig('C:/Users/ksy/Desktop/개인/코로나19 팀프로젝트/시나리오0/png/1.Logistic Regression Confusion Matrix.png')\n",
    "plt.show()"
   ]
  },
  {
   "cell_type": "code",
   "execution_count": 68,
   "metadata": {},
   "outputs": [
    {
     "data": {
      "text/plain": [
       "<matplotlib.axes._subplots.AxesSubplot at 0x20d1e85c608>"
      ]
     },
     "execution_count": 68,
     "metadata": {},
     "output_type": "execute_result"
    },
    {
     "data": {
      "image/png": "[encoded data removed]",
      "text/plain": [
       "<Figure size 1080x1080 with 1 Axes>"
      ]
     },
     "metadata": {
      "needs_background": "light"
     },
     "output_type": "display_data"
    }
   ],
   "source": [
    "from xgboost import plot_importance\n",
    "\n",
    "fig,ax = plt.subplots(figsize=(15,15))\n",
    "plot_importance(xgb_over_model.get_booster(), ax=ax)"
   ]
  },
  {
   "cell_type": "markdown",
   "metadata": {},
   "source": [
    "## 2) LightGBM"
   ]
  },
  {
   "cell_type": "code",
   "execution_count": 84,
   "metadata": {},
   "outputs": [],
   "source": [
    "from lightgbm import LGBMClassifier\n",
    "lgbm = LGBMClassifier(n_estimators=100)"
   ]
  },
  {
   "cell_type": "code",
   "execution_count": 85,
   "metadata": {},
   "outputs": [
    {
     "name": "stdout",
     "output_type": "stream",
     "text": [
      "[1]\ttraining's binary_logloss: 0.643545\tvalid_1's binary_logloss: 0.643895\n",
      "Training until validation scores don't improve for 10 rounds\n",
      "[2]\ttraining's binary_logloss: 0.602969\tvalid_1's binary_logloss: 0.604084\n",
      "[3]\ttraining's binary_logloss: 0.569532\tvalid_1's binary_logloss: 0.571573\n",
      "[4]\ttraining's binary_logloss: 0.540673\tvalid_1's binary_logloss: 0.543956\n",
      "[5]\ttraining's binary_logloss: 0.516273\tvalid_1's binary_logloss: 0.520995\n",
      "[6]\ttraining's binary_logloss: 0.494839\tvalid_1's binary_logloss: 0.500708\n",
      "[7]\ttraining's binary_logloss: 0.476584\tvalid_1's binary_logloss: 0.483728\n",
      "[8]\ttraining's binary_logloss: 0.459857\tvalid_1's binary_logloss: 0.468021\n",
      "[9]\ttraining's binary_logloss: 0.444335\tvalid_1's binary_logloss: 0.453287\n",
      "[10]\ttraining's binary_logloss: 0.431545\tvalid_1's binary_logloss: 0.441444\n",
      "[11]\ttraining's binary_logloss: 0.418736\tvalid_1's binary_logloss: 0.429012\n",
      "[12]\ttraining's binary_logloss: 0.409167\tvalid_1's binary_logloss: 0.420502\n",
      "[13]\ttraining's binary_logloss: 0.399322\tvalid_1's binary_logloss: 0.411052\n",
      "[14]\ttraining's binary_logloss: 0.39066\tvalid_1's binary_logloss: 0.403059\n",
      "[15]\ttraining's binary_logloss: 0.381721\tvalid_1's binary_logloss: 0.394157\n",
      "[16]\ttraining's binary_logloss: 0.374308\tvalid_1's binary_logloss: 0.38732\n",
      "[17]\ttraining's binary_logloss: 0.366626\tvalid_1's binary_logloss: 0.379418\n",
      "[18]\ttraining's binary_logloss: 0.359345\tvalid_1's binary_logloss: 0.371908\n",
      "[19]\ttraining's binary_logloss: 0.353057\tvalid_1's binary_logloss: 0.365721\n",
      "[20]\ttraining's binary_logloss: 0.347819\tvalid_1's binary_logloss: 0.360773\n",
      "[21]\ttraining's binary_logloss: 0.340749\tvalid_1's binary_logloss: 0.353468\n",
      "[22]\ttraining's binary_logloss: 0.333035\tvalid_1's binary_logloss: 0.345147\n",
      "[23]\ttraining's binary_logloss: 0.328046\tvalid_1's binary_logloss: 0.340517\n",
      "[24]\ttraining's binary_logloss: 0.323266\tvalid_1's binary_logloss: 0.335832\n",
      "[25]\ttraining's binary_logloss: 0.319075\tvalid_1's binary_logloss: 0.331877\n",
      "[26]\ttraining's binary_logloss: 0.314742\tvalid_1's binary_logloss: 0.32751\n",
      "[27]\ttraining's binary_logloss: 0.311309\tvalid_1's binary_logloss: 0.324353\n",
      "[28]\ttraining's binary_logloss: 0.305368\tvalid_1's binary_logloss: 0.318075\n",
      "[29]\ttraining's binary_logloss: 0.302124\tvalid_1's binary_logloss: 0.314877\n",
      "[30]\ttraining's binary_logloss: 0.298448\tvalid_1's binary_logloss: 0.311097\n",
      "[31]\ttraining's binary_logloss: 0.29371\tvalid_1's binary_logloss: 0.306172\n",
      "[32]\ttraining's binary_logloss: 0.290152\tvalid_1's binary_logloss: 0.302358\n",
      "[33]\ttraining's binary_logloss: 0.287721\tvalid_1's binary_logloss: 0.300251\n",
      "[34]\ttraining's binary_logloss: 0.283568\tvalid_1's binary_logloss: 0.295624\n",
      "[35]\ttraining's binary_logloss: 0.281279\tvalid_1's binary_logloss: 0.293611\n",
      "[36]\ttraining's binary_logloss: 0.277753\tvalid_1's binary_logloss: 0.289717\n",
      "[37]\ttraining's binary_logloss: 0.274957\tvalid_1's binary_logloss: 0.286826\n",
      "[38]\ttraining's binary_logloss: 0.271927\tvalid_1's binary_logloss: 0.283739\n",
      "[39]\ttraining's binary_logloss: 0.268481\tvalid_1's binary_logloss: 0.279709\n",
      "[40]\ttraining's binary_logloss: 0.265856\tvalid_1's binary_logloss: 0.276679\n",
      "[41]\ttraining's binary_logloss: 0.263368\tvalid_1's binary_logloss: 0.274204\n",
      "[42]\ttraining's binary_logloss: 0.261008\tvalid_1's binary_logloss: 0.271998\n",
      "[43]\ttraining's binary_logloss: 0.258386\tvalid_1's binary_logloss: 0.26929\n",
      "[44]\ttraining's binary_logloss: 0.255876\tvalid_1's binary_logloss: 0.26669\n",
      "[45]\ttraining's binary_logloss: 0.253576\tvalid_1's binary_logloss: 0.264567\n",
      "[46]\ttraining's binary_logloss: 0.251574\tvalid_1's binary_logloss: 0.262502\n",
      "[47]\ttraining's binary_logloss: 0.249587\tvalid_1's binary_logloss: 0.260451\n",
      "[48]\ttraining's binary_logloss: 0.247621\tvalid_1's binary_logloss: 0.258422\n",
      "[49]\ttraining's binary_logloss: 0.245943\tvalid_1's binary_logloss: 0.256813\n",
      "[50]\ttraining's binary_logloss: 0.24426\tvalid_1's binary_logloss: 0.255128\n",
      "[51]\ttraining's binary_logloss: 0.241375\tvalid_1's binary_logloss: 0.252026\n",
      "[52]\ttraining's binary_logloss: 0.239191\tvalid_1's binary_logloss: 0.249822\n",
      "[53]\ttraining's binary_logloss: 0.236483\tvalid_1's binary_logloss: 0.247012\n",
      "[54]\ttraining's binary_logloss: 0.234663\tvalid_1's binary_logloss: 0.244998\n",
      "[55]\ttraining's binary_logloss: 0.233261\tvalid_1's binary_logloss: 0.243535\n",
      "[56]\ttraining's binary_logloss: 0.231401\tvalid_1's binary_logloss: 0.241555\n",
      "[57]\ttraining's binary_logloss: 0.229604\tvalid_1's binary_logloss: 0.239597\n",
      "[58]\ttraining's binary_logloss: 0.228181\tvalid_1's binary_logloss: 0.238435\n",
      "[59]\ttraining's binary_logloss: 0.226455\tvalid_1's binary_logloss: 0.236574\n",
      "[60]\ttraining's binary_logloss: 0.224858\tvalid_1's binary_logloss: 0.235062\n",
      "[61]\ttraining's binary_logloss: 0.223512\tvalid_1's binary_logloss: 0.233864\n",
      "[62]\ttraining's binary_logloss: 0.222235\tvalid_1's binary_logloss: 0.232616\n",
      "[63]\ttraining's binary_logloss: 0.220997\tvalid_1's binary_logloss: 0.23145\n",
      "[64]\ttraining's binary_logloss: 0.219595\tvalid_1's binary_logloss: 0.230058\n",
      "[65]\ttraining's binary_logloss: 0.218571\tvalid_1's binary_logloss: 0.229151\n",
      "[66]\ttraining's binary_logloss: 0.217268\tvalid_1's binary_logloss: 0.227962\n",
      "[67]\ttraining's binary_logloss: 0.216095\tvalid_1's binary_logloss: 0.226804\n",
      "[68]\ttraining's binary_logloss: 0.214758\tvalid_1's binary_logloss: 0.225549\n",
      "[69]\ttraining's binary_logloss: 0.213869\tvalid_1's binary_logloss: 0.224725\n",
      "[70]\ttraining's binary_logloss: 0.212847\tvalid_1's binary_logloss: 0.223735\n",
      "[71]\ttraining's binary_logloss: 0.21132\tvalid_1's binary_logloss: 0.222182\n",
      "[72]\ttraining's binary_logloss: 0.210395\tvalid_1's binary_logloss: 0.221286\n",
      "[73]\ttraining's binary_logloss: 0.209615\tvalid_1's binary_logloss: 0.220608\n",
      "[74]\ttraining's binary_logloss: 0.208284\tvalid_1's binary_logloss: 0.21909\n",
      "[75]\ttraining's binary_logloss: 0.207589\tvalid_1's binary_logloss: 0.218599\n",
      "[76]\ttraining's binary_logloss: 0.206815\tvalid_1's binary_logloss: 0.21802\n",
      "[77]\ttraining's binary_logloss: 0.205904\tvalid_1's binary_logloss: 0.217295\n",
      "[78]\ttraining's binary_logloss: 0.205038\tvalid_1's binary_logloss: 0.216487\n",
      "[79]\ttraining's binary_logloss: 0.2042\tvalid_1's binary_logloss: 0.215688\n",
      "[80]\ttraining's binary_logloss: 0.203299\tvalid_1's binary_logloss: 0.214988\n",
      "[81]\ttraining's binary_logloss: 0.202362\tvalid_1's binary_logloss: 0.214093\n",
      "[82]\ttraining's binary_logloss: 0.201476\tvalid_1's binary_logloss: 0.213178\n",
      "[83]\ttraining's binary_logloss: 0.200316\tvalid_1's binary_logloss: 0.211968\n",
      "[84]\ttraining's binary_logloss: 0.199153\tvalid_1's binary_logloss: 0.210724\n",
      "[85]\ttraining's binary_logloss: 0.198354\tvalid_1's binary_logloss: 0.209895\n",
      "[86]\ttraining's binary_logloss: 0.197765\tvalid_1's binary_logloss: 0.209386\n",
      "[87]\ttraining's binary_logloss: 0.196831\tvalid_1's binary_logloss: 0.208587\n",
      "[88]\ttraining's binary_logloss: 0.19603\tvalid_1's binary_logloss: 0.207859\n",
      "[89]\ttraining's binary_logloss: 0.195136\tvalid_1's binary_logloss: 0.206866\n",
      "[90]\ttraining's binary_logloss: 0.194434\tvalid_1's binary_logloss: 0.206323\n",
      "[91]\ttraining's binary_logloss: 0.193504\tvalid_1's binary_logloss: 0.205268\n",
      "[92]\ttraining's binary_logloss: 0.192646\tvalid_1's binary_logloss: 0.204396\n",
      "[93]\ttraining's binary_logloss: 0.19198\tvalid_1's binary_logloss: 0.203822\n",
      "[94]\ttraining's binary_logloss: 0.19128\tvalid_1's binary_logloss: 0.203064\n",
      "[95]\ttraining's binary_logloss: 0.190507\tvalid_1's binary_logloss: 0.20245\n",
      "[96]\ttraining's binary_logloss: 0.189682\tvalid_1's binary_logloss: 0.201543\n",
      "[97]\ttraining's binary_logloss: 0.188756\tvalid_1's binary_logloss: 0.200559\n",
      "[98]\ttraining's binary_logloss: 0.188122\tvalid_1's binary_logloss: 0.200043\n",
      "[99]\ttraining's binary_logloss: 0.187515\tvalid_1's binary_logloss: 0.199494\n",
      "[100]\ttraining's binary_logloss: 0.186986\tvalid_1's binary_logloss: 0.199082\n",
      "Did not meet early stopping. Best iteration is:\n",
      "[100]\ttraining's binary_logloss: 0.186986\tvalid_1's binary_logloss: 0.199082\n"
     ]
    },
    {
     "data": {
      "text/plain": [
       "LGBMClassifier()"
      ]
     },
     "execution_count": 85,
     "metadata": {},
     "output_type": "execute_result"
    }
   ],
   "source": [
    "lgbm.fit(X_train_over, y_train_over, early_stopping_rounds=10, eval_set = [(X_train_over, y_train_over), (X_test, y_test)], eval_metric='logloss')"
   ]
  },
  {
   "cell_type": "code",
   "execution_count": 86,
   "metadata": {},
   "outputs": [],
   "source": [
    "lgbm_pred = lgbm.predict(X_test)"
   ]
  },
  {
   "cell_type": "code",
   "execution_count": 87,
   "metadata": {},
   "outputs": [
    {
     "name": "stdout",
     "output_type": "stream",
     "text": [
      "<OverSampling 후 LightGBM 기본 모델 성능>\n",
      "accuracy 0.9141761903300286 \n",
      "\n",
      "confusion_matrix [[267674  24508]\n",
      " [   657    378]] \n",
      "\n",
      "              precision    recall  f1-score   support\n",
      "\n",
      "           0       1.00      0.92      0.96    292182\n",
      "           1       0.02      0.37      0.03      1035\n",
      "\n",
      "    accuracy                           0.91    293217\n",
      "   macro avg       0.51      0.64      0.49    293217\n",
      "weighted avg       0.99      0.91      0.95    293217\n",
      "\n"
     ]
    }
   ],
   "source": [
    "print('<OverSampling 후 LightGBM 기본 모델 성능>')\n",
    "model_assessment(y_test, lgbm_pred)"
   ]
  },
  {
   "cell_type": "code",
   "execution_count": 88,
   "metadata": {},
   "outputs": [
    {
     "data": {
      "text/plain": [
       "0.6406690826712237"
      ]
     },
     "execution_count": 88,
     "metadata": {},
     "output_type": "execute_result"
    }
   ],
   "source": [
    "fpr, tpr, threshold = sklearn.metrics.roc_curve(y_test, lgbm_pred)\n",
    "auc = metrics.auc(fpr,tpr)\n",
    "auc"
   ]
  },
  {
   "cell_type": "code",
   "execution_count": 90,
   "metadata": {},
   "outputs": [],
   "source": [
    "#모델저장\n",
    "import pickle as pkl\n",
    "with open(\"lgbm_model.pkl\",'wb') as outfile:\n",
    "    pkl.dump(lgbm,outfile)"
   ]
  },
  {
   "cell_type": "code",
   "execution_count": 92,
   "metadata": {},
   "outputs": [],
   "source": [
    "#모델저장\n",
    "import pickle as pkl\n",
    "with open(\"lgbm_predict.pkl\",'wb') as outfile:\n",
    "    pkl.dump(lgbm_pred,outfile)"
   ]
  },
  {
   "cell_type": "markdown",
   "metadata": {},
   "source": [
    "## 3) RandomForest"
   ]
  },
  {
   "cell_type": "code",
   "execution_count": 45,
   "metadata": {},
   "outputs": [
    {
     "data": {
      "text/plain": [
       "RandomForestClassifier(random_state=146)"
      ]
     },
     "execution_count": 45,
     "metadata": {},
     "output_type": "execute_result"
    }
   ],
   "source": [
    "rfc = RandomForestClassifier(n_estimators=100, random_state=146)\n",
    "rfc.fit(X_train_over, y_train_over)"
   ]
  },
  {
   "cell_type": "code",
   "execution_count": 47,
   "metadata": {},
   "outputs": [],
   "source": [
    "rfc_prd = rfc.predict(X_test)"
   ]
  },
  {
   "cell_type": "code",
   "execution_count": 51,
   "metadata": {},
   "outputs": [
    {
     "name": "stdout",
     "output_type": "stream",
     "text": [
      "0.5241301406439246\n"
     ]
    }
   ],
   "source": [
    "auc = auc_return(y_test,rfc_prd) # 변경\n",
    "print(auc)"
   ]
  },
  {
   "cell_type": "code",
   "execution_count": 52,
   "metadata": {},
   "outputs": [
    {
     "name": "stdout",
     "output_type": "stream",
     "text": [
      "<OverSampling 후 RandomForest 기본 모델 성능>\n",
      "accuracy 0.9879577241428703 \n",
      "\n",
      "confusion_matrix [[289627   2555]\n",
      " [   976     59]] \n",
      "\n",
      "              precision    recall  f1-score   support\n",
      "\n",
      "           0       1.00      0.99      0.99    292182\n",
      "           1       0.02      0.06      0.03      1035\n",
      "\n",
      "    accuracy                           0.99    293217\n",
      "   macro avg       0.51      0.52      0.51    293217\n",
      "weighted avg       0.99      0.99      0.99    293217\n",
      "\n"
     ]
    }
   ],
   "source": [
    "print('<OverSampling 후 RandomForest 기본 모델 성능>')\n",
    "\n",
    "model_assessment(y_test,rfc_prd)"
   ]
  },
  {
   "cell_type": "markdown",
   "metadata": {},
   "source": [
    "## 4) Decision Tree"
   ]
  },
  {
   "cell_type": "code",
   "execution_count": 53,
   "metadata": {},
   "outputs": [],
   "source": [
    "dt = DecisionTreeClassifier()"
   ]
  },
  {
   "cell_type": "code",
   "execution_count": 54,
   "metadata": {},
   "outputs": [],
   "source": [
    "dt = dt.fit(X_train_over, y_train_over)"
   ]
  },
  {
   "cell_type": "code",
   "execution_count": 55,
   "metadata": {},
   "outputs": [],
   "source": [
    "dt_pred = dt.predict(X_test)"
   ]
  },
  {
   "cell_type": "code",
   "execution_count": 56,
   "metadata": {},
   "outputs": [
    {
     "name": "stdout",
     "output_type": "stream",
     "text": [
      "<OverSampling 후 Decision Tree 기본 모델 성능>\n",
      "accuracy 0.9744046218329769 \n",
      "\n",
      "confusion_matrix [[285609   6573]\n",
      " [   932    103]] \n",
      "\n",
      "              precision    recall  f1-score   support\n",
      "\n",
      "           0       1.00      0.98      0.99    292182\n",
      "           1       0.02      0.10      0.03      1035\n",
      "\n",
      "    accuracy                           0.97    293217\n",
      "   macro avg       0.51      0.54      0.51    293217\n",
      "weighted avg       0.99      0.97      0.98    293217\n",
      "\n"
     ]
    }
   ],
   "source": [
    "print('<OverSampling 후 Decision Tree 기본 모델 성능>')\n",
    "\n",
    "model_assessment(y_test,dt_pred)"
   ]
  },
  {
   "cell_type": "code",
   "execution_count": 57,
   "metadata": {},
   "outputs": [
    {
     "name": "stdout",
     "output_type": "stream",
     "text": [
      "0.5385103279383437\n"
     ]
    }
   ],
   "source": [
    "auc = auc_return(y_test,dt_pred) # 변경\n",
    "print(auc)"
   ]
  },
  {
   "cell_type": "code",
   "execution_count": null,
   "metadata": {},
   "outputs": [],
   "source": []
  },
  {
   "cell_type": "code",
   "execution_count": null,
   "metadata": {},
   "outputs": [],
   "source": []
  },
  {
   "cell_type": "code",
   "execution_count": null,
   "metadata": {},
   "outputs": [],
   "source": []
  },
  {
   "cell_type": "markdown",
   "metadata": {},
   "source": [
    "## 5) Gradient Boosting"
   ]
  },
  {
   "cell_type": "code",
   "execution_count": 44,
   "metadata": {},
   "outputs": [],
   "source": [
    "from sklearn.ensemble import GradientBoostingClassifier\n",
    "gbc = GradientBoostingClassifier(random_state=21,max_depth = 5)\n",
    "gbc.fit(X_train_over, y_train_over)\n",
    "gbc_pred = gbc.predict(X_test)"
   ]
  },
  {
   "cell_type": "code",
   "execution_count": 45,
   "metadata": {},
   "outputs": [],
   "source": [
    "gbc_pred = gbc.predict(X_test)"
   ]
  },
  {
   "cell_type": "code",
   "execution_count": 46,
   "metadata": {},
   "outputs": [
    {
     "name": "stdout",
     "output_type": "stream",
     "text": [
      "Gradient Boosting 기본 모델 성능\n",
      "accuracy 0.895657482342429 \n",
      "\n",
      "confusion_matrix [[262176  30006]\n",
      " [   589    446]] \n",
      "\n",
      "              precision    recall  f1-score   support\n",
      "\n",
      "           0       1.00      0.90      0.94    292182\n",
      "           1       0.01      0.43      0.03      1035\n",
      "\n",
      "    accuracy                           0.90    293217\n",
      "   macro avg       0.51      0.66      0.49    293217\n",
      "weighted avg       0.99      0.90      0.94    293217\n",
      "\n"
     ]
    }
   ],
   "source": [
    "print('Gradient Boosting 기본 모델 성능')\n",
    "\n",
    "model_assessment(y_test,gbc_pred)"
   ]
  },
  {
   "cell_type": "code",
   "execution_count": 52,
   "metadata": {},
   "outputs": [
    {
     "name": "stdout",
     "output_type": "stream",
     "text": [
      "Gradient Boosting 기본 모델 성능\n",
      "accuracy 0.895657482342429 \n",
      "\n",
      "confusion_matrix [[262176  30006]\n",
      " [   589    446]] \n",
      "\n",
      "              precision    recall  f1-score   support\n",
      "\n",
      "           0       1.00      0.90      0.94    292182\n",
      "           1       0.01      0.43      0.03      1035\n",
      "\n",
      "    accuracy                           0.90    293217\n",
      "   macro avg       0.51      0.66      0.49    293217\n",
      "weighted avg       0.99      0.90      0.94    293217\n",
      "\n"
     ]
    }
   ],
   "source": [
    "print('Gradient Boosting 기본 모델 성능')\n",
    "\n",
    "model_assessment(y_test,gbc_pred)"
   ]
  },
  {
   "cell_type": "code",
   "execution_count": 53,
   "metadata": {},
   "outputs": [
    {
     "name": "stdout",
     "output_type": "stream",
     "text": [
      "0.6641108048695874\n"
     ]
    }
   ],
   "source": [
    "auc = auc_return(y_test,gbc_pred) # 변경\n",
    "print(auc)"
   ]
  },
  {
   "cell_type": "code",
   "execution_count": 55,
   "metadata": {},
   "outputs": [],
   "source": [
    "#모델저장\n",
    "import pickle as pkl\n",
    "with open(\"gbc_model.pkl\",'wb') as outfile:\n",
    "    pkl.dump(gbc,outfile)"
   ]
  },
  {
   "cell_type": "code",
   "execution_count": 56,
   "metadata": {},
   "outputs": [],
   "source": [
    "#모델저장\n",
    "import pickle as pkl\n",
    "with open(\"gbc_predict.pkl\",'wb') as outfile:\n",
    "    pkl.dump(gbc_pred,outfile)"
   ]
  },
  {
   "cell_type": "markdown",
   "metadata": {},
   "source": [
    "## 5) CatBoost"
   ]
  },
  {
   "cell_type": "code",
   "execution_count": null,
   "metadata": {},
   "outputs": [],
   "source": [
    "from catboost"
   ]
  },
  {
   "cell_type": "code",
   "execution_count": null,
   "metadata": {},
   "outputs": [],
   "source": [
    "catboost-0.24.4-cp37-none-win_amd64.whl"
   ]
  }
 ],
 "metadata": {
  "kernelspec": {
   "display_name": "Python 3",
   "language": "python",
   "name": "python3"
  },
  "language_info": {
   "codemirror_mode": {
    "name": "ipython",
    "version": 3
   },
   "file_extension": ".py",
   "mimetype": "text/x-python",
   "name": "python",
   "nbconvert_exporter": "python",
   "pygments_lexer": "ipython3",
   "version": "3.7.4"
  }
 },
 "nbformat": 4,
 "nbformat_minor": 4
}
