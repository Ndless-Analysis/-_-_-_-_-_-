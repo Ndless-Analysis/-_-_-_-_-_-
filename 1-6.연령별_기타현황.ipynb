{
 "cells": [
  {
   "cell_type": "markdown",
   "metadata": {},
   "source": [
    "해당 과제는 'Brightics Studio'로 시작하는 금융 빅데이터 분석 교재를 참고함"
   ]
  },
  {
   "cell_type": "code",
   "execution_count": 537,
   "metadata": {},
   "outputs": [],
   "source": [
    "import pandas as pd \n",
    "pd.set_option('display.max_columns',None)\n",
    "pd.set_option('display.max_rows',None)"
   ]
  },
  {
   "cell_type": "code",
   "execution_count": 538,
   "metadata": {},
   "outputs": [],
   "source": [
    "#시각화 패키지 라이브러리\n",
    "import seaborn as sns\n",
    "import matplotlib\n",
    "import matplotlib.pyplot as plt\n",
    "matplotlib.rcParams['font.family'] = 'Malgun Gothic' #한글깨짐현상방지\n",
    "matplotlib.rcParams['axes.unicode_minus'] = False"
   ]
  },
  {
   "cell_type": "code",
   "execution_count": 539,
   "metadata": {},
   "outputs": [],
   "source": [
    "df = pd.read_csv('C:/Users/ksy/Desktop/개인/코로나19 팀프로젝트/1.현황분석/read_excel/기타(개설카드수,대출상품수,연체여부)현황.csv',encoding='cp949')"
   ]
  },
  {
   "cell_type": "code",
   "execution_count": 541,
   "metadata": {},
   "outputs": [],
   "source": [
    "#불필요 컬럼 제거"
   ]
  },
  {
   "cell_type": "code",
   "execution_count": 542,
   "metadata": {},
   "outputs": [
    {
     "data": {
      "text/plain": [
       "977390"
      ]
     },
     "execution_count": 542,
     "metadata": {},
     "output_type": "execute_result"
    }
   ],
   "source": [
    "len(df)"
   ]
  },
  {
   "cell_type": "code",
   "execution_count": 543,
   "metadata": {},
   "outputs": [
    {
     "data": {
      "text/plain": [
       "8"
      ]
     },
     "execution_count": 543,
     "metadata": {},
     "output_type": "execute_result"
    }
   ],
   "source": [
    "len(df.columns)"
   ]
  },
  {
   "cell_type": "code",
   "execution_count": 544,
   "metadata": {},
   "outputs": [
    {
     "data": {
      "text/plain": [
       "array([46, 66, 27, 54, 45, 39, 37, 50, 72, 26, 42, 28, 65, 51, 61, 33, 57,\n",
       "       48, 56, 55, 34, 59, 32, 53, 44, 84, 38, 40, 35, 25, 60, 76, 41, 43,\n",
       "       30, 52, 49, 77, 58, 36, 62, 47, 21, 31, 71, 63, 81, 74, 85, 73, 80,\n",
       "       69, 82, 64, 23, 70, 22, 83, 67, 29, 68, 24, 79, 75, 78],\n",
       "      dtype=int64)"
      ]
     },
     "execution_count": 544,
     "metadata": {},
     "output_type": "execute_result"
    }
   ],
   "source": [
    "df['나이'].unique()"
   ]
  },
  {
   "cell_type": "code",
   "execution_count": 545,
   "metadata": {},
   "outputs": [],
   "source": [
    "#df['나이'] = df['나이'].astype(int)"
   ]
  },
  {
   "cell_type": "code",
   "execution_count": 546,
   "metadata": {},
   "outputs": [],
   "source": [
    "import numpy as np\n",
    "df['나이'] = np.where((df.나이 >= 10)&(df.나이 < 20),\"10대\",\n",
    "                   np.where((df['나이'] >= 30)&(df['나이'] < 40),\"30대\",\n",
    "                           np.where((df['나이'] >= 40)&(df['나이'] < 50),\"40대\",\n",
    "                                   np.where((df['나이'] >= 50)&(df['나이'] < 60),\"50대\",\n",
    "                                           np.where((df['나이'] >= 60)&(df['나이'] < 70),\"60대\",\n",
    "                                                   np.where((df['나이'] >= 20)&(df['나이'] < 30),\"20대\",\n",
    "                                                            np.where((df['나이'] >= 70)&(df['나이'] < 80),\"70대\",\n",
    "                                                                     np.where((df['나이'] >= 80)&(df['나이'] < 100),\"80대 이상\",0))))))))\n"
   ]
  },
  {
   "cell_type": "code",
   "execution_count": 547,
   "metadata": {},
   "outputs": [
    {
     "data": {
      "text/plain": [
       "array(['40대', '60대', '20대', '50대', '30대', '70대', '80대 이상'], dtype=object)"
      ]
     },
     "execution_count": 547,
     "metadata": {},
     "output_type": "execute_result"
    }
   ],
   "source": [
    "df['나이'].unique()"
   ]
  },
  {
   "cell_type": "code",
   "execution_count": 548,
   "metadata": {},
   "outputs": [
    {
     "data": {
      "text/plain": [
       "Index(['JOIN_KEY', '생년월일', '성별', '나이', '개설카드수5', '총대출건수', '총대출상품수', '연체여부'], dtype='object')"
      ]
     },
     "execution_count": 548,
     "metadata": {},
     "output_type": "execute_result"
    }
   ],
   "source": [
    "df.columns"
   ]
  },
  {
   "cell_type": "code",
   "execution_count": 549,
   "metadata": {},
   "outputs": [],
   "source": [
    "개설카드수 = df.iloc[:,:5]\n",
    "총대출상품수 = df.drop(columns=['개설카드수5','총대출건수','연체여부'])\n",
    "연체여부 = df.drop(columns=['개설카드수5', '총대출건수', '총대출상품수'])"
   ]
  },
  {
   "cell_type": "markdown",
   "metadata": {},
   "source": [
    "# 대출 차주수"
   ]
  },
  {
   "cell_type": "code",
   "execution_count": 550,
   "metadata": {},
   "outputs": [],
   "source": [
    "카운팅 = df.groupby(['성별','나이']).count()\n",
    "카운팅.reset_index(inplace=True)\n",
    "카운팅 = pd.pivot_table(카운팅, index = ['나이'],values =['JOIN_KEY'], columns='성별', aggfunc = ['sum']) ############# 변경"
   ]
  },
  {
   "cell_type": "code",
   "execution_count": 551,
   "metadata": {},
   "outputs": [
    {
     "data": {
      "text/html": [
       "<div>\n",
       "<style scoped>\n",
       "    .dataframe tbody tr th:only-of-type {\n",
       "        vertical-align: middle;\n",
       "    }\n",
       "\n",
       "    .dataframe tbody tr th {\n",
       "        vertical-align: top;\n",
       "    }\n",
       "\n",
       "    .dataframe thead tr th {\n",
       "        text-align: left;\n",
       "    }\n",
       "\n",
       "    .dataframe thead tr:last-of-type th {\n",
       "        text-align: right;\n",
       "    }\n",
       "</style>\n",
       "<table border=\"1\" class=\"dataframe\">\n",
       "  <thead>\n",
       "    <tr>\n",
       "      <th></th>\n",
       "      <th colspan=\"2\" halign=\"left\">sum</th>\n",
       "    </tr>\n",
       "    <tr>\n",
       "      <th></th>\n",
       "      <th colspan=\"2\" halign=\"left\">JOIN_KEY</th>\n",
       "    </tr>\n",
       "    <tr>\n",
       "      <th>성별</th>\n",
       "      <th>1</th>\n",
       "      <th>2</th>\n",
       "    </tr>\n",
       "    <tr>\n",
       "      <th>나이</th>\n",
       "      <th></th>\n",
       "      <th></th>\n",
       "    </tr>\n",
       "  </thead>\n",
       "  <tbody>\n",
       "    <tr>\n",
       "      <td>20대</td>\n",
       "      <td>57710</td>\n",
       "      <td>50624</td>\n",
       "    </tr>\n",
       "    <tr>\n",
       "      <td>30대</td>\n",
       "      <td>115398</td>\n",
       "      <td>75570</td>\n",
       "    </tr>\n",
       "    <tr>\n",
       "      <td>40대</td>\n",
       "      <td>142418</td>\n",
       "      <td>101936</td>\n",
       "    </tr>\n",
       "    <tr>\n",
       "      <td>50대</td>\n",
       "      <td>133236</td>\n",
       "      <td>102153</td>\n",
       "    </tr>\n",
       "    <tr>\n",
       "      <td>60대</td>\n",
       "      <td>80422</td>\n",
       "      <td>59925</td>\n",
       "    </tr>\n",
       "    <tr>\n",
       "      <td>70대</td>\n",
       "      <td>27560</td>\n",
       "      <td>18883</td>\n",
       "    </tr>\n",
       "    <tr>\n",
       "      <td>80대 이상</td>\n",
       "      <td>6444</td>\n",
       "      <td>5111</td>\n",
       "    </tr>\n",
       "  </tbody>\n",
       "</table>\n",
       "</div>"
      ],
      "text/plain": [
       "            sum        \n",
       "       JOIN_KEY        \n",
       "성별            1       2\n",
       "나이                     \n",
       "20대       57710   50624\n",
       "30대      115398   75570\n",
       "40대      142418  101936\n",
       "50대      133236  102153\n",
       "60대       80422   59925\n",
       "70대       27560   18883\n",
       "80대 이상     6444    5111"
      ]
     },
     "execution_count": 551,
     "metadata": {},
     "output_type": "execute_result"
    }
   ],
   "source": [
    "카운팅"
   ]
  },
  {
   "cell_type": "code",
   "execution_count": 552,
   "metadata": {},
   "outputs": [
    {
     "name": "stdout",
     "output_type": "stream",
     "text": [
      "{'JOIN_KEY': '1'}\n"
     ]
    },
    {
     "data": {
      "text/html": [
       "<div>\n",
       "<style scoped>\n",
       "    .dataframe tbody tr th:only-of-type {\n",
       "        vertical-align: middle;\n",
       "    }\n",
       "\n",
       "    .dataframe tbody tr th {\n",
       "        vertical-align: top;\n",
       "    }\n",
       "\n",
       "    .dataframe thead tr th {\n",
       "        text-align: left;\n",
       "    }\n",
       "\n",
       "    .dataframe thead tr:last-of-type th {\n",
       "        text-align: right;\n",
       "    }\n",
       "</style>\n",
       "<table border=\"1\" class=\"dataframe\">\n",
       "  <thead>\n",
       "    <tr>\n",
       "      <th></th>\n",
       "      <th colspan=\"2\" halign=\"left\">sum</th>\n",
       "    </tr>\n",
       "    <tr>\n",
       "      <th></th>\n",
       "      <th colspan=\"2\" halign=\"left\">1</th>\n",
       "    </tr>\n",
       "    <tr>\n",
       "      <th>성별</th>\n",
       "      <th>1</th>\n",
       "      <th>2</th>\n",
       "    </tr>\n",
       "    <tr>\n",
       "      <th>나이</th>\n",
       "      <th></th>\n",
       "      <th></th>\n",
       "    </tr>\n",
       "  </thead>\n",
       "  <tbody>\n",
       "    <tr>\n",
       "      <td>20대</td>\n",
       "      <td>57710</td>\n",
       "      <td>50624</td>\n",
       "    </tr>\n",
       "    <tr>\n",
       "      <td>30대</td>\n",
       "      <td>115398</td>\n",
       "      <td>75570</td>\n",
       "    </tr>\n",
       "    <tr>\n",
       "      <td>40대</td>\n",
       "      <td>142418</td>\n",
       "      <td>101936</td>\n",
       "    </tr>\n",
       "    <tr>\n",
       "      <td>50대</td>\n",
       "      <td>133236</td>\n",
       "      <td>102153</td>\n",
       "    </tr>\n",
       "    <tr>\n",
       "      <td>60대</td>\n",
       "      <td>80422</td>\n",
       "      <td>59925</td>\n",
       "    </tr>\n",
       "    <tr>\n",
       "      <td>70대</td>\n",
       "      <td>27560</td>\n",
       "      <td>18883</td>\n",
       "    </tr>\n",
       "    <tr>\n",
       "      <td>80대 이상</td>\n",
       "      <td>6444</td>\n",
       "      <td>5111</td>\n",
       "    </tr>\n",
       "  </tbody>\n",
       "</table>\n",
       "</div>"
      ],
      "text/plain": [
       "           sum        \n",
       "             1        \n",
       "성별           1       2\n",
       "나이                    \n",
       "20대      57710   50624\n",
       "30대     115398   75570\n",
       "40대     142418  101936\n",
       "50대     133236  102153\n",
       "60대      80422   59925\n",
       "70대      27560   18883\n",
       "80대 이상    6444    5111"
      ]
     },
     "execution_count": 552,
     "metadata": {},
     "output_type": "execute_result"
    }
   ],
   "source": [
    "d = dict(zip(카운팅.columns.levels[1], ['1','2']))\n",
    "print(d)\n",
    "카운팅.rename(columns=d, level=1)"
   ]
  },
  {
   "cell_type": "code",
   "execution_count": 553,
   "metadata": {},
   "outputs": [],
   "source": [
    "카운팅['전체'] = 카운팅.sum(axis=1)"
   ]
  },
  {
   "cell_type": "code",
   "execution_count": 554,
   "metadata": {},
   "outputs": [
    {
     "data": {
      "image/png": "[encoded data removed]",
      "text/plain": [
       "<Figure size 576x288 with 1 Axes>"
      ]
     },
     "metadata": {
      "needs_background": "light"
     },
     "output_type": "display_data"
    }
   ],
   "source": [
    "ax = 카운팅.plot(kind='bar', cmap='viridis',figsize=(8,4),fontsize=11)\n",
    "for i in range(len(카운팅)):\n",
    "    #남\n",
    "    #ax.text(x=i, y=카운팅.iloc[:,0].values[i], s=카운팅.iloc[:,0].values[i],\n",
    "            #horizontalalignment='right', verticalalignment ='bottom')\n",
    "    #여\n",
    "    #ax.text(x=i, y=카운팅.iloc[:,1].values[i], s=카운팅.iloc[:,1].values[i],\n",
    "            #horizontalalignment='left', verticalalignment ='bottom')\n",
    "    #전체\n",
    "    ax.text(x=i, y=카운팅.iloc[:,2].values[i], s=카운팅.iloc[:,2].values[i],\n",
    "            horizontalalignment='left', verticalalignment ='bottom', fontsize=12)\n",
    "    \n",
    "    \n",
    "plt.legend(labels=['남자','여자','전체'])\n",
    "plt.title('연령별 성별 대출 차주 수')\n",
    "plt.xticks(rotation=360)\n",
    "\n",
    "plt.savefig('C:/Users/ksy/Desktop/개인/코로나19 팀프로젝트/1.현황분석/png/대출현황/png/'+   '1-1.차주 수.png',bbox_inches='tight')\n",
    "plt.show()"
   ]
  },
  {
   "cell_type": "code",
   "execution_count": 555,
   "metadata": {},
   "outputs": [
    {
     "data": {
      "text/html": [
       "<div>\n",
       "<style scoped>\n",
       "    .dataframe tbody tr th:only-of-type {\n",
       "        vertical-align: middle;\n",
       "    }\n",
       "\n",
       "    .dataframe tbody tr th {\n",
       "        vertical-align: top;\n",
       "    }\n",
       "\n",
       "    .dataframe thead tr th {\n",
       "        text-align: left;\n",
       "    }\n",
       "\n",
       "    .dataframe thead tr:last-of-type th {\n",
       "        text-align: right;\n",
       "    }\n",
       "</style>\n",
       "<table border=\"1\" class=\"dataframe\">\n",
       "  <thead>\n",
       "    <tr>\n",
       "      <th></th>\n",
       "      <th colspan=\"2\" halign=\"left\">sum</th>\n",
       "      <th>전체</th>\n",
       "      <th>남</th>\n",
       "      <th>여</th>\n",
       "      <th>비율(%)</th>\n",
       "    </tr>\n",
       "    <tr>\n",
       "      <th></th>\n",
       "      <th colspan=\"2\" halign=\"left\">JOIN_KEY</th>\n",
       "      <th></th>\n",
       "      <th></th>\n",
       "      <th></th>\n",
       "      <th></th>\n",
       "    </tr>\n",
       "    <tr>\n",
       "      <th>성별</th>\n",
       "      <th>1</th>\n",
       "      <th>2</th>\n",
       "      <th></th>\n",
       "      <th></th>\n",
       "      <th></th>\n",
       "      <th></th>\n",
       "    </tr>\n",
       "    <tr>\n",
       "      <th>나이</th>\n",
       "      <th></th>\n",
       "      <th></th>\n",
       "      <th></th>\n",
       "      <th></th>\n",
       "      <th></th>\n",
       "      <th></th>\n",
       "    </tr>\n",
       "  </thead>\n",
       "  <tbody>\n",
       "    <tr>\n",
       "      <td>20대</td>\n",
       "      <td>57710</td>\n",
       "      <td>50624</td>\n",
       "      <td>108334</td>\n",
       "      <td>5.90</td>\n",
       "      <td>5.18</td>\n",
       "      <td>11.08</td>\n",
       "    </tr>\n",
       "    <tr>\n",
       "      <td>30대</td>\n",
       "      <td>115398</td>\n",
       "      <td>75570</td>\n",
       "      <td>190968</td>\n",
       "      <td>11.81</td>\n",
       "      <td>7.73</td>\n",
       "      <td>19.54</td>\n",
       "    </tr>\n",
       "    <tr>\n",
       "      <td>40대</td>\n",
       "      <td>142418</td>\n",
       "      <td>101936</td>\n",
       "      <td>244354</td>\n",
       "      <td>14.57</td>\n",
       "      <td>10.43</td>\n",
       "      <td>25.00</td>\n",
       "    </tr>\n",
       "    <tr>\n",
       "      <td>50대</td>\n",
       "      <td>133236</td>\n",
       "      <td>102153</td>\n",
       "      <td>235389</td>\n",
       "      <td>13.63</td>\n",
       "      <td>10.45</td>\n",
       "      <td>24.08</td>\n",
       "    </tr>\n",
       "    <tr>\n",
       "      <td>60대</td>\n",
       "      <td>80422</td>\n",
       "      <td>59925</td>\n",
       "      <td>140347</td>\n",
       "      <td>8.23</td>\n",
       "      <td>6.13</td>\n",
       "      <td>14.36</td>\n",
       "    </tr>\n",
       "    <tr>\n",
       "      <td>70대</td>\n",
       "      <td>27560</td>\n",
       "      <td>18883</td>\n",
       "      <td>46443</td>\n",
       "      <td>2.82</td>\n",
       "      <td>1.93</td>\n",
       "      <td>4.75</td>\n",
       "    </tr>\n",
       "    <tr>\n",
       "      <td>80대 이상</td>\n",
       "      <td>6444</td>\n",
       "      <td>5111</td>\n",
       "      <td>11555</td>\n",
       "      <td>0.66</td>\n",
       "      <td>0.52</td>\n",
       "      <td>1.18</td>\n",
       "    </tr>\n",
       "  </tbody>\n",
       "</table>\n",
       "</div>"
      ],
      "text/plain": [
       "            sum              전체      남      여  비율(%)\n",
       "       JOIN_KEY                                     \n",
       "성별            1       2                             \n",
       "나이                                                  \n",
       "20대       57710   50624  108334   5.90   5.18  11.08\n",
       "30대      115398   75570  190968  11.81   7.73  19.54\n",
       "40대      142418  101936  244354  14.57  10.43  25.00\n",
       "50대      133236  102153  235389  13.63  10.45  24.08\n",
       "60대       80422   59925  140347   8.23   6.13  14.36\n",
       "70대       27560   18883   46443   2.82   1.93   4.75\n",
       "80대 이상     6444    5111   11555   0.66   0.52   1.18"
      ]
     },
     "execution_count": 555,
     "metadata": {},
     "output_type": "execute_result"
    }
   ],
   "source": [
    "카운팅['남'] =   카운팅.iloc[:,0]/카운팅['전체'].sum()*100\n",
    "카운팅['여'] =   카운팅.iloc[:,1]/카운팅['전체'].sum()*100\n",
    "카운팅['비율(%)'] = 카운팅.iloc[:,2]/카운팅['전체'].sum()*100\n",
    "카운팅 = 카운팅.round(2)\n",
    "카운팅"
   ]
  },
  {
   "cell_type": "code",
   "execution_count": 556,
   "metadata": {},
   "outputs": [
    {
     "data": {
      "text/plain": [
       "99.99"
      ]
     },
     "execution_count": 556,
     "metadata": {},
     "output_type": "execute_result"
    }
   ],
   "source": [
    "카운팅['비율(%)'].sum()"
   ]
  },
  {
   "cell_type": "code",
   "execution_count": 557,
   "metadata": {},
   "outputs": [],
   "source": [
    "비중 = 카운팅.iloc[:,3:]\n",
    "비중 = 비중.round(2)"
   ]
  },
  {
   "cell_type": "code",
   "execution_count": 558,
   "metadata": {},
   "outputs": [
    {
     "data": {
      "image/png": "[encoded data removed]",
      "text/plain": [
       "<Figure size 576x288 with 1 Axes>"
      ]
     },
     "metadata": {
      "needs_background": "light"
     },
     "output_type": "display_data"
    }
   ],
   "source": [
    "ax = 비중.plot(kind='bar', cmap='viridis', figsize=(8,4), fontsize=11)\n",
    "for i in range(len(비중)):\n",
    "    #남\n",
    "    #ax.text(x=i, y=카운팅.iloc[:,0].values[i], s=카운팅.iloc[:,0].values[i],\n",
    "            #horizontalalignment='right', verticalalignment ='bottom')\n",
    "    #여\n",
    "    #ax.text(x=i, y=카운팅.iloc[:,1].values[i], s=카운팅.iloc[:,1].values[i],\n",
    "            #horizontalalignment='left', verticalalignment ='bottom')\n",
    "    #전체\n",
    "    ax.text(x=i, y=비중.iloc[:,2].values[i], s=비중.iloc[:,2].values[i],\n",
    "            horizontalalignment='left', verticalalignment ='bottom', fontsize=12)\n",
    "    \n",
    "    \n",
    "plt.legend(labels=['남자','여자','전체'])\n",
    "plt.title('연령별 성별 대출 차주 수 비중(%)')\n",
    "plt.xticks(rotation=360)\n",
    "\n",
    "plt.savefig('C:/Users/ksy/Desktop/개인/코로나19 팀프로젝트/1.현황분석/png/대출현황/png/'+   '1-2.대출 차주 수.png',bbox_inches='tight')\n",
    "plt.show()"
   ]
  },
  {
   "cell_type": "markdown",
   "metadata": {},
   "source": [
    "# 개설카드수"
   ]
  },
  {
   "cell_type": "code",
   "execution_count": 559,
   "metadata": {},
   "outputs": [],
   "source": [
    "카운팅 = 개설카드수.groupby(['성별','나이']).sum()"
   ]
  },
  {
   "cell_type": "code",
   "execution_count": 560,
   "metadata": {},
   "outputs": [],
   "source": [
    "카운팅.reset_index(inplace=True)"
   ]
  },
  {
   "cell_type": "code",
   "execution_count": 561,
   "metadata": {},
   "outputs": [
    {
     "data": {
      "text/html": [
       "<div>\n",
       "<style scoped>\n",
       "    .dataframe tbody tr th:only-of-type {\n",
       "        vertical-align: middle;\n",
       "    }\n",
       "\n",
       "    .dataframe tbody tr th {\n",
       "        vertical-align: top;\n",
       "    }\n",
       "\n",
       "    .dataframe thead th {\n",
       "        text-align: right;\n",
       "    }\n",
       "</style>\n",
       "<table border=\"1\" class=\"dataframe\">\n",
       "  <thead>\n",
       "    <tr style=\"text-align: right;\">\n",
       "      <th></th>\n",
       "      <th>성별</th>\n",
       "      <th>나이</th>\n",
       "      <th>JOIN_KEY</th>\n",
       "      <th>생년월일</th>\n",
       "      <th>개설카드수5</th>\n",
       "    </tr>\n",
       "  </thead>\n",
       "  <tbody>\n",
       "    <tr>\n",
       "      <td>0</td>\n",
       "      <td>1</td>\n",
       "      <td>20대</td>\n",
       "      <td>209132266066</td>\n",
       "      <td>115083957</td>\n",
       "      <td>377666</td>\n",
       "    </tr>\n",
       "    <tr>\n",
       "      <td>1</td>\n",
       "      <td>1</td>\n",
       "      <td>30대</td>\n",
       "      <td>416404561636</td>\n",
       "      <td>229070853</td>\n",
       "      <td>1519610</td>\n",
       "    </tr>\n",
       "    <tr>\n",
       "      <td>2</td>\n",
       "      <td>1</td>\n",
       "      <td>40대</td>\n",
       "      <td>515520202151</td>\n",
       "      <td>281333072</td>\n",
       "      <td>2170444</td>\n",
       "    </tr>\n",
       "    <tr>\n",
       "      <td>3</td>\n",
       "      <td>1</td>\n",
       "      <td>50대</td>\n",
       "      <td>482392391220</td>\n",
       "      <td>261901260</td>\n",
       "      <td>1910786</td>\n",
       "    </tr>\n",
       "    <tr>\n",
       "      <td>4</td>\n",
       "      <td>1</td>\n",
       "      <td>60대</td>\n",
       "      <td>290848122010</td>\n",
       "      <td>157334124</td>\n",
       "      <td>1010567</td>\n",
       "    </tr>\n",
       "  </tbody>\n",
       "</table>\n",
       "</div>"
      ],
      "text/plain": [
       "   성별   나이      JOIN_KEY       생년월일   개설카드수5\n",
       "0   1  20대  209132266066  115083957   377666\n",
       "1   1  30대  416404561636  229070853  1519610\n",
       "2   1  40대  515520202151  281333072  2170444\n",
       "3   1  50대  482392391220  261901260  1910786\n",
       "4   1  60대  290848122010  157334124  1010567"
      ]
     },
     "execution_count": 561,
     "metadata": {},
     "output_type": "execute_result"
    }
   ],
   "source": [
    "카운팅.head()"
   ]
  },
  {
   "cell_type": "code",
   "execution_count": 562,
   "metadata": {},
   "outputs": [],
   "source": [
    "카운팅 = pd.pivot_table(카운팅, index = ['나이'],values =['개설카드수5'], columns='성별', aggfunc = ['sum'])"
   ]
  },
  {
   "cell_type": "code",
   "execution_count": 563,
   "metadata": {},
   "outputs": [
    {
     "data": {
      "text/plain": [
       "MultiIndex([('sum', '개설카드수5', 1),\n",
       "            ('sum', '개설카드수5', 2)],\n",
       "           names=[None, None, '성별'])"
      ]
     },
     "execution_count": 563,
     "metadata": {},
     "output_type": "execute_result"
    }
   ],
   "source": [
    "카운팅.columns"
   ]
  },
  {
   "cell_type": "code",
   "execution_count": 564,
   "metadata": {},
   "outputs": [
    {
     "name": "stdout",
     "output_type": "stream",
     "text": [
      "{'개설카드수5': '1'}\n"
     ]
    }
   ],
   "source": [
    "d = dict(zip(카운팅.columns.levels[1], ['1','2']))\n",
    "print(d)"
   ]
  },
  {
   "cell_type": "code",
   "execution_count": 565,
   "metadata": {},
   "outputs": [
    {
     "data": {
      "text/plain": [
       "MultiIndex([('sum', '개설카드수5', 1),\n",
       "            ('sum', '개설카드수5', 2)],\n",
       "           names=[None, None, '성별'])"
      ]
     },
     "execution_count": 565,
     "metadata": {},
     "output_type": "execute_result"
    }
   ],
   "source": [
    "카운팅.columns"
   ]
  },
  {
   "cell_type": "code",
   "execution_count": 566,
   "metadata": {},
   "outputs": [
    {
     "data": {
      "text/html": [
       "<div>\n",
       "<style scoped>\n",
       "    .dataframe tbody tr th:only-of-type {\n",
       "        vertical-align: middle;\n",
       "    }\n",
       "\n",
       "    .dataframe tbody tr th {\n",
       "        vertical-align: top;\n",
       "    }\n",
       "\n",
       "    .dataframe thead tr th {\n",
       "        text-align: left;\n",
       "    }\n",
       "\n",
       "    .dataframe thead tr:last-of-type th {\n",
       "        text-align: right;\n",
       "    }\n",
       "</style>\n",
       "<table border=\"1\" class=\"dataframe\">\n",
       "  <thead>\n",
       "    <tr>\n",
       "      <th></th>\n",
       "      <th colspan=\"2\" halign=\"left\">sum</th>\n",
       "    </tr>\n",
       "    <tr>\n",
       "      <th></th>\n",
       "      <th colspan=\"2\" halign=\"left\">1</th>\n",
       "    </tr>\n",
       "    <tr>\n",
       "      <th>성별</th>\n",
       "      <th>1</th>\n",
       "      <th>2</th>\n",
       "    </tr>\n",
       "    <tr>\n",
       "      <th>나이</th>\n",
       "      <th></th>\n",
       "      <th></th>\n",
       "    </tr>\n",
       "  </thead>\n",
       "  <tbody>\n",
       "    <tr>\n",
       "      <td>20대</td>\n",
       "      <td>377666</td>\n",
       "      <td>391923</td>\n",
       "    </tr>\n",
       "    <tr>\n",
       "      <td>30대</td>\n",
       "      <td>1519610</td>\n",
       "      <td>1088768</td>\n",
       "    </tr>\n",
       "    <tr>\n",
       "      <td>40대</td>\n",
       "      <td>2170444</td>\n",
       "      <td>1660809</td>\n",
       "    </tr>\n",
       "    <tr>\n",
       "      <td>50대</td>\n",
       "      <td>1910786</td>\n",
       "      <td>1654140</td>\n",
       "    </tr>\n",
       "    <tr>\n",
       "      <td>60대</td>\n",
       "      <td>1010567</td>\n",
       "      <td>826014</td>\n",
       "    </tr>\n",
       "    <tr>\n",
       "      <td>70대</td>\n",
       "      <td>267408</td>\n",
       "      <td>174684</td>\n",
       "    </tr>\n",
       "    <tr>\n",
       "      <td>80대 이상</td>\n",
       "      <td>35921</td>\n",
       "      <td>20046</td>\n",
       "    </tr>\n",
       "  </tbody>\n",
       "</table>\n",
       "</div>"
      ],
      "text/plain": [
       "            sum         \n",
       "              1         \n",
       "성별            1        2\n",
       "나이                      \n",
       "20대      377666   391923\n",
       "30대     1519610  1088768\n",
       "40대     2170444  1660809\n",
       "50대     1910786  1654140\n",
       "60대     1010567   826014\n",
       "70대      267408   174684\n",
       "80대 이상    35921    20046"
      ]
     },
     "execution_count": 566,
     "metadata": {},
     "output_type": "execute_result"
    }
   ],
   "source": [
    "카운팅.rename(columns=d, level=1)"
   ]
  },
  {
   "cell_type": "code",
   "execution_count": 567,
   "metadata": {},
   "outputs": [],
   "source": [
    "카운팅['전체'] = 카운팅.sum(axis=1)"
   ]
  },
  {
   "cell_type": "code",
   "execution_count": 568,
   "metadata": {},
   "outputs": [
    {
     "data": {
      "image/png": "[encoded data removed]",
      "text/plain": [
       "<Figure size 576x288 with 1 Axes>"
      ]
     },
     "metadata": {
      "needs_background": "light"
     },
     "output_type": "display_data"
    }
   ],
   "source": [
    "ax = 카운팅.plot(kind='bar', cmap='summer', figsize=(8,4), fontsize=11)\n",
    "for i in range(len(카운팅)):\n",
    "    #남\n",
    "    #ax.text(x=i, y=카운팅.iloc[:,0].values[i], s=카운팅.iloc[:,0].values[i],\n",
    "            #horizontalalignment='right', verticalalignment ='bottom')\n",
    "    #여\n",
    "    #ax.text(x=i, y=카운팅.iloc[:,1].values[i], s=카운팅.iloc[:,1].values[i],\n",
    "            #horizontalalignment='left', verticalalignment ='bottom')\n",
    "    #전체\n",
    "    ax.text(x=i, y=카운팅.iloc[:,2].values[i], s=카운팅.iloc[:,2].values[i],\n",
    "            horizontalalignment='left', verticalalignment ='bottom', fontsize=12)\n",
    "    \n",
    "    \n",
    "plt.legend(labels=['남자','여자','전체'])\n",
    "plt.title('연령별 성별 누적 개설카드 수')\n",
    "plt.xticks(rotation=360)\n",
    "\n",
    "plt.savefig('C:/Users/ksy/Desktop/개인/코로나19 팀프로젝트/1.현황분석/png/대출현황/png/'+   '1-1. 개설카드수.png',bbox_inches='tight')\n",
    "plt.show()"
   ]
  },
  {
   "cell_type": "code",
   "execution_count": 569,
   "metadata": {},
   "outputs": [
    {
     "data": {
      "text/html": [
       "<div>\n",
       "<style scoped>\n",
       "    .dataframe tbody tr th:only-of-type {\n",
       "        vertical-align: middle;\n",
       "    }\n",
       "\n",
       "    .dataframe tbody tr th {\n",
       "        vertical-align: top;\n",
       "    }\n",
       "\n",
       "    .dataframe thead tr th {\n",
       "        text-align: left;\n",
       "    }\n",
       "\n",
       "    .dataframe thead tr:last-of-type th {\n",
       "        text-align: right;\n",
       "    }\n",
       "</style>\n",
       "<table border=\"1\" class=\"dataframe\">\n",
       "  <thead>\n",
       "    <tr>\n",
       "      <th></th>\n",
       "      <th colspan=\"2\" halign=\"left\">sum</th>\n",
       "      <th>전체</th>\n",
       "    </tr>\n",
       "    <tr>\n",
       "      <th></th>\n",
       "      <th colspan=\"2\" halign=\"left\">개설카드수5</th>\n",
       "      <th></th>\n",
       "    </tr>\n",
       "    <tr>\n",
       "      <th>성별</th>\n",
       "      <th>1</th>\n",
       "      <th>2</th>\n",
       "      <th></th>\n",
       "    </tr>\n",
       "    <tr>\n",
       "      <th>나이</th>\n",
       "      <th></th>\n",
       "      <th></th>\n",
       "      <th></th>\n",
       "    </tr>\n",
       "  </thead>\n",
       "  <tbody>\n",
       "    <tr>\n",
       "      <td>20대</td>\n",
       "      <td>377666</td>\n",
       "      <td>391923</td>\n",
       "      <td>769589</td>\n",
       "    </tr>\n",
       "    <tr>\n",
       "      <td>30대</td>\n",
       "      <td>1519610</td>\n",
       "      <td>1088768</td>\n",
       "      <td>2608378</td>\n",
       "    </tr>\n",
       "    <tr>\n",
       "      <td>40대</td>\n",
       "      <td>2170444</td>\n",
       "      <td>1660809</td>\n",
       "      <td>3831253</td>\n",
       "    </tr>\n",
       "    <tr>\n",
       "      <td>50대</td>\n",
       "      <td>1910786</td>\n",
       "      <td>1654140</td>\n",
       "      <td>3564926</td>\n",
       "    </tr>\n",
       "    <tr>\n",
       "      <td>60대</td>\n",
       "      <td>1010567</td>\n",
       "      <td>826014</td>\n",
       "      <td>1836581</td>\n",
       "    </tr>\n",
       "    <tr>\n",
       "      <td>70대</td>\n",
       "      <td>267408</td>\n",
       "      <td>174684</td>\n",
       "      <td>442092</td>\n",
       "    </tr>\n",
       "    <tr>\n",
       "      <td>80대 이상</td>\n",
       "      <td>35921</td>\n",
       "      <td>20046</td>\n",
       "      <td>55967</td>\n",
       "    </tr>\n",
       "  </tbody>\n",
       "</table>\n",
       "</div>"
      ],
      "text/plain": [
       "            sum                전체\n",
       "         개설카드수5                  \n",
       "성별            1        2         \n",
       "나이                               \n",
       "20대      377666   391923   769589\n",
       "30대     1519610  1088768  2608378\n",
       "40대     2170444  1660809  3831253\n",
       "50대     1910786  1654140  3564926\n",
       "60대     1010567   826014  1836581\n",
       "70대      267408   174684   442092\n",
       "80대 이상    35921    20046    55967"
      ]
     },
     "execution_count": 569,
     "metadata": {},
     "output_type": "execute_result"
    }
   ],
   "source": [
    "카운팅"
   ]
  },
  {
   "cell_type": "code",
   "execution_count": 570,
   "metadata": {},
   "outputs": [],
   "source": [
    "카운팅['남'] =   카운팅.iloc[:,0]/카운팅['전체'].sum()*100\n",
    "카운팅['여'] =   카운팅.iloc[:,1]/카운팅['전체'].sum()*100\n",
    "카운팅['비율(%)'] = 카운팅.iloc[:,2]/카운팅['전체'].sum()*100"
   ]
  },
  {
   "cell_type": "code",
   "execution_count": 571,
   "metadata": {},
   "outputs": [],
   "source": [
    "#개설카드수\n",
    "카운팅 = 카운팅.round(2)"
   ]
  },
  {
   "cell_type": "code",
   "execution_count": 572,
   "metadata": {},
   "outputs": [
    {
     "data": {
      "text/html": [
       "<div>\n",
       "<style scoped>\n",
       "    .dataframe tbody tr th:only-of-type {\n",
       "        vertical-align: middle;\n",
       "    }\n",
       "\n",
       "    .dataframe tbody tr th {\n",
       "        vertical-align: top;\n",
       "    }\n",
       "\n",
       "    .dataframe thead tr th {\n",
       "        text-align: left;\n",
       "    }\n",
       "\n",
       "    .dataframe thead tr:last-of-type th {\n",
       "        text-align: right;\n",
       "    }\n",
       "</style>\n",
       "<table border=\"1\" class=\"dataframe\">\n",
       "  <thead>\n",
       "    <tr>\n",
       "      <th></th>\n",
       "      <th colspan=\"2\" halign=\"left\">sum</th>\n",
       "      <th>전체</th>\n",
       "      <th>남</th>\n",
       "      <th>여</th>\n",
       "      <th>비율(%)</th>\n",
       "    </tr>\n",
       "    <tr>\n",
       "      <th></th>\n",
       "      <th colspan=\"2\" halign=\"left\">개설카드수5</th>\n",
       "      <th></th>\n",
       "      <th></th>\n",
       "      <th></th>\n",
       "      <th></th>\n",
       "    </tr>\n",
       "    <tr>\n",
       "      <th>성별</th>\n",
       "      <th>1</th>\n",
       "      <th>2</th>\n",
       "      <th></th>\n",
       "      <th></th>\n",
       "      <th></th>\n",
       "      <th></th>\n",
       "    </tr>\n",
       "    <tr>\n",
       "      <th>나이</th>\n",
       "      <th></th>\n",
       "      <th></th>\n",
       "      <th></th>\n",
       "      <th></th>\n",
       "      <th></th>\n",
       "      <th></th>\n",
       "    </tr>\n",
       "  </thead>\n",
       "  <tbody>\n",
       "    <tr>\n",
       "      <td>20대</td>\n",
       "      <td>377666</td>\n",
       "      <td>391923</td>\n",
       "      <td>769589</td>\n",
       "      <td>2.88</td>\n",
       "      <td>2.99</td>\n",
       "      <td>5.87</td>\n",
       "    </tr>\n",
       "    <tr>\n",
       "      <td>30대</td>\n",
       "      <td>1519610</td>\n",
       "      <td>1088768</td>\n",
       "      <td>2608378</td>\n",
       "      <td>11.59</td>\n",
       "      <td>8.31</td>\n",
       "      <td>19.90</td>\n",
       "    </tr>\n",
       "    <tr>\n",
       "      <td>40대</td>\n",
       "      <td>2170444</td>\n",
       "      <td>1660809</td>\n",
       "      <td>3831253</td>\n",
       "      <td>16.56</td>\n",
       "      <td>12.67</td>\n",
       "      <td>29.23</td>\n",
       "    </tr>\n",
       "    <tr>\n",
       "      <td>50대</td>\n",
       "      <td>1910786</td>\n",
       "      <td>1654140</td>\n",
       "      <td>3564926</td>\n",
       "      <td>14.58</td>\n",
       "      <td>12.62</td>\n",
       "      <td>27.19</td>\n",
       "    </tr>\n",
       "    <tr>\n",
       "      <td>60대</td>\n",
       "      <td>1010567</td>\n",
       "      <td>826014</td>\n",
       "      <td>1836581</td>\n",
       "      <td>7.71</td>\n",
       "      <td>6.30</td>\n",
       "      <td>14.01</td>\n",
       "    </tr>\n",
       "    <tr>\n",
       "      <td>70대</td>\n",
       "      <td>267408</td>\n",
       "      <td>174684</td>\n",
       "      <td>442092</td>\n",
       "      <td>2.04</td>\n",
       "      <td>1.33</td>\n",
       "      <td>3.37</td>\n",
       "    </tr>\n",
       "    <tr>\n",
       "      <td>80대 이상</td>\n",
       "      <td>35921</td>\n",
       "      <td>20046</td>\n",
       "      <td>55967</td>\n",
       "      <td>0.27</td>\n",
       "      <td>0.15</td>\n",
       "      <td>0.43</td>\n",
       "    </tr>\n",
       "  </tbody>\n",
       "</table>\n",
       "</div>"
      ],
      "text/plain": [
       "            sum                전체      남      여  비율(%)\n",
       "         개설카드수5                                       \n",
       "성별            1        2                              \n",
       "나이                                                    \n",
       "20대      377666   391923   769589   2.88   2.99   5.87\n",
       "30대     1519610  1088768  2608378  11.59   8.31  19.90\n",
       "40대     2170444  1660809  3831253  16.56  12.67  29.23\n",
       "50대     1910786  1654140  3564926  14.58  12.62  27.19\n",
       "60대     1010567   826014  1836581   7.71   6.30  14.01\n",
       "70대      267408   174684   442092   2.04   1.33   3.37\n",
       "80대 이상    35921    20046    55967   0.27   0.15   0.43"
      ]
     },
     "execution_count": 572,
     "metadata": {},
     "output_type": "execute_result"
    }
   ],
   "source": [
    "카운팅"
   ]
  },
  {
   "cell_type": "code",
   "execution_count": 573,
   "metadata": {},
   "outputs": [],
   "source": [
    "비중 = 카운팅.iloc[:,3:]"
   ]
  },
  {
   "cell_type": "code",
   "execution_count": 574,
   "metadata": {},
   "outputs": [
    {
     "data": {
      "text/html": [
       "<div>\n",
       "<style scoped>\n",
       "    .dataframe tbody tr th:only-of-type {\n",
       "        vertical-align: middle;\n",
       "    }\n",
       "\n",
       "    .dataframe tbody tr th {\n",
       "        vertical-align: top;\n",
       "    }\n",
       "\n",
       "    .dataframe thead tr th {\n",
       "        text-align: left;\n",
       "    }\n",
       "\n",
       "    .dataframe thead tr:last-of-type th {\n",
       "        text-align: right;\n",
       "    }\n",
       "</style>\n",
       "<table border=\"1\" class=\"dataframe\">\n",
       "  <thead>\n",
       "    <tr>\n",
       "      <th></th>\n",
       "      <th>남</th>\n",
       "      <th>여</th>\n",
       "      <th>비율(%)</th>\n",
       "    </tr>\n",
       "    <tr>\n",
       "      <th></th>\n",
       "      <th></th>\n",
       "      <th></th>\n",
       "      <th></th>\n",
       "    </tr>\n",
       "    <tr>\n",
       "      <th>성별</th>\n",
       "      <th></th>\n",
       "      <th></th>\n",
       "      <th></th>\n",
       "    </tr>\n",
       "    <tr>\n",
       "      <th>나이</th>\n",
       "      <th></th>\n",
       "      <th></th>\n",
       "      <th></th>\n",
       "    </tr>\n",
       "  </thead>\n",
       "  <tbody>\n",
       "    <tr>\n",
       "      <td>20대</td>\n",
       "      <td>2.88</td>\n",
       "      <td>2.99</td>\n",
       "      <td>5.87</td>\n",
       "    </tr>\n",
       "    <tr>\n",
       "      <td>30대</td>\n",
       "      <td>11.59</td>\n",
       "      <td>8.31</td>\n",
       "      <td>19.90</td>\n",
       "    </tr>\n",
       "    <tr>\n",
       "      <td>40대</td>\n",
       "      <td>16.56</td>\n",
       "      <td>12.67</td>\n",
       "      <td>29.23</td>\n",
       "    </tr>\n",
       "    <tr>\n",
       "      <td>50대</td>\n",
       "      <td>14.58</td>\n",
       "      <td>12.62</td>\n",
       "      <td>27.19</td>\n",
       "    </tr>\n",
       "    <tr>\n",
       "      <td>60대</td>\n",
       "      <td>7.71</td>\n",
       "      <td>6.30</td>\n",
       "      <td>14.01</td>\n",
       "    </tr>\n",
       "    <tr>\n",
       "      <td>70대</td>\n",
       "      <td>2.04</td>\n",
       "      <td>1.33</td>\n",
       "      <td>3.37</td>\n",
       "    </tr>\n",
       "    <tr>\n",
       "      <td>80대 이상</td>\n",
       "      <td>0.27</td>\n",
       "      <td>0.15</td>\n",
       "      <td>0.43</td>\n",
       "    </tr>\n",
       "  </tbody>\n",
       "</table>\n",
       "</div>"
      ],
      "text/plain": [
       "            남      여  비율(%)\n",
       "                           \n",
       "성별                         \n",
       "나이                         \n",
       "20대      2.88   2.99   5.87\n",
       "30대     11.59   8.31  19.90\n",
       "40대     16.56  12.67  29.23\n",
       "50대     14.58  12.62  27.19\n",
       "60대      7.71   6.30  14.01\n",
       "70대      2.04   1.33   3.37\n",
       "80대 이상   0.27   0.15   0.43"
      ]
     },
     "execution_count": 574,
     "metadata": {},
     "output_type": "execute_result"
    }
   ],
   "source": [
    "비중"
   ]
  },
  {
   "cell_type": "code",
   "execution_count": 575,
   "metadata": {},
   "outputs": [
    {
     "data": {
      "image/png": "[encoded data removed]",
      "text/plain": [
       "<Figure size 576x288 with 1 Axes>"
      ]
     },
     "metadata": {
      "needs_background": "light"
     },
     "output_type": "display_data"
    }
   ],
   "source": [
    "ax = 비중.plot(kind='bar', cmap='summer', figsize=(8,4), fontsize=11)\n",
    "for i in range(len(비중)):\n",
    "    #남\n",
    "    #ax.text(x=i, y=카운팅.iloc[:,0].values[i], s=카운팅.iloc[:,0].values[i],\n",
    "            #horizontalalignment='right', verticalalignment ='bottom')\n",
    "    #여\n",
    "    #ax.text(x=i, y=카운팅.iloc[:,1].values[i], s=카운팅.iloc[:,1].values[i],\n",
    "            #horizontalalignment='left', verticalalignment ='bottom')\n",
    "    #전체\n",
    "    ax.text(x=i, y=비중.iloc[:,2].values[i], s=비중.iloc[:,2].values[i],\n",
    "            horizontalalignment='left', verticalalignment ='bottom', fontsize=12)\n",
    "    \n",
    "    \n",
    "plt.legend(labels=['남자','여자','전체'])\n",
    "plt.title('연령별 성별 누적 개설카드 수 비중(%)')\n",
    "plt.xticks(rotation=360)\n",
    "\n",
    "plt.savefig('C:/Users/ksy/Desktop/개인/코로나19 팀프로젝트/1.현황분석/png/대출현황/png/'+   '1-2.누적 개설카드수.png',bbox_inches='tight')\n",
    "plt.show()"
   ]
  },
  {
   "cell_type": "markdown",
   "metadata": {},
   "source": [
    "# 총대출상품수(건수)"
   ]
  },
  {
   "cell_type": "code",
   "execution_count": 576,
   "metadata": {},
   "outputs": [],
   "source": [
    "카운팅 = 총대출상품수.groupby(['성별','나이']).sum()\n",
    "카운팅.reset_index(inplace=True)\n",
    "카운팅 = pd.pivot_table(카운팅, index = ['나이'],values =['총대출상품수'], columns='성별', aggfunc = ['sum']) ############# 변경"
   ]
  },
  {
   "cell_type": "code",
   "execution_count": 577,
   "metadata": {},
   "outputs": [
    {
     "name": "stdout",
     "output_type": "stream",
     "text": [
      "{'총대출상품수': '1'}\n"
     ]
    },
    {
     "data": {
      "text/html": [
       "<div>\n",
       "<style scoped>\n",
       "    .dataframe tbody tr th:only-of-type {\n",
       "        vertical-align: middle;\n",
       "    }\n",
       "\n",
       "    .dataframe tbody tr th {\n",
       "        vertical-align: top;\n",
       "    }\n",
       "\n",
       "    .dataframe thead tr th {\n",
       "        text-align: left;\n",
       "    }\n",
       "\n",
       "    .dataframe thead tr:last-of-type th {\n",
       "        text-align: right;\n",
       "    }\n",
       "</style>\n",
       "<table border=\"1\" class=\"dataframe\">\n",
       "  <thead>\n",
       "    <tr>\n",
       "      <th></th>\n",
       "      <th colspan=\"2\" halign=\"left\">sum</th>\n",
       "    </tr>\n",
       "    <tr>\n",
       "      <th></th>\n",
       "      <th colspan=\"2\" halign=\"left\">1</th>\n",
       "    </tr>\n",
       "    <tr>\n",
       "      <th>성별</th>\n",
       "      <th>1</th>\n",
       "      <th>2</th>\n",
       "    </tr>\n",
       "    <tr>\n",
       "      <th>나이</th>\n",
       "      <th></th>\n",
       "      <th></th>\n",
       "    </tr>\n",
       "  </thead>\n",
       "  <tbody>\n",
       "    <tr>\n",
       "      <td>20대</td>\n",
       "      <td>448154</td>\n",
       "      <td>387236</td>\n",
       "    </tr>\n",
       "    <tr>\n",
       "      <td>30대</td>\n",
       "      <td>1246639</td>\n",
       "      <td>770146</td>\n",
       "    </tr>\n",
       "    <tr>\n",
       "      <td>40대</td>\n",
       "      <td>1711069</td>\n",
       "      <td>1180641</td>\n",
       "    </tr>\n",
       "    <tr>\n",
       "      <td>50대</td>\n",
       "      <td>1570389</td>\n",
       "      <td>1136937</td>\n",
       "    </tr>\n",
       "    <tr>\n",
       "      <td>60대</td>\n",
       "      <td>840285</td>\n",
       "      <td>601908</td>\n",
       "    </tr>\n",
       "    <tr>\n",
       "      <td>70대</td>\n",
       "      <td>237676</td>\n",
       "      <td>154099</td>\n",
       "    </tr>\n",
       "    <tr>\n",
       "      <td>80대 이상</td>\n",
       "      <td>46162</td>\n",
       "      <td>33374</td>\n",
       "    </tr>\n",
       "  </tbody>\n",
       "</table>\n",
       "</div>"
      ],
      "text/plain": [
       "            sum         \n",
       "              1         \n",
       "성별            1        2\n",
       "나이                      \n",
       "20대      448154   387236\n",
       "30대     1246639   770146\n",
       "40대     1711069  1180641\n",
       "50대     1570389  1136937\n",
       "60대      840285   601908\n",
       "70대      237676   154099\n",
       "80대 이상    46162    33374"
      ]
     },
     "execution_count": 577,
     "metadata": {},
     "output_type": "execute_result"
    }
   ],
   "source": [
    "d = dict(zip(카운팅.columns.levels[1], ['1','2']))\n",
    "print(d)\n",
    "카운팅.rename(columns=d, level=1)"
   ]
  },
  {
   "cell_type": "code",
   "execution_count": 578,
   "metadata": {},
   "outputs": [],
   "source": [
    "카운팅['전체'] = 카운팅.sum(axis=1)"
   ]
  },
  {
   "cell_type": "code",
   "execution_count": 579,
   "metadata": {},
   "outputs": [
    {
     "data": {
      "image/png": "[encoded data removed]",
      "text/plain": [
       "<Figure size 576x288 with 1 Axes>"
      ]
     },
     "metadata": {
      "needs_background": "light"
     },
     "output_type": "display_data"
    }
   ],
   "source": [
    "ax = 카운팅.plot(kind='bar', cmap='plasma', figsize=(8,4), fontsize=11)\n",
    "for i in range(len(카운팅)):\n",
    "    #남\n",
    "    #ax.text(x=i, y=카운팅.iloc[:,0].values[i], s=카운팅.iloc[:,0].values[i],\n",
    "            #horizontalalignment='right', verticalalignment ='bottom')\n",
    "    #여\n",
    "    #ax.text(x=i, y=카운팅.iloc[:,1].values[i], s=카운팅.iloc[:,1].values[i],\n",
    "            #horizontalalignment='left', verticalalignment ='bottom')\n",
    "    #전체\n",
    "    ax.text(x=i, y=카운팅.iloc[:,2].values[i], s=카운팅.iloc[:,2].values[i],\n",
    "            horizontalalignment='left', verticalalignment ='bottom', fontsize=12)\n",
    "    \n",
    "    \n",
    "plt.legend(labels=['남자','여자','전체'])\n",
    "plt.title('연령별 성별 누적 총대출건수')\n",
    "plt.xticks(rotation=360)\n",
    "\n",
    "plt.savefig('C:/Users/ksy/Desktop/개인/코로나19 팀프로젝트/1.현황분석/png/대출현황/png/'+   '2-1.총대출건수.png',bbox_inches='tight')\n",
    "plt.show()"
   ]
  },
  {
   "cell_type": "code",
   "execution_count": 580,
   "metadata": {},
   "outputs": [
    {
     "data": {
      "text/html": [
       "<div>\n",
       "<style scoped>\n",
       "    .dataframe tbody tr th:only-of-type {\n",
       "        vertical-align: middle;\n",
       "    }\n",
       "\n",
       "    .dataframe tbody tr th {\n",
       "        vertical-align: top;\n",
       "    }\n",
       "\n",
       "    .dataframe thead tr th {\n",
       "        text-align: left;\n",
       "    }\n",
       "\n",
       "    .dataframe thead tr:last-of-type th {\n",
       "        text-align: right;\n",
       "    }\n",
       "</style>\n",
       "<table border=\"1\" class=\"dataframe\">\n",
       "  <thead>\n",
       "    <tr>\n",
       "      <th></th>\n",
       "      <th colspan=\"2\" halign=\"left\">sum</th>\n",
       "      <th>전체</th>\n",
       "      <th>남</th>\n",
       "      <th>여</th>\n",
       "      <th>비율(%)</th>\n",
       "    </tr>\n",
       "    <tr>\n",
       "      <th></th>\n",
       "      <th colspan=\"2\" halign=\"left\">총대출상품수</th>\n",
       "      <th></th>\n",
       "      <th></th>\n",
       "      <th></th>\n",
       "      <th></th>\n",
       "    </tr>\n",
       "    <tr>\n",
       "      <th>성별</th>\n",
       "      <th>1</th>\n",
       "      <th>2</th>\n",
       "      <th></th>\n",
       "      <th></th>\n",
       "      <th></th>\n",
       "      <th></th>\n",
       "    </tr>\n",
       "    <tr>\n",
       "      <th>나이</th>\n",
       "      <th></th>\n",
       "      <th></th>\n",
       "      <th></th>\n",
       "      <th></th>\n",
       "      <th></th>\n",
       "      <th></th>\n",
       "    </tr>\n",
       "  </thead>\n",
       "  <tbody>\n",
       "    <tr>\n",
       "      <td>20대</td>\n",
       "      <td>448154</td>\n",
       "      <td>387236</td>\n",
       "      <td>835390</td>\n",
       "      <td>4.32</td>\n",
       "      <td>3.74</td>\n",
       "      <td>8.06</td>\n",
       "    </tr>\n",
       "    <tr>\n",
       "      <td>30대</td>\n",
       "      <td>1246639</td>\n",
       "      <td>770146</td>\n",
       "      <td>2016785</td>\n",
       "      <td>12.03</td>\n",
       "      <td>7.43</td>\n",
       "      <td>19.46</td>\n",
       "    </tr>\n",
       "    <tr>\n",
       "      <td>40대</td>\n",
       "      <td>1711069</td>\n",
       "      <td>1180641</td>\n",
       "      <td>2891710</td>\n",
       "      <td>16.51</td>\n",
       "      <td>11.39</td>\n",
       "      <td>27.90</td>\n",
       "    </tr>\n",
       "    <tr>\n",
       "      <td>50대</td>\n",
       "      <td>1570389</td>\n",
       "      <td>1136937</td>\n",
       "      <td>2707326</td>\n",
       "      <td>15.15</td>\n",
       "      <td>10.97</td>\n",
       "      <td>26.12</td>\n",
       "    </tr>\n",
       "    <tr>\n",
       "      <td>60대</td>\n",
       "      <td>840285</td>\n",
       "      <td>601908</td>\n",
       "      <td>1442193</td>\n",
       "      <td>8.11</td>\n",
       "      <td>5.81</td>\n",
       "      <td>13.91</td>\n",
       "    </tr>\n",
       "    <tr>\n",
       "      <td>70대</td>\n",
       "      <td>237676</td>\n",
       "      <td>154099</td>\n",
       "      <td>391775</td>\n",
       "      <td>2.29</td>\n",
       "      <td>1.49</td>\n",
       "      <td>3.78</td>\n",
       "    </tr>\n",
       "    <tr>\n",
       "      <td>80대 이상</td>\n",
       "      <td>46162</td>\n",
       "      <td>33374</td>\n",
       "      <td>79536</td>\n",
       "      <td>0.45</td>\n",
       "      <td>0.32</td>\n",
       "      <td>0.77</td>\n",
       "    </tr>\n",
       "  </tbody>\n",
       "</table>\n",
       "</div>"
      ],
      "text/plain": [
       "            sum                전체      남      여  비율(%)\n",
       "         총대출상품수                                       \n",
       "성별            1        2                              \n",
       "나이                                                    \n",
       "20대      448154   387236   835390   4.32   3.74   8.06\n",
       "30대     1246639   770146  2016785  12.03   7.43  19.46\n",
       "40대     1711069  1180641  2891710  16.51  11.39  27.90\n",
       "50대     1570389  1136937  2707326  15.15  10.97  26.12\n",
       "60대      840285   601908  1442193   8.11   5.81  13.91\n",
       "70대      237676   154099   391775   2.29   1.49   3.78\n",
       "80대 이상    46162    33374    79536   0.45   0.32   0.77"
      ]
     },
     "execution_count": 580,
     "metadata": {},
     "output_type": "execute_result"
    }
   ],
   "source": [
    "카운팅['남'] =   카운팅.iloc[:,0]/카운팅['전체'].sum()*100\n",
    "카운팅['여'] =   카운팅.iloc[:,1]/카운팅['전체'].sum()*100\n",
    "카운팅['비율(%)'] = 카운팅.iloc[:,2]/카운팅['전체'].sum()*100\n",
    "카운팅 = 카운팅.round(2)\n",
    "카운팅"
   ]
  },
  {
   "cell_type": "code",
   "execution_count": 581,
   "metadata": {},
   "outputs": [
    {
     "data": {
      "text/plain": [
       "100.0"
      ]
     },
     "execution_count": 581,
     "metadata": {},
     "output_type": "execute_result"
    }
   ],
   "source": [
    "카운팅['비율(%)'].sum()"
   ]
  },
  {
   "cell_type": "code",
   "execution_count": 582,
   "metadata": {},
   "outputs": [],
   "source": [
    "비중 = 카운팅.iloc[:,3:]\n",
    "비중 = 비중.round(2)"
   ]
  },
  {
   "cell_type": "code",
   "execution_count": 583,
   "metadata": {},
   "outputs": [
    {
     "data": {
      "image/png": "[encoded data removed]",
      "text/plain": [
       "<Figure size 576x288 with 1 Axes>"
      ]
     },
     "metadata": {
      "needs_background": "light"
     },
     "output_type": "display_data"
    }
   ],
   "source": [
    "ax = 비중.plot(kind='bar', cmap='plasma', figsize=(8,4), fontsize=11)\n",
    "for i in range(len(비중)):\n",
    "    #남\n",
    "    #ax.text(x=i, y=카운팅.iloc[:,0].values[i], s=카운팅.iloc[:,0].values[i],\n",
    "            #horizontalalignment='right', verticalalignment ='bottom')\n",
    "    #여\n",
    "    #ax.text(x=i, y=카운팅.iloc[:,1].values[i], s=카운팅.iloc[:,1].values[i],\n",
    "            #horizontalalignment='left', verticalalignment ='bottom')\n",
    "    #전체\n",
    "    ax.text(x=i, y=비중.iloc[:,2].values[i], s=비중.iloc[:,2].values[i],\n",
    "            horizontalalignment='left', verticalalignment ='bottom', fontsize=12)\n",
    "    \n",
    "    \n",
    "plt.legend(labels=['남자','여자','전체'])\n",
    "plt.title('연령별 성별 누적 총대출건수 비중(%)')\n",
    "plt.xticks(rotation=360)\n",
    "\n",
    "plt.savefig('C:/Users/ksy/Desktop/개인/코로나19 팀프로젝트/1.현황분석/png/대출현황/png/'+   '2-2.총대출건수.png',bbox_inches='tight')\n",
    "plt.show()"
   ]
  },
  {
   "cell_type": "markdown",
   "metadata": {},
   "source": [
    "# 연체여부"
   ]
  },
  {
   "cell_type": "code",
   "execution_count": 584,
   "metadata": {},
   "outputs": [
    {
     "data": {
      "text/plain": [
       "array(['0', \"b'1'\"], dtype=object)"
      ]
     },
     "execution_count": 584,
     "metadata": {},
     "output_type": "execute_result"
    }
   ],
   "source": [
    "연체여부['연체여부'].unique()"
   ]
  },
  {
   "cell_type": "code",
   "execution_count": 585,
   "metadata": {},
   "outputs": [],
   "source": [
    "연체여부['연체여부'] = 연체여부['연체여부'].map({'0':0,\"b'1'\":1})"
   ]
  },
  {
   "cell_type": "code",
   "execution_count": 586,
   "metadata": {},
   "outputs": [],
   "source": [
    "연체 = 연체여부[연체여부.연체여부==1]"
   ]
  },
  {
   "cell_type": "code",
   "execution_count": 587,
   "metadata": {},
   "outputs": [
    {
     "data": {
      "text/plain": [
       "3449"
      ]
     },
     "execution_count": 587,
     "metadata": {},
     "output_type": "execute_result"
    }
   ],
   "source": [
    "len(연체)"
   ]
  },
  {
   "cell_type": "code",
   "execution_count": 588,
   "metadata": {},
   "outputs": [],
   "source": [
    "카운팅 = 연체.groupby(['성별','나이']).count()"
   ]
  },
  {
   "cell_type": "code",
   "execution_count": 589,
   "metadata": {},
   "outputs": [],
   "source": [
    "카운팅.reset_index(inplace=True)\n",
    "카운팅 = pd.pivot_table(카운팅, index = ['나이'],values =['연체여부'], columns='성별', aggfunc = ['sum']) ############# 변경"
   ]
  },
  {
   "cell_type": "code",
   "execution_count": 590,
   "metadata": {},
   "outputs": [
    {
     "name": "stdout",
     "output_type": "stream",
     "text": [
      "{'연체여부': '1'}\n"
     ]
    },
    {
     "data": {
      "text/html": [
       "<div>\n",
       "<style scoped>\n",
       "    .dataframe tbody tr th:only-of-type {\n",
       "        vertical-align: middle;\n",
       "    }\n",
       "\n",
       "    .dataframe tbody tr th {\n",
       "        vertical-align: top;\n",
       "    }\n",
       "\n",
       "    .dataframe thead tr th {\n",
       "        text-align: left;\n",
       "    }\n",
       "\n",
       "    .dataframe thead tr:last-of-type th {\n",
       "        text-align: right;\n",
       "    }\n",
       "</style>\n",
       "<table border=\"1\" class=\"dataframe\">\n",
       "  <thead>\n",
       "    <tr>\n",
       "      <th></th>\n",
       "      <th colspan=\"2\" halign=\"left\">sum</th>\n",
       "    </tr>\n",
       "    <tr>\n",
       "      <th></th>\n",
       "      <th colspan=\"2\" halign=\"left\">1</th>\n",
       "    </tr>\n",
       "    <tr>\n",
       "      <th>성별</th>\n",
       "      <th>1</th>\n",
       "      <th>2</th>\n",
       "    </tr>\n",
       "    <tr>\n",
       "      <th>나이</th>\n",
       "      <th></th>\n",
       "      <th></th>\n",
       "    </tr>\n",
       "  </thead>\n",
       "  <tbody>\n",
       "    <tr>\n",
       "      <td>20대</td>\n",
       "      <td>253</td>\n",
       "      <td>143</td>\n",
       "    </tr>\n",
       "    <tr>\n",
       "      <td>30대</td>\n",
       "      <td>525</td>\n",
       "      <td>264</td>\n",
       "    </tr>\n",
       "    <tr>\n",
       "      <td>40대</td>\n",
       "      <td>646</td>\n",
       "      <td>356</td>\n",
       "    </tr>\n",
       "    <tr>\n",
       "      <td>50대</td>\n",
       "      <td>541</td>\n",
       "      <td>293</td>\n",
       "    </tr>\n",
       "    <tr>\n",
       "      <td>60대</td>\n",
       "      <td>197</td>\n",
       "      <td>138</td>\n",
       "    </tr>\n",
       "    <tr>\n",
       "      <td>70대</td>\n",
       "      <td>47</td>\n",
       "      <td>30</td>\n",
       "    </tr>\n",
       "    <tr>\n",
       "      <td>80대 이상</td>\n",
       "      <td>11</td>\n",
       "      <td>5</td>\n",
       "    </tr>\n",
       "  </tbody>\n",
       "</table>\n",
       "</div>"
      ],
      "text/plain": [
       "        sum     \n",
       "          1     \n",
       "성별        1    2\n",
       "나이              \n",
       "20대     253  143\n",
       "30대     525  264\n",
       "40대     646  356\n",
       "50대     541  293\n",
       "60대     197  138\n",
       "70대      47   30\n",
       "80대 이상   11    5"
      ]
     },
     "execution_count": 590,
     "metadata": {},
     "output_type": "execute_result"
    }
   ],
   "source": [
    "d = dict(zip(카운팅.columns.levels[1], ['1','2']))\n",
    "print(d)\n",
    "카운팅.rename(columns=d, level=1)"
   ]
  },
  {
   "cell_type": "code",
   "execution_count": 591,
   "metadata": {},
   "outputs": [],
   "source": [
    "카운팅['전체'] = 카운팅.sum(axis=1)"
   ]
  },
  {
   "cell_type": "code",
   "execution_count": 592,
   "metadata": {},
   "outputs": [
    {
     "data": {
      "image/png": "[encoded data removed]",
      "text/plain": [
       "<Figure size 576x288 with 1 Axes>"
      ]
     },
     "metadata": {
      "needs_background": "light"
     },
     "output_type": "display_data"
    }
   ],
   "source": [
    "ax = 카운팅.plot(kind='bar', cmap='cividis', figsize=(8,4), fontsize=11)\n",
    "for i in range(len(카운팅)):\n",
    "    #남\n",
    "    #ax.text(x=i, y=카운팅.iloc[:,0].values[i], s=카운팅.iloc[:,0].values[i],\n",
    "            #horizontalalignment='right', verticalalignment ='bottom')\n",
    "    #여\n",
    "    #ax.text(x=i, y=카운팅.iloc[:,1].values[i], s=카운팅.iloc[:,1].values[i],\n",
    "            #horizontalalignment='left', verticalalignment ='bottom')\n",
    "    #전체\n",
    "    ax.text(x=i, y=카운팅.iloc[:,2].values[i], s=카운팅.iloc[:,2].values[i],\n",
    "            horizontalalignment='left', verticalalignment ='bottom', fontsize=12)\n",
    "    \n",
    "    \n",
    "plt.legend(labels=['남자','여자','전체'])\n",
    "plt.title('연령별 성별 연체 차주 수')\n",
    "plt.xticks(rotation=360)\n",
    "\n",
    "plt.savefig('C:/Users/ksy/Desktop/개인/코로나19 팀프로젝트/1.현황분석/png/대출현황/png/'+   '3-1.연체건수.png',bbox_inches='tight')\n",
    "plt.show()"
   ]
  },
  {
   "cell_type": "code",
   "execution_count": 593,
   "metadata": {},
   "outputs": [
    {
     "data": {
      "text/html": [
       "<div>\n",
       "<style scoped>\n",
       "    .dataframe tbody tr th:only-of-type {\n",
       "        vertical-align: middle;\n",
       "    }\n",
       "\n",
       "    .dataframe tbody tr th {\n",
       "        vertical-align: top;\n",
       "    }\n",
       "\n",
       "    .dataframe thead tr th {\n",
       "        text-align: left;\n",
       "    }\n",
       "\n",
       "    .dataframe thead tr:last-of-type th {\n",
       "        text-align: right;\n",
       "    }\n",
       "</style>\n",
       "<table border=\"1\" class=\"dataframe\">\n",
       "  <thead>\n",
       "    <tr>\n",
       "      <th></th>\n",
       "      <th colspan=\"2\" halign=\"left\">sum</th>\n",
       "      <th>전체</th>\n",
       "      <th>남</th>\n",
       "      <th>여</th>\n",
       "      <th>비율(%)</th>\n",
       "    </tr>\n",
       "    <tr>\n",
       "      <th></th>\n",
       "      <th colspan=\"2\" halign=\"left\">연체여부</th>\n",
       "      <th></th>\n",
       "      <th></th>\n",
       "      <th></th>\n",
       "      <th></th>\n",
       "    </tr>\n",
       "    <tr>\n",
       "      <th>성별</th>\n",
       "      <th>1</th>\n",
       "      <th>2</th>\n",
       "      <th></th>\n",
       "      <th></th>\n",
       "      <th></th>\n",
       "      <th></th>\n",
       "    </tr>\n",
       "    <tr>\n",
       "      <th>나이</th>\n",
       "      <th></th>\n",
       "      <th></th>\n",
       "      <th></th>\n",
       "      <th></th>\n",
       "      <th></th>\n",
       "      <th></th>\n",
       "    </tr>\n",
       "  </thead>\n",
       "  <tbody>\n",
       "    <tr>\n",
       "      <td>20대</td>\n",
       "      <td>253</td>\n",
       "      <td>143</td>\n",
       "      <td>396</td>\n",
       "      <td>7.34</td>\n",
       "      <td>4.15</td>\n",
       "      <td>11.48</td>\n",
       "    </tr>\n",
       "    <tr>\n",
       "      <td>30대</td>\n",
       "      <td>525</td>\n",
       "      <td>264</td>\n",
       "      <td>789</td>\n",
       "      <td>15.22</td>\n",
       "      <td>7.65</td>\n",
       "      <td>22.88</td>\n",
       "    </tr>\n",
       "    <tr>\n",
       "      <td>40대</td>\n",
       "      <td>646</td>\n",
       "      <td>356</td>\n",
       "      <td>1002</td>\n",
       "      <td>18.73</td>\n",
       "      <td>10.32</td>\n",
       "      <td>29.05</td>\n",
       "    </tr>\n",
       "    <tr>\n",
       "      <td>50대</td>\n",
       "      <td>541</td>\n",
       "      <td>293</td>\n",
       "      <td>834</td>\n",
       "      <td>15.69</td>\n",
       "      <td>8.50</td>\n",
       "      <td>24.18</td>\n",
       "    </tr>\n",
       "    <tr>\n",
       "      <td>60대</td>\n",
       "      <td>197</td>\n",
       "      <td>138</td>\n",
       "      <td>335</td>\n",
       "      <td>5.71</td>\n",
       "      <td>4.00</td>\n",
       "      <td>9.71</td>\n",
       "    </tr>\n",
       "    <tr>\n",
       "      <td>70대</td>\n",
       "      <td>47</td>\n",
       "      <td>30</td>\n",
       "      <td>77</td>\n",
       "      <td>1.36</td>\n",
       "      <td>0.87</td>\n",
       "      <td>2.23</td>\n",
       "    </tr>\n",
       "    <tr>\n",
       "      <td>80대 이상</td>\n",
       "      <td>11</td>\n",
       "      <td>5</td>\n",
       "      <td>16</td>\n",
       "      <td>0.32</td>\n",
       "      <td>0.14</td>\n",
       "      <td>0.46</td>\n",
       "    </tr>\n",
       "  </tbody>\n",
       "</table>\n",
       "</div>"
      ],
      "text/plain": [
       "        sum         전체      남      여  비율(%)\n",
       "       연체여부                                \n",
       "성별        1    2                           \n",
       "나이                                         \n",
       "20대     253  143   396   7.34   4.15  11.48\n",
       "30대     525  264   789  15.22   7.65  22.88\n",
       "40대     646  356  1002  18.73  10.32  29.05\n",
       "50대     541  293   834  15.69   8.50  24.18\n",
       "60대     197  138   335   5.71   4.00   9.71\n",
       "70대      47   30    77   1.36   0.87   2.23\n",
       "80대 이상   11    5    16   0.32   0.14   0.46"
      ]
     },
     "execution_count": 593,
     "metadata": {},
     "output_type": "execute_result"
    }
   ],
   "source": [
    "카운팅['남'] =   카운팅.iloc[:,0]/카운팅['전체'].sum()*100\n",
    "카운팅['여'] =   카운팅.iloc[:,1]/카운팅['전체'].sum()*100\n",
    "카운팅['비율(%)'] = 카운팅.iloc[:,2]/카운팅['전체'].sum()*100\n",
    "카운팅 = 카운팅.round(2)\n",
    "카운팅"
   ]
  },
  {
   "cell_type": "code",
   "execution_count": 594,
   "metadata": {},
   "outputs": [
    {
     "data": {
      "text/plain": [
       "99.99000000000001"
      ]
     },
     "execution_count": 594,
     "metadata": {},
     "output_type": "execute_result"
    }
   ],
   "source": [
    "카운팅['비율(%)'].sum()"
   ]
  },
  {
   "cell_type": "code",
   "execution_count": 595,
   "metadata": {},
   "outputs": [],
   "source": [
    "비중 = 카운팅.iloc[:,3:]\n",
    "비중 = 비중.round(2)"
   ]
  },
  {
   "cell_type": "code",
   "execution_count": 596,
   "metadata": {},
   "outputs": [
    {
     "data": {
      "image/png": "[encoded data removed]",
      "text/plain": [
       "<Figure size 576x288 with 1 Axes>"
      ]
     },
     "metadata": {
      "needs_background": "light"
     },
     "output_type": "display_data"
    }
   ],
   "source": [
    "ax = 비중.plot(kind='bar', cmap='cividis', figsize=(8,4), fontsize=11)\n",
    "for i in range(len(비중)):\n",
    "    #남\n",
    "    #ax.text(x=i, y=카운팅.iloc[:,0].values[i], s=카운팅.iloc[:,0].values[i],\n",
    "            #horizontalalignment='right', verticalalignment ='bottom')\n",
    "    #여\n",
    "    #ax.text(x=i, y=카운팅.iloc[:,1].values[i], s=카운팅.iloc[:,1].values[i],\n",
    "            #horizontalalignment='left', verticalalignment ='bottom')\n",
    "    #전체\n",
    "    ax.text(x=i, y=비중.iloc[:,2].values[i], s=비중.iloc[:,2].values[i],\n",
    "            horizontalalignment='left', verticalalignment ='bottom', fontsize=12)\n",
    "    \n",
    "    \n",
    "plt.legend(labels=['남자','여자','전체'])\n",
    "plt.title('연령별 성별 연체 차주 수 비중(%)')\n",
    "plt.xticks(rotation=360)\n",
    "\n",
    "plt.savefig('C:/Users/ksy/Desktop/개인/코로나19 팀프로젝트/1.현황분석/png/대출현황/png/'+   '3-2.연체여부.png',bbox_inches='tight')\n",
    "plt.show()"
   ]
  },
  {
   "cell_type": "markdown",
   "metadata": {},
   "source": []
  }
 ],
 "metadata": {
  "kernelspec": {
   "display_name": "Python 3",
   "language": "python",
   "name": "python3"
  },
  "language_info": {
   "codemirror_mode": {
    "name": "ipython",
    "version": 3
   },
   "file_extension": ".py",
   "mimetype": "text/x-python",
   "name": "python",
   "nbconvert_exporter": "python",
   "pygments_lexer": "ipython3",
   "version": "3.7.4"
  }
 },
 "nbformat": 4,
 "nbformat_minor": 4
}
