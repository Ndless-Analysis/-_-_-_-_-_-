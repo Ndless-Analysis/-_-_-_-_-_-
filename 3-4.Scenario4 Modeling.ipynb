{
 "cells": [
  {
   "cell_type": "code",
   "execution_count": 1,
   "metadata": {},
   "outputs": [],
   "source": [
    "#필요 라이브러리\n",
    "import pandas as pd\n",
    "import numpy as np\n",
    "\n",
    "#################### Train_Test Split ######################\n",
    "from sklearn.model_selection import train_test_split\n",
    "\n",
    "\n",
    "#################### 성능평가 ############################\n",
    "from sklearn.metrics import confusion_matrix, accuracy_score, precision_score, recall_score, f1_score, precision_recall_curve\n",
    "from sklearn.metrics import roc_auc_score\n",
    "from sklearn.metrics import classification_report\n",
    "from sklearn import metrics\n",
    "from sklearn.metrics import plot_confusion_matrix\n",
    "import sklearn\n",
    "#################### XGBoost ###########################\n",
    "from xgboost import XGBClassifier\n",
    "from xgboost import plot_importance\n",
    "from sklearn.model_selection import GridSearchCV\n",
    "\n",
    "\n",
    "################## lgbm ###########################\n",
    "from lightgbm import LGBMClassifier\n",
    "\n",
    "##################### Decision Tree #######################\n",
    "from sklearn.tree import DecisionTreeClassifier\n",
    "\n",
    "################## RandomForest ##########################\n",
    "from sklearn.ensemble import RandomForestClassifier\n",
    "\n",
    "###################### Logistic Rregression ###############\n",
    "from sklearn.linear_model import LogisticRegression\n",
    "\n",
    "\n",
    "import warnings\n",
    "warnings.filterwarnings('ignore')"
   ]
  },
  {
   "cell_type": "code",
   "execution_count": 48,
   "metadata": {},
   "outputs": [],
   "source": [
    "#모델 성능 평가 함수화\n",
    "def model_assessment(test,pred):\n",
    "    confusion = confusion_matrix(test, pred)\n",
    "    accuracy = accuracy_score(test,pred)\n",
    "    report = metrics.classification_report(test, pred, digits=2)\n",
    "    \n",
    "    print('accuracy', accuracy, '\\n')\n",
    "    print('confusion_matrix',confusion, '\\n')\n",
    "    print(report)"
   ]
  },
  {
   "cell_type": "code",
   "execution_count": 3,
   "metadata": {},
   "outputs": [],
   "source": [
    "import pandas as pd \n",
    "pd.set_option('display.max_columns',None)\n",
    "pd.set_option('display.max_rows',None)"
   ]
  },
  {
   "cell_type": "code",
   "execution_count": 4,
   "metadata": {},
   "outputs": [],
   "source": [
    "#시각화 패키지 라이브러리\n",
    "import seaborn as sns\n",
    "import matplotlib\n",
    "import matplotlib.pyplot as plt\n",
    "matplotlib.rcParams['font.family'] = 'Malgun Gothic' #한글깨짐현상방지\n",
    "matplotlib.rcParams['axes.unicode_minus'] = False"
   ]
  },
  {
   "cell_type": "code",
   "execution_count": 5,
   "metadata": {},
   "outputs": [],
   "source": [
    "df_m = pd.read_csv('C:/Users/ksy/Desktop/개인/코로나19 팀프로젝트/시나리오2/data/PCA30.csv')"
   ]
  },
  {
   "cell_type": "code",
   "execution_count": 6,
   "metadata": {},
   "outputs": [
    {
     "data": {
      "text/html": [
       "<div>\n",
       "<style scoped>\n",
       "    .dataframe tbody tr th:only-of-type {\n",
       "        vertical-align: middle;\n",
       "    }\n",
       "\n",
       "    .dataframe tbody tr th {\n",
       "        vertical-align: top;\n",
       "    }\n",
       "\n",
       "    .dataframe thead th {\n",
       "        text-align: right;\n",
       "    }\n",
       "</style>\n",
       "<table border=\"1\" class=\"dataframe\">\n",
       "  <thead>\n",
       "    <tr style=\"text-align: right;\">\n",
       "      <th></th>\n",
       "      <th>Unnamed: 0</th>\n",
       "      <th>0</th>\n",
       "      <th>1</th>\n",
       "      <th>2</th>\n",
       "      <th>3</th>\n",
       "      <th>4</th>\n",
       "      <th>5</th>\n",
       "      <th>6</th>\n",
       "      <th>7</th>\n",
       "      <th>8</th>\n",
       "      <th>9</th>\n",
       "      <th>10</th>\n",
       "      <th>11</th>\n",
       "      <th>12</th>\n",
       "      <th>13</th>\n",
       "      <th>14</th>\n",
       "      <th>15</th>\n",
       "      <th>16</th>\n",
       "      <th>17</th>\n",
       "      <th>18</th>\n",
       "      <th>19</th>\n",
       "      <th>20</th>\n",
       "      <th>21</th>\n",
       "      <th>22</th>\n",
       "      <th>23</th>\n",
       "      <th>24</th>\n",
       "      <th>25</th>\n",
       "      <th>26</th>\n",
       "      <th>27</th>\n",
       "      <th>28</th>\n",
       "      <th>29</th>\n",
       "      <th>연체여부</th>\n",
       "    </tr>\n",
       "  </thead>\n",
       "  <tbody>\n",
       "    <tr>\n",
       "      <td>0</td>\n",
       "      <td>0</td>\n",
       "      <td>-204850.823344</td>\n",
       "      <td>52770.958635</td>\n",
       "      <td>-51743.899750</td>\n",
       "      <td>-74094.166196</td>\n",
       "      <td>21946.601952</td>\n",
       "      <td>-23300.911088</td>\n",
       "      <td>23727.231274</td>\n",
       "      <td>-30247.425045</td>\n",
       "      <td>-23103.044105</td>\n",
       "      <td>7408.619239</td>\n",
       "      <td>-11950.476054</td>\n",
       "      <td>-3.860570e+02</td>\n",
       "      <td>6550.546304</td>\n",
       "      <td>-1809.734470</td>\n",
       "      <td>12354.730538</td>\n",
       "      <td>-1765.532818</td>\n",
       "      <td>-913.911833</td>\n",
       "      <td>-4753.598141</td>\n",
       "      <td>-311.099730</td>\n",
       "      <td>158.886880</td>\n",
       "      <td>-252.534827</td>\n",
       "      <td>-33.843553</td>\n",
       "      <td>110.590546</td>\n",
       "      <td>-27.056662</td>\n",
       "      <td>-5.557922</td>\n",
       "      <td>-7.437375</td>\n",
       "      <td>8.504220</td>\n",
       "      <td>-0.939240</td>\n",
       "      <td>13.948135</td>\n",
       "      <td>-2.563740</td>\n",
       "      <td>0</td>\n",
       "    </tr>\n",
       "    <tr>\n",
       "      <td>1</td>\n",
       "      <td>1</td>\n",
       "      <td>405653.596412</td>\n",
       "      <td>-815190.314707</td>\n",
       "      <td>-72709.247512</td>\n",
       "      <td>-90350.879616</td>\n",
       "      <td>-9774.509547</td>\n",
       "      <td>-26803.618728</td>\n",
       "      <td>-97785.375838</td>\n",
       "      <td>9020.939667</td>\n",
       "      <td>29321.470960</td>\n",
       "      <td>-28361.754998</td>\n",
       "      <td>108151.816143</td>\n",
       "      <td>1.020552e+06</td>\n",
       "      <td>-27163.089526</td>\n",
       "      <td>-6517.407241</td>\n",
       "      <td>-15006.637866</td>\n",
       "      <td>-4371.368695</td>\n",
       "      <td>6926.029616</td>\n",
       "      <td>-4166.695129</td>\n",
       "      <td>2801.330307</td>\n",
       "      <td>-423.509777</td>\n",
       "      <td>-880.516877</td>\n",
       "      <td>-72.555617</td>\n",
       "      <td>17.599610</td>\n",
       "      <td>1.885057</td>\n",
       "      <td>-0.295097</td>\n",
       "      <td>4.397181</td>\n",
       "      <td>2.849485</td>\n",
       "      <td>5.051407</td>\n",
       "      <td>-2.122153</td>\n",
       "      <td>-2.285249</td>\n",
       "      <td>0</td>\n",
       "    </tr>\n",
       "    <tr>\n",
       "      <td>2</td>\n",
       "      <td>2</td>\n",
       "      <td>-206097.271223</td>\n",
       "      <td>56087.951247</td>\n",
       "      <td>-46743.977038</td>\n",
       "      <td>-74829.805697</td>\n",
       "      <td>22286.637301</td>\n",
       "      <td>-25915.054240</td>\n",
       "      <td>-15540.751157</td>\n",
       "      <td>-25132.762138</td>\n",
       "      <td>-20575.290769</td>\n",
       "      <td>2169.965587</td>\n",
       "      <td>-9793.305821</td>\n",
       "      <td>-7.871127e+02</td>\n",
       "      <td>6383.290653</td>\n",
       "      <td>-2101.591028</td>\n",
       "      <td>-3581.170802</td>\n",
       "      <td>-1762.940374</td>\n",
       "      <td>-798.431056</td>\n",
       "      <td>2178.362168</td>\n",
       "      <td>-123.843000</td>\n",
       "      <td>194.559192</td>\n",
       "      <td>-210.008512</td>\n",
       "      <td>-90.216539</td>\n",
       "      <td>-12.022320</td>\n",
       "      <td>-0.424581</td>\n",
       "      <td>2.132270</td>\n",
       "      <td>-0.896373</td>\n",
       "      <td>0.283040</td>\n",
       "      <td>1.422797</td>\n",
       "      <td>0.794404</td>\n",
       "      <td>-4.145374</td>\n",
       "      <td>0</td>\n",
       "    </tr>\n",
       "    <tr>\n",
       "      <td>3</td>\n",
       "      <td>3</td>\n",
       "      <td>-206110.538085</td>\n",
       "      <td>56100.026684</td>\n",
       "      <td>-52058.258223</td>\n",
       "      <td>-75115.582657</td>\n",
       "      <td>22935.645070</td>\n",
       "      <td>-25833.536815</td>\n",
       "      <td>-15445.108655</td>\n",
       "      <td>-24569.240560</td>\n",
       "      <td>-20111.362077</td>\n",
       "      <td>6878.747350</td>\n",
       "      <td>-10112.348676</td>\n",
       "      <td>-6.988443e+02</td>\n",
       "      <td>6155.257574</td>\n",
       "      <td>-2069.970064</td>\n",
       "      <td>-3615.590460</td>\n",
       "      <td>-1741.241595</td>\n",
       "      <td>-705.336052</td>\n",
       "      <td>-4630.199739</td>\n",
       "      <td>-115.199268</td>\n",
       "      <td>166.597346</td>\n",
       "      <td>-211.383901</td>\n",
       "      <td>-29.039198</td>\n",
       "      <td>-11.902679</td>\n",
       "      <td>-0.489280</td>\n",
       "      <td>2.116021</td>\n",
       "      <td>-0.737978</td>\n",
       "      <td>0.236348</td>\n",
       "      <td>1.330976</td>\n",
       "      <td>0.209992</td>\n",
       "      <td>0.537108</td>\n",
       "      <td>0</td>\n",
       "    </tr>\n",
       "    <tr>\n",
       "      <td>4</td>\n",
       "      <td>4</td>\n",
       "      <td>-198057.263585</td>\n",
       "      <td>36578.193179</td>\n",
       "      <td>549811.023693</td>\n",
       "      <td>-30953.314153</td>\n",
       "      <td>354887.688086</td>\n",
       "      <td>-42251.653508</td>\n",
       "      <td>-20923.867118</td>\n",
       "      <td>-77387.953170</td>\n",
       "      <td>-45056.072223</td>\n",
       "      <td>-90459.010687</td>\n",
       "      <td>-11004.365178</td>\n",
       "      <td>4.307013e+02</td>\n",
       "      <td>4776.089993</td>\n",
       "      <td>-2402.400549</td>\n",
       "      <td>-6734.460703</td>\n",
       "      <td>-483.816600</td>\n",
       "      <td>636.169325</td>\n",
       "      <td>-10300.849400</td>\n",
       "      <td>-744.716016</td>\n",
       "      <td>-356.222335</td>\n",
       "      <td>-1024.813899</td>\n",
       "      <td>-14.740073</td>\n",
       "      <td>-12.506657</td>\n",
       "      <td>-0.820884</td>\n",
       "      <td>1.473628</td>\n",
       "      <td>-0.811703</td>\n",
       "      <td>0.283161</td>\n",
       "      <td>0.872398</td>\n",
       "      <td>0.755613</td>\n",
       "      <td>-6.354285</td>\n",
       "      <td>0</td>\n",
       "    </tr>\n",
       "  </tbody>\n",
       "</table>\n",
       "</div>"
      ],
      "text/plain": [
       "   Unnamed: 0              0              1              2             3  \\\n",
       "0           0 -204850.823344   52770.958635  -51743.899750 -74094.166196   \n",
       "1           1  405653.596412 -815190.314707  -72709.247512 -90350.879616   \n",
       "2           2 -206097.271223   56087.951247  -46743.977038 -74829.805697   \n",
       "3           3 -206110.538085   56100.026684  -52058.258223 -75115.582657   \n",
       "4           4 -198057.263585   36578.193179  549811.023693 -30953.314153   \n",
       "\n",
       "               4             5             6             7             8  \\\n",
       "0   21946.601952 -23300.911088  23727.231274 -30247.425045 -23103.044105   \n",
       "1   -9774.509547 -26803.618728 -97785.375838   9020.939667  29321.470960   \n",
       "2   22286.637301 -25915.054240 -15540.751157 -25132.762138 -20575.290769   \n",
       "3   22935.645070 -25833.536815 -15445.108655 -24569.240560 -20111.362077   \n",
       "4  354887.688086 -42251.653508 -20923.867118 -77387.953170 -45056.072223   \n",
       "\n",
       "              9             10            11            12           13  \\\n",
       "0   7408.619239  -11950.476054 -3.860570e+02   6550.546304 -1809.734470   \n",
       "1 -28361.754998  108151.816143  1.020552e+06 -27163.089526 -6517.407241   \n",
       "2   2169.965587   -9793.305821 -7.871127e+02   6383.290653 -2101.591028   \n",
       "3   6878.747350  -10112.348676 -6.988443e+02   6155.257574 -2069.970064   \n",
       "4 -90459.010687  -11004.365178  4.307013e+02   4776.089993 -2402.400549   \n",
       "\n",
       "             14           15           16            17           18  \\\n",
       "0  12354.730538 -1765.532818  -913.911833  -4753.598141  -311.099730   \n",
       "1 -15006.637866 -4371.368695  6926.029616  -4166.695129  2801.330307   \n",
       "2  -3581.170802 -1762.940374  -798.431056   2178.362168  -123.843000   \n",
       "3  -3615.590460 -1741.241595  -705.336052  -4630.199739  -115.199268   \n",
       "4  -6734.460703  -483.816600   636.169325 -10300.849400  -744.716016   \n",
       "\n",
       "           19           20         21          22         23        24  \\\n",
       "0  158.886880  -252.534827 -33.843553  110.590546 -27.056662 -5.557922   \n",
       "1 -423.509777  -880.516877 -72.555617   17.599610   1.885057 -0.295097   \n",
       "2  194.559192  -210.008512 -90.216539  -12.022320  -0.424581  2.132270   \n",
       "3  166.597346  -211.383901 -29.039198  -11.902679  -0.489280  2.116021   \n",
       "4 -356.222335 -1024.813899 -14.740073  -12.506657  -0.820884  1.473628   \n",
       "\n",
       "         25        26        27         28        29  연체여부  \n",
       "0 -7.437375  8.504220 -0.939240  13.948135 -2.563740     0  \n",
       "1  4.397181  2.849485  5.051407  -2.122153 -2.285249     0  \n",
       "2 -0.896373  0.283040  1.422797   0.794404 -4.145374     0  \n",
       "3 -0.737978  0.236348  1.330976   0.209992  0.537108     0  \n",
       "4 -0.811703  0.283161  0.872398   0.755613 -6.354285     0  "
      ]
     },
     "execution_count": 6,
     "metadata": {},
     "output_type": "execute_result"
    }
   ],
   "source": [
    "df_m.head()"
   ]
  },
  {
   "cell_type": "code",
   "execution_count": 7,
   "metadata": {},
   "outputs": [],
   "source": [
    "df_m.drop(columns=['Unnamed: 0'],inplace=True)"
   ]
  },
  {
   "cell_type": "code",
   "execution_count": 8,
   "metadata": {},
   "outputs": [
    {
     "data": {
      "text/plain": [
       "31"
      ]
     },
     "execution_count": 8,
     "metadata": {},
     "output_type": "execute_result"
    }
   ],
   "source": [
    "len(df_m.columns)"
   ]
  },
  {
   "cell_type": "markdown",
   "metadata": {},
   "source": [
    "# 1. Train - Test Split"
   ]
  },
  {
   "cell_type": "markdown",
   "metadata": {},
   "source": [
    "해당 데이터에서 정상인 케이스 비율이 전체의 약 99.65%, 채무불이행(연체)가 약 0.35%임"
   ]
  },
  {
   "cell_type": "code",
   "execution_count": 9,
   "metadata": {},
   "outputs": [
    {
     "data": {
      "text/plain": [
       "0    99.647121\n",
       "1     0.352879\n",
       "Name: 연체여부, dtype: float64"
      ]
     },
     "execution_count": 9,
     "metadata": {},
     "output_type": "execute_result"
    }
   ],
   "source": [
    "df_m['연체여부'].value_counts() / df_m['연체여부'].value_counts().sum() *100"
   ]
  },
  {
   "cell_type": "code",
   "execution_count": 10,
   "metadata": {},
   "outputs": [],
   "source": [
    "#시각화 패키지 라이브러리\n",
    "import seaborn as sns\n",
    "import matplotlib\n",
    "import matplotlib.pyplot as plt\n",
    "matplotlib.rcParams['font.family'] = 'Malgun Gothic' #한글깨짐현상방지\n",
    "matplotlib.rcParams['axes.unicode_minus'] = False"
   ]
  },
  {
   "cell_type": "code",
   "execution_count": 11,
   "metadata": {},
   "outputs": [
    {
     "data": {
      "text/plain": [
       "Text(0.5, 1.0, '연체여부 \\n (0:정상 || 1:채무불이행)')"
      ]
     },
     "execution_count": 11,
     "metadata": {},
     "output_type": "execute_result"
    },
    {
     "data": {
      "image/png": "[encoded data removed]",
      "text/plain": [
       "<Figure size 432x288 with 1 Axes>"
      ]
     },
     "metadata": {
      "needs_background": "light"
     },
     "output_type": "display_data"
    }
   ],
   "source": [
    "sns.countplot('연체여부', data = df_m)\n",
    "plt.title('연체여부 \\n (0:정상 || 1:채무불이행)')"
   ]
  },
  {
   "cell_type": "code",
   "execution_count": 12,
   "metadata": {},
   "outputs": [],
   "source": [
    "#독립변수\n",
    "X = df_m.drop(columns=['연체여부'])\n",
    "y = df_m['연체여부']"
   ]
  },
  {
   "cell_type": "markdown",
   "metadata": {},
   "source": [
    "* Random State seed 주는 것 보류"
   ]
  },
  {
   "cell_type": "code",
   "execution_count": 13,
   "metadata": {},
   "outputs": [
    {
     "name": "stdout",
     "output_type": "stream",
     "text": [
      "(684173, 30) (293217, 30)\n"
     ]
    }
   ],
   "source": [
    "#stratify = y는 클래스 비율을 유지 즉 위의 0: 97.53 %  || 1: 2.47% 비율을 Train-Test에도 동일 적용\n",
    "\n",
    "X_train, X_test, y_train, y_test = train_test_split(X,y,test_size=0.3, stratify=y, random_state=156)\n",
    "print(X_train.shape, X_test.shape)"
   ]
  },
  {
   "cell_type": "code",
   "execution_count": 14,
   "metadata": {},
   "outputs": [
    {
     "data": {
      "text/plain": [
       "0    99.647165\n",
       "1     0.352835\n",
       "Name: 연체여부, dtype: float64"
      ]
     },
     "execution_count": 14,
     "metadata": {},
     "output_type": "execute_result"
    }
   ],
   "source": [
    "y_train.value_counts() / y_train.value_counts().sum() *100"
   ]
  },
  {
   "cell_type": "code",
   "execution_count": 15,
   "metadata": {},
   "outputs": [
    {
     "data": {
      "text/plain": [
       "0    99.647019\n",
       "1     0.352981\n",
       "Name: 연체여부, dtype: float64"
      ]
     },
     "execution_count": 15,
     "metadata": {},
     "output_type": "execute_result"
    }
   ],
   "source": [
    "y_test.value_counts() / y_test.value_counts().sum() *100"
   ]
  },
  {
   "cell_type": "code",
   "execution_count": 16,
   "metadata": {},
   "outputs": [],
   "source": [
    "#.to_csv('C:/Users/ksy/Desktop/개인/CreDB예시/data/SMOTEENN용/X_test.csv')"
   ]
  },
  {
   "cell_type": "code",
   "execution_count": 17,
   "metadata": {},
   "outputs": [],
   "source": [
    "#y_test.to_csv('C:/Users/ksy/Desktop/개인/CreDB예시/data/SMOTEENN용/y_test.csv')"
   ]
  },
  {
   "cell_type": "code",
   "execution_count": 18,
   "metadata": {},
   "outputs": [],
   "source": [
    "\n",
    "\n",
    "\n",
    "#X_train.to_csv('C:/Users/ksy/Desktop/개인/CreDB예시/data/SMOTEENN용/X_train.csv')"
   ]
  },
  {
   "cell_type": "code",
   "execution_count": 19,
   "metadata": {},
   "outputs": [],
   "source": [
    "#y_train.to_csv('C:/Users/ksy/Desktop/개인/CreDB예시/data/SMOTEENN용/y_train.csv')"
   ]
  },
  {
   "cell_type": "code",
   "execution_count": 20,
   "metadata": {},
   "outputs": [
    {
     "data": {
      "text/plain": [
       "(684173, 30)"
      ]
     },
     "execution_count": 20,
     "metadata": {},
     "output_type": "execute_result"
    }
   ],
   "source": [
    "X_train.shape"
   ]
  },
  {
   "cell_type": "code",
   "execution_count": 21,
   "metadata": {},
   "outputs": [
    {
     "data": {
      "text/plain": [
       "(293217, 30)"
      ]
     },
     "execution_count": 21,
     "metadata": {},
     "output_type": "execute_result"
    }
   ],
   "source": [
    "\n",
    "X_test.shape"
   ]
  },
  {
   "cell_type": "code",
   "execution_count": 22,
   "metadata": {},
   "outputs": [
    {
     "data": {
      "text/plain": [
       "(684173,)"
      ]
     },
     "execution_count": 22,
     "metadata": {},
     "output_type": "execute_result"
    }
   ],
   "source": [
    "y_train.shape"
   ]
  },
  {
   "cell_type": "code",
   "execution_count": 23,
   "metadata": {},
   "outputs": [
    {
     "data": {
      "text/plain": [
       "(293217,)"
      ]
     },
     "execution_count": 23,
     "metadata": {},
     "output_type": "execute_result"
    }
   ],
   "source": [
    "y_test.shape"
   ]
  },
  {
   "cell_type": "markdown",
   "metadata": {},
   "source": [
    "## 3. SMOTE OverSampling"
   ]
  },
  {
   "cell_type": "markdown",
   "metadata": {},
   "source": [
    "Train Data Set에 대하여 Smote OverSampling 실행"
   ]
  },
  {
   "cell_type": "markdown",
   "metadata": {},
   "source": [
    "원래 아이디어는 smote -> undersampling 해서 모델링 시간을 줄이려했지만..."
   ]
  },
  {
   "cell_type": "code",
   "execution_count": 24,
   "metadata": {},
   "outputs": [],
   "source": [
    "from imblearn.over_sampling import SMOTE\n",
    "\n",
    "smote = SMOTE(random_state=7) # RandomState 변경\n",
    "X_train_over, y_train_over = smote.fit_sample(X_train, y_train)"
   ]
  },
  {
   "cell_type": "code",
   "execution_count": 25,
   "metadata": {},
   "outputs": [
    {
     "name": "stdout",
     "output_type": "stream",
     "text": [
      "SMOTE 적용 후 Data Set Size (1363518, 30) (1363518,)\n"
     ]
    }
   ],
   "source": [
    "print('SMOTE 적용 후 Data Set Size', X_train_over.shape, y_train_over.shape)"
   ]
  },
  {
   "cell_type": "code",
   "execution_count": 26,
   "metadata": {},
   "outputs": [
    {
     "name": "stdout",
     "output_type": "stream",
     "text": [
      "SMOTE 적용 후 Class 분포:\n",
      " 1    681759\n",
      "0    681759\n",
      "Name: 연체여부, dtype: int64\n"
     ]
    }
   ],
   "source": [
    "print('SMOTE 적용 후 Class 분포:\\n', pd.Series(y_train_over).value_counts())"
   ]
  },
  {
   "cell_type": "code",
   "execution_count": 27,
   "metadata": {},
   "outputs": [
    {
     "data": {
      "text/plain": [
       "Text(0.5, 1.0, '연체여부 \\n (0:정상 || 1:채무불이행)')"
      ]
     },
     "execution_count": 27,
     "metadata": {},
     "output_type": "execute_result"
    },
    {
     "data": {
      "image/png": "[encoded data removed]",
      "text/plain": [
       "<Figure size 432x288 with 1 Axes>"
      ]
     },
     "metadata": {
      "needs_background": "light"
     },
     "output_type": "display_data"
    }
   ],
   "source": [
    "sns.countplot('연체여부', data = y_train_over.to_frame())\n",
    "plt.title('연체여부 \\n (0:정상 || 1:채무불이행)')"
   ]
  },
  {
   "cell_type": "markdown",
   "metadata": {},
   "source": [
    "# Modelling"
   ]
  },
  {
   "cell_type": "code",
   "execution_count": 28,
   "metadata": {},
   "outputs": [],
   "source": [
    "def auc_return(y_test, pred):\n",
    "    fpr, tpr, threshold = sklearn.metrics.roc_curve(y_test,pred)\n",
    "    auc = metrics.auc(fpr,tpr)\n",
    "    return auc"
   ]
  },
  {
   "cell_type": "markdown",
   "metadata": {},
   "source": [
    "# 1. Regression"
   ]
  },
  {
   "cell_type": "markdown",
   "metadata": {},
   "source": [
    "전통적으로 채무불이행 예측 모델은 다음과 같은 기본 알고리즘을 많이 사용함. 그 이유는 채무불이행 이유에 대한 '설명가능성'이 있기 때문 <br>\n",
    "보수적인 금융권 특성, 고객과의 신뢰 등을 이유로 알고리즘의 설명 가능성에 대해 매우 민감함 <br>"
   ]
  },
  {
   "cell_type": "markdown",
   "metadata": {},
   "source": [
    "## 1-1) Logistic"
   ]
  },
  {
   "cell_type": "code",
   "execution_count": 29,
   "metadata": {},
   "outputs": [],
   "source": [
    "from sklearn.linear_model import LogisticRegression"
   ]
  },
  {
   "cell_type": "code",
   "execution_count": 30,
   "metadata": {},
   "outputs": [],
   "source": [
    "lr = LogisticRegression()"
   ]
  },
  {
   "cell_type": "code",
   "execution_count": 31,
   "metadata": {},
   "outputs": [
    {
     "data": {
      "text/plain": [
       "LogisticRegression()"
      ]
     },
     "execution_count": 31,
     "metadata": {},
     "output_type": "execute_result"
    }
   ],
   "source": [
    "lr.fit(X_train_over,y_train_over)"
   ]
  },
  {
   "cell_type": "code",
   "execution_count": 32,
   "metadata": {},
   "outputs": [],
   "source": [
    "lr_pred = lr.predict(X_test)"
   ]
  },
  {
   "cell_type": "code",
   "execution_count": 33,
   "metadata": {},
   "outputs": [
    {
     "name": "stdout",
     "output_type": "stream",
     "text": [
      "accuracy 0.27891970792962206 \n",
      "\n",
      "confusion_matrix [[ 80865 211317]\n",
      " [   116    919]] \n",
      "\n",
      "              precision    recall  f1-score   support\n",
      "\n",
      "           0       1.00      0.28      0.43    292182\n",
      "           1       0.00      0.89      0.01      1035\n",
      "\n",
      "    accuracy                           0.28    293217\n",
      "   macro avg       0.50      0.58      0.22    293217\n",
      "weighted avg       1.00      0.28      0.43    293217\n",
      "\n"
     ]
    }
   ],
   "source": [
    "model_assessment(y_test, lr_pred)"
   ]
  },
  {
   "cell_type": "code",
   "execution_count": 34,
   "metadata": {},
   "outputs": [
    {
     "name": "stdout",
     "output_type": "stream",
     "text": [
      "0.5823425671055334\n"
     ]
    }
   ],
   "source": [
    "auc = auc_return(y_test,lr_pred) # 변경\n",
    "print(auc)"
   ]
  },
  {
   "cell_type": "code",
   "execution_count": 128,
   "metadata": {},
   "outputs": [
    {
     "data": {
      "image/png": "[encoded data removed]",
      "text/plain": [
       "<Figure size 432x288 with 1 Axes>"
      ]
     },
     "metadata": {
      "needs_background": "light"
     },
     "output_type": "display_data"
    }
   ],
   "source": [
    "fpr, tpr, threshold = sklearn.metrics.roc_curve(y_test, lr_pred)\n",
    "plt.title('Logistic Regression ROC Curve')\n",
    "plt.plot(fpr, tpr, 'k-', linewidth=2,label = 'AUC : ' + str(auc))\n",
    "plt.legend(loc=4)\n",
    "plt.plot([0,1], [0,1], 'r--')\n",
    "plt.xlabel('False Positive Rate')\n",
    "plt.ylabel('True Positive Rate')\n",
    "plt.axis([-0.01, 1,0,1])\n",
    "plt.savefig('C:/Users/ksy/Desktop/개인/코로나19 팀프로젝트/시나리오2/png/Logistic Regression ROC.png')\n",
    "plt.show()"
   ]
  },
  {
   "cell_type": "code",
   "execution_count": 129,
   "metadata": {},
   "outputs": [
    {
     "data": {
      "image/png": "[encoded data removed]",
      "text/plain": [
       "<Figure size 432x288 with 2 Axes>"
      ]
     },
     "metadata": {
      "needs_background": "light"
     },
     "output_type": "display_data"
    }
   ],
   "source": [
    "plot_confusion_matrix(lr,X_test,y_test,cmap='Blues')\n",
    "\n",
    "plt.title('Logistic Regression')\n",
    "plt.savefig('C:/Users/ksy/Desktop/개인/코로나19 팀프로젝트/시나리오2/png/Logistic Regression Confusion Matrix.png')\n",
    "plt.show()"
   ]
  },
  {
   "cell_type": "code",
   "execution_count": 132,
   "metadata": {},
   "outputs": [],
   "source": [
    "#모델저장\n",
    "import pickle as pkl\n",
    "with open(\"lr_model.pkl\",'wb') as outfile:\n",
    "    pkl.dump(lr,outfile)"
   ]
  },
  {
   "cell_type": "code",
   "execution_count": 133,
   "metadata": {},
   "outputs": [],
   "source": [
    "#모델저장\n",
    "import pickle as pkl\n",
    "with open(\"lr_predict.pkl\",'wb') as outfile:\n",
    "    pkl.dump(lr_pred,outfile)"
   ]
  },
  {
   "cell_type": "markdown",
   "metadata": {},
   "source": [
    "# 2. Classification"
   ]
  },
  {
   "cell_type": "markdown",
   "metadata": {},
   "source": [
    "### 2-1) XGBOOST"
   ]
  },
  {
   "cell_type": "code",
   "execution_count": 134,
   "metadata": {},
   "outputs": [],
   "source": [
    "#X_test.head()"
   ]
  },
  {
   "cell_type": "code",
   "execution_count": null,
   "metadata": {},
   "outputs": [],
   "source": []
  },
  {
   "cell_type": "code",
   "execution_count": 35,
   "metadata": {},
   "outputs": [
    {
     "name": "stdout",
     "output_type": "stream",
     "text": [
      "[0]\tvalidation_0-logloss:0.68962\tvalidation_1-logloss:0.68881\n",
      "[1]\tvalidation_0-logloss:0.68427\tvalidation_1-logloss:0.68491\n",
      "[2]\tvalidation_0-logloss:0.68105\tvalidation_1-logloss:0.68109\n",
      "[3]\tvalidation_0-logloss:0.67657\tvalidation_1-logloss:0.67738\n",
      "[4]\tvalidation_0-logloss:0.67337\tvalidation_1-logloss:0.67334\n",
      "[5]\tvalidation_0-logloss:0.66935\tvalidation_1-logloss:0.66981\n",
      "[6]\tvalidation_0-logloss:0.66554\tvalidation_1-logloss:0.66614\n",
      "[7]\tvalidation_0-logloss:0.66210\tvalidation_1-logloss:0.66242\n",
      "[8]\tvalidation_0-logloss:0.65821\tvalidation_1-logloss:0.65888\n",
      "[9]\tvalidation_0-logloss:0.65492\tvalidation_1-logloss:0.65522\n",
      "[10]\tvalidation_0-logloss:0.65232\tvalidation_1-logloss:0.65170\n",
      "[11]\tvalidation_0-logloss:0.64731\tvalidation_1-logloss:0.64853\n",
      "[12]\tvalidation_0-logloss:0.64490\tvalidation_1-logloss:0.64516\n",
      "[13]\tvalidation_0-logloss:0.64107\tvalidation_1-logloss:0.64207\n",
      "[14]\tvalidation_0-logloss:0.63826\tvalidation_1-logloss:0.63887\n",
      "[15]\tvalidation_0-logloss:0.63558\tvalidation_1-logloss:0.63573\n",
      "[16]\tvalidation_0-logloss:0.63144\tvalidation_1-logloss:0.63263\n",
      "[17]\tvalidation_0-logloss:0.62924\tvalidation_1-logloss:0.62986\n",
      "[18]\tvalidation_0-logloss:0.62550\tvalidation_1-logloss:0.62679\n",
      "[19]\tvalidation_0-logloss:0.62290\tvalidation_1-logloss:0.62383\n",
      "[20]\tvalidation_0-logloss:0.61985\tvalidation_1-logloss:0.62127\n",
      "[21]\tvalidation_0-logloss:0.61685\tvalidation_1-logloss:0.61828\n",
      "[22]\tvalidation_0-logloss:0.61429\tvalidation_1-logloss:0.61557\n",
      "[23]\tvalidation_0-logloss:0.61145\tvalidation_1-logloss:0.61301\n",
      "[24]\tvalidation_0-logloss:0.60882\tvalidation_1-logloss:0.61037\n",
      "[25]\tvalidation_0-logloss:0.60561\tvalidation_1-logloss:0.60792\n",
      "[26]\tvalidation_0-logloss:0.60356\tvalidation_1-logloss:0.60525\n",
      "[27]\tvalidation_0-logloss:0.60099\tvalidation_1-logloss:0.60287\n",
      "[28]\tvalidation_0-logloss:0.59784\tvalidation_1-logloss:0.60034\n",
      "[29]\tvalidation_0-logloss:0.59581\tvalidation_1-logloss:0.59796\n",
      "[30]\tvalidation_0-logloss:0.59344\tvalidation_1-logloss:0.59577\n",
      "[31]\tvalidation_0-logloss:0.59086\tvalidation_1-logloss:0.59319\n",
      "[32]\tvalidation_0-logloss:0.58883\tvalidation_1-logloss:0.59098\n",
      "[33]\tvalidation_0-logloss:0.58647\tvalidation_1-logloss:0.58884\n",
      "[34]\tvalidation_0-logloss:0.58384\tvalidation_1-logloss:0.58655\n",
      "[35]\tvalidation_0-logloss:0.58184\tvalidation_1-logloss:0.58447\n",
      "[36]\tvalidation_0-logloss:0.57946\tvalidation_1-logloss:0.58240\n",
      "[37]\tvalidation_0-logloss:0.57698\tvalidation_1-logloss:0.58018\n",
      "[38]\tvalidation_0-logloss:0.57492\tvalidation_1-logloss:0.57817\n",
      "[39]\tvalidation_0-logloss:0.57311\tvalidation_1-logloss:0.57605\n",
      "[40]\tvalidation_0-logloss:0.57048\tvalidation_1-logloss:0.57414\n",
      "[41]\tvalidation_0-logloss:0.56816\tvalidation_1-logloss:0.57212\n",
      "[42]\tvalidation_0-logloss:0.56631\tvalidation_1-logloss:0.57022\n",
      "[43]\tvalidation_0-logloss:0.56454\tvalidation_1-logloss:0.56823\n",
      "[44]\tvalidation_0-logloss:0.56264\tvalidation_1-logloss:0.56636\n",
      "[45]\tvalidation_0-logloss:0.56045\tvalidation_1-logloss:0.56448\n",
      "[46]\tvalidation_0-logloss:0.55865\tvalidation_1-logloss:0.56266\n",
      "[47]\tvalidation_0-logloss:0.55679\tvalidation_1-logloss:0.56091\n",
      "[48]\tvalidation_0-logloss:0.55486\tvalidation_1-logloss:0.55912\n",
      "[49]\tvalidation_0-logloss:0.55263\tvalidation_1-logloss:0.55745\n",
      "[50]\tvalidation_0-logloss:0.55096\tvalidation_1-logloss:0.55573\n",
      "[51]\tvalidation_0-logloss:0.54909\tvalidation_1-logloss:0.55407\n",
      "[52]\tvalidation_0-logloss:0.54733\tvalidation_1-logloss:0.55244\n",
      "[53]\tvalidation_0-logloss:0.54584\tvalidation_1-logloss:0.55083\n",
      "[54]\tvalidation_0-logloss:0.54395\tvalidation_1-logloss:0.54920\n",
      "[55]\tvalidation_0-logloss:0.54210\tvalidation_1-logloss:0.54762\n",
      "[56]\tvalidation_0-logloss:0.54070\tvalidation_1-logloss:0.54609\n",
      "[57]\tvalidation_0-logloss:0.53884\tvalidation_1-logloss:0.54457\n",
      "[58]\tvalidation_0-logloss:0.53740\tvalidation_1-logloss:0.54304\n",
      "[59]\tvalidation_0-logloss:0.53565\tvalidation_1-logloss:0.54163\n",
      "[60]\tvalidation_0-logloss:0.53401\tvalidation_1-logloss:0.54017\n",
      "[61]\tvalidation_0-logloss:0.53265\tvalidation_1-logloss:0.53876\n",
      "[62]\tvalidation_0-logloss:0.53127\tvalidation_1-logloss:0.53738\n",
      "[63]\tvalidation_0-logloss:0.52956\tvalidation_1-logloss:0.53609\n",
      "[64]\tvalidation_0-logloss:0.52772\tvalidation_1-logloss:0.53470\n",
      "[65]\tvalidation_0-logloss:0.52646\tvalidation_1-logloss:0.53330\n",
      "[66]\tvalidation_0-logloss:0.52541\tvalidation_1-logloss:0.53198\n",
      "[67]\tvalidation_0-logloss:0.52391\tvalidation_1-logloss:0.53074\n",
      "[68]\tvalidation_0-logloss:0.52234\tvalidation_1-logloss:0.52941\n",
      "[69]\tvalidation_0-logloss:0.52072\tvalidation_1-logloss:0.52810\n",
      "[70]\tvalidation_0-logloss:0.51924\tvalidation_1-logloss:0.52684\n",
      "[71]\tvalidation_0-logloss:0.51815\tvalidation_1-logloss:0.52555\n",
      "[72]\tvalidation_0-logloss:0.51698\tvalidation_1-logloss:0.52440\n",
      "[73]\tvalidation_0-logloss:0.51545\tvalidation_1-logloss:0.52311\n",
      "[74]\tvalidation_0-logloss:0.51400\tvalidation_1-logloss:0.52192\n",
      "[75]\tvalidation_0-logloss:0.51277\tvalidation_1-logloss:0.52074\n",
      "[76]\tvalidation_0-logloss:0.51142\tvalidation_1-logloss:0.51959\n",
      "[77]\tvalidation_0-logloss:0.51038\tvalidation_1-logloss:0.51841\n",
      "[78]\tvalidation_0-logloss:0.50916\tvalidation_1-logloss:0.51727\n",
      "[79]\tvalidation_0-logloss:0.50770\tvalidation_1-logloss:0.51619\n",
      "[80]\tvalidation_0-logloss:0.50653\tvalidation_1-logloss:0.51511\n",
      "[81]\tvalidation_0-logloss:0.50523\tvalidation_1-logloss:0.51399\n",
      "[82]\tvalidation_0-logloss:0.50411\tvalidation_1-logloss:0.51293\n",
      "[83]\tvalidation_0-logloss:0.50316\tvalidation_1-logloss:0.51191\n",
      "[84]\tvalidation_0-logloss:0.50192\tvalidation_1-logloss:0.51087\n",
      "[85]\tvalidation_0-logloss:0.50067\tvalidation_1-logloss:0.50986\n",
      "[86]\tvalidation_0-logloss:0.49958\tvalidation_1-logloss:0.50875\n",
      "[87]\tvalidation_0-logloss:0.49836\tvalidation_1-logloss:0.50780\n",
      "[88]\tvalidation_0-logloss:0.49734\tvalidation_1-logloss:0.50680\n",
      "[89]\tvalidation_0-logloss:0.49632\tvalidation_1-logloss:0.50586\n",
      "[90]\tvalidation_0-logloss:0.49523\tvalidation_1-logloss:0.50490\n",
      "[91]\tvalidation_0-logloss:0.49426\tvalidation_1-logloss:0.50386\n",
      "[92]\tvalidation_0-logloss:0.49306\tvalidation_1-logloss:0.50298\n",
      "[93]\tvalidation_0-logloss:0.49205\tvalidation_1-logloss:0.50208\n",
      "[94]\tvalidation_0-logloss:0.49089\tvalidation_1-logloss:0.50117\n",
      "[95]\tvalidation_0-logloss:0.49007\tvalidation_1-logloss:0.50026\n",
      "[96]\tvalidation_0-logloss:0.48914\tvalidation_1-logloss:0.49936\n",
      "[97]\tvalidation_0-logloss:0.48809\tvalidation_1-logloss:0.49853\n",
      "[98]\tvalidation_0-logloss:0.48727\tvalidation_1-logloss:0.49766\n",
      "[99]\tvalidation_0-logloss:0.48618\tvalidation_1-logloss:0.49683\n"
     ]
    },
    {
     "data": {
      "text/plain": [
       "XGBClassifier(base_score=0.5, booster='gbtree', colsample_bylevel=1,\n",
       "              colsample_bynode=1, colsample_bytree=1, gamma=0, gpu_id=-1,\n",
       "              importance_type='gain', interaction_constraints='',\n",
       "              learning_rate=0.01, max_delta_step=0, max_depth=6,\n",
       "              min_child_weight=1, missing=nan, monotone_constraints='()',\n",
       "              n_estimators=100, n_jobs=4, num_parallel_tree=1, random_state=156,\n",
       "              reg_alpha=0, reg_lambda=1, scale_pos_weight=1, seed=156,\n",
       "              subsample=1, tree_method='exact', validate_parameters=1,\n",
       "              verbosity=None)"
      ]
     },
     "execution_count": 35,
     "metadata": {},
     "output_type": "execute_result"
    }
   ],
   "source": [
    "######기본모델\n",
    "xgb_over_model = XGBClassifier(n_estimators=100,\n",
    "                              objective='binary:logistic',\n",
    "                              seed=156,\n",
    "                              learning_rate=0.01)\n",
    "xgb_over_model.fit(X_train_over, y_train_over, early_stopping_rounds=10, eval_set = [(X_train_over, y_train_over), (X_test, y_test)], eval_metric='logloss')"
   ]
  },
  {
   "cell_type": "code",
   "execution_count": 41,
   "metadata": {},
   "outputs": [],
   "source": [
    "xgb_over_pred = xgb_over_model.predict(X_test)"
   ]
  },
  {
   "cell_type": "code",
   "execution_count": 42,
   "metadata": {},
   "outputs": [],
   "source": [
    "#모델저장\n",
    "import pickle as pkl\n",
    "with open(\"xgb_model.pkl\",'wb') as outfile:\n",
    "    pkl.dump(xgb_over_model,outfile)"
   ]
  },
  {
   "cell_type": "code",
   "execution_count": 43,
   "metadata": {},
   "outputs": [],
   "source": [
    "#모델저장\n",
    "import pickle as pkl\n",
    "with open(\"xgb_pred.pkl\",'wb') as outfile:\n",
    "    pkl.dump(xgb_over_pred,outfile)"
   ]
  },
  {
   "cell_type": "code",
   "execution_count": 44,
   "metadata": {},
   "outputs": [
    {
     "name": "stdout",
     "output_type": "stream",
     "text": [
      "<OverSampling 후 XGBoost 기본 모델 성능>\n",
      "accuracy 0.7572446345198266 \n",
      "\n",
      "confusion_matrix [[221253  70929]\n",
      " [   251    784]] \n",
      "\n",
      "              precision    recall  f1-score   support\n",
      "\n",
      "           0       1.00      0.76      0.86    292182\n",
      "           1       0.01      0.76      0.02      1035\n",
      "\n",
      "    accuracy                           0.76    293217\n",
      "   macro avg       0.50      0.76      0.44    293217\n",
      "weighted avg       1.00      0.76      0.86    293217\n",
      "\n"
     ]
    }
   ],
   "source": [
    "print('<OverSampling 후 XGBoost 기본 모델 성능>')\n",
    "model_assessment(y_test, xgb_over_pred)"
   ]
  },
  {
   "cell_type": "code",
   "execution_count": 49,
   "metadata": {},
   "outputs": [
    {
     "name": "stdout",
     "output_type": "stream",
     "text": [
      "0.7573658477111597\n"
     ]
    }
   ],
   "source": [
    "auc = auc_return(y_test,xgb_over_pred) # 변경\n",
    "print(auc)"
   ]
  },
  {
   "cell_type": "code",
   "execution_count": 50,
   "metadata": {},
   "outputs": [],
   "source": [
    "auc = auc.round(2)"
   ]
  },
  {
   "cell_type": "code",
   "execution_count": 51,
   "metadata": {},
   "outputs": [
    {
     "data": {
      "text/plain": [
       "0.76"
      ]
     },
     "execution_count": 51,
     "metadata": {},
     "output_type": "execute_result"
    }
   ],
   "source": [
    "auc"
   ]
  },
  {
   "cell_type": "code",
   "execution_count": null,
   "metadata": {},
   "outputs": [],
   "source": []
  },
  {
   "cell_type": "code",
   "execution_count": null,
   "metadata": {},
   "outputs": [],
   "source": []
  },
  {
   "cell_type": "code",
   "execution_count": null,
   "metadata": {},
   "outputs": [],
   "source": []
  },
  {
   "cell_type": "code",
   "execution_count": null,
   "metadata": {},
   "outputs": [],
   "source": []
  },
  {
   "cell_type": "code",
   "execution_count": null,
   "metadata": {},
   "outputs": [],
   "source": []
  },
  {
   "cell_type": "code",
   "execution_count": null,
   "metadata": {},
   "outputs": [],
   "source": []
  },
  {
   "cell_type": "code",
   "execution_count": null,
   "metadata": {},
   "outputs": [],
   "source": [
    "import pickle as pkl\n",
    "with open('Logistc_Regression_predict.pkl','rb') as infile:\n",
    "    lr_pred = pkl.load(infile)"
   ]
  },
  {
   "cell_type": "code",
   "execution_count": 140,
   "metadata": {},
   "outputs": [
    {
     "name": "stdout",
     "output_type": "stream",
     "text": [
      "<OverSampling 후 XGBoost 기본 모델 성능>\n",
      "accuracy 0.7572446345198266 \n",
      "\n",
      "confusion_matrix [[221253  70929]\n",
      " [   251    784]] \n",
      "\n",
      "              precision    recall  f1-score   support\n",
      "\n",
      "           0       1.00      0.76      0.86    292182\n",
      "           1       0.01      0.76      0.02      1035\n",
      "\n",
      "    accuracy                           0.76    293217\n",
      "   macro avg       0.50      0.76      0.44    293217\n",
      "weighted avg       1.00      0.76      0.86    293217\n",
      "\n"
     ]
    }
   ],
   "source": [
    "print('<OverSampling 후 XGBoost 기본 모델 성능>')\n",
    "model_assessment(y_test, xgb_over_pred)"
   ]
  },
  {
   "cell_type": "code",
   "execution_count": 145,
   "metadata": {},
   "outputs": [
    {
     "name": "stdout",
     "output_type": "stream",
     "text": [
      "0.7573658477111597\n"
     ]
    }
   ],
   "source": [
    "auc = auc_return(y_test,xgb_over_pred) # 변경\n",
    "print(auc)"
   ]
  },
  {
   "cell_type": "code",
   "execution_count": null,
   "metadata": {},
   "outputs": [],
   "source": [
    "auc = auc.round(2)"
   ]
  },
  {
   "cell_type": "code",
   "execution_count": 52,
   "metadata": {},
   "outputs": [
    {
     "data": {
      "image/png": "[encoded data removed]",
      "text/plain": [
       "<Figure size 432x288 with 1 Axes>"
      ]
     },
     "metadata": {
      "needs_background": "light"
     },
     "output_type": "display_data"
    }
   ],
   "source": [
    "fpr, tpr, threshold = sklearn.metrics.roc_curve(y_test, xgb_over_pred)\n",
    "plt.title('XGBoost ROC Curve')\n",
    "plt.plot(fpr, tpr, 'k-', linewidth=2,label = 'AUC : ' + str(auc))\n",
    "plt.legend(loc=4)\n",
    "plt.plot([0,1], [0,1], 'r--')\n",
    "plt.xlabel('False Positive Rate')\n",
    "plt.ylabel('True Positive Rate')\n",
    "plt.axis([-0.01, 1,0,1])\n",
    "plt.savefig('C:/Users/ksy/Desktop/개인/코로나19 팀프로젝트/시나리오2/png/XGBoost ROC.png')\n",
    "plt.show()"
   ]
  },
  {
   "cell_type": "code",
   "execution_count": 166,
   "metadata": {},
   "outputs": [
    {
     "data": {
      "image/png": "[encoded data removed]",
      "text/plain": [
       "<Figure size 432x288 with 2 Axes>"
      ]
     },
     "metadata": {
      "needs_background": "light"
     },
     "output_type": "display_data"
    }
   ],
   "source": [
    "plot_confusion_matrix(xgb_over_model,X_test,y_test,cmap='Blues') #변경\n",
    "\n",
    "plt.title('XGBoost')\n",
    "plt.savefig('C:/Users/ksy/Desktop/개인/코로나19 팀프로젝트/시나리오2/png/XGBoost.png')\n",
    "plt.show()"
   ]
  },
  {
   "cell_type": "code",
   "execution_count": 146,
   "metadata": {},
   "outputs": [],
   "source": [
    "#모델저장\n",
    "import pickle as pkl\n",
    "with open(\"xgb_model.pkl\",'wb') as outfile:\n",
    "    pkl.dump(xgb_over_model,outfile)"
   ]
  },
  {
   "cell_type": "code",
   "execution_count": 147,
   "metadata": {},
   "outputs": [],
   "source": [
    "#모델저장\n",
    "import pickle as pkl\n",
    "with open(\"xgb_pred.pkl\",'wb') as outfile:\n",
    "    pkl.dump(xgb_over_pred,outfile)"
   ]
  },
  {
   "cell_type": "code",
   "execution_count": 152,
   "metadata": {},
   "outputs": [
    {
     "data": {
      "text/plain": [
       "array([0.01376428, 0.01622987, 0.0121608 , 0.01221835, 0.01151292,\n",
       "       0.01046943, 0.00877993, 0.00740303, 0.05769215, 0.0048074 ,\n",
       "       0.07760459, 0.00653696, 0.0627437 , 0.10303892, 0.0077408 ,\n",
       "       0.01269508, 0.01368533, 0.01510934, 0.01761113, 0.01840958,\n",
       "       0.01100989, 0.02337754, 0.25674343, 0.00826548, 0.01811425,\n",
       "       0.13831283, 0.01643006, 0.01222799, 0.0175673 , 0.00773765],\n",
       "      dtype=float32)"
      ]
     },
     "execution_count": 152,
     "metadata": {},
     "output_type": "execute_result"
    }
   ],
   "source": [
    "xgb_over_model.feature_importances_"
   ]
  },
  {
   "cell_type": "code",
   "execution_count": 149,
   "metadata": {},
   "outputs": [
    {
     "data": {
      "text/plain": [
       "<matplotlib.axes._subplots.AxesSubplot at 0x12802653208>"
      ]
     },
     "execution_count": 149,
     "metadata": {},
     "output_type": "execute_result"
    },
    {
     "data": {
      "image/png": "[encoded data removed]",
      "text/plain": [
       "<Figure size 1080x1080 with 1 Axes>"
      ]
     },
     "metadata": {
      "needs_background": "light"
     },
     "output_type": "display_data"
    }
   ],
   "source": [
    "from xgboost import plot_importance\n",
    "\n",
    "fig,ax = plt.subplots(figsize=(15,15))\n",
    "plot_importance(xgb_over_model.get_booster(), ax=ax)"
   ]
  },
  {
   "cell_type": "markdown",
   "metadata": {},
   "source": [
    "## 2) LightGBM"
   ]
  },
  {
   "cell_type": "code",
   "execution_count": 53,
   "metadata": {},
   "outputs": [],
   "source": [
    "from lightgbm import LGBMClassifier\n",
    "lgbm = LGBMClassifier(n_estimators=100)"
   ]
  },
  {
   "cell_type": "code",
   "execution_count": 54,
   "metadata": {},
   "outputs": [
    {
     "name": "stdout",
     "output_type": "stream",
     "text": [
      "[1]\ttraining's binary_logloss: 0.65467\tvalid_1's binary_logloss: 0.655142\n",
      "Training until validation scores don't improve for 10 rounds\n",
      "[2]\ttraining's binary_logloss: 0.622534\tvalid_1's binary_logloss: 0.624018\n",
      "[3]\ttraining's binary_logloss: 0.595957\tvalid_1's binary_logloss: 0.598848\n",
      "[4]\ttraining's binary_logloss: 0.573456\tvalid_1's binary_logloss: 0.577874\n",
      "[5]\ttraining's binary_logloss: 0.554493\tvalid_1's binary_logloss: 0.560667\n",
      "[6]\ttraining's binary_logloss: 0.537524\tvalid_1's binary_logloss: 0.545147\n",
      "[7]\ttraining's binary_logloss: 0.523102\tvalid_1's binary_logloss: 0.532213\n",
      "[8]\ttraining's binary_logloss: 0.51049\tvalid_1's binary_logloss: 0.521145\n",
      "[9]\ttraining's binary_logloss: 0.499443\tvalid_1's binary_logloss: 0.511533\n",
      "[10]\ttraining's binary_logloss: 0.489927\tvalid_1's binary_logloss: 0.50338\n",
      "[11]\ttraining's binary_logloss: 0.481579\tvalid_1's binary_logloss: 0.496179\n",
      "[12]\ttraining's binary_logloss: 0.474261\tvalid_1's binary_logloss: 0.490121\n",
      "[13]\ttraining's binary_logloss: 0.467715\tvalid_1's binary_logloss: 0.484906\n",
      "[14]\ttraining's binary_logloss: 0.461598\tvalid_1's binary_logloss: 0.479731\n",
      "[15]\ttraining's binary_logloss: 0.456081\tvalid_1's binary_logloss: 0.475149\n",
      "[16]\ttraining's binary_logloss: 0.451413\tvalid_1's binary_logloss: 0.47144\n",
      "[17]\ttraining's binary_logloss: 0.447296\tvalid_1's binary_logloss: 0.468077\n",
      "[18]\ttraining's binary_logloss: 0.443441\tvalid_1's binary_logloss: 0.464862\n",
      "[19]\ttraining's binary_logloss: 0.43961\tvalid_1's binary_logloss: 0.462081\n",
      "[20]\ttraining's binary_logloss: 0.436306\tvalid_1's binary_logloss: 0.459469\n",
      "[21]\ttraining's binary_logloss: 0.432875\tvalid_1's binary_logloss: 0.456609\n",
      "[22]\ttraining's binary_logloss: 0.430102\tvalid_1's binary_logloss: 0.454576\n",
      "[23]\ttraining's binary_logloss: 0.427225\tvalid_1's binary_logloss: 0.45202\n",
      "[24]\ttraining's binary_logloss: 0.424615\tvalid_1's binary_logloss: 0.450002\n",
      "[25]\ttraining's binary_logloss: 0.422297\tvalid_1's binary_logloss: 0.448019\n",
      "[26]\ttraining's binary_logloss: 0.420154\tvalid_1's binary_logloss: 0.446299\n",
      "[27]\ttraining's binary_logloss: 0.4179\tvalid_1's binary_logloss: 0.444589\n",
      "[28]\ttraining's binary_logloss: 0.415859\tvalid_1's binary_logloss: 0.4431\n",
      "[29]\ttraining's binary_logloss: 0.413851\tvalid_1's binary_logloss: 0.441264\n",
      "[30]\ttraining's binary_logloss: 0.411969\tvalid_1's binary_logloss: 0.439719\n",
      "[31]\ttraining's binary_logloss: 0.410244\tvalid_1's binary_logloss: 0.438186\n",
      "[32]\ttraining's binary_logloss: 0.408511\tvalid_1's binary_logloss: 0.436806\n",
      "[33]\ttraining's binary_logloss: 0.406963\tvalid_1's binary_logloss: 0.435656\n",
      "[34]\ttraining's binary_logloss: 0.405219\tvalid_1's binary_logloss: 0.434091\n",
      "[35]\ttraining's binary_logloss: 0.403632\tvalid_1's binary_logloss: 0.432831\n",
      "[36]\ttraining's binary_logloss: 0.402155\tvalid_1's binary_logloss: 0.431589\n",
      "[37]\ttraining's binary_logloss: 0.400687\tvalid_1's binary_logloss: 0.430174\n",
      "[38]\ttraining's binary_logloss: 0.399299\tvalid_1's binary_logloss: 0.428807\n",
      "[39]\ttraining's binary_logloss: 0.397892\tvalid_1's binary_logloss: 0.427228\n",
      "[40]\ttraining's binary_logloss: 0.396597\tvalid_1's binary_logloss: 0.42598\n",
      "[41]\ttraining's binary_logloss: 0.395157\tvalid_1's binary_logloss: 0.425106\n",
      "[42]\ttraining's binary_logloss: 0.393851\tvalid_1's binary_logloss: 0.423536\n",
      "[43]\ttraining's binary_logloss: 0.392628\tvalid_1's binary_logloss: 0.422343\n",
      "[44]\ttraining's binary_logloss: 0.391522\tvalid_1's binary_logloss: 0.421029\n",
      "[45]\ttraining's binary_logloss: 0.390535\tvalid_1's binary_logloss: 0.41998\n",
      "[46]\ttraining's binary_logloss: 0.389232\tvalid_1's binary_logloss: 0.419314\n",
      "[47]\ttraining's binary_logloss: 0.388041\tvalid_1's binary_logloss: 0.418071\n",
      "[48]\ttraining's binary_logloss: 0.387002\tvalid_1's binary_logloss: 0.417108\n",
      "[49]\ttraining's binary_logloss: 0.38595\tvalid_1's binary_logloss: 0.416047\n",
      "[50]\ttraining's binary_logloss: 0.384988\tvalid_1's binary_logloss: 0.414981\n",
      "[51]\ttraining's binary_logloss: 0.384069\tvalid_1's binary_logloss: 0.414238\n",
      "[52]\ttraining's binary_logloss: 0.383023\tvalid_1's binary_logloss: 0.41325\n",
      "[53]\ttraining's binary_logloss: 0.382075\tvalid_1's binary_logloss: 0.412433\n",
      "[54]\ttraining's binary_logloss: 0.381241\tvalid_1's binary_logloss: 0.41163\n",
      "[55]\ttraining's binary_logloss: 0.38035\tvalid_1's binary_logloss: 0.41073\n",
      "[56]\ttraining's binary_logloss: 0.37955\tvalid_1's binary_logloss: 0.41\n",
      "[57]\ttraining's binary_logloss: 0.378712\tvalid_1's binary_logloss: 0.40903\n",
      "[58]\ttraining's binary_logloss: 0.37796\tvalid_1's binary_logloss: 0.408221\n",
      "[59]\ttraining's binary_logloss: 0.37718\tvalid_1's binary_logloss: 0.407554\n",
      "[60]\ttraining's binary_logloss: 0.376385\tvalid_1's binary_logloss: 0.406635\n",
      "[61]\ttraining's binary_logloss: 0.375553\tvalid_1's binary_logloss: 0.405841\n",
      "[62]\ttraining's binary_logloss: 0.374753\tvalid_1's binary_logloss: 0.404859\n",
      "[63]\ttraining's binary_logloss: 0.373768\tvalid_1's binary_logloss: 0.403833\n",
      "[64]\ttraining's binary_logloss: 0.373041\tvalid_1's binary_logloss: 0.403179\n",
      "[65]\ttraining's binary_logloss: 0.372249\tvalid_1's binary_logloss: 0.40243\n",
      "[66]\ttraining's binary_logloss: 0.371455\tvalid_1's binary_logloss: 0.401567\n",
      "[67]\ttraining's binary_logloss: 0.370607\tvalid_1's binary_logloss: 0.400937\n",
      "[68]\ttraining's binary_logloss: 0.369882\tvalid_1's binary_logloss: 0.400353\n",
      "[69]\ttraining's binary_logloss: 0.369224\tvalid_1's binary_logloss: 0.399723\n",
      "[70]\ttraining's binary_logloss: 0.368336\tvalid_1's binary_logloss: 0.398974\n",
      "[71]\ttraining's binary_logloss: 0.367685\tvalid_1's binary_logloss: 0.39839\n",
      "[72]\ttraining's binary_logloss: 0.36697\tvalid_1's binary_logloss: 0.397376\n",
      "[73]\ttraining's binary_logloss: 0.365893\tvalid_1's binary_logloss: 0.39687\n",
      "[74]\ttraining's binary_logloss: 0.365074\tvalid_1's binary_logloss: 0.395881\n",
      "[75]\ttraining's binary_logloss: 0.364476\tvalid_1's binary_logloss: 0.395192\n",
      "[76]\ttraining's binary_logloss: 0.363816\tvalid_1's binary_logloss: 0.394348\n",
      "[77]\ttraining's binary_logloss: 0.362918\tvalid_1's binary_logloss: 0.393444\n",
      "[78]\ttraining's binary_logloss: 0.362326\tvalid_1's binary_logloss: 0.392727\n",
      "[79]\ttraining's binary_logloss: 0.361492\tvalid_1's binary_logloss: 0.392059\n",
      "[80]\ttraining's binary_logloss: 0.360829\tvalid_1's binary_logloss: 0.391273\n",
      "[81]\ttraining's binary_logloss: 0.360261\tvalid_1's binary_logloss: 0.390775\n",
      "[82]\ttraining's binary_logloss: 0.359734\tvalid_1's binary_logloss: 0.390191\n",
      "[83]\ttraining's binary_logloss: 0.359002\tvalid_1's binary_logloss: 0.389413\n",
      "[84]\ttraining's binary_logloss: 0.358444\tvalid_1's binary_logloss: 0.389019\n",
      "[85]\ttraining's binary_logloss: 0.357986\tvalid_1's binary_logloss: 0.388514\n",
      "[86]\ttraining's binary_logloss: 0.35729\tvalid_1's binary_logloss: 0.387758\n",
      "[87]\ttraining's binary_logloss: 0.356772\tvalid_1's binary_logloss: 0.38712\n",
      "[88]\ttraining's binary_logloss: 0.356288\tvalid_1's binary_logloss: 0.386498\n",
      "[89]\ttraining's binary_logloss: 0.355715\tvalid_1's binary_logloss: 0.385889\n",
      "[90]\ttraining's binary_logloss: 0.355185\tvalid_1's binary_logloss: 0.385417\n",
      "[91]\ttraining's binary_logloss: 0.354705\tvalid_1's binary_logloss: 0.384898\n",
      "[92]\ttraining's binary_logloss: 0.353838\tvalid_1's binary_logloss: 0.384485\n",
      "[93]\ttraining's binary_logloss: 0.353194\tvalid_1's binary_logloss: 0.383878\n",
      "[94]\ttraining's binary_logloss: 0.352535\tvalid_1's binary_logloss: 0.383308\n",
      "[95]\ttraining's binary_logloss: 0.352015\tvalid_1's binary_logloss: 0.382787\n",
      "[96]\ttraining's binary_logloss: 0.351541\tvalid_1's binary_logloss: 0.382269\n",
      "[97]\ttraining's binary_logloss: 0.350659\tvalid_1's binary_logloss: 0.381623\n",
      "[98]\ttraining's binary_logloss: 0.350264\tvalid_1's binary_logloss: 0.381221\n",
      "[99]\ttraining's binary_logloss: 0.349866\tvalid_1's binary_logloss: 0.380733\n",
      "[100]\ttraining's binary_logloss: 0.349321\tvalid_1's binary_logloss: 0.380099\n",
      "Did not meet early stopping. Best iteration is:\n",
      "[100]\ttraining's binary_logloss: 0.349321\tvalid_1's binary_logloss: 0.380099\n"
     ]
    },
    {
     "data": {
      "text/plain": [
       "LGBMClassifier()"
      ]
     },
     "execution_count": 54,
     "metadata": {},
     "output_type": "execute_result"
    }
   ],
   "source": [
    "lgbm.fit(X_train_over, y_train_over, early_stopping_rounds=10, eval_set = [(X_train_over, y_train_over), (X_test, y_test)], eval_metric='logloss')"
   ]
  },
  {
   "cell_type": "code",
   "execution_count": 55,
   "metadata": {},
   "outputs": [],
   "source": [
    "lgbm_pred = lgbm.predict(X_test)"
   ]
  },
  {
   "cell_type": "code",
   "execution_count": 56,
   "metadata": {},
   "outputs": [
    {
     "name": "stdout",
     "output_type": "stream",
     "text": [
      "<OverSampling 후 LightGBM 기본 모델 성능>\n",
      "accuracy 0.7901758765692303 \n",
      "\n",
      "confusion_matrix [[230942  61240]\n",
      " [   284    751]] \n",
      "\n",
      "              precision    recall  f1-score   support\n",
      "\n",
      "           0       1.00      0.79      0.88    292182\n",
      "           1       0.01      0.73      0.02      1035\n",
      "\n",
      "    accuracy                           0.79    293217\n",
      "   macro avg       0.51      0.76      0.45    293217\n",
      "weighted avg       1.00      0.79      0.88    293217\n",
      "\n"
     ]
    }
   ],
   "source": [
    "print('<OverSampling 후 LightGBM 기본 모델 성능>')\n",
    "model_assessment(y_test, lgbm_pred)"
   ]
  },
  {
   "cell_type": "code",
   "execution_count": 57,
   "metadata": {},
   "outputs": [
    {
     "name": "stdout",
     "output_type": "stream",
     "text": [
      "0.7573658477111597\n"
     ]
    }
   ],
   "source": [
    "auc = auc_return(y_test,xgb_over_pred) # 변경\n",
    "print(auc)"
   ]
  },
  {
   "cell_type": "code",
   "execution_count": 58,
   "metadata": {},
   "outputs": [],
   "source": [
    "auc = auc.round(2)"
   ]
  },
  {
   "cell_type": "code",
   "execution_count": 59,
   "metadata": {},
   "outputs": [
    {
     "data": {
      "image/png": "[encoded data removed]",
      "text/plain": [
       "<Figure size 432x288 with 1 Axes>"
      ]
     },
     "metadata": {
      "needs_background": "light"
     },
     "output_type": "display_data"
    }
   ],
   "source": [
    "fpr, tpr, threshold = sklearn.metrics.roc_curve(y_test, xgb_over_pred)\n",
    "plt.title('LGBM ROC Curve')\n",
    "plt.plot(fpr, tpr, 'k-', linewidth=2,label = 'AUC : ' + str(auc))\n",
    "plt.legend(loc=4)\n",
    "plt.plot([0,1], [0,1], 'r--')\n",
    "plt.xlabel('False Positive Rate')\n",
    "plt.ylabel('True Positive Rate')\n",
    "plt.axis([-0.01, 1,0,1])\n",
    "plt.savefig('C:/Users/ksy/Desktop/개인/코로나19 팀프로젝트/시나리오2/png/lgbm ROC.png')\n",
    "plt.show()"
   ]
  },
  {
   "cell_type": "code",
   "execution_count": 165,
   "metadata": {},
   "outputs": [
    {
     "data": {
      "image/png": "[encoded data removed]",
      "text/plain": [
       "<Figure size 432x288 with 2 Axes>"
      ]
     },
     "metadata": {
      "needs_background": "light"
     },
     "output_type": "display_data"
    }
   ],
   "source": [
    "plot_confusion_matrix(lgbm,X_test,y_test,cmap='Blues')\n",
    "\n",
    "plt.title('XGBoost')\n",
    "plt.savefig('C:/Users/ksy/Desktop/개인/코로나19 팀프로젝트/시나리오2/png/LGBM.png')\n",
    "plt.show()"
   ]
  },
  {
   "cell_type": "code",
   "execution_count": 161,
   "metadata": {},
   "outputs": [],
   "source": [
    "#모델저장\n",
    "import pickle as pkl\n",
    "with open(\"lgbm_model\",'wb') as outfile:\n",
    "    pkl.dump(lgbm,outfile)"
   ]
  },
  {
   "cell_type": "code",
   "execution_count": 162,
   "metadata": {},
   "outputs": [],
   "source": [
    "#모델저장\n",
    "import pickle as pkl\n",
    "with open(\"lgbm_pred\",'wb') as outfile:\n",
    "    pkl.dump(lgbm_pred,outfile)"
   ]
  },
  {
   "cell_type": "markdown",
   "metadata": {},
   "source": [
    "## 3) RandomForest"
   ]
  },
  {
   "cell_type": "code",
   "execution_count": 29,
   "metadata": {},
   "outputs": [
    {
     "data": {
      "text/plain": [
       "RandomForestClassifier(random_state=146)"
      ]
     },
     "execution_count": 29,
     "metadata": {},
     "output_type": "execute_result"
    }
   ],
   "source": [
    "rfc = RandomForestClassifier(n_estimators=100, random_state=146)\n",
    "rfc.fit(X_train_over, y_train_over)"
   ]
  },
  {
   "cell_type": "code",
   "execution_count": 30,
   "metadata": {},
   "outputs": [],
   "source": [
    "rfc_prd = rfc.predict(X_test)"
   ]
  },
  {
   "cell_type": "code",
   "execution_count": 40,
   "metadata": {},
   "outputs": [
    {
     "name": "stdout",
     "output_type": "stream",
     "text": [
      "<OverSampling 후 RandomForest 기본 모델 성능>\n",
      "accuracy 0.9834388865584192 \n",
      "\n",
      "confusion_matrix [[288311   3871]\n",
      " [   985     50]] \n",
      "\n",
      "              precision    recall  f1-score   support\n",
      "\n",
      "           0       1.00      0.99      0.99    292182\n",
      "           1       0.01      0.05      0.02      1035\n",
      "\n",
      "    accuracy                           0.98    293217\n",
      "   macro avg       0.50      0.52      0.51    293217\n",
      "weighted avg       0.99      0.98      0.99    293217\n",
      "\n"
     ]
    }
   ],
   "source": [
    "print('<OverSampling 후 RandomForest 기본 모델 성능>')\n",
    "\n",
    "model_assessment(y_test,rfc_prd)"
   ]
  },
  {
   "cell_type": "code",
   "execution_count": 31,
   "metadata": {},
   "outputs": [],
   "source": [
    "#모델저장\n",
    "import pickle as pkl\n",
    "with open(\"rf.pkl\",'wb') as outfile:\n",
    "    pkl.dump(rfc,outfile)"
   ]
  },
  {
   "cell_type": "code",
   "execution_count": 32,
   "metadata": {},
   "outputs": [],
   "source": [
    "#모델저장\n",
    "import pickle as pkl\n",
    "with open(\"rf.predict\",'wb') as outfile:\n",
    "    pkl.dump(rfc_prd,outfile)"
   ]
  },
  {
   "cell_type": "code",
   "execution_count": 33,
   "metadata": {},
   "outputs": [
    {
     "name": "stdout",
     "output_type": "stream",
     "text": [
      "0.5175302935563589\n"
     ]
    }
   ],
   "source": [
    "auc = auc_return(y_test,rfc_prd) # 변경\n",
    "print(auc)"
   ]
  },
  {
   "cell_type": "code",
   "execution_count": 40,
   "metadata": {},
   "outputs": [
    {
     "name": "stdout",
     "output_type": "stream",
     "text": [
      "0.5175302935563589\n"
     ]
    }
   ],
   "source": []
  },
  {
   "cell_type": "code",
   "execution_count": null,
   "metadata": {},
   "outputs": [],
   "source": []
  },
  {
   "cell_type": "code",
   "execution_count": null,
   "metadata": {},
   "outputs": [],
   "source": []
  },
  {
   "cell_type": "markdown",
   "metadata": {},
   "source": [
    "## 4) Decision Tree"
   ]
  },
  {
   "cell_type": "code",
   "execution_count": 34,
   "metadata": {},
   "outputs": [],
   "source": [
    "dt = DecisionTreeClassifier()\n",
    "dt = dt.fit(X_train_over, y_train_over)"
   ]
  },
  {
   "cell_type": "code",
   "execution_count": 35,
   "metadata": {},
   "outputs": [],
   "source": [
    "dt_pred = dt.predict(X_test)"
   ]
  },
  {
   "cell_type": "code",
   "execution_count": 36,
   "metadata": {},
   "outputs": [
    {
     "name": "stdout",
     "output_type": "stream",
     "text": [
      "<OverSampling 후 Decision Tree 기본 모델 성능>\n",
      "accuracy 0.9670482952898365 \n",
      "\n",
      "confusion_matrix [[283445   8737]\n",
      " [   925    110]] \n",
      "\n",
      "              precision    recall  f1-score   support\n",
      "\n",
      "           0       1.00      0.97      0.98    292182\n",
      "           1       0.01      0.11      0.02      1035\n",
      "\n",
      "    accuracy                           0.97    293217\n",
      "   macro avg       0.50      0.54      0.50    293217\n",
      "weighted avg       0.99      0.97      0.98    293217\n",
      "\n"
     ]
    }
   ],
   "source": [
    "print('<OverSampling 후 Decision Tree 기본 모델 성능>')\n",
    "\n",
    "model_assessment(y_test,dt_pred)"
   ]
  },
  {
   "cell_type": "code",
   "execution_count": 37,
   "metadata": {},
   "outputs": [],
   "source": [
    "#모델저장\n",
    "import pickle as pkl\n",
    "with open(\"dt.pkl\",'wb') as outfile: ################\n",
    "    pkl.dump(dt,outfile) ################"
   ]
  },
  {
   "cell_type": "code",
   "execution_count": 38,
   "metadata": {},
   "outputs": [],
   "source": [
    "#모델저장\n",
    "import pickle as pkl\n",
    "with open(\"dt_predict.pkl\",'wb') as outfile: ################\n",
    "    pkl.dump(dt_pred,outfile) ################"
   ]
  },
  {
   "cell_type": "code",
   "execution_count": 39,
   "metadata": {},
   "outputs": [
    {
     "name": "stdout",
     "output_type": "stream",
     "text": [
      "0.5381887991393889\n"
     ]
    }
   ],
   "source": [
    "auc = auc_return(y_test,dt_pred) # 변경\n",
    "print(auc)"
   ]
  },
  {
   "cell_type": "code",
   "execution_count": null,
   "metadata": {},
   "outputs": [],
   "source": []
  },
  {
   "cell_type": "code",
   "execution_count": null,
   "metadata": {},
   "outputs": [],
   "source": []
  },
  {
   "cell_type": "code",
   "execution_count": null,
   "metadata": {},
   "outputs": [],
   "source": []
  },
  {
   "cell_type": "markdown",
   "metadata": {},
   "source": [
    "## 5) Gradient Boosting"
   ]
  },
  {
   "cell_type": "code",
   "execution_count": 44,
   "metadata": {},
   "outputs": [
    {
     "data": {
      "text/plain": [
       "GradientBoostingClassifier(max_depth=5, random_state=21)"
      ]
     },
     "execution_count": 44,
     "metadata": {},
     "output_type": "execute_result"
    }
   ],
   "source": [
    "from sklearn.ensemble import GradientBoostingClassifier\n",
    "gbc = GradientBoostingClassifier(random_state=21,max_depth = 5)\n",
    "gbc.fit(X_train_over, y_train_over)"
   ]
  },
  {
   "cell_type": "code",
   "execution_count": 45,
   "metadata": {},
   "outputs": [],
   "source": [
    "gbc_pred = gbc.predict(X_test)"
   ]
  },
  {
   "cell_type": "code",
   "execution_count": 46,
   "metadata": {},
   "outputs": [
    {
     "name": "stdout",
     "output_type": "stream",
     "text": [
      "Gradient Boosting 기본 모델 성능\n",
      "accuracy 0.7902816003164892 \n",
      "\n",
      "confusion_matrix [[230987  61195]\n",
      " [   298    737]] \n",
      "\n",
      "              precision    recall  f1-score   support\n",
      "\n",
      "           0       1.00      0.79      0.88    292182\n",
      "           1       0.01      0.71      0.02      1035\n",
      "\n",
      "    accuracy                           0.79    293217\n",
      "   macro avg       0.51      0.75      0.45    293217\n",
      "weighted avg       1.00      0.79      0.88    293217\n",
      "\n"
     ]
    }
   ],
   "source": [
    "print('Gradient Boosting 기본 모델 성능')\n",
    "\n",
    "model_assessment(y_test,gbc_pred)"
   ]
  },
  {
   "cell_type": "code",
   "execution_count": 48,
   "metadata": {},
   "outputs": [
    {
     "name": "stdout",
     "output_type": "stream",
     "text": [
      "0.7513179595525085\n"
     ]
    }
   ],
   "source": [
    "auc = auc_return(y_test,gbc_pred) # 변경\n",
    "print(auc)"
   ]
  },
  {
   "cell_type": "code",
   "execution_count": 50,
   "metadata": {},
   "outputs": [],
   "source": [
    "#모델저장\n",
    "import pickle as pkl\n",
    "with open(\"gbc_model\",'wb') as outfile:\n",
    "    pkl.dump(gbc,outfile)"
   ]
  },
  {
   "cell_type": "code",
   "execution_count": 51,
   "metadata": {},
   "outputs": [],
   "source": [
    "#모델저장\n",
    "import pickle as pkl\n",
    "with open(\"gbc_predict\",'wb') as outfile:\n",
    "    pkl.dump(gbc_pred,outfile)"
   ]
  },
  {
   "cell_type": "markdown",
   "metadata": {},
   "source": [
    "## 5) CatBoost"
   ]
  },
  {
   "cell_type": "code",
   "execution_count": null,
   "metadata": {},
   "outputs": [],
   "source": []
  },
  {
   "cell_type": "code",
   "execution_count": null,
   "metadata": {},
   "outputs": [],
   "source": []
  }
 ],
 "metadata": {
  "kernelspec": {
   "display_name": "Python 3",
   "language": "python",
   "name": "python3"
  },
  "language_info": {
   "codemirror_mode": {
    "name": "ipython",
    "version": 3
   },
   "file_extension": ".py",
   "mimetype": "text/x-python",
   "name": "python",
   "nbconvert_exporter": "python",
   "pygments_lexer": "ipython3",
   "version": "3.7.4"
  }
 },
 "nbformat": 4,
 "nbformat_minor": 4
}
